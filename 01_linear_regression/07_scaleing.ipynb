{
 "cells": [
  {
   "cell_type": "markdown",
   "id": "f6bcf5d3",
   "metadata": {},
   "source": [
    "# 스케일링\n",
    "- 회귀분석에서의 스케일링의 목적과 방법\n",
    "\n",
    "## 1. 조건수\n",
    "- `조건수 conditional number` : 가장 큰 고유치(고윳값)와 가장 작은 고유치(고윳값)의 비율\n",
    "- 회귀분석에서는 공분산행렬 X^TX의 가장 큰 고유치와 가장 작은 고유치의 비율\n",
    "    - 선형회귀모형에서 RSS와, 그레디언트 벡터, 헤시안행렬까지 공분산행렬 X^TX가 나온다. \n",
    "    - $\\text{conditional number}=\\dfrac{\\lambda_{max}}{\\lambda_{min}}, \\;\\; (\\lambda = \\text{고유값})$\n",
    "    - min 고윳값과 max 고윳값이 어느정도 차이나는지에 대한 비율\n",
    "- 조건수 계산 명령어\n",
    "    - **np.linalg.cond(A)**\n",
    "- 확률분포 편의 **다변수 정규분포와 고유값 분해** 파트에서 조건수의 원리를 다룬다.    \n",
    "\n",
    "### 1-1. 조건수의 의미\n",
    "- 연립방정식 Ax=b 에서 계수행렬인 A의 조건수가 크면, 즉 A의 min과 max의 비율이 크면, 계수행렬 A와 상수벡터 b에 대한 해 x의 민감도가 커진다.\n",
    "    - 계수행렬 A의 조건수가 크면 -> x의 민감도가 커진다.\n",
    "- 민감도가 커지면 계수행렬과 상수벡터에 존재하는 오차가 해 x에 미치는 영향이 크다는 것을 의미한다.\n",
    "- 조건수가 가장 작은 경우는 행렬 A가 단위 행렬인 경우이다. \n",
    "    - max와 min 값이 같은 경우\n",
    "- **공분산행렬 X^TX의 조건수가 크면 회귀분석을 사용한 예측값도 오차가 커지게 된다.** \n",
    "    - 선형회귀모형의 해인 w 계수벡터를 구하는 OLS 공식\n",
    "    - $w^{*} = (X^TX)^TX^Ty$"
   ]
  },
  {
   "cell_type": "markdown",
   "id": "3994a4d0",
   "metadata": {},
   "source": [
    "### 1-2. 조건수의 예시\n",
    "- 계수행렬이나 상수벡터에 약간의 오차가 있는 경우 해의 변화\n",
    "- 조건수가 높다면 해의 민감도가 높고, 해의 민감도가 높다는 것은 계수행렬이나 상수벡터의 오차로 인한 해의 결과가 크게 바뀔 수 있다는 것을 의미한다."
   ]
  },
  {
   "cell_type": "markdown",
   "id": "734b5987",
   "metadata": {},
   "source": [
    "#### 조건수가 낮은 경우\n",
    "- cond(A) = 1/1 = 1"
   ]
  },
  {
   "cell_type": "code",
   "execution_count": 25,
   "id": "0392467b",
   "metadata": {},
   "outputs": [
    {
     "data": {
      "text/plain": [
       "array([[1., 0., 0., 0.],\n",
       "       [0., 1., 0., 0.],\n",
       "       [0., 0., 1., 0.],\n",
       "       [0., 0., 0., 1.]])"
      ]
     },
     "execution_count": 25,
     "metadata": {},
     "output_type": "execute_result"
    }
   ],
   "source": [
    "A = np.eye(4)\n",
    "A"
   ]
  },
  {
   "cell_type": "code",
   "execution_count": 26,
   "id": "2246ceb7",
   "metadata": {},
   "outputs": [
    {
     "data": {
      "text/plain": [
       "array([1., 1., 1., 1.])"
      ]
     },
     "execution_count": 26,
     "metadata": {},
     "output_type": "execute_result"
    }
   ],
   "source": [
    "b = np.ones(4)\n",
    "x = sp.linalg.solve(A, b)\n",
    "x"
   ]
  },
  {
   "cell_type": "markdown",
   "id": "56a89b88",
   "metadata": {},
   "source": [
    "#### 해 x는 계수행렬의 역행렬을 상수벡터와 곱하여 구할 수 있다."
   ]
  },
  {
   "cell_type": "code",
   "execution_count": 27,
   "id": "3b28dbba",
   "metadata": {},
   "outputs": [
    {
     "data": {
      "text/plain": [
       "array([1., 1., 1., 1.])"
      ]
     },
     "execution_count": 27,
     "metadata": {},
     "output_type": "execute_result"
    }
   ],
   "source": [
    "sp.linalg.inv(A) @ b"
   ]
  },
  {
   "cell_type": "markdown",
   "id": "6969a821",
   "metadata": {},
   "source": [
    "#### 계수행렬에 오차가 있는 경우\n",
    "- 계수행렬의 조건수가 1로 매우 작으므로 해에 별다른 영향을 끼치지 않는다."
   ]
  },
  {
   "cell_type": "code",
   "execution_count": 31,
   "id": "654fdaf9",
   "metadata": {},
   "outputs": [
    {
     "data": {
      "text/plain": [
       "array([0.99990001, 0.99990001, 0.99990001, 0.99990001])"
      ]
     },
     "execution_count": 31,
     "metadata": {},
     "output_type": "execute_result"
    }
   ],
   "source": [
    "x_error = sp.linalg.solve(A + 0.0001 * np.eye(4), b)\n",
    "x_error"
   ]
  },
  {
   "cell_type": "code",
   "execution_count": 30,
   "id": "99ac7fd6",
   "metadata": {},
   "outputs": [
    {
     "data": {
      "text/plain": [
       "array([[1.0001, 0.    , 0.    , 0.    ],\n",
       "       [0.    , 1.0001, 0.    , 0.    ],\n",
       "       [0.    , 0.    , 1.0001, 0.    ],\n",
       "       [0.    , 0.    , 0.    , 1.0001]])"
      ]
     },
     "execution_count": 30,
     "metadata": {},
     "output_type": "execute_result"
    }
   ],
   "source": [
    "A + (0.0001 * np.eye(4))"
   ]
  },
  {
   "cell_type": "markdown",
   "id": "40eb39b1",
   "metadata": {},
   "source": [
    "#### 조건수가 큰 행렬의 경우\n",
    "- 조건수가 큰 힐버트 행렬을 계수행렬로 오차의 영향이 어떻게 달라지는 지 확인"
   ]
  },
  {
   "cell_type": "code",
   "execution_count": 32,
   "id": "dc09c403",
   "metadata": {},
   "outputs": [
    {
     "data": {
      "text/plain": [
       "array([[1.        , 0.5       , 0.33333333, 0.25      ],\n",
       "       [0.5       , 0.33333333, 0.25      , 0.2       ],\n",
       "       [0.33333333, 0.25      , 0.2       , 0.16666667],\n",
       "       [0.25      , 0.2       , 0.16666667, 0.14285714]])"
      ]
     },
     "execution_count": 32,
     "metadata": {},
     "output_type": "execute_result"
    }
   ],
   "source": [
    "A = sp.linalg.hilbert(4)\n",
    "A"
   ]
  },
  {
   "cell_type": "code",
   "execution_count": 33,
   "id": "d42e5f25",
   "metadata": {},
   "outputs": [
    {
     "data": {
      "text/plain": [
       "15513.73873892924"
      ]
     },
     "execution_count": 33,
     "metadata": {},
     "output_type": "execute_result"
    }
   ],
   "source": [
    "np.linalg.cond(A)"
   ]
  },
  {
   "cell_type": "code",
   "execution_count": 34,
   "id": "8ff798b1",
   "metadata": {},
   "outputs": [
    {
     "data": {
      "text/plain": [
       "array([  -4.,   60., -180.,  140.])"
      ]
     },
     "execution_count": 34,
     "metadata": {},
     "output_type": "execute_result"
    }
   ],
   "source": [
    "sp.linalg.solve(A, b)"
   ]
  },
  {
   "cell_type": "markdown",
   "id": "7c06bd82",
   "metadata": {},
   "source": [
    "#### 조건수가 큰 계수행렬에 오차가 생기면?\n",
    "- A의 조건수가 매우 크므로 아주 작은 오차가 발생한 경우 해의 값이 크게 달라진다."
   ]
  },
  {
   "cell_type": "code",
   "execution_count": 35,
   "id": "ada6fbae",
   "metadata": {},
   "outputs": [
    {
     "data": {
      "text/plain": [
       "array([ -0.58897672,  21.1225671 , -85.75912499,  78.45650825])"
      ]
     },
     "execution_count": 35,
     "metadata": {},
     "output_type": "execute_result"
    }
   ],
   "source": [
    "sp.linalg.solve(A + 0.0001 * np.eye(4), b)"
   ]
  },
  {
   "cell_type": "markdown",
   "id": "8648715a",
   "metadata": {},
   "source": [
    "## 2. 회귀분석과 조건수\n",
    "- 회귀분석에서 조건수가 커지는 경우 2가지\n",
    "- 1) 변수들의 단위 차이로 인해 숫자의 스케일이 크게 달라지는 경우\n",
    "    - 이러한 경우는 **스케일링 (scaling)** 을 사용한다.\n",
    "- 2) 다중 공선성 (multicolinearity), 즉 상관관계가 큰 독립 변수들이 있는 경우. \n",
    "    - 이러한 경우는 **변수 선택**이나 **PCA**를 사용한 **차원축소** 방법으로 해결한다."
   ]
  },
  {
   "cell_type": "markdown",
   "id": "a8fb5543",
   "metadata": {},
   "source": [
    "### 2-1. 독립변수의 분포 모양으로 조건수 확인\n",
    "- 다변수정규분포 함수를 고유분해하면, 공분산행렬의 고윳값이 타원의 폭(min)이 되고, 공분산 행렬의 고유벡터가 타원의 방향(max)이 된다.\n",
    "    - 스케일링이 안된 경우\n",
    "    - 다중공선성이 있는 경우(독립변수간에 상관관계로 인한)"
   ]
  },
  {
   "cell_type": "markdown",
   "id": "409ea1e4",
   "metadata": {},
   "source": [
    "## 3. 보스턴 집값 데이터에서 조건수 확인\n",
    "- OLS summary 레포트의 제일 하단에 조건수에 대한 메시지"
   ]
  },
  {
   "cell_type": "code",
   "execution_count": 10,
   "id": "30cf9b1e",
   "metadata": {},
   "outputs": [],
   "source": [
    "from sklearn.datasets import load_boston\n",
    "\n",
    "boston = load_boston()\n",
    "\n",
    "dfX0 = pd.DataFrame(boston.data, columns=boston.feature_names)\n",
    "dfx = sm.add_constant(dfX0)\n",
    "dfy = pd.DataFrame(boston.target, columns=[\"MEDV\"])\n",
    "df = pd.concat([dfy, dfx], axis=1)"
   ]
  },
  {
   "cell_type": "code",
   "execution_count": 11,
   "id": "58e4c126",
   "metadata": {},
   "outputs": [
    {
     "data": {
      "text/html": [
       "<div>\n",
       "<style scoped>\n",
       "    .dataframe tbody tr th:only-of-type {\n",
       "        vertical-align: middle;\n",
       "    }\n",
       "\n",
       "    .dataframe tbody tr th {\n",
       "        vertical-align: top;\n",
       "    }\n",
       "\n",
       "    .dataframe thead th {\n",
       "        text-align: right;\n",
       "    }\n",
       "</style>\n",
       "<table border=\"1\" class=\"dataframe\">\n",
       "  <thead>\n",
       "    <tr style=\"text-align: right;\">\n",
       "      <th></th>\n",
       "      <th>const</th>\n",
       "      <th>CRIM</th>\n",
       "      <th>ZN</th>\n",
       "      <th>INDUS</th>\n",
       "      <th>CHAS</th>\n",
       "      <th>NOX</th>\n",
       "      <th>RM</th>\n",
       "      <th>AGE</th>\n",
       "      <th>DIS</th>\n",
       "      <th>RAD</th>\n",
       "      <th>TAX</th>\n",
       "      <th>PTRATIO</th>\n",
       "      <th>B</th>\n",
       "      <th>LSTAT</th>\n",
       "    </tr>\n",
       "  </thead>\n",
       "  <tbody>\n",
       "    <tr>\n",
       "      <th>0</th>\n",
       "      <td>1.0</td>\n",
       "      <td>0.00632</td>\n",
       "      <td>18.0</td>\n",
       "      <td>2.31</td>\n",
       "      <td>0.0</td>\n",
       "      <td>0.538</td>\n",
       "      <td>6.575</td>\n",
       "      <td>65.2</td>\n",
       "      <td>4.0900</td>\n",
       "      <td>1.0</td>\n",
       "      <td>296.0</td>\n",
       "      <td>15.3</td>\n",
       "      <td>396.90</td>\n",
       "      <td>4.98</td>\n",
       "    </tr>\n",
       "    <tr>\n",
       "      <th>1</th>\n",
       "      <td>1.0</td>\n",
       "      <td>0.02731</td>\n",
       "      <td>0.0</td>\n",
       "      <td>7.07</td>\n",
       "      <td>0.0</td>\n",
       "      <td>0.469</td>\n",
       "      <td>6.421</td>\n",
       "      <td>78.9</td>\n",
       "      <td>4.9671</td>\n",
       "      <td>2.0</td>\n",
       "      <td>242.0</td>\n",
       "      <td>17.8</td>\n",
       "      <td>396.90</td>\n",
       "      <td>9.14</td>\n",
       "    </tr>\n",
       "    <tr>\n",
       "      <th>2</th>\n",
       "      <td>1.0</td>\n",
       "      <td>0.02729</td>\n",
       "      <td>0.0</td>\n",
       "      <td>7.07</td>\n",
       "      <td>0.0</td>\n",
       "      <td>0.469</td>\n",
       "      <td>7.185</td>\n",
       "      <td>61.1</td>\n",
       "      <td>4.9671</td>\n",
       "      <td>2.0</td>\n",
       "      <td>242.0</td>\n",
       "      <td>17.8</td>\n",
       "      <td>392.83</td>\n",
       "      <td>4.03</td>\n",
       "    </tr>\n",
       "    <tr>\n",
       "      <th>3</th>\n",
       "      <td>1.0</td>\n",
       "      <td>0.03237</td>\n",
       "      <td>0.0</td>\n",
       "      <td>2.18</td>\n",
       "      <td>0.0</td>\n",
       "      <td>0.458</td>\n",
       "      <td>6.998</td>\n",
       "      <td>45.8</td>\n",
       "      <td>6.0622</td>\n",
       "      <td>3.0</td>\n",
       "      <td>222.0</td>\n",
       "      <td>18.7</td>\n",
       "      <td>394.63</td>\n",
       "      <td>2.94</td>\n",
       "    </tr>\n",
       "    <tr>\n",
       "      <th>4</th>\n",
       "      <td>1.0</td>\n",
       "      <td>0.06905</td>\n",
       "      <td>0.0</td>\n",
       "      <td>2.18</td>\n",
       "      <td>0.0</td>\n",
       "      <td>0.458</td>\n",
       "      <td>7.147</td>\n",
       "      <td>54.2</td>\n",
       "      <td>6.0622</td>\n",
       "      <td>3.0</td>\n",
       "      <td>222.0</td>\n",
       "      <td>18.7</td>\n",
       "      <td>396.90</td>\n",
       "      <td>5.33</td>\n",
       "    </tr>\n",
       "  </tbody>\n",
       "</table>\n",
       "</div>"
      ],
      "text/plain": [
       "   const     CRIM    ZN  INDUS  CHAS    NOX     RM   AGE     DIS  RAD    TAX  \\\n",
       "0    1.0  0.00632  18.0   2.31   0.0  0.538  6.575  65.2  4.0900  1.0  296.0   \n",
       "1    1.0  0.02731   0.0   7.07   0.0  0.469  6.421  78.9  4.9671  2.0  242.0   \n",
       "2    1.0  0.02729   0.0   7.07   0.0  0.469  7.185  61.1  4.9671  2.0  242.0   \n",
       "3    1.0  0.03237   0.0   2.18   0.0  0.458  6.998  45.8  6.0622  3.0  222.0   \n",
       "4    1.0  0.06905   0.0   2.18   0.0  0.458  7.147  54.2  6.0622  3.0  222.0   \n",
       "\n",
       "   PTRATIO       B  LSTAT  \n",
       "0     15.3  396.90   4.98  \n",
       "1     17.8  396.90   9.14  \n",
       "2     17.8  392.83   4.03  \n",
       "3     18.7  394.63   2.94  \n",
       "4     18.7  396.90   5.33  "
      ]
     },
     "execution_count": 11,
     "metadata": {},
     "output_type": "execute_result"
    }
   ],
   "source": [
    "dfx.head()"
   ]
  },
  {
   "cell_type": "code",
   "execution_count": 12,
   "id": "d68f4287",
   "metadata": {},
   "outputs": [
    {
     "data": {
      "text/html": [
       "<div>\n",
       "<style scoped>\n",
       "    .dataframe tbody tr th:only-of-type {\n",
       "        vertical-align: middle;\n",
       "    }\n",
       "\n",
       "    .dataframe tbody tr th {\n",
       "        vertical-align: top;\n",
       "    }\n",
       "\n",
       "    .dataframe thead th {\n",
       "        text-align: right;\n",
       "    }\n",
       "</style>\n",
       "<table border=\"1\" class=\"dataframe\">\n",
       "  <thead>\n",
       "    <tr style=\"text-align: right;\">\n",
       "      <th></th>\n",
       "      <th>MEDV</th>\n",
       "    </tr>\n",
       "  </thead>\n",
       "  <tbody>\n",
       "    <tr>\n",
       "      <th>0</th>\n",
       "      <td>24.0</td>\n",
       "    </tr>\n",
       "    <tr>\n",
       "      <th>1</th>\n",
       "      <td>21.6</td>\n",
       "    </tr>\n",
       "    <tr>\n",
       "      <th>2</th>\n",
       "      <td>34.7</td>\n",
       "    </tr>\n",
       "    <tr>\n",
       "      <th>3</th>\n",
       "      <td>33.4</td>\n",
       "    </tr>\n",
       "    <tr>\n",
       "      <th>4</th>\n",
       "      <td>36.2</td>\n",
       "    </tr>\n",
       "  </tbody>\n",
       "</table>\n",
       "</div>"
      ],
      "text/plain": [
       "   MEDV\n",
       "0  24.0\n",
       "1  21.6\n",
       "2  34.7\n",
       "3  33.4\n",
       "4  36.2"
      ]
     },
     "execution_count": 12,
     "metadata": {},
     "output_type": "execute_result"
    }
   ],
   "source": [
    "dfy.head()"
   ]
  },
  {
   "cell_type": "code",
   "execution_count": 13,
   "id": "29353eee",
   "metadata": {},
   "outputs": [
    {
     "data": {
      "text/html": [
       "<div>\n",
       "<style scoped>\n",
       "    .dataframe tbody tr th:only-of-type {\n",
       "        vertical-align: middle;\n",
       "    }\n",
       "\n",
       "    .dataframe tbody tr th {\n",
       "        vertical-align: top;\n",
       "    }\n",
       "\n",
       "    .dataframe thead th {\n",
       "        text-align: right;\n",
       "    }\n",
       "</style>\n",
       "<table border=\"1\" class=\"dataframe\">\n",
       "  <thead>\n",
       "    <tr style=\"text-align: right;\">\n",
       "      <th></th>\n",
       "      <th>MEDV</th>\n",
       "      <th>const</th>\n",
       "      <th>CRIM</th>\n",
       "      <th>ZN</th>\n",
       "      <th>INDUS</th>\n",
       "      <th>CHAS</th>\n",
       "      <th>NOX</th>\n",
       "      <th>RM</th>\n",
       "      <th>AGE</th>\n",
       "      <th>DIS</th>\n",
       "      <th>RAD</th>\n",
       "      <th>TAX</th>\n",
       "      <th>PTRATIO</th>\n",
       "      <th>B</th>\n",
       "      <th>LSTAT</th>\n",
       "    </tr>\n",
       "  </thead>\n",
       "  <tbody>\n",
       "    <tr>\n",
       "      <th>0</th>\n",
       "      <td>24.0</td>\n",
       "      <td>1.0</td>\n",
       "      <td>0.00632</td>\n",
       "      <td>18.0</td>\n",
       "      <td>2.31</td>\n",
       "      <td>0.0</td>\n",
       "      <td>0.538</td>\n",
       "      <td>6.575</td>\n",
       "      <td>65.2</td>\n",
       "      <td>4.0900</td>\n",
       "      <td>1.0</td>\n",
       "      <td>296.0</td>\n",
       "      <td>15.3</td>\n",
       "      <td>396.90</td>\n",
       "      <td>4.98</td>\n",
       "    </tr>\n",
       "    <tr>\n",
       "      <th>1</th>\n",
       "      <td>21.6</td>\n",
       "      <td>1.0</td>\n",
       "      <td>0.02731</td>\n",
       "      <td>0.0</td>\n",
       "      <td>7.07</td>\n",
       "      <td>0.0</td>\n",
       "      <td>0.469</td>\n",
       "      <td>6.421</td>\n",
       "      <td>78.9</td>\n",
       "      <td>4.9671</td>\n",
       "      <td>2.0</td>\n",
       "      <td>242.0</td>\n",
       "      <td>17.8</td>\n",
       "      <td>396.90</td>\n",
       "      <td>9.14</td>\n",
       "    </tr>\n",
       "    <tr>\n",
       "      <th>2</th>\n",
       "      <td>34.7</td>\n",
       "      <td>1.0</td>\n",
       "      <td>0.02729</td>\n",
       "      <td>0.0</td>\n",
       "      <td>7.07</td>\n",
       "      <td>0.0</td>\n",
       "      <td>0.469</td>\n",
       "      <td>7.185</td>\n",
       "      <td>61.1</td>\n",
       "      <td>4.9671</td>\n",
       "      <td>2.0</td>\n",
       "      <td>242.0</td>\n",
       "      <td>17.8</td>\n",
       "      <td>392.83</td>\n",
       "      <td>4.03</td>\n",
       "    </tr>\n",
       "    <tr>\n",
       "      <th>3</th>\n",
       "      <td>33.4</td>\n",
       "      <td>1.0</td>\n",
       "      <td>0.03237</td>\n",
       "      <td>0.0</td>\n",
       "      <td>2.18</td>\n",
       "      <td>0.0</td>\n",
       "      <td>0.458</td>\n",
       "      <td>6.998</td>\n",
       "      <td>45.8</td>\n",
       "      <td>6.0622</td>\n",
       "      <td>3.0</td>\n",
       "      <td>222.0</td>\n",
       "      <td>18.7</td>\n",
       "      <td>394.63</td>\n",
       "      <td>2.94</td>\n",
       "    </tr>\n",
       "    <tr>\n",
       "      <th>4</th>\n",
       "      <td>36.2</td>\n",
       "      <td>1.0</td>\n",
       "      <td>0.06905</td>\n",
       "      <td>0.0</td>\n",
       "      <td>2.18</td>\n",
       "      <td>0.0</td>\n",
       "      <td>0.458</td>\n",
       "      <td>7.147</td>\n",
       "      <td>54.2</td>\n",
       "      <td>6.0622</td>\n",
       "      <td>3.0</td>\n",
       "      <td>222.0</td>\n",
       "      <td>18.7</td>\n",
       "      <td>396.90</td>\n",
       "      <td>5.33</td>\n",
       "    </tr>\n",
       "  </tbody>\n",
       "</table>\n",
       "</div>"
      ],
      "text/plain": [
       "   MEDV  const     CRIM    ZN  INDUS  CHAS    NOX     RM   AGE     DIS  RAD  \\\n",
       "0  24.0    1.0  0.00632  18.0   2.31   0.0  0.538  6.575  65.2  4.0900  1.0   \n",
       "1  21.6    1.0  0.02731   0.0   7.07   0.0  0.469  6.421  78.9  4.9671  2.0   \n",
       "2  34.7    1.0  0.02729   0.0   7.07   0.0  0.469  7.185  61.1  4.9671  2.0   \n",
       "3  33.4    1.0  0.03237   0.0   2.18   0.0  0.458  6.998  45.8  6.0622  3.0   \n",
       "4  36.2    1.0  0.06905   0.0   2.18   0.0  0.458  7.147  54.2  6.0622  3.0   \n",
       "\n",
       "     TAX  PTRATIO       B  LSTAT  \n",
       "0  296.0     15.3  396.90   4.98  \n",
       "1  242.0     17.8  396.90   9.14  \n",
       "2  242.0     17.8  392.83   4.03  \n",
       "3  222.0     18.7  394.63   2.94  \n",
       "4  222.0     18.7  396.90   5.33  "
      ]
     },
     "execution_count": 13,
     "metadata": {},
     "output_type": "execute_result"
    }
   ],
   "source": [
    "df.head()"
   ]
  },
  {
   "cell_type": "markdown",
   "id": "bd73d7fe",
   "metadata": {},
   "source": [
    "#### OLS 클래스의 fomula 사용시 독립변수들 입력 방법\n",
    "- \"+\".join(컬럼명)"
   ]
  },
  {
   "cell_type": "code",
   "execution_count": 14,
   "id": "da3ac7ba",
   "metadata": {},
   "outputs": [
    {
     "data": {
      "text/plain": [
       "<statsmodels.regression.linear_model.OLS at 0x1d805ed2ac8>"
      ]
     },
     "execution_count": 14,
     "metadata": {},
     "output_type": "execute_result"
    }
   ],
   "source": [
    "model = sm.OLS.from_formula(\"MEDV ~ \" + \"+\".join(boston.feature_names), data=df)\n",
    "model"
   ]
  },
  {
   "cell_type": "code",
   "execution_count": 6,
   "id": "7b573a3d",
   "metadata": {},
   "outputs": [
    {
     "data": {
      "text/plain": [
       "'y~'"
      ]
     },
     "execution_count": 6,
     "metadata": {},
     "output_type": "execute_result"
    }
   ],
   "source": [
    "a = \"y~\"\n",
    "a"
   ]
  },
  {
   "cell_type": "code",
   "execution_count": 8,
   "id": "003a7b28",
   "metadata": {},
   "outputs": [
    {
     "data": {
      "text/plain": [
       "'y~CRIM+ZN+INDUS+CHAS+NOX+RM+AGE+DIS+RAD+TAX+PTRATIO+B+LSTAT'"
      ]
     },
     "execution_count": 8,
     "metadata": {},
     "output_type": "execute_result"
    }
   ],
   "source": [
    "a + \"+\".join(boston.feature_names)"
   ]
  },
  {
   "cell_type": "code",
   "execution_count": 16,
   "id": "7da1c099",
   "metadata": {},
   "outputs": [
    {
     "name": "stdout",
     "output_type": "stream",
     "text": [
      "                            OLS Regression Results                            \n",
      "==============================================================================\n",
      "Dep. Variable:                   MEDV   R-squared:                       0.741\n",
      "Model:                            OLS   Adj. R-squared:                  0.734\n",
      "Method:                 Least Squares   F-statistic:                     108.1\n",
      "Date:                Sat, 18 Jun 2022   Prob (F-statistic):          6.72e-135\n",
      "Time:                        15:11:42   Log-Likelihood:                -1498.8\n",
      "No. Observations:                 506   AIC:                             3026.\n",
      "Df Residuals:                     492   BIC:                             3085.\n",
      "Df Model:                          13                                         \n",
      "Covariance Type:            nonrobust                                         \n",
      "==============================================================================\n",
      "                 coef    std err          t      P>|t|      [0.025      0.975]\n",
      "------------------------------------------------------------------------------\n",
      "Intercept     36.4595      5.103      7.144      0.000      26.432      46.487\n",
      "CRIM          -0.1080      0.033     -3.287      0.001      -0.173      -0.043\n",
      "ZN             0.0464      0.014      3.382      0.001       0.019       0.073\n",
      "INDUS          0.0206      0.061      0.334      0.738      -0.100       0.141\n",
      "CHAS           2.6867      0.862      3.118      0.002       0.994       4.380\n",
      "NOX          -17.7666      3.820     -4.651      0.000     -25.272     -10.262\n",
      "RM             3.8099      0.418      9.116      0.000       2.989       4.631\n",
      "AGE            0.0007      0.013      0.052      0.958      -0.025       0.027\n",
      "DIS           -1.4756      0.199     -7.398      0.000      -1.867      -1.084\n",
      "RAD            0.3060      0.066      4.613      0.000       0.176       0.436\n",
      "TAX           -0.0123      0.004     -3.280      0.001      -0.020      -0.005\n",
      "PTRATIO       -0.9527      0.131     -7.283      0.000      -1.210      -0.696\n",
      "B              0.0093      0.003      3.467      0.001       0.004       0.015\n",
      "LSTAT         -0.5248      0.051    -10.347      0.000      -0.624      -0.425\n",
      "==============================================================================\n",
      "Omnibus:                      178.041   Durbin-Watson:                   1.078\n",
      "Prob(Omnibus):                  0.000   Jarque-Bera (JB):              783.126\n",
      "Skew:                           1.521   Prob(JB):                    8.84e-171\n",
      "Kurtosis:                       8.281   Cond. No.                     1.51e+04\n",
      "==============================================================================\n",
      "\n",
      "Notes:\n",
      "[1] Standard Errors assume that the covariance matrix of the errors is correctly specified.\n",
      "[2] The condition number is large, 1.51e+04. This might indicate that there are\n",
      "strong multicollinearity or other numerical problems.\n"
     ]
    }
   ],
   "source": [
    "result = model.fit()\n",
    "print(result.summary())"
   ]
  },
  {
   "cell_type": "markdown",
   "id": "bff65ea8",
   "metadata": {},
   "source": [
    "### 3-1. 독립변수들의 표준편차 \n",
    "- 독립변수들의 데이터의 표준편차가 서로 다르다.\n",
    "- 독립변수가 스케일링이 안되면 조건수가 커져서 예측 오차가 증폭될 가능성이 커진다."
   ]
  },
  {
   "cell_type": "code",
   "execution_count": 39,
   "id": "6c733365",
   "metadata": {},
   "outputs": [
    {
     "data": {
      "text/plain": [
       "CRIM         8.601545\n",
       "ZN          23.322453\n",
       "INDUS        6.860353\n",
       "CHAS         0.253994\n",
       "NOX          0.115878\n",
       "RM           0.702617\n",
       "AGE         28.148861\n",
       "DIS          2.105710\n",
       "RAD          8.707259\n",
       "TAX        168.537116\n",
       "PTRATIO      2.164946\n",
       "B           91.294864\n",
       "LSTAT        7.141062\n",
       "Name: std, dtype: float64"
      ]
     },
     "execution_count": 39,
     "metadata": {},
     "output_type": "execute_result"
    }
   ],
   "source": [
    "dfx.describe().loc[\"std\"][1:]"
   ]
  },
  {
   "cell_type": "markdown",
   "id": "517bd8f9",
   "metadata": {},
   "source": [
    "### 3-2. 특정 독립변수의 크기를 늘려서 조건수 확인\n",
    "- dfx2의 TAX 독립변수에 임의의 수를 곱해준다. \n",
    "- 종속변수와 합하여 다시 새로운 데이터 프레임을 만든다.\n",
    "- 조건수가 엄청나게 큰 수로 증가함.\n",
    "- 모델의 성능을 의미하는 R-squared 값이 감소함"
   ]
  },
  {
   "cell_type": "code",
   "execution_count": 41,
   "id": "fa102c12",
   "metadata": {},
   "outputs": [],
   "source": [
    "dfx2 = dfx.copy()\n",
    "dfx2[\"TAX\"] *= 1e13\n",
    "df2 = pd.concat([dfx2, dfy], axis=1)"
   ]
  },
  {
   "cell_type": "code",
   "execution_count": 43,
   "id": "6525829f",
   "metadata": {},
   "outputs": [
    {
     "name": "stdout",
     "output_type": "stream",
     "text": [
      "                            OLS Regression Results                            \n",
      "==============================================================================\n",
      "Dep. Variable:                   MEDV   R-squared:                       0.333\n",
      "Model:                            OLS   Adj. R-squared:                  0.329\n",
      "Method:                 Least Squares   F-statistic:                     83.42\n",
      "Date:                Sat, 18 Jun 2022   Prob (F-statistic):           8.42e-44\n",
      "Time:                        19:02:20   Log-Likelihood:                -1737.9\n",
      "No. Observations:                 506   AIC:                             3484.\n",
      "Df Residuals:                     502   BIC:                             3501.\n",
      "Df Model:                           3                                         \n",
      "Covariance Type:            nonrobust                                         \n",
      "==============================================================================\n",
      "                 coef    std err          t      P>|t|      [0.025      0.975]\n",
      "------------------------------------------------------------------------------\n",
      "Intercept     -0.0038      0.000     -8.554      0.000      -0.005      -0.003\n",
      "CRIM          -0.1573      0.046     -3.432      0.001      -0.247      -0.067\n",
      "ZN             0.1270      0.016      7.735      0.000       0.095       0.159\n",
      "INDUS         -0.1967      0.019    -10.454      0.000      -0.234      -0.160\n",
      "CHAS           0.0034      0.000     12.453      0.000       0.003       0.004\n",
      "NOX           -0.0023      0.000     -9.323      0.000      -0.003      -0.002\n",
      "RM             0.0268      0.002     14.168      0.000       0.023       0.030\n",
      "AGE            0.1410      0.017      8.444      0.000       0.108       0.174\n",
      "DIS           -0.0286      0.004     -7.557      0.000      -0.036      -0.021\n",
      "RAD            0.1094      0.017      6.365      0.000       0.076       0.143\n",
      "TAX         1.094e-15   2.65e-16      4.124      0.000    5.73e-16    1.61e-15\n",
      "PTRATIO       -0.1123      0.011    -10.372      0.000      -0.134      -0.091\n",
      "B              0.0515      0.003     19.859      0.000       0.046       0.057\n",
      "LSTAT         -0.6575      0.056    -11.791      0.000      -0.767      -0.548\n",
      "==============================================================================\n",
      "Omnibus:                       39.128   Durbin-Watson:                   0.863\n",
      "Prob(Omnibus):                  0.000   Jarque-Bera (JB):               46.162\n",
      "Skew:                           0.700   Prob(JB):                     9.47e-11\n",
      "Kurtosis:                       3.478   Cond. No.                     1.19e+17\n",
      "==============================================================================\n",
      "\n",
      "Notes:\n",
      "[1] Standard Errors assume that the covariance matrix of the errors is correctly specified.\n",
      "[2] The condition number is large, 1.19e+17. This might indicate that there are\n",
      "strong multicollinearity or other numerical problems.\n"
     ]
    }
   ],
   "source": [
    "model2 = sm.OLS.from_formula(\"MEDV~\" + \"+\".join(boston.feature_names), data=df2)\n",
    "result2 = model2.fit()\n",
    "\n",
    "print(result2.summary())"
   ]
  },
  {
   "cell_type": "code",
   "execution_count": 54,
   "id": "d3a4d1fe",
   "metadata": {},
   "outputs": [
    {
     "name": "stdout",
     "output_type": "stream",
     "text": [
      "                            OLS Regression Results                            \n",
      "==============================================================================\n",
      "Dep. Variable:                   MEDV   R-squared:                       0.741\n",
      "Model:                            OLS   Adj. R-squared:                  0.734\n",
      "Method:                 Least Squares   F-statistic:                     108.1\n",
      "Date:                Sat, 18 Jun 2022   Prob (F-statistic):          6.72e-135\n",
      "Time:                        19:06:58   Log-Likelihood:                -1498.8\n",
      "No. Observations:                 506   AIC:                             3026.\n",
      "Df Residuals:                     492   BIC:                             3085.\n",
      "Df Model:                          13                                         \n",
      "Covariance Type:            nonrobust                                         \n",
      "==============================================================================\n",
      "                 coef    std err          t      P>|t|      [0.025      0.975]\n",
      "------------------------------------------------------------------------------\n",
      "Intercept     36.4595      5.103      7.144      0.000      26.432      46.487\n",
      "CRIM          -0.1080      0.033     -3.287      0.001      -0.173      -0.043\n",
      "ZN             0.0464      0.014      3.382      0.001       0.019       0.073\n",
      "INDUS          0.0206      0.061      0.334      0.738      -0.100       0.141\n",
      "CHAS           2.6867      0.862      3.118      0.002       0.994       4.380\n",
      "NOX          -17.7666      3.820     -4.651      0.000     -25.272     -10.262\n",
      "RM             3.8099      0.418      9.116      0.000       2.989       4.631\n",
      "AGE            0.0007      0.013      0.052      0.958      -0.025       0.027\n",
      "DIS           -1.4756      0.199     -7.398      0.000      -1.867      -1.084\n",
      "RAD            0.3060      0.066      4.613      0.000       0.176       0.436\n",
      "TAX           -0.0123      0.004     -3.280      0.001      -0.020      -0.005\n",
      "PTRATIO       -0.9527      0.131     -7.283      0.000      -1.210      -0.696\n",
      "B              0.0093      0.003      3.467      0.001       0.004       0.015\n",
      "LSTAT         -0.5248      0.051    -10.347      0.000      -0.624      -0.425\n",
      "==============================================================================\n",
      "Omnibus:                      178.041   Durbin-Watson:                   1.078\n",
      "Prob(Omnibus):                  0.000   Jarque-Bera (JB):              783.126\n",
      "Skew:                           1.521   Prob(JB):                    8.84e-171\n",
      "Kurtosis:                       8.281   Cond. No.                     1.51e+04\n",
      "==============================================================================\n",
      "\n",
      "Notes:\n",
      "[1] Standard Errors assume that the covariance matrix of the errors is correctly specified.\n",
      "[2] The condition number is large, 1.51e+04. This might indicate that there are\n",
      "strong multicollinearity or other numerical problems.\n"
     ]
    }
   ],
   "source": [
    "print(result.summary())"
   ]
  },
  {
   "cell_type": "markdown",
   "id": "155ff571",
   "metadata": {},
   "source": [
    "### 3-3. 스케일링\n",
    "- statsmodels의 모형지정 문자열에서 scale(컬럼명) 명령으로 스케일링 가능하다.\n",
    "    - 스케일링 값은 따로 저장된다. predict() 명령을 사용할 때 같은 스케일을 사용하면 된다.\n",
    "- 카테고리 더미 변수인 CHAS는 스케일을 하지 않는다.\n",
    "- 조건수가 10.6으로 줄어들었다."
   ]
  },
  {
   "cell_type": "code",
   "execution_count": 55,
   "id": "041852ca",
   "metadata": {},
   "outputs": [
    {
     "data": {
      "text/plain": [
       "['CRIM',\n",
       " 'ZN',\n",
       " 'INDUS',\n",
       " 'CHAS',\n",
       " 'NOX',\n",
       " 'RM',\n",
       " 'AGE',\n",
       " 'DIS',\n",
       " 'RAD',\n",
       " 'TAX',\n",
       " 'PTRATIO',\n",
       " 'B',\n",
       " 'LSTAT']"
      ]
     },
     "execution_count": 55,
     "metadata": {},
     "output_type": "execute_result"
    }
   ],
   "source": [
    "feature_names = list(boston.feature_names)\n",
    "feature_names"
   ]
  },
  {
   "cell_type": "code",
   "execution_count": 56,
   "id": "4fb74ef7",
   "metadata": {},
   "outputs": [
    {
     "data": {
      "text/plain": [
       "['CRIM',\n",
       " 'ZN',\n",
       " 'INDUS',\n",
       " 'NOX',\n",
       " 'RM',\n",
       " 'AGE',\n",
       " 'DIS',\n",
       " 'RAD',\n",
       " 'TAX',\n",
       " 'PTRATIO',\n",
       " 'B',\n",
       " 'LSTAT']"
      ]
     },
     "execution_count": 56,
     "metadata": {},
     "output_type": "execute_result"
    }
   ],
   "source": [
    "feature_names.remove(\"CHAS\")\n",
    "feature_names"
   ]
  },
  {
   "cell_type": "markdown",
   "id": "f7712b7d",
   "metadata": {},
   "source": [
    "#### 독립변수의 이름을 scale(컬럼명) 형태로 만들어 준다.\n",
    "- OLS 모델에서 스케일링을 하기 위해서"
   ]
  },
  {
   "cell_type": "code",
   "execution_count": 57,
   "id": "c6239b7b",
   "metadata": {},
   "outputs": [
    {
     "data": {
      "text/plain": [
       "['scale(CRIM)',\n",
       " 'scale(ZN)',\n",
       " 'scale(INDUS)',\n",
       " 'scale(NOX)',\n",
       " 'scale(RM)',\n",
       " 'scale(AGE)',\n",
       " 'scale(DIS)',\n",
       " 'scale(RAD)',\n",
       " 'scale(TAX)',\n",
       " 'scale(PTRATIO)',\n",
       " 'scale(B)',\n",
       " 'scale(LSTAT)',\n",
       " 'CHAS']"
      ]
     },
     "execution_count": 57,
     "metadata": {},
     "output_type": "execute_result"
    }
   ],
   "source": [
    "feature_names = [\"scale({})\".format(name) for name in feature_names] + [\"CHAS\"]\n",
    "feature_names"
   ]
  },
  {
   "cell_type": "code",
   "execution_count": 59,
   "id": "3ddead7f",
   "metadata": {},
   "outputs": [
    {
     "data": {
      "text/plain": [
       "'MEDV ~ scale(CRIM)+scale(ZN)+scale(INDUS)+scale(NOX)+scale(RM)+scale(AGE)+scale(DIS)+scale(RAD)+scale(TAX)+scale(PTRATIO)+scale(B)+scale(LSTAT)+CHAS'"
      ]
     },
     "execution_count": 59,
     "metadata": {},
     "output_type": "execute_result"
    }
   ],
   "source": [
    "\"MEDV ~ \" + \"+\".join(feature_names)"
   ]
  },
  {
   "cell_type": "code",
   "execution_count": 58,
   "id": "18d96e3e",
   "metadata": {},
   "outputs": [
    {
     "name": "stdout",
     "output_type": "stream",
     "text": [
      "                            OLS Regression Results                            \n",
      "==============================================================================\n",
      "Dep. Variable:                   MEDV   R-squared:                       0.741\n",
      "Model:                            OLS   Adj. R-squared:                  0.734\n",
      "Method:                 Least Squares   F-statistic:                     108.1\n",
      "Date:                Sat, 18 Jun 2022   Prob (F-statistic):          6.72e-135\n",
      "Time:                        19:13:18   Log-Likelihood:                -1498.8\n",
      "No. Observations:                 506   AIC:                             3026.\n",
      "Df Residuals:                     492   BIC:                             3085.\n",
      "Df Model:                          13                                         \n",
      "Covariance Type:            nonrobust                                         \n",
      "==================================================================================\n",
      "                     coef    std err          t      P>|t|      [0.025      0.975]\n",
      "----------------------------------------------------------------------------------\n",
      "Intercept         22.3470      0.219    101.943      0.000      21.916      22.778\n",
      "scale(CRIM)       -0.9281      0.282     -3.287      0.001      -1.483      -0.373\n",
      "scale(ZN)          1.0816      0.320      3.382      0.001       0.453       1.710\n",
      "scale(INDUS)       0.1409      0.421      0.334      0.738      -0.687       0.969\n",
      "scale(NOX)        -2.0567      0.442     -4.651      0.000      -2.926      -1.188\n",
      "scale(RM)          2.6742      0.293      9.116      0.000       2.098       3.251\n",
      "scale(AGE)         0.0195      0.371      0.052      0.958      -0.710       0.749\n",
      "scale(DIS)        -3.1040      0.420     -7.398      0.000      -3.928      -2.280\n",
      "scale(RAD)         2.6622      0.577      4.613      0.000       1.528       3.796\n",
      "scale(TAX)        -2.0768      0.633     -3.280      0.001      -3.321      -0.833\n",
      "scale(PTRATIO)    -2.0606      0.283     -7.283      0.000      -2.617      -1.505\n",
      "scale(B)           0.8493      0.245      3.467      0.001       0.368       1.331\n",
      "scale(LSTAT)      -3.7436      0.362    -10.347      0.000      -4.454      -3.033\n",
      "CHAS               2.6867      0.862      3.118      0.002       0.994       4.380\n",
      "==============================================================================\n",
      "Omnibus:                      178.041   Durbin-Watson:                   1.078\n",
      "Prob(Omnibus):                  0.000   Jarque-Bera (JB):              783.126\n",
      "Skew:                           1.521   Prob(JB):                    8.84e-171\n",
      "Kurtosis:                       8.281   Cond. No.                         10.6\n",
      "==============================================================================\n",
      "\n",
      "Notes:\n",
      "[1] Standard Errors assume that the covariance matrix of the errors is correctly specified.\n"
     ]
    }
   ],
   "source": [
    "model3 = sm.OLS.from_formula(\"MEDV~\" + \"+\".join(feature_names), data=df)\n",
    "result3 = model3.fit()\n",
    "\n",
    "print(result3.summary())"
   ]
  },
  {
   "cell_type": "code",
   "execution_count": null,
   "id": "86936f1c",
   "metadata": {},
   "outputs": [],
   "source": []
  }
 ],
 "metadata": {
  "kernelspec": {
   "display_name": "Python 3 (ipykernel)",
   "language": "python",
   "name": "python3"
  },
  "language_info": {
   "codemirror_mode": {
    "name": "ipython",
    "version": 3
   },
   "file_extension": ".py",
   "mimetype": "text/x-python",
   "name": "python",
   "nbconvert_exporter": "python",
   "pygments_lexer": "ipython3",
   "version": "3.10.13"
  }
 },
 "nbformat": 4,
 "nbformat_minor": 5
}
