{
 "cells": [
  {
   "cell_type": "markdown",
   "id": "858586d5",
   "metadata": {},
   "source": [
    "# 범주형 독립변수\n",
    "- 범주형 독립변수를 가지는 경우의 회귀분석모형\n",
    "\n",
    "## 1. 범주형 독립변수가 한 개인 경우\n",
    "- D개의 독립변수를 갖는 선형회귀모형\n",
    "    - $\\hat{y} = w_0 + w_1x_1 + w_2x_2 + \\cdots + w_Dx_D$\n",
    "- x1이 범주형 독립변수이고, 두 개의 값을 갖는다면 : A or B, 두 가지의 모델이 필요하다.\n",
    "    - model A : $\\hat{y} = w_{A, 0}+ w_{A, 1}x_{A, 1} + w_{A, 2}x_{A, 2} + \\cdots + w_{A, D}x_{A, D}$\n",
    "    - model B : $\\hat{y} = w_{A, 0}+ w_{A, 1}x_{A, 1} + w_{A, 2}x_{A, 2} + \\cdots + w_{A, D}x_{A, D}$\n",
    "- x1이 A일때와 B일때의 모형이 있어야하고 두 모형의 가중치가 달라진다.\n",
    "- 그런데 가중치는 독립변수 x2가 변할 때 y값이 변하는 정도를 의미하므로, x2의 가중치 w2는 x1의 값에 따라 변하면 안된다.\n",
    "- 이러한 문제를 해결하기 위해서 범주형 독립변수 x1을 더미변수화 한다. 범주값의 갯수만큼 더미변수를 생성한다.\n",
    "    - 더미변수는 상수항을 포함하므로 더미변수화하면 상수항은 없어진다.\n",
    "    - $\\hat{y} = w_{1A}d_{1A} + w_{1B}d_{1B} + w_2x_2 + \\cdots + w_Dx_D$\n",
    "    - w_1x_1이 A, B 더미변수로 나누어짐\n",
    "    \n",
    "    \n",
    "## 2. 풀랭크 방식\n",
    "- `풀랭크 full-rank` : 더미변수의 값을 원핫인코딩(one-hot-encoding) 방식으로 지정한다.\n",
    "    - 범주형 독립변수의 범주값마다 더미변수를 1과 0으로 나타낸다.\n",
    "    - x1 = A ---> d1A = 1, d1B = 0 / x1 = B ---> d1A = 0, d1B = 1\n",
    "- 이러한 값을 위의 식에 대입하면\n",
    "    - $x_1 = A \\rightarrow \\hat{y} = w_{1A} + w_2x_2 + \\cdots + w_Dx_D$\n",
    "    - $x_1 = B \\rightarrow \\hat{y} = w_{1B} + w_2x_2 + \\cdots + w_Dx_D$\n",
    "    - 범주값에 따라 더미변수의 값이 1이므로 해당 가중치만 남는다.\n",
    "    - **두 경우의 직선의 기울기는 같다.**\n",
    "- x1이 A일때와 B일때 각각 다른 모형을 사용하지만, 다른 독립변수들의 가중치가 그대로이다. 범주형 독립변수의 가중치만 바뀌게 된다.\n",
    "- **선형회귀모형에 범주형 독립변수가 있다면 더미변수의 가중치 이외에 별도의 상수항이 있으면 안된다. 상수항과 더미변수의 가중치항을 분리할 수 없기때문**\n",
    "\n",
    "## 3. 축소랭크 방식\n",
    "- `축소랭크 reduced-rank` : 특정한 하나의 범주값을 기준값(reference, baseline)으로 하고 기준값에 대응하는 더미변수의 가중치는 항상 1로 놓는 방식\n",
    "- x1 = A가 기준값인 경우\n",
    "    - x1 = A ---> d1A = 1, d1B = 0 / x1 = B ---> d1A = 1, d1B = 1 (d1A는 항상 1)\n",
    "- x1 = B가 기준값인 경우\n",
    "    - x1 = A ---> d1A = 0, d1B = 1 / x1 = B ---> d1A = 0, d1B = 1 (d1B는 항상 1)\n",
    "- 선형회귀 모형에 대입하면\n",
    "    - $x_1 = A \\rightarrow \\hat{y} = w_{1A} + w_2x_2 + \\cdots + w_Dx_D$\n",
    "    - $x_1 = B \\rightarrow \\hat{y} = w_{1A} + w_{1B} + w_2x_2 + \\cdots + w_Dx_D$\n",
    "    - **두 경우의 직선의 기울기는 같다.**\n",
    "    \n",
    "## 4. 두 개 이상의 범주형 변수가 있는 경우\n",
    "- 축소형 방식을 사용한다.\n",
    "- 모든 범주형 변수의 가중치는 기준값 상수항에 더해지는 상수항으로 취급한다.\n",
    "- x1 : A or B, x2 : X or Y 인 경우\n",
    "    - $\\hat{y} = w_0 + w_1x_1 + w_2x_2 + \\cdots + w_Dx_D$\n",
    "    - $x_1=A, x_2=X \\rightarrow \\hat{y} = w_{AX} + w_{1B}d_{1B} + w_{2Y}d_{2Y} + \\cdots + w_Dx_D$\n",
    "    - $x_1=B, x_2=X \\rightarrow \\hat{y} = w_{AX} + w_{1B}d_{1B} + \\cdots + w_Dx_D$\n",
    "    - $x_1=A, x_2=Y \\rightarrow \\hat{y} = w_{AX} + w_{2Y}d_{2Y} + \\cdots + w_Dx_D$\n",
    "    - $x_1=B, x_2=Y \\rightarrow \\hat{y} = w_{AX} + w_{1B}d_{1B} + w_{2Y}d_{2Y} + \\cdots + w_Dx_D$\n",
    "    - **각각의 경우의 직선의 기울기는 같다.**\n",
    "    \n",
    "## 5. 범주형 독립변수와 실수 독립변수의 상호작용\n",
    "- `상호작용 interaction` : 범주형 변수의 값이 달라질 때 상수항 뿐만 아니라 다른 독립변수들이 미치는 영향도 달라지는 모형에서 사용하는 방법\n",
    "    - 범주형 독립변수 x1은 더미변수 d1으로 인코딩 한다.\n",
    "    - 실수형 독립변수 x2는 d1과의 상호작용(곱하기) 항 d_1 : x_2 를 추가하여 사용한다. \n",
    "- **범주형 독립변수 x1의 값에 따라서 실수형 독립변수 x2의 가중치(x2가 종속변수에 미치는 영향)가 달라지는 경우와 같다.**\n",
    "- `상호작용 모형`\n",
    "\n",
    "$$\\begin{matrix} \n",
    "\\hat{y}\n",
    "&= w_0 + w_1x_1 \\cdot w_2x_2 \\\\\n",
    "&= w_0 + (w_{1A}d_{A} + w_{1B}d_{B}) \\cdot (w_2x_2) \\\\\n",
    "&= w_0 + w_{2A}d_Ax_2 + w_{2B}d_Bx_2 \\\\\n",
    "\\end{matrix}$$\n",
    "\n",
    "- x1=A ---> dA=1, dB=0\n",
    "    - $\\hat{y}=w_0 + w_{2A}x_2$\n",
    "- x2=B ---> dA=0, dB=1\n",
    "    - $\\hat{y}=w_0 + w_{2B}x_2$\n",
    "- **두 경우의 직선의 기울기는 다르다.**    \n",
    "    \n",
    "## 6. 범주형 독립변수, 범주형:독립변수 상호작용\n",
    "- 범주형 독립변수와 범주형 독립변수와 실수형 독립변수의 상호작용이 함께 종속변수에 영향을 미치는 모형\n",
    "    - 범주형 독립변수 + 상호작용(범주형:실수형)\n",
    "    \n",
    "$$\\begin{matrix} \n",
    "\\hat{y}\n",
    "&= w_1x_1 + w_{12}x_1 \\cdot w_2x_2 \\\\\n",
    "&= (w_{1A}d_{A} + w_{1B}d_{B}) + (w_{1A}d_{A} + w_{1B}d_{B}) \\cdot (w_2x_2) \\\\\n",
    "&= (w_{1A}d_{A} + w_{1B}d_{B}) + (w_{2A}d_{A} + w_{2B}d_{B})x_2 \\\\\n",
    "&= (w_{1A} + w_{2A}x_{2})d_A + (w_{2B} + w_{2B}x_{2})d_B \\\\\n",
    "\\end{matrix}$$  \n",
    "\n",
    "- x1=A ---> dA=1, dB=0\n",
    "    - $\\hat{y}=w_{1A} + w_{2A}x_2$\n",
    "- x2=B ---> dA=0, dB=1\n",
    "    - $\\hat{y}=w_{1B} + w_{2B}x_2$\n",
    "- **두 경우의 직선의 기울기는 다르다.**    "
   ]
  },
  {
   "cell_type": "markdown",
   "id": "69a473ac",
   "metadata": {},
   "source": [
    "## 7.기온 데이터의 범주값 처리\n",
    "- 노팅엄 지역의 월 평균 기온 데이터\n",
    "- 선형회귀모형\n",
    "    - $\\hat{y} \\approx w_1d_1 + w_2d_2 + \\cdots + w_{12}d_{12}$\n",
    "- 풀랭크 방식으로 더미변수 값을 대입한 경우의 선형회귀모형\n",
    "    - OLS 모델에서 상수항 결합 제외 \"+0\"\n",
    "\n",
    "$$\\begin{matrix}\n",
    "& x = 1 \\rightarrow d = (1, 0, 0, \\cdots, 0) \\rightarrow \\hat{y} = w_1 \\\\\n",
    "& x = 2 \\rightarrow d = (0, 1, 0, \\cdots, 0) \\rightarrow \\hat{y} = w_2 \\\\\n",
    "& \\vdots \\\\\n",
    "& x = 12 \\rightarrow d = (0, 0, 0, \\cdots, 1) \\rightarrow \\hat{y} = w_{12} \\\\\n",
    "\\end{matrix}$$\n",
    "\n",
    "- 축소랭크 방식으로 더미변수 값을 대입한 경우의 선형회귀모형\n",
    "    - OLS 모델에서 상수항 결합 포함 \n",
    "\n",
    "$$\\begin{matrix}\n",
    "& x = 1 \\rightarrow d = (1, 0, 0, \\cdots, 0) \\rightarrow \\hat{y} = w_1 \\\\\n",
    "& x = 2 \\rightarrow d = (1, 1, 0, \\cdots, 0) \\rightarrow \\hat{y} = w_1 + w_2 \\\\\n",
    "& \\vdots \\\\\n",
    "& x = 12 \\rightarrow d = (1, 0, 0, \\cdots, 1) \\rightarrow \\hat{y} = w_1 + w_{12} \\\\\n",
    "\\end{matrix}$$"
   ]
  },
  {
   "cell_type": "code",
   "execution_count": 1,
   "id": "05028537",
   "metadata": {},
   "outputs": [],
   "source": [
    "import datetime\n",
    "from calendar import isleap"
   ]
  },
  {
   "cell_type": "markdown",
   "id": "cc87b0e9",
   "metadata": {},
   "source": [
    "### 7-1. 날짜 데이터 변환 함수\n",
    "- 숫자형식으로 된 날짜 데이터를 date 포멧으로 변환"
   ]
  },
  {
   "cell_type": "code",
   "execution_count": 2,
   "id": "4fda8f3c",
   "metadata": {},
   "outputs": [],
   "source": [
    "def convert_partial_year(number) : \n",
    "    \"연 단위 숫자에서 날짜를 계산하는 코드\"\n",
    "    year = int(number)\n",
    "    d = datetime.timedelta(days=(number - year) * (365 + isleap(year)))\n",
    "    day_one = datetime.datetime(year, 1, 1)\n",
    "    date = d + day_one\n",
    "    return date"
   ]
  },
  {
   "cell_type": "code",
   "execution_count": 3,
   "id": "3050e8dc",
   "metadata": {},
   "outputs": [
    {
     "data": {
      "text/plain": [
       "datetime.datetime(2017, 1, 1, 0, 0)"
      ]
     },
     "execution_count": 3,
     "metadata": {},
     "output_type": "execute_result"
    }
   ],
   "source": [
    "convert_partial_year(2017)"
   ]
  },
  {
   "cell_type": "code",
   "execution_count": 4,
   "id": "3959f007",
   "metadata": {},
   "outputs": [
    {
     "data": {
      "text/html": [
       "<div>\n",
       "<style scoped>\n",
       "    .dataframe tbody tr th:only-of-type {\n",
       "        vertical-align: middle;\n",
       "    }\n",
       "\n",
       "    .dataframe tbody tr th {\n",
       "        vertical-align: top;\n",
       "    }\n",
       "\n",
       "    .dataframe thead th {\n",
       "        text-align: right;\n",
       "    }\n",
       "</style>\n",
       "<table border=\"1\" class=\"dataframe\">\n",
       "  <thead>\n",
       "    <tr style=\"text-align: right;\">\n",
       "      <th></th>\n",
       "      <th>time</th>\n",
       "      <th>value</th>\n",
       "    </tr>\n",
       "  </thead>\n",
       "  <tbody>\n",
       "    <tr>\n",
       "      <th>0</th>\n",
       "      <td>1920.000000</td>\n",
       "      <td>40.6</td>\n",
       "    </tr>\n",
       "    <tr>\n",
       "      <th>1</th>\n",
       "      <td>1920.083333</td>\n",
       "      <td>40.8</td>\n",
       "    </tr>\n",
       "    <tr>\n",
       "      <th>2</th>\n",
       "      <td>1920.166667</td>\n",
       "      <td>44.4</td>\n",
       "    </tr>\n",
       "    <tr>\n",
       "      <th>3</th>\n",
       "      <td>1920.250000</td>\n",
       "      <td>46.7</td>\n",
       "    </tr>\n",
       "    <tr>\n",
       "      <th>4</th>\n",
       "      <td>1920.333333</td>\n",
       "      <td>54.1</td>\n",
       "    </tr>\n",
       "    <tr>\n",
       "      <th>5</th>\n",
       "      <td>1920.416667</td>\n",
       "      <td>58.5</td>\n",
       "    </tr>\n",
       "    <tr>\n",
       "      <th>6</th>\n",
       "      <td>1920.500000</td>\n",
       "      <td>57.7</td>\n",
       "    </tr>\n",
       "    <tr>\n",
       "      <th>7</th>\n",
       "      <td>1920.583333</td>\n",
       "      <td>56.4</td>\n",
       "    </tr>\n",
       "    <tr>\n",
       "      <th>8</th>\n",
       "      <td>1920.666667</td>\n",
       "      <td>54.3</td>\n",
       "    </tr>\n",
       "    <tr>\n",
       "      <th>9</th>\n",
       "      <td>1920.750000</td>\n",
       "      <td>50.5</td>\n",
       "    </tr>\n",
       "  </tbody>\n",
       "</table>\n",
       "</div>"
      ],
      "text/plain": [
       "          time  value\n",
       "0  1920.000000   40.6\n",
       "1  1920.083333   40.8\n",
       "2  1920.166667   44.4\n",
       "3  1920.250000   46.7\n",
       "4  1920.333333   54.1\n",
       "5  1920.416667   58.5\n",
       "6  1920.500000   57.7\n",
       "7  1920.583333   56.4\n",
       "8  1920.666667   54.3\n",
       "9  1920.750000   50.5"
      ]
     },
     "execution_count": 4,
     "metadata": {},
     "output_type": "execute_result"
    }
   ],
   "source": [
    "df_nottem = sm.datasets.get_rdataset(\"nottem\").data\n",
    "df_nottem[:10]"
   ]
  },
  {
   "cell_type": "code",
   "execution_count": 5,
   "id": "8c12cbfe",
   "metadata": {},
   "outputs": [
    {
     "data": {
      "text/plain": [
       "1920.41666666667"
      ]
     },
     "execution_count": 5,
     "metadata": {},
     "output_type": "execute_result"
    }
   ],
   "source": [
    "num = df_nottem.loc[5][\"time\"]\n",
    "num"
   ]
  },
  {
   "cell_type": "code",
   "execution_count": 6,
   "id": "d5b9e7e4",
   "metadata": {},
   "outputs": [
    {
     "data": {
      "text/plain": [
       "1920"
      ]
     },
     "execution_count": 6,
     "metadata": {},
     "output_type": "execute_result"
    }
   ],
   "source": [
    "year = int(num)\n",
    "year"
   ]
  },
  {
   "cell_type": "code",
   "execution_count": 7,
   "id": "0fde4808",
   "metadata": {},
   "outputs": [
    {
     "data": {
      "text/plain": [
       "0.4166666666699257"
      ]
     },
     "execution_count": 7,
     "metadata": {},
     "output_type": "execute_result"
    }
   ],
   "source": [
    "num - year"
   ]
  },
  {
   "cell_type": "code",
   "execution_count": 8,
   "id": "bc15c418",
   "metadata": {},
   "outputs": [
    {
     "data": {
      "text/plain": [
       "datetime.timedelta(seconds=36000)"
      ]
     },
     "execution_count": 8,
     "metadata": {},
     "output_type": "execute_result"
    }
   ],
   "source": [
    "datetime.timedelta(days=(num - year))"
   ]
  },
  {
   "cell_type": "code",
   "execution_count": 9,
   "id": "3c14853e",
   "metadata": {},
   "outputs": [
    {
     "data": {
      "text/plain": [
       "True"
      ]
     },
     "execution_count": 9,
     "metadata": {},
     "output_type": "execute_result"
    }
   ],
   "source": [
    "isleap(year)"
   ]
  },
  {
   "cell_type": "code",
   "execution_count": 10,
   "id": "24248e57",
   "metadata": {},
   "outputs": [
    {
     "data": {
      "text/plain": [
       "366"
      ]
     },
     "execution_count": 10,
     "metadata": {},
     "output_type": "execute_result"
    }
   ],
   "source": [
    "365 + isleap(year)"
   ]
  },
  {
   "cell_type": "code",
   "execution_count": 13,
   "id": "0578edd8",
   "metadata": {},
   "outputs": [
    {
     "data": {
      "text/plain": [
       "datetime.timedelta(days=152, seconds=43200, microseconds=103)"
      ]
     },
     "execution_count": 13,
     "metadata": {},
     "output_type": "execute_result"
    }
   ],
   "source": [
    "d = datetime.timedelta(days=(num - year) * (365 + isleap(year)))\n",
    "d"
   ]
  },
  {
   "cell_type": "code",
   "execution_count": 12,
   "id": "6f3da89d",
   "metadata": {},
   "outputs": [
    {
     "data": {
      "text/plain": [
       "datetime.datetime(1920, 1, 1, 0, 0)"
      ]
     },
     "execution_count": 12,
     "metadata": {},
     "output_type": "execute_result"
    }
   ],
   "source": [
    "day_one = datetime.datetime(year, 1, 1)\n",
    "day_one"
   ]
  },
  {
   "cell_type": "code",
   "execution_count": 14,
   "id": "fd935627",
   "metadata": {},
   "outputs": [
    {
     "data": {
      "text/plain": [
       "datetime.datetime(1920, 6, 1, 12, 0, 0, 103)"
      ]
     },
     "execution_count": 14,
     "metadata": {},
     "output_type": "execute_result"
    }
   ],
   "source": [
    "d + day_one"
   ]
  },
  {
   "cell_type": "code",
   "execution_count": 15,
   "id": "de5b7ec1",
   "metadata": {},
   "outputs": [
    {
     "data": {
      "text/plain": [
       "datetime.datetime(1920, 6, 1, 12, 0, 0, 103)"
      ]
     },
     "execution_count": 15,
     "metadata": {},
     "output_type": "execute_result"
    }
   ],
   "source": [
    "convert_partial_year(df_nottem[\"time\"].loc[5])"
   ]
  },
  {
   "cell_type": "markdown",
   "id": "310904fc",
   "metadata": {},
   "source": [
    "### 7-2. 날짜 독립변수 생성\n",
    "- df_nottem[\"time\"].apply(convert_partial_year) 도 가능\n",
    "    - df_nottem[\"time\"]은 series 객체\n",
    "    - df_nottem[[\"time\"]]은 dataframe 객체\n",
    "- applymap() : 스칼라를 받아서 계산하는 함수 적용가능. 데이터 프레임 입력 가능.     "
   ]
  },
  {
   "cell_type": "code",
   "execution_count": 18,
   "id": "bc3eb791",
   "metadata": {},
   "outputs": [
    {
     "data": {
      "text/html": [
       "<div>\n",
       "<style scoped>\n",
       "    .dataframe tbody tr th:only-of-type {\n",
       "        vertical-align: middle;\n",
       "    }\n",
       "\n",
       "    .dataframe tbody tr th {\n",
       "        vertical-align: top;\n",
       "    }\n",
       "\n",
       "    .dataframe thead th {\n",
       "        text-align: right;\n",
       "    }\n",
       "</style>\n",
       "<table border=\"1\" class=\"dataframe\">\n",
       "  <thead>\n",
       "    <tr style=\"text-align: right;\">\n",
       "      <th></th>\n",
       "      <th>time</th>\n",
       "      <th>value</th>\n",
       "      <th>date0</th>\n",
       "    </tr>\n",
       "  </thead>\n",
       "  <tbody>\n",
       "    <tr>\n",
       "      <th>0</th>\n",
       "      <td>1920.000000</td>\n",
       "      <td>40.6</td>\n",
       "      <td>1920-01-01 00:00:00.000000</td>\n",
       "    </tr>\n",
       "    <tr>\n",
       "      <th>1</th>\n",
       "      <td>1920.083333</td>\n",
       "      <td>40.8</td>\n",
       "      <td>1920-01-31 11:59:59.999897</td>\n",
       "    </tr>\n",
       "    <tr>\n",
       "      <th>2</th>\n",
       "      <td>1920.166667</td>\n",
       "      <td>44.4</td>\n",
       "      <td>1920-03-02 00:00:00.000103</td>\n",
       "    </tr>\n",
       "    <tr>\n",
       "      <th>3</th>\n",
       "      <td>1920.250000</td>\n",
       "      <td>46.7</td>\n",
       "      <td>1920-04-01 12:00:00.000000</td>\n",
       "    </tr>\n",
       "    <tr>\n",
       "      <th>4</th>\n",
       "      <td>1920.333333</td>\n",
       "      <td>54.1</td>\n",
       "      <td>1920-05-01 23:59:59.999897</td>\n",
       "    </tr>\n",
       "    <tr>\n",
       "      <th>5</th>\n",
       "      <td>1920.416667</td>\n",
       "      <td>58.5</td>\n",
       "      <td>1920-06-01 12:00:00.000103</td>\n",
       "    </tr>\n",
       "    <tr>\n",
       "      <th>6</th>\n",
       "      <td>1920.500000</td>\n",
       "      <td>57.7</td>\n",
       "      <td>1920-07-02 00:00:00.000000</td>\n",
       "    </tr>\n",
       "    <tr>\n",
       "      <th>7</th>\n",
       "      <td>1920.583333</td>\n",
       "      <td>56.4</td>\n",
       "      <td>1920-08-01 11:59:59.999897</td>\n",
       "    </tr>\n",
       "    <tr>\n",
       "      <th>8</th>\n",
       "      <td>1920.666667</td>\n",
       "      <td>54.3</td>\n",
       "      <td>1920-09-01 00:00:00.000103</td>\n",
       "    </tr>\n",
       "    <tr>\n",
       "      <th>9</th>\n",
       "      <td>1920.750000</td>\n",
       "      <td>50.5</td>\n",
       "      <td>1920-10-01 12:00:00.000000</td>\n",
       "    </tr>\n",
       "  </tbody>\n",
       "</table>\n",
       "</div>"
      ],
      "text/plain": [
       "          time  value                      date0\n",
       "0  1920.000000   40.6 1920-01-01 00:00:00.000000\n",
       "1  1920.083333   40.8 1920-01-31 11:59:59.999897\n",
       "2  1920.166667   44.4 1920-03-02 00:00:00.000103\n",
       "3  1920.250000   46.7 1920-04-01 12:00:00.000000\n",
       "4  1920.333333   54.1 1920-05-01 23:59:59.999897\n",
       "5  1920.416667   58.5 1920-06-01 12:00:00.000103\n",
       "6  1920.500000   57.7 1920-07-02 00:00:00.000000\n",
       "7  1920.583333   56.4 1920-08-01 11:59:59.999897\n",
       "8  1920.666667   54.3 1920-09-01 00:00:00.000103\n",
       "9  1920.750000   50.5 1920-10-01 12:00:00.000000"
      ]
     },
     "execution_count": 18,
     "metadata": {},
     "output_type": "execute_result"
    }
   ],
   "source": [
    "df_nottem[\"date0\"] = df_nottem[[\"time\"]].applymap(convert_partial_year)\n",
    "df_nottem.head(10)"
   ]
  },
  {
   "cell_type": "markdown",
   "id": "cd09e062",
   "metadata": {},
   "source": [
    "### applymap() 테스트"
   ]
  },
  {
   "cell_type": "code",
   "execution_count": 1,
   "id": "b6f8bb43",
   "metadata": {},
   "outputs": [
    {
     "data": {
      "text/html": [
       "<div>\n",
       "<style scoped>\n",
       "    .dataframe tbody tr th:only-of-type {\n",
       "        vertical-align: middle;\n",
       "    }\n",
       "\n",
       "    .dataframe tbody tr th {\n",
       "        vertical-align: top;\n",
       "    }\n",
       "\n",
       "    .dataframe thead th {\n",
       "        text-align: right;\n",
       "    }\n",
       "</style>\n",
       "<table border=\"1\" class=\"dataframe\">\n",
       "  <thead>\n",
       "    <tr style=\"text-align: right;\">\n",
       "      <th></th>\n",
       "      <th>0</th>\n",
       "      <th>1</th>\n",
       "    </tr>\n",
       "  </thead>\n",
       "  <tbody>\n",
       "    <tr>\n",
       "      <th>0</th>\n",
       "      <td>1.000</td>\n",
       "      <td>2.120</td>\n",
       "    </tr>\n",
       "    <tr>\n",
       "      <th>1</th>\n",
       "      <td>3.356</td>\n",
       "      <td>4.567</td>\n",
       "    </tr>\n",
       "  </tbody>\n",
       "</table>\n",
       "</div>"
      ],
      "text/plain": [
       "       0      1\n",
       "0  1.000  2.120\n",
       "1  3.356  4.567"
      ]
     },
     "execution_count": 1,
     "metadata": {},
     "output_type": "execute_result"
    }
   ],
   "source": [
    "test_df = pd.DataFrame([[1, 2.12], [3.356, 4.567]])\n",
    "test_df"
   ]
  },
  {
   "cell_type": "markdown",
   "id": "4fb6d6f2",
   "metadata": {},
   "source": [
    "#### 데이터의 길이를 계산하는 람다함수 적용"
   ]
  },
  {
   "cell_type": "code",
   "execution_count": 7,
   "id": "ad07d3cf",
   "metadata": {},
   "outputs": [
    {
     "data": {
      "text/html": [
       "<div>\n",
       "<style scoped>\n",
       "    .dataframe tbody tr th:only-of-type {\n",
       "        vertical-align: middle;\n",
       "    }\n",
       "\n",
       "    .dataframe tbody tr th {\n",
       "        vertical-align: top;\n",
       "    }\n",
       "\n",
       "    .dataframe thead th {\n",
       "        text-align: right;\n",
       "    }\n",
       "</style>\n",
       "<table border=\"1\" class=\"dataframe\">\n",
       "  <thead>\n",
       "    <tr style=\"text-align: right;\">\n",
       "      <th></th>\n",
       "      <th>0</th>\n",
       "      <th>1</th>\n",
       "    </tr>\n",
       "  </thead>\n",
       "  <tbody>\n",
       "    <tr>\n",
       "      <th>0</th>\n",
       "      <td>3</td>\n",
       "      <td>4</td>\n",
       "    </tr>\n",
       "    <tr>\n",
       "      <th>1</th>\n",
       "      <td>5</td>\n",
       "      <td>5</td>\n",
       "    </tr>\n",
       "  </tbody>\n",
       "</table>\n",
       "</div>"
      ],
      "text/plain": [
       "   0  1\n",
       "0  3  4\n",
       "1  5  5"
      ]
     },
     "execution_count": 7,
     "metadata": {},
     "output_type": "execute_result"
    }
   ],
   "source": [
    "test_df.applymap(lambda x : len(str(x)))"
   ]
  },
  {
   "cell_type": "code",
   "execution_count": 5,
   "id": "4ab6800e",
   "metadata": {},
   "outputs": [
    {
     "data": {
      "text/plain": [
       "'3.356'"
      ]
     },
     "execution_count": 5,
     "metadata": {},
     "output_type": "execute_result"
    }
   ],
   "source": [
    "str(test_df[0][1])"
   ]
  },
  {
   "cell_type": "code",
   "execution_count": 6,
   "id": "d2df4272",
   "metadata": {},
   "outputs": [
    {
     "data": {
      "text/plain": [
       "5"
      ]
     },
     "execution_count": 6,
     "metadata": {},
     "output_type": "execute_result"
    }
   ],
   "source": [
    "len(str(test_df[0][1]))"
   ]
  },
  {
   "cell_type": "code",
   "execution_count": 8,
   "id": "78d6c251",
   "metadata": {},
   "outputs": [
    {
     "data": {
      "text/html": [
       "<div>\n",
       "<style scoped>\n",
       "    .dataframe tbody tr th:only-of-type {\n",
       "        vertical-align: middle;\n",
       "    }\n",
       "\n",
       "    .dataframe tbody tr th {\n",
       "        vertical-align: top;\n",
       "    }\n",
       "\n",
       "    .dataframe thead th {\n",
       "        text-align: right;\n",
       "    }\n",
       "</style>\n",
       "<table border=\"1\" class=\"dataframe\">\n",
       "  <thead>\n",
       "    <tr style=\"text-align: right;\">\n",
       "      <th></th>\n",
       "      <th>0</th>\n",
       "      <th>1</th>\n",
       "    </tr>\n",
       "  </thead>\n",
       "  <tbody>\n",
       "    <tr>\n",
       "      <th>0</th>\n",
       "      <td>&lt;NA&gt;</td>\n",
       "      <td>2.120</td>\n",
       "    </tr>\n",
       "    <tr>\n",
       "      <th>1</th>\n",
       "      <td>3.356</td>\n",
       "      <td>4.567</td>\n",
       "    </tr>\n",
       "  </tbody>\n",
       "</table>\n",
       "</div>"
      ],
      "text/plain": [
       "       0      1\n",
       "0   <NA>  2.120\n",
       "1  3.356  4.567"
      ]
     },
     "execution_count": 8,
     "metadata": {},
     "output_type": "execute_result"
    }
   ],
   "source": [
    "test_df_copy = test_df.copy()\n",
    "test_df_copy.iloc[0, 0] = pd.NA\n",
    "test_df_copy"
   ]
  },
  {
   "cell_type": "markdown",
   "id": "5007ecbb",
   "metadata": {},
   "source": [
    "#### na는 무시하도록 설정 할 수 있다."
   ]
  },
  {
   "cell_type": "code",
   "execution_count": 9,
   "id": "69f79492",
   "metadata": {},
   "outputs": [
    {
     "data": {
      "text/html": [
       "<div>\n",
       "<style scoped>\n",
       "    .dataframe tbody tr th:only-of-type {\n",
       "        vertical-align: middle;\n",
       "    }\n",
       "\n",
       "    .dataframe tbody tr th {\n",
       "        vertical-align: top;\n",
       "    }\n",
       "\n",
       "    .dataframe thead th {\n",
       "        text-align: right;\n",
       "    }\n",
       "</style>\n",
       "<table border=\"1\" class=\"dataframe\">\n",
       "  <thead>\n",
       "    <tr style=\"text-align: right;\">\n",
       "      <th></th>\n",
       "      <th>0</th>\n",
       "      <th>1</th>\n",
       "    </tr>\n",
       "  </thead>\n",
       "  <tbody>\n",
       "    <tr>\n",
       "      <th>0</th>\n",
       "      <td>&lt;NA&gt;</td>\n",
       "      <td>4</td>\n",
       "    </tr>\n",
       "    <tr>\n",
       "      <th>1</th>\n",
       "      <td>5</td>\n",
       "      <td>5</td>\n",
       "    </tr>\n",
       "  </tbody>\n",
       "</table>\n",
       "</div>"
      ],
      "text/plain": [
       "      0  1\n",
       "0  <NA>  4\n",
       "1     5  5"
      ]
     },
     "execution_count": 9,
     "metadata": {},
     "output_type": "execute_result"
    }
   ],
   "source": [
    "test_df_copy.applymap(lambda x : len(str(x)), na_action=\"ignore\")"
   ]
  },
  {
   "cell_type": "code",
   "execution_count": 10,
   "id": "352a31d0",
   "metadata": {},
   "outputs": [
    {
     "data": {
      "text/html": [
       "<div>\n",
       "<style scoped>\n",
       "    .dataframe tbody tr th:only-of-type {\n",
       "        vertical-align: middle;\n",
       "    }\n",
       "\n",
       "    .dataframe tbody tr th {\n",
       "        vertical-align: top;\n",
       "    }\n",
       "\n",
       "    .dataframe thead th {\n",
       "        text-align: right;\n",
       "    }\n",
       "</style>\n",
       "<table border=\"1\" class=\"dataframe\">\n",
       "  <thead>\n",
       "    <tr style=\"text-align: right;\">\n",
       "      <th></th>\n",
       "      <th>0</th>\n",
       "      <th>1</th>\n",
       "    </tr>\n",
       "  </thead>\n",
       "  <tbody>\n",
       "    <tr>\n",
       "      <th>0</th>\n",
       "      <td>4</td>\n",
       "      <td>4</td>\n",
       "    </tr>\n",
       "    <tr>\n",
       "      <th>1</th>\n",
       "      <td>5</td>\n",
       "      <td>5</td>\n",
       "    </tr>\n",
       "  </tbody>\n",
       "</table>\n",
       "</div>"
      ],
      "text/plain": [
       "   0  1\n",
       "0  4  4\n",
       "1  5  5"
      ]
     },
     "execution_count": 10,
     "metadata": {},
     "output_type": "execute_result"
    }
   ],
   "source": [
    "test_df_copy.applymap(lambda x : len(str(x)))"
   ]
  },
  {
   "cell_type": "markdown",
   "id": "6bf2a644",
   "metadata": {},
   "source": [
    "### 7-3. 날짜 데이터 전처리\n",
    "- 60분 단위로 올림? 해준다.\n",
    "    - 09:59:59.9998 ---> 10:00:00 \n",
    "- 하루를 더 해준다.\n",
    "    - datetime.timedelta(seconds=3600 * 24)\n",
    "    - datetime.timedelta(days=1)"
   ]
  },
  {
   "cell_type": "code",
   "execution_count": 20,
   "id": "aeca491f",
   "metadata": {},
   "outputs": [
    {
     "data": {
      "text/html": [
       "<div>\n",
       "<style scoped>\n",
       "    .dataframe tbody tr th:only-of-type {\n",
       "        vertical-align: middle;\n",
       "    }\n",
       "\n",
       "    .dataframe tbody tr th {\n",
       "        vertical-align: top;\n",
       "    }\n",
       "\n",
       "    .dataframe thead th {\n",
       "        text-align: right;\n",
       "    }\n",
       "</style>\n",
       "<table border=\"1\" class=\"dataframe\">\n",
       "  <thead>\n",
       "    <tr style=\"text-align: right;\">\n",
       "      <th></th>\n",
       "      <th>time</th>\n",
       "      <th>value</th>\n",
       "      <th>date0</th>\n",
       "      <th>date</th>\n",
       "    </tr>\n",
       "  </thead>\n",
       "  <tbody>\n",
       "    <tr>\n",
       "      <th>0</th>\n",
       "      <td>1920.000000</td>\n",
       "      <td>40.6</td>\n",
       "      <td>1920-01-01 00:00:00.000000</td>\n",
       "      <td>1920-01-02 00:00:00</td>\n",
       "    </tr>\n",
       "    <tr>\n",
       "      <th>1</th>\n",
       "      <td>1920.083333</td>\n",
       "      <td>40.8</td>\n",
       "      <td>1920-01-31 11:59:59.999897</td>\n",
       "      <td>1920-02-01 12:00:00</td>\n",
       "    </tr>\n",
       "    <tr>\n",
       "      <th>2</th>\n",
       "      <td>1920.166667</td>\n",
       "      <td>44.4</td>\n",
       "      <td>1920-03-02 00:00:00.000103</td>\n",
       "      <td>1920-03-03 00:00:00</td>\n",
       "    </tr>\n",
       "    <tr>\n",
       "      <th>3</th>\n",
       "      <td>1920.250000</td>\n",
       "      <td>46.7</td>\n",
       "      <td>1920-04-01 12:00:00.000000</td>\n",
       "      <td>1920-04-02 12:00:00</td>\n",
       "    </tr>\n",
       "    <tr>\n",
       "      <th>4</th>\n",
       "      <td>1920.333333</td>\n",
       "      <td>54.1</td>\n",
       "      <td>1920-05-01 23:59:59.999897</td>\n",
       "      <td>1920-05-03 00:00:00</td>\n",
       "    </tr>\n",
       "    <tr>\n",
       "      <th>5</th>\n",
       "      <td>1920.416667</td>\n",
       "      <td>58.5</td>\n",
       "      <td>1920-06-01 12:00:00.000103</td>\n",
       "      <td>1920-06-02 12:00:00</td>\n",
       "    </tr>\n",
       "    <tr>\n",
       "      <th>6</th>\n",
       "      <td>1920.500000</td>\n",
       "      <td>57.7</td>\n",
       "      <td>1920-07-02 00:00:00.000000</td>\n",
       "      <td>1920-07-03 00:00:00</td>\n",
       "    </tr>\n",
       "    <tr>\n",
       "      <th>7</th>\n",
       "      <td>1920.583333</td>\n",
       "      <td>56.4</td>\n",
       "      <td>1920-08-01 11:59:59.999897</td>\n",
       "      <td>1920-08-02 12:00:00</td>\n",
       "    </tr>\n",
       "    <tr>\n",
       "      <th>8</th>\n",
       "      <td>1920.666667</td>\n",
       "      <td>54.3</td>\n",
       "      <td>1920-09-01 00:00:00.000103</td>\n",
       "      <td>1920-09-02 00:00:00</td>\n",
       "    </tr>\n",
       "    <tr>\n",
       "      <th>9</th>\n",
       "      <td>1920.750000</td>\n",
       "      <td>50.5</td>\n",
       "      <td>1920-10-01 12:00:00.000000</td>\n",
       "      <td>1920-10-02 12:00:00</td>\n",
       "    </tr>\n",
       "  </tbody>\n",
       "</table>\n",
       "</div>"
      ],
      "text/plain": [
       "          time  value                      date0                date\n",
       "0  1920.000000   40.6 1920-01-01 00:00:00.000000 1920-01-02 00:00:00\n",
       "1  1920.083333   40.8 1920-01-31 11:59:59.999897 1920-02-01 12:00:00\n",
       "2  1920.166667   44.4 1920-03-02 00:00:00.000103 1920-03-03 00:00:00\n",
       "3  1920.250000   46.7 1920-04-01 12:00:00.000000 1920-04-02 12:00:00\n",
       "4  1920.333333   54.1 1920-05-01 23:59:59.999897 1920-05-03 00:00:00\n",
       "5  1920.416667   58.5 1920-06-01 12:00:00.000103 1920-06-02 12:00:00\n",
       "6  1920.500000   57.7 1920-07-02 00:00:00.000000 1920-07-03 00:00:00\n",
       "7  1920.583333   56.4 1920-08-01 11:59:59.999897 1920-08-02 12:00:00\n",
       "8  1920.666667   54.3 1920-09-01 00:00:00.000103 1920-09-02 00:00:00\n",
       "9  1920.750000   50.5 1920-10-01 12:00:00.000000 1920-10-02 12:00:00"
      ]
     },
     "execution_count": 20,
     "metadata": {},
     "output_type": "execute_result"
    }
   ],
   "source": [
    "df_nottem[\"date\"] = pd.DatetimeIndex(df_nottem[\"date0\"]).round(\"60min\") + \\\n",
    "datetime.timedelta(seconds=3600*24)\n",
    "\n",
    "df_nottem.head(10)"
   ]
  },
  {
   "cell_type": "markdown",
   "id": "1dece0c1",
   "metadata": {},
   "source": [
    "### 7-4. month 독립변수 생성\n",
    "- Series type에서만 dt 함수 사용 가능"
   ]
  },
  {
   "cell_type": "code",
   "execution_count": 21,
   "id": "285c83db",
   "metadata": {},
   "outputs": [
    {
     "data": {
      "text/html": [
       "<div>\n",
       "<style scoped>\n",
       "    .dataframe tbody tr th:only-of-type {\n",
       "        vertical-align: middle;\n",
       "    }\n",
       "\n",
       "    .dataframe tbody tr th {\n",
       "        vertical-align: top;\n",
       "    }\n",
       "\n",
       "    .dataframe thead th {\n",
       "        text-align: right;\n",
       "    }\n",
       "</style>\n",
       "<table border=\"1\" class=\"dataframe\">\n",
       "  <thead>\n",
       "    <tr style=\"text-align: right;\">\n",
       "      <th></th>\n",
       "      <th>time</th>\n",
       "      <th>value</th>\n",
       "      <th>date0</th>\n",
       "      <th>date</th>\n",
       "      <th>month</th>\n",
       "    </tr>\n",
       "  </thead>\n",
       "  <tbody>\n",
       "    <tr>\n",
       "      <th>0</th>\n",
       "      <td>1920.000000</td>\n",
       "      <td>40.6</td>\n",
       "      <td>1920-01-01 00:00:00.000000</td>\n",
       "      <td>1920-01-02 00:00:00</td>\n",
       "      <td>01</td>\n",
       "    </tr>\n",
       "    <tr>\n",
       "      <th>1</th>\n",
       "      <td>1920.083333</td>\n",
       "      <td>40.8</td>\n",
       "      <td>1920-01-31 11:59:59.999897</td>\n",
       "      <td>1920-02-01 12:00:00</td>\n",
       "      <td>02</td>\n",
       "    </tr>\n",
       "    <tr>\n",
       "      <th>2</th>\n",
       "      <td>1920.166667</td>\n",
       "      <td>44.4</td>\n",
       "      <td>1920-03-02 00:00:00.000103</td>\n",
       "      <td>1920-03-03 00:00:00</td>\n",
       "      <td>03</td>\n",
       "    </tr>\n",
       "    <tr>\n",
       "      <th>3</th>\n",
       "      <td>1920.250000</td>\n",
       "      <td>46.7</td>\n",
       "      <td>1920-04-01 12:00:00.000000</td>\n",
       "      <td>1920-04-02 12:00:00</td>\n",
       "      <td>04</td>\n",
       "    </tr>\n",
       "    <tr>\n",
       "      <th>4</th>\n",
       "      <td>1920.333333</td>\n",
       "      <td>54.1</td>\n",
       "      <td>1920-05-01 23:59:59.999897</td>\n",
       "      <td>1920-05-03 00:00:00</td>\n",
       "      <td>05</td>\n",
       "    </tr>\n",
       "    <tr>\n",
       "      <th>5</th>\n",
       "      <td>1920.416667</td>\n",
       "      <td>58.5</td>\n",
       "      <td>1920-06-01 12:00:00.000103</td>\n",
       "      <td>1920-06-02 12:00:00</td>\n",
       "      <td>06</td>\n",
       "    </tr>\n",
       "    <tr>\n",
       "      <th>6</th>\n",
       "      <td>1920.500000</td>\n",
       "      <td>57.7</td>\n",
       "      <td>1920-07-02 00:00:00.000000</td>\n",
       "      <td>1920-07-03 00:00:00</td>\n",
       "      <td>07</td>\n",
       "    </tr>\n",
       "    <tr>\n",
       "      <th>7</th>\n",
       "      <td>1920.583333</td>\n",
       "      <td>56.4</td>\n",
       "      <td>1920-08-01 11:59:59.999897</td>\n",
       "      <td>1920-08-02 12:00:00</td>\n",
       "      <td>08</td>\n",
       "    </tr>\n",
       "    <tr>\n",
       "      <th>8</th>\n",
       "      <td>1920.666667</td>\n",
       "      <td>54.3</td>\n",
       "      <td>1920-09-01 00:00:00.000103</td>\n",
       "      <td>1920-09-02 00:00:00</td>\n",
       "      <td>09</td>\n",
       "    </tr>\n",
       "    <tr>\n",
       "      <th>9</th>\n",
       "      <td>1920.750000</td>\n",
       "      <td>50.5</td>\n",
       "      <td>1920-10-01 12:00:00.000000</td>\n",
       "      <td>1920-10-02 12:00:00</td>\n",
       "      <td>10</td>\n",
       "    </tr>\n",
       "  </tbody>\n",
       "</table>\n",
       "</div>"
      ],
      "text/plain": [
       "          time  value                      date0                date month\n",
       "0  1920.000000   40.6 1920-01-01 00:00:00.000000 1920-01-02 00:00:00    01\n",
       "1  1920.083333   40.8 1920-01-31 11:59:59.999897 1920-02-01 12:00:00    02\n",
       "2  1920.166667   44.4 1920-03-02 00:00:00.000103 1920-03-03 00:00:00    03\n",
       "3  1920.250000   46.7 1920-04-01 12:00:00.000000 1920-04-02 12:00:00    04\n",
       "4  1920.333333   54.1 1920-05-01 23:59:59.999897 1920-05-03 00:00:00    05\n",
       "5  1920.416667   58.5 1920-06-01 12:00:00.000103 1920-06-02 12:00:00    06\n",
       "6  1920.500000   57.7 1920-07-02 00:00:00.000000 1920-07-03 00:00:00    07\n",
       "7  1920.583333   56.4 1920-08-01 11:59:59.999897 1920-08-02 12:00:00    08\n",
       "8  1920.666667   54.3 1920-09-01 00:00:00.000103 1920-09-02 00:00:00    09\n",
       "9  1920.750000   50.5 1920-10-01 12:00:00.000000 1920-10-02 12:00:00    10"
      ]
     },
     "execution_count": 21,
     "metadata": {},
     "output_type": "execute_result"
    }
   ],
   "source": [
    "df_nottem[\"month\"] = df_nottem[\"date\"].dt.strftime(\"%m\").astype(\"category\")\n",
    "df_nottem.head(10)"
   ]
  },
  {
   "cell_type": "code",
   "execution_count": 22,
   "id": "ebfd0d10",
   "metadata": {},
   "outputs": [],
   "source": [
    "del df_nottem[\"date\"], df_nottem[\"date0\"]"
   ]
  },
  {
   "cell_type": "code",
   "execution_count": 23,
   "id": "a9b3d46e",
   "metadata": {},
   "outputs": [
    {
     "data": {
      "text/html": [
       "<div>\n",
       "<style scoped>\n",
       "    .dataframe tbody tr th:only-of-type {\n",
       "        vertical-align: middle;\n",
       "    }\n",
       "\n",
       "    .dataframe tbody tr th {\n",
       "        vertical-align: top;\n",
       "    }\n",
       "\n",
       "    .dataframe thead th {\n",
       "        text-align: right;\n",
       "    }\n",
       "</style>\n",
       "<table border=\"1\" class=\"dataframe\">\n",
       "  <thead>\n",
       "    <tr style=\"text-align: right;\">\n",
       "      <th></th>\n",
       "      <th>time</th>\n",
       "      <th>value</th>\n",
       "      <th>month</th>\n",
       "    </tr>\n",
       "  </thead>\n",
       "  <tbody>\n",
       "    <tr>\n",
       "      <th>235</th>\n",
       "      <td>1939.583333</td>\n",
       "      <td>61.8</td>\n",
       "      <td>08</td>\n",
       "    </tr>\n",
       "    <tr>\n",
       "      <th>236</th>\n",
       "      <td>1939.666667</td>\n",
       "      <td>58.2</td>\n",
       "      <td>09</td>\n",
       "    </tr>\n",
       "    <tr>\n",
       "      <th>237</th>\n",
       "      <td>1939.750000</td>\n",
       "      <td>46.7</td>\n",
       "      <td>10</td>\n",
       "    </tr>\n",
       "    <tr>\n",
       "      <th>238</th>\n",
       "      <td>1939.833333</td>\n",
       "      <td>46.6</td>\n",
       "      <td>11</td>\n",
       "    </tr>\n",
       "    <tr>\n",
       "      <th>239</th>\n",
       "      <td>1939.916667</td>\n",
       "      <td>37.8</td>\n",
       "      <td>12</td>\n",
       "    </tr>\n",
       "  </tbody>\n",
       "</table>\n",
       "</div>"
      ],
      "text/plain": [
       "            time  value month\n",
       "235  1939.583333   61.8    08\n",
       "236  1939.666667   58.2    09\n",
       "237  1939.750000   46.7    10\n",
       "238  1939.833333   46.6    11\n",
       "239  1939.916667   37.8    12"
      ]
     },
     "execution_count": 23,
     "metadata": {},
     "output_type": "execute_result"
    }
   ],
   "source": [
    "df_nottem.tail()"
   ]
  },
  {
   "cell_type": "markdown",
   "id": "8764c96f",
   "metadata": {},
   "source": [
    "### 7-5. 월과 기온의 관계 boxplot\n",
    "- 월별 평균기온을 시각화\n",
    "- 독립변수에서 직접 plot을 그리는 경우 크기 조정\n",
    "    - df_nottem.boxplot(\"value\", \"month\", figsize=(8, 6))\n",
    "    - plt.tight_layout()"
   ]
  },
  {
   "cell_type": "code",
   "execution_count": 26,
   "id": "8f8afd33",
   "metadata": {},
   "outputs": [
    {
     "data": {
      "text/plain": [
       "<Figure size 864x864 with 0 Axes>"
      ]
     },
     "metadata": {},
     "output_type": "display_data"
    },
    {
     "data": {
      "image/png": "[encoded data removed]",
      "text/plain": [
       "<Figure size 432x288 with 1 Axes>"
      ]
     },
     "metadata": {
      "image/png": {
       "height": 285,
       "width": 424
      },
      "needs_background": "light"
     },
     "output_type": "display_data"
    }
   ],
   "source": [
    "%matplotlib inline\n",
    "\n",
    "plt.figure(figsize=(12, 12))\n",
    "df_nottem.boxplot(\"value\", \"month\")\n",
    "plt.tight_layout()\n",
    "plt.show() ; "
   ]
  },
  {
   "cell_type": "code",
   "execution_count": 27,
   "id": "bb54478e",
   "metadata": {},
   "outputs": [
    {
     "name": "stdout",
     "output_type": "stream",
     "text": [
      "<class 'pandas.core.frame.DataFrame'>\n",
      "RangeIndex: 240 entries, 0 to 239\n",
      "Data columns (total 3 columns):\n",
      " #   Column  Non-Null Count  Dtype   \n",
      "---  ------  --------------  -----   \n",
      " 0   time    240 non-null    float64 \n",
      " 1   value   240 non-null    float64 \n",
      " 2   month   240 non-null    category\n",
      "dtypes: category(1), float64(2)\n",
      "memory usage: 4.5 KB\n"
     ]
    }
   ],
   "source": [
    "df_nottem.info()"
   ]
  },
  {
   "cell_type": "code",
   "execution_count": 32,
   "id": "8e1890f0",
   "metadata": {},
   "outputs": [
    {
     "name": "stdout",
     "output_type": "stream",
     "text": [
      "mean :  39.190000000000005\n",
      "std :  2.702221308479378\n",
      "median :  39.55\n"
     ]
    }
   ],
   "source": [
    "print(\"mean : \", df_nottem.loc[df_nottem[\"month\"]==\"02\"][\"value\"].mean())\n",
    "print(\"std : \", df_nottem.loc[df_nottem[\"month\"]==\"02\"][\"value\"].std())\n",
    "print(\"median : \", df_nottem.loc[df_nottem[\"month\"]==\"02\"][\"value\"].median())"
   ]
  },
  {
   "cell_type": "code",
   "execution_count": 33,
   "id": "c9950ebb",
   "metadata": {
    "scrolled": true
   },
   "outputs": [
    {
     "data": {
      "text/html": [
       "<div>\n",
       "<style scoped>\n",
       "    .dataframe tbody tr th:only-of-type {\n",
       "        vertical-align: middle;\n",
       "    }\n",
       "\n",
       "    .dataframe tbody tr th {\n",
       "        vertical-align: top;\n",
       "    }\n",
       "\n",
       "    .dataframe thead th {\n",
       "        text-align: right;\n",
       "    }\n",
       "</style>\n",
       "<table border=\"1\" class=\"dataframe\">\n",
       "  <thead>\n",
       "    <tr style=\"text-align: right;\">\n",
       "      <th></th>\n",
       "      <th>time</th>\n",
       "      <th>value</th>\n",
       "      <th>month</th>\n",
       "    </tr>\n",
       "  </thead>\n",
       "  <tbody>\n",
       "    <tr>\n",
       "      <th>1</th>\n",
       "      <td>1920.083333</td>\n",
       "      <td>40.8</td>\n",
       "      <td>02</td>\n",
       "    </tr>\n",
       "    <tr>\n",
       "      <th>13</th>\n",
       "      <td>1921.083333</td>\n",
       "      <td>39.8</td>\n",
       "      <td>02</td>\n",
       "    </tr>\n",
       "    <tr>\n",
       "      <th>25</th>\n",
       "      <td>1922.083333</td>\n",
       "      <td>38.7</td>\n",
       "      <td>02</td>\n",
       "    </tr>\n",
       "    <tr>\n",
       "      <th>37</th>\n",
       "      <td>1923.083333</td>\n",
       "      <td>40.1</td>\n",
       "      <td>02</td>\n",
       "    </tr>\n",
       "    <tr>\n",
       "      <th>49</th>\n",
       "      <td>1924.083333</td>\n",
       "      <td>37.5</td>\n",
       "      <td>02</td>\n",
       "    </tr>\n",
       "    <tr>\n",
       "      <th>61</th>\n",
       "      <td>1925.083333</td>\n",
       "      <td>40.5</td>\n",
       "      <td>02</td>\n",
       "    </tr>\n",
       "    <tr>\n",
       "      <th>73</th>\n",
       "      <td>1926.083333</td>\n",
       "      <td>43.4</td>\n",
       "      <td>02</td>\n",
       "    </tr>\n",
       "    <tr>\n",
       "      <th>85</th>\n",
       "      <td>1927.083333</td>\n",
       "      <td>38.5</td>\n",
       "      <td>02</td>\n",
       "    </tr>\n",
       "    <tr>\n",
       "      <th>97</th>\n",
       "      <td>1928.083333</td>\n",
       "      <td>41.1</td>\n",
       "      <td>02</td>\n",
       "    </tr>\n",
       "    <tr>\n",
       "      <th>109</th>\n",
       "      <td>1929.083333</td>\n",
       "      <td>31.3</td>\n",
       "      <td>02</td>\n",
       "    </tr>\n",
       "    <tr>\n",
       "      <th>121</th>\n",
       "      <td>1930.083333</td>\n",
       "      <td>37.1</td>\n",
       "      <td>02</td>\n",
       "    </tr>\n",
       "    <tr>\n",
       "      <th>133</th>\n",
       "      <td>1931.083333</td>\n",
       "      <td>38.4</td>\n",
       "      <td>02</td>\n",
       "    </tr>\n",
       "    <tr>\n",
       "      <th>145</th>\n",
       "      <td>1932.083333</td>\n",
       "      <td>38.4</td>\n",
       "      <td>02</td>\n",
       "    </tr>\n",
       "    <tr>\n",
       "      <th>157</th>\n",
       "      <td>1933.083333</td>\n",
       "      <td>39.3</td>\n",
       "      <td>02</td>\n",
       "    </tr>\n",
       "    <tr>\n",
       "      <th>169</th>\n",
       "      <td>1934.083333</td>\n",
       "      <td>38.2</td>\n",
       "      <td>02</td>\n",
       "    </tr>\n",
       "    <tr>\n",
       "      <th>181</th>\n",
       "      <td>1935.083333</td>\n",
       "      <td>42.6</td>\n",
       "      <td>02</td>\n",
       "    </tr>\n",
       "    <tr>\n",
       "      <th>193</th>\n",
       "      <td>1936.083333</td>\n",
       "      <td>35.0</td>\n",
       "      <td>02</td>\n",
       "    </tr>\n",
       "    <tr>\n",
       "      <th>205</th>\n",
       "      <td>1937.083333</td>\n",
       "      <td>41.0</td>\n",
       "      <td>02</td>\n",
       "    </tr>\n",
       "    <tr>\n",
       "      <th>217</th>\n",
       "      <td>1938.083333</td>\n",
       "      <td>41.2</td>\n",
       "      <td>02</td>\n",
       "    </tr>\n",
       "    <tr>\n",
       "      <th>229</th>\n",
       "      <td>1939.083333</td>\n",
       "      <td>40.9</td>\n",
       "      <td>02</td>\n",
       "    </tr>\n",
       "  </tbody>\n",
       "</table>\n",
       "</div>"
      ],
      "text/plain": [
       "            time  value month\n",
       "1    1920.083333   40.8    02\n",
       "13   1921.083333   39.8    02\n",
       "25   1922.083333   38.7    02\n",
       "37   1923.083333   40.1    02\n",
       "49   1924.083333   37.5    02\n",
       "61   1925.083333   40.5    02\n",
       "73   1926.083333   43.4    02\n",
       "85   1927.083333   38.5    02\n",
       "97   1928.083333   41.1    02\n",
       "109  1929.083333   31.3    02\n",
       "121  1930.083333   37.1    02\n",
       "133  1931.083333   38.4    02\n",
       "145  1932.083333   38.4    02\n",
       "157  1933.083333   39.3    02\n",
       "169  1934.083333   38.2    02\n",
       "181  1935.083333   42.6    02\n",
       "193  1936.083333   35.0    02\n",
       "205  1937.083333   41.0    02\n",
       "217  1938.083333   41.2    02\n",
       "229  1939.083333   40.9    02"
      ]
     },
     "execution_count": 33,
     "metadata": {},
     "output_type": "execute_result"
    }
   ],
   "source": [
    "df_nottem[df_nottem[\"month\"]==\"02\"]"
   ]
  },
  {
   "cell_type": "markdown",
   "id": "2cfcdb29",
   "metadata": {},
   "source": [
    "### 7-6. 범주형 데이터의 선형회귀 분석\n",
    "- OLS 클래스를 사용\n",
    "- 포뮬러 식에 C(컬럼명) 입력 : 범주형 독립변수라는 의미\n",
    "- 풀랭크식 : 상수항 결합을 하지 않는다. +0 입력\n",
    "- 축소랭크식 : 상수항 결합을 한다. +0 입력 안함.\n",
    "    - 첫번째 독립변수를 기준값하여 각월의 평균기온이 1월보다 얼마나 높은지를 나타내는 값이 회귀모형의 계수가 된다."
   ]
  },
  {
   "cell_type": "markdown",
   "id": "76bf3d76",
   "metadata": {},
   "source": [
    "#### 풀랭크식 더미변수화"
   ]
  },
  {
   "cell_type": "code",
   "execution_count": 34,
   "id": "fa115299",
   "metadata": {},
   "outputs": [
    {
     "name": "stdout",
     "output_type": "stream",
     "text": [
      "                            OLS Regression Results                            \n",
      "==============================================================================\n",
      "Dep. Variable:                  value   R-squared:                       0.930\n",
      "Model:                            OLS   Adj. R-squared:                  0.927\n",
      "Method:                 Least Squares   F-statistic:                     277.3\n",
      "Date:                Tue, 21 Jun 2022   Prob (F-statistic):          2.96e-125\n",
      "Time:                        15:56:55   Log-Likelihood:                -535.82\n",
      "No. Observations:                 240   AIC:                             1096.\n",
      "Df Residuals:                     228   BIC:                             1137.\n",
      "Df Model:                          11                                         \n",
      "Covariance Type:            nonrobust                                         \n",
      "================================================================================\n",
      "                   coef    std err          t      P>|t|      [0.025      0.975]\n",
      "--------------------------------------------------------------------------------\n",
      "C(month)[01]    39.6950      0.518     76.691      0.000      38.675      40.715\n",
      "C(month)[02]    39.1900      0.518     75.716      0.000      38.170      40.210\n",
      "C(month)[03]    42.1950      0.518     81.521      0.000      41.175      43.215\n",
      "C(month)[04]    46.2900      0.518     89.433      0.000      45.270      47.310\n",
      "C(month)[05]    52.5600      0.518    101.547      0.000      51.540      53.580\n",
      "C(month)[06]    58.0400      0.518    112.134      0.000      57.020      59.060\n",
      "C(month)[07]    61.9000      0.518    119.592      0.000      60.880      62.920\n",
      "C(month)[08]    60.5200      0.518    116.926      0.000      59.500      61.540\n",
      "C(month)[09]    56.4800      0.518    109.120      0.000      55.460      57.500\n",
      "C(month)[10]    49.4950      0.518     95.625      0.000      48.475      50.515\n",
      "C(month)[11]    42.5800      0.518     82.265      0.000      41.560      43.600\n",
      "C(month)[12]    39.5300      0.518     76.373      0.000      38.510      40.550\n",
      "==============================================================================\n",
      "Omnibus:                        5.430   Durbin-Watson:                   1.529\n",
      "Prob(Omnibus):                  0.066   Jarque-Bera (JB):                5.299\n",
      "Skew:                          -0.281   Prob(JB):                       0.0707\n",
      "Kurtosis:                       3.463   Cond. No.                         1.00\n",
      "==============================================================================\n",
      "\n",
      "Notes:\n",
      "[1] Standard Errors assume that the covariance matrix of the errors is correctly specified.\n"
     ]
    }
   ],
   "source": [
    "model = sm.OLS.from_formula(\"value ~ C(month) + 0\", data=df_nottem)\n",
    "result = model.fit()\n",
    "\n",
    "print(result.summary())"
   ]
  },
  {
   "cell_type": "markdown",
   "id": "52c5e097",
   "metadata": {},
   "source": [
    "#### 축소랭크식 더미변수화\n",
    "- 1월이 intercept가 된다."
   ]
  },
  {
   "cell_type": "code",
   "execution_count": 35,
   "id": "1af6619a",
   "metadata": {},
   "outputs": [
    {
     "name": "stdout",
     "output_type": "stream",
     "text": [
      "                            OLS Regression Results                            \n",
      "==============================================================================\n",
      "Dep. Variable:                  value   R-squared:                       0.930\n",
      "Model:                            OLS   Adj. R-squared:                  0.927\n",
      "Method:                 Least Squares   F-statistic:                     277.3\n",
      "Date:                Tue, 21 Jun 2022   Prob (F-statistic):          2.96e-125\n",
      "Time:                        16:00:05   Log-Likelihood:                -535.82\n",
      "No. Observations:                 240   AIC:                             1096.\n",
      "Df Residuals:                     228   BIC:                             1137.\n",
      "Df Model:                          11                                         \n",
      "Covariance Type:            nonrobust                                         \n",
      "==================================================================================\n",
      "                     coef    std err          t      P>|t|      [0.025      0.975]\n",
      "----------------------------------------------------------------------------------\n",
      "Intercept         39.6950      0.518     76.691      0.000      38.675      40.715\n",
      "C(month)[T.02]    -0.5050      0.732     -0.690      0.491      -1.947       0.937\n",
      "C(month)[T.03]     2.5000      0.732      3.415      0.001       1.058       3.942\n",
      "C(month)[T.04]     6.5950      0.732      9.010      0.000       5.153       8.037\n",
      "C(month)[T.05]    12.8650      0.732     17.575      0.000      11.423      14.307\n",
      "C(month)[T.06]    18.3450      0.732     25.062      0.000      16.903      19.787\n",
      "C(month)[T.07]    22.2050      0.732     30.335      0.000      20.763      23.647\n",
      "C(month)[T.08]    20.8250      0.732     28.450      0.000      19.383      22.267\n",
      "C(month)[T.09]    16.7850      0.732     22.931      0.000      15.343      18.227\n",
      "C(month)[T.10]     9.8000      0.732     13.388      0.000       8.358      11.242\n",
      "C(month)[T.11]     2.8850      0.732      3.941      0.000       1.443       4.327\n",
      "C(month)[T.12]    -0.1650      0.732     -0.225      0.822      -1.607       1.277\n",
      "==============================================================================\n",
      "Omnibus:                        5.430   Durbin-Watson:                   1.529\n",
      "Prob(Omnibus):                  0.066   Jarque-Bera (JB):                5.299\n",
      "Skew:                          -0.281   Prob(JB):                       0.0707\n",
      "Kurtosis:                       3.463   Cond. No.                         12.9\n",
      "==============================================================================\n",
      "\n",
      "Notes:\n",
      "[1] Standard Errors assume that the covariance matrix of the errors is correctly specified.\n"
     ]
    }
   ],
   "source": [
    "model2 = sm.OLS.from_formula(\"value ~ C(month)\", data=df_nottem)\n",
    "result2 = model2.fit()\n",
    "\n",
    "print(result2.summary())"
   ]
  },
  {
   "cell_type": "markdown",
   "id": "314a15a2",
   "metadata": {},
   "source": [
    "## 8. 보스턴 집값 데이터의 범주형 변수\n",
    "- 범주형 변수 : CHAS 데이터 \n",
    "\n",
    "### 8-1. 축소 랭크 방식\n",
    "- 보스턴 집값 데이터가 상수항 결합이 되어있다면 축소 랭크 방식으로 더미변수 변환이 된 것 과 같다.\n",
    "- CHAS=1인 경우와 CHAS=0인 경우의 두가지 모형을 각각 회귀분석하는 경우로 볼 수 있다.\n",
    "    - CHAS=1 : $y=(w_0 + w_{CHAS}) + w_{CRIM}CRIM + w_{ZN}ZN + \\cdots$\n",
    "    - CHAS=0 : $y=w_0 + w_{CRIM}CRIM + w_{ZN}ZN + \\cdots$    "
   ]
  },
  {
   "cell_type": "code",
   "execution_count": 36,
   "id": "1551cd68",
   "metadata": {},
   "outputs": [],
   "source": [
    "from sklearn.datasets import load_boston"
   ]
  },
  {
   "cell_type": "code",
   "execution_count": 38,
   "id": "9b5205c2",
   "metadata": {},
   "outputs": [
    {
     "data": {
      "text/html": [
       "<div>\n",
       "<style scoped>\n",
       "    .dataframe tbody tr th:only-of-type {\n",
       "        vertical-align: middle;\n",
       "    }\n",
       "\n",
       "    .dataframe tbody tr th {\n",
       "        vertical-align: top;\n",
       "    }\n",
       "\n",
       "    .dataframe thead th {\n",
       "        text-align: right;\n",
       "    }\n",
       "</style>\n",
       "<table border=\"1\" class=\"dataframe\">\n",
       "  <thead>\n",
       "    <tr style=\"text-align: right;\">\n",
       "      <th></th>\n",
       "      <th>CRIM</th>\n",
       "      <th>ZN</th>\n",
       "      <th>INDUS</th>\n",
       "      <th>CHAS</th>\n",
       "      <th>NOX</th>\n",
       "      <th>RM</th>\n",
       "      <th>AGE</th>\n",
       "      <th>DIS</th>\n",
       "      <th>RAD</th>\n",
       "      <th>TAX</th>\n",
       "      <th>PTRATIO</th>\n",
       "      <th>B</th>\n",
       "      <th>LSTAT</th>\n",
       "      <th>MEDV</th>\n",
       "    </tr>\n",
       "  </thead>\n",
       "  <tbody>\n",
       "    <tr>\n",
       "      <th>0</th>\n",
       "      <td>0.00632</td>\n",
       "      <td>18.0</td>\n",
       "      <td>2.31</td>\n",
       "      <td>0.0</td>\n",
       "      <td>0.538</td>\n",
       "      <td>6.575</td>\n",
       "      <td>65.2</td>\n",
       "      <td>4.0900</td>\n",
       "      <td>1.0</td>\n",
       "      <td>296.0</td>\n",
       "      <td>15.3</td>\n",
       "      <td>396.90</td>\n",
       "      <td>4.98</td>\n",
       "      <td>24.0</td>\n",
       "    </tr>\n",
       "    <tr>\n",
       "      <th>1</th>\n",
       "      <td>0.02731</td>\n",
       "      <td>0.0</td>\n",
       "      <td>7.07</td>\n",
       "      <td>0.0</td>\n",
       "      <td>0.469</td>\n",
       "      <td>6.421</td>\n",
       "      <td>78.9</td>\n",
       "      <td>4.9671</td>\n",
       "      <td>2.0</td>\n",
       "      <td>242.0</td>\n",
       "      <td>17.8</td>\n",
       "      <td>396.90</td>\n",
       "      <td>9.14</td>\n",
       "      <td>21.6</td>\n",
       "    </tr>\n",
       "    <tr>\n",
       "      <th>2</th>\n",
       "      <td>0.02729</td>\n",
       "      <td>0.0</td>\n",
       "      <td>7.07</td>\n",
       "      <td>0.0</td>\n",
       "      <td>0.469</td>\n",
       "      <td>7.185</td>\n",
       "      <td>61.1</td>\n",
       "      <td>4.9671</td>\n",
       "      <td>2.0</td>\n",
       "      <td>242.0</td>\n",
       "      <td>17.8</td>\n",
       "      <td>392.83</td>\n",
       "      <td>4.03</td>\n",
       "      <td>34.7</td>\n",
       "    </tr>\n",
       "    <tr>\n",
       "      <th>3</th>\n",
       "      <td>0.03237</td>\n",
       "      <td>0.0</td>\n",
       "      <td>2.18</td>\n",
       "      <td>0.0</td>\n",
       "      <td>0.458</td>\n",
       "      <td>6.998</td>\n",
       "      <td>45.8</td>\n",
       "      <td>6.0622</td>\n",
       "      <td>3.0</td>\n",
       "      <td>222.0</td>\n",
       "      <td>18.7</td>\n",
       "      <td>394.63</td>\n",
       "      <td>2.94</td>\n",
       "      <td>33.4</td>\n",
       "    </tr>\n",
       "    <tr>\n",
       "      <th>4</th>\n",
       "      <td>0.06905</td>\n",
       "      <td>0.0</td>\n",
       "      <td>2.18</td>\n",
       "      <td>0.0</td>\n",
       "      <td>0.458</td>\n",
       "      <td>7.147</td>\n",
       "      <td>54.2</td>\n",
       "      <td>6.0622</td>\n",
       "      <td>3.0</td>\n",
       "      <td>222.0</td>\n",
       "      <td>18.7</td>\n",
       "      <td>396.90</td>\n",
       "      <td>5.33</td>\n",
       "      <td>36.2</td>\n",
       "    </tr>\n",
       "  </tbody>\n",
       "</table>\n",
       "</div>"
      ],
      "text/plain": [
       "      CRIM    ZN  INDUS  CHAS    NOX     RM   AGE     DIS  RAD    TAX  \\\n",
       "0  0.00632  18.0   2.31   0.0  0.538  6.575  65.2  4.0900  1.0  296.0   \n",
       "1  0.02731   0.0   7.07   0.0  0.469  6.421  78.9  4.9671  2.0  242.0   \n",
       "2  0.02729   0.0   7.07   0.0  0.469  7.185  61.1  4.9671  2.0  242.0   \n",
       "3  0.03237   0.0   2.18   0.0  0.458  6.998  45.8  6.0622  3.0  222.0   \n",
       "4  0.06905   0.0   2.18   0.0  0.458  7.147  54.2  6.0622  3.0  222.0   \n",
       "\n",
       "   PTRATIO       B  LSTAT  MEDV  \n",
       "0     15.3  396.90   4.98  24.0  \n",
       "1     17.8  396.90   9.14  21.6  \n",
       "2     17.8  392.83   4.03  34.7  \n",
       "3     18.7  394.63   2.94  33.4  \n",
       "4     18.7  396.90   5.33  36.2  "
      ]
     },
     "execution_count": 38,
     "metadata": {},
     "output_type": "execute_result"
    }
   ],
   "source": [
    "boston = load_boston()\n",
    "\n",
    "dfX = pd.DataFrame(boston.data, columns=boston.feature_names)\n",
    "dfy = pd.DataFrame(boston.target, columns=[\"MEDV\"])\n",
    "df_boston = pd.concat([dfX, dfy], axis=1)\n",
    "\n",
    "df_boston.head()"
   ]
  },
  {
   "cell_type": "code",
   "execution_count": 39,
   "id": "dcd35832",
   "metadata": {},
   "outputs": [
    {
     "name": "stdout",
     "output_type": "stream",
     "text": [
      "                            OLS Regression Results                            \n",
      "==============================================================================\n",
      "Dep. Variable:                   MEDV   R-squared:                       0.741\n",
      "Model:                            OLS   Adj. R-squared:                  0.734\n",
      "Method:                 Least Squares   F-statistic:                     108.1\n",
      "Date:                Tue, 21 Jun 2022   Prob (F-statistic):          6.72e-135\n",
      "Time:                        16:33:24   Log-Likelihood:                -1498.8\n",
      "No. Observations:                 506   AIC:                             3026.\n",
      "Df Residuals:                     492   BIC:                             3085.\n",
      "Df Model:                          13                                         \n",
      "Covariance Type:            nonrobust                                         \n",
      "==============================================================================\n",
      "                 coef    std err          t      P>|t|      [0.025      0.975]\n",
      "------------------------------------------------------------------------------\n",
      "Intercept     36.4595      5.103      7.144      0.000      26.432      46.487\n",
      "CRIM          -0.1080      0.033     -3.287      0.001      -0.173      -0.043\n",
      "ZN             0.0464      0.014      3.382      0.001       0.019       0.073\n",
      "INDUS          0.0206      0.061      0.334      0.738      -0.100       0.141\n",
      "CHAS           2.6867      0.862      3.118      0.002       0.994       4.380\n",
      "NOX          -17.7666      3.820     -4.651      0.000     -25.272     -10.262\n",
      "RM             3.8099      0.418      9.116      0.000       2.989       4.631\n",
      "AGE            0.0007      0.013      0.052      0.958      -0.025       0.027\n",
      "DIS           -1.4756      0.199     -7.398      0.000      -1.867      -1.084\n",
      "RAD            0.3060      0.066      4.613      0.000       0.176       0.436\n",
      "TAX           -0.0123      0.004     -3.280      0.001      -0.020      -0.005\n",
      "PTRATIO       -0.9527      0.131     -7.283      0.000      -1.210      -0.696\n",
      "B              0.0093      0.003      3.467      0.001       0.004       0.015\n",
      "LSTAT         -0.5248      0.051    -10.347      0.000      -0.624      -0.425\n",
      "==============================================================================\n",
      "Omnibus:                      178.041   Durbin-Watson:                   1.078\n",
      "Prob(Omnibus):                  0.000   Jarque-Bera (JB):              783.126\n",
      "Skew:                           1.521   Prob(JB):                    8.84e-171\n",
      "Kurtosis:                       8.281   Cond. No.                     1.51e+04\n",
      "==============================================================================\n",
      "\n",
      "Notes:\n",
      "[1] Standard Errors assume that the covariance matrix of the errors is correctly specified.\n",
      "[2] The condition number is large, 1.51e+04. This might indicate that there are\n",
      "strong multicollinearity or other numerical problems.\n"
     ]
    }
   ],
   "source": [
    "model3 = sm.OLS.from_formula(\"MEDV ~ \" + \"+\".join(boston.feature_names), df_boston)\n",
    "result3 = model3.fit()\n",
    "\n",
    "print(result3.summary())"
   ]
  },
  {
   "cell_type": "markdown",
   "id": "a199187d",
   "metadata": {},
   "source": [
    "### 8-2. 풀랭크 방식\n",
    "- 상수항 결합이 제외 된 상태 : formula 식에서 +0 추가 "
   ]
  },
  {
   "cell_type": "code",
   "execution_count": 41,
   "id": "ca2da239",
   "metadata": {},
   "outputs": [
    {
     "name": "stdout",
     "output_type": "stream",
     "text": [
      "                            OLS Regression Results                            \n",
      "==============================================================================\n",
      "Dep. Variable:                   MEDV   R-squared:                       0.741\n",
      "Model:                            OLS   Adj. R-squared:                  0.734\n",
      "Method:                 Least Squares   F-statistic:                     108.1\n",
      "Date:                Tue, 21 Jun 2022   Prob (F-statistic):          6.72e-135\n",
      "Time:                        16:39:40   Log-Likelihood:                -1498.8\n",
      "No. Observations:                 506   AIC:                             3026.\n",
      "Df Residuals:                     492   BIC:                             3085.\n",
      "Df Model:                          13                                         \n",
      "Covariance Type:            nonrobust                                         \n",
      "================================================================================\n",
      "                   coef    std err          t      P>|t|      [0.025      0.975]\n",
      "--------------------------------------------------------------------------------\n",
      "C(CHAS)[0.0]    36.4595      5.103      7.144      0.000      26.432      46.487\n",
      "C(CHAS)[1.0]    39.1462      5.153      7.597      0.000      29.023      49.270\n",
      "CRIM            -0.1080      0.033     -3.287      0.001      -0.173      -0.043\n",
      "ZN               0.0464      0.014      3.382      0.001       0.019       0.073\n",
      "INDUS            0.0206      0.061      0.334      0.738      -0.100       0.141\n",
      "NOX            -17.7666      3.820     -4.651      0.000     -25.272     -10.262\n",
      "RM               3.8099      0.418      9.116      0.000       2.989       4.631\n",
      "AGE              0.0007      0.013      0.052      0.958      -0.025       0.027\n",
      "DIS             -1.4756      0.199     -7.398      0.000      -1.867      -1.084\n",
      "RAD              0.3060      0.066      4.613      0.000       0.176       0.436\n",
      "TAX             -0.0123      0.004     -3.280      0.001      -0.020      -0.005\n",
      "PTRATIO         -0.9527      0.131     -7.283      0.000      -1.210      -0.696\n",
      "B                0.0093      0.003      3.467      0.001       0.004       0.015\n",
      "LSTAT           -0.5248      0.051    -10.347      0.000      -0.624      -0.425\n",
      "==============================================================================\n",
      "Omnibus:                      178.041   Durbin-Watson:                   1.078\n",
      "Prob(Omnibus):                  0.000   Jarque-Bera (JB):              783.126\n",
      "Skew:                           1.521   Prob(JB):                    8.84e-171\n",
      "Kurtosis:                       8.281   Cond. No.                     2.01e+04\n",
      "==============================================================================\n",
      "\n",
      "Notes:\n",
      "[1] Standard Errors assume that the covariance matrix of the errors is correctly specified.\n",
      "[2] The condition number is large, 2.01e+04. This might indicate that there are\n",
      "strong multicollinearity or other numerical problems.\n"
     ]
    }
   ],
   "source": [
    "feature_names = list(boston.feature_names)\n",
    "feature_names.remove(\"CHAS\")\n",
    "feature_names = [name for name in feature_names] + [\"C(CHAS)\"]\n",
    "\n",
    "model4 = sm.OLS.from_formula(\"MEDV ~ 0 + \" + \"+\".join(feature_names), df_boston)\n",
    "result4 = model4.fit()\n",
    "\n",
    "print(result4.summary())"
   ]
  },
  {
   "cell_type": "code",
   "execution_count": null,
   "id": "a57c9582",
   "metadata": {},
   "outputs": [],
   "source": []
  }
 ],
 "metadata": {
  "kernelspec": {
   "display_name": "Python 3 (ipykernel)",
   "language": "python",
   "name": "python3"
  },
  "language_info": {
   "codemirror_mode": {
    "name": "ipython",
    "version": 3
   },
   "file_extension": ".py",
   "mimetype": "text/x-python",
   "name": "python",
   "nbconvert_exporter": "python",
   "pygments_lexer": "ipython3",
   "version": "3.7.11"
  }
 },
 "nbformat": 4,
 "nbformat_minor": 5
}
