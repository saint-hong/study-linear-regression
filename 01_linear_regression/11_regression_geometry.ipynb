{
 "cells": [
  {
   "cell_type": "markdown",
   "id": "7c6bf02c",
   "metadata": {},
   "source": [
    "# 회귀분석과 기하학\n",
    "- 선형회귀분석을 기하학적 관점에서 접근하는 방법\n",
    "- 특징행렬 X의 모든 열이 선형독립일 때 c1-cM을 기저벡터로하는 벡터공간을 정의하고 선형회귀모델의 각각의 항들이 이 벡터공간과 어떤 관계를 갖는지 알아본다.\n",
    "- 종속변수 y를 예측값 hat{y}와 잔차로 변형해주는 변환행렬을 정의한다."
   ]
  },
  {
   "cell_type": "markdown",
   "id": "d274075c",
   "metadata": {},
   "source": [
    "## 1. 회귀 벡터공간\n",
    "- 선형회귀분석의 결과인 가중치의 예측값은 특징행렬(독립변수 행렬) X의 열벡터와 가중치의 가중합으로 나타낼 수 있다.\n",
    "    - 행렬 X는 독립변수 xi 열벡터들로 이루어져 있다.\n",
    "\n",
    "$\\begin{aligned}\n",
    "\\hat{y} \n",
    "&= Xw \\\\\n",
    "&= [c_1 \\; \\cdots \\; c_M] \\begin{bmatrix} w_1 \\\\ \\vdots \\\\ w_M \\end{bmatrix}  \\\\\n",
    "&= w_1c_1 + \\cdots + w_Mc_M  \\\\\n",
    "\\end{aligned}$\n",
    "\n",
    "- 벡터공간 정의 \n",
    "    - 특징행렬 X의 모든 열이 선형독립일때 벡터공간(vector space)는 X의 열벡터 c1,c2,cM을 기저벡터로 한다.\n",
    "- 예측값 hat{y}\n",
    "    - 예측값 hat{y}는 이 벡터공간 위에 존재한다.\n",
    "    - 잔차 벡터 e를 가장 작게하기 위한 최적의 예측값 hat{y}는 종속변수 y와 가장 가까운 벡터이다.\n",
    "- 잔차벡터 e\n",
    "    - 잔차벡터 e는 종속변수 y와 예측값 hat{y}의 차이이다.\n",
    "    - 잔차벡터는 벡터공간과 직교한다.\n",
    "- 종속변수, 예측값, 잔차벡터의 관계\n",
    "    - 종속변수 y를 벡터공간에 투영한 벡터 : 투영벡터 : 예측값 hat{y}\n",
    "    - 종속변수 y를 벡터공간에 투영하고 남은 직교벡터 : 직교벡터 : 잔차벡터 e"
   ]
  },
  {
   "cell_type": "markdown",
   "id": "09566385",
   "metadata": {},
   "source": [
    "## 2. 잔차행렬과 투영행렬\n",
    "- `변환행렬 transforma matrix` : 벡터 a를 다른 벡터 b로 변환해주는 행렬 T\n",
    "    - $b = Ta$\n",
    "- 선형회귀모델의 각 항들을 변환행렬의 곱으로 나타낼 수 있다.\n",
    "    - 잔차벡터 e\n",
    "        - $e = y - \\hat{y} = y - Xw = My$\n",
    "    - 예측값 hat{y}\n",
    "        - $\\hat{y} = y - e = Hy$\n",
    "- `잔차행렬 residual matrix` : M\n",
    "    - $M = I - X(X^TX)^{-1}X^T = I - H$\n",
    "- `hat 행렬 hat matrix, 투영행렬 projection matrix, 영향도 행렬 influence matrix` : H\n",
    "    - $H = X(X^TX)^{-1}X^T$\n",
    "    - X와 OLS(최소자승법)으로 구한 가중치 w에서 y를 제외한 부분을 곱한 형태\n",
    "\n",
    "## 3. 잔차행렬과 투영행렬의 성질\n",
    "- M과 H 그대로 식에 대입하여 풀면 바로 증명이 가능하다. 특히 H의 앞뒤가 전치연산 형태라서 연속으로 곱해지거나 전체를 전치연산을 하거나 역행렬 부분과 곱해지면 항등행렬로 소거되는 형태이다.\n",
    "- 1) `대칭행렬이다.`\n",
    "    - $M^T = M, \\;\\; H^T = H$\n",
    "- 2) `멱등행렬이다. (자기 자신을 여러번 곱해도 자기 자신인 행렬)`\n",
    "    - $M^2 = M, \\;\\; H^2 = H$\n",
    "    - $M^2 = M^TM = M$\n",
    "- 3) `M과 H는 직교한다.`\n",
    "    - $MH = HM = 0$\n",
    "- 4) `M과 X는 직교한다.`\n",
    "    - $MX = 0$\n",
    "- 5) `X에 H를 곱해도 변하지 않는다.`\n",
    "    - $HX = X$    \n",
    "    \n",
    "## 4. 제곱합의 관계\n",
    "- 잔차행렬, 투영행렬의 성질을 이용하면 종속변수, 예측값, 잔차의 관계를 제곱합의 관계로 나타낼 수 있다.\n",
    "    - **분산분석에서 사용된다.**\n",
    "\n",
    "$y = \\hat{y} + e = (H + M)y$\n",
    "\n",
    "$\\begin{aligned}\n",
    "y^Ty\n",
    "&= ((H + M)y)^T((H + M)y) \\\\\n",
    "& \\vdots \\\\\n",
    "&= \\hat{y}^Ty + e^Te\n",
    "\\end{aligned}$\n",
    "\n",
    "- 벡터공간을 중심으로 종속변수, 예측값, 잔차를 나타내면 삼각형의 형태가 되는데 제곱합의 관계는 피타고라스의 정리와 같다."
   ]
  },
  {
   "cell_type": "code",
   "execution_count": null,
   "id": "c197bab3",
   "metadata": {},
   "outputs": [],
   "source": []
  }
 ],
 "metadata": {
  "kernelspec": {
   "display_name": "Python 3 (ipykernel)",
   "language": "python",
   "name": "python3"
  },
  "language_info": {
   "codemirror_mode": {
    "name": "ipython",
    "version": 3
   },
   "file_extension": ".py",
   "mimetype": "text/x-python",
   "name": "python",
   "nbconvert_exporter": "python",
   "pygments_lexer": "ipython3",
   "version": "3.7.11"
  }
 },
 "nbformat": 4,
 "nbformat_minor": 5
}
