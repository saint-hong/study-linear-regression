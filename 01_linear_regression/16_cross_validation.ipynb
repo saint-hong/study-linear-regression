{
 "cells": [
  {
   "cell_type": "markdown",
   "id": "b0f08ee7",
   "metadata": {},
   "source": [
    "# 교차검증\n",
    "- `교차검증 cross validaion`\n",
    "\n",
    "## 1. 표본 내 성능과 표본 외 성능\n",
    "- 회귀분석 모형을 만드는 목적 중 하나는 종속 변수의 값을 아직 알지 못하고 따라서 학습에 사용하지 않은 표본에 대해 종속 변수의 값을 알아내고자 하는 것\n",
    "- `표본 내 성능 in-sample testing` : 학습용 데이터 집합(training data set)의 종속 변수값을 얼마나 잘 예측하였는지 나타내는 성능\n",
    "- `표본 외 성능 out-of-sample testing, 교차검증 cross validation` : 학습에 쓰이지 않은 데이터 집합의 종속 변수값을 얼마나 잘 예측하였는지 나타내는 성능\n",
    "- **교차검증을 통해서 과최적화가 발생했는지 탐지할 수 있다.**\n",
    "\n",
    "## 2. 과최적화\n",
    "- `과최적화 overfitting` : 일반적으로 표본 내 성능과 표본 외 성능이 비슷하지만, 표본 내 성능은 좋으나 표본 외 성능이 상대적으로 많이 떨어지는 경우\n",
    "    - 분석모형을 데이터에 과도하게 최적화 하는 것\n",
    "    - 발생 : 독립변수의 수보다 모수의 수가 많은 경우, 독립변수간의 상관관계가 독립이 아닌 경우, 다항회귀를 과도하게 한 경우\n",
    "    - 현상 : cross validaion 오차(오차가 커짐), 추정의 부정확함(모수 추정값이 크게 변함)\n",
    "- 학습용 데이터에서는 종속 변수의 값을 잘 추정하지만, 새로운 데이터(테스트 용 데이터 등)가 주어지면 전혀 예측을 못하기 때문에 예측 목적으로 쓸모없는 모형이 된다.\n",
    "    - 과최적화 발생하는 원인, 과최적화 방지를 위한 정규화(regularization)\n",
    "    \n",
    "## 3. 검증용 데이터 집합\n",
    "- 교차검증을 위한 두 종류의 데이터 집합\n",
    "    - 모형 추정 즉 학습을 위한 데이터 집합 (training data set)\n",
    "    - 성능 검증을 위한 데이터 집합 (test data set)\n",
    "- 두 데이터 모두 종속 변수값을 가지고 있어야 한다. \n",
    "    - 따라서 하나의 데이터 집합을 학습용과 검증용으로 나누어 사용한다.\n",
    "    - 학습용 데이터로 회귀분석 모형을 만들고, 검증용 데이터로 성능을 계산한다.\n",
    "- **학습/검증 데이터 분리 train-test split 방법**"
   ]
  },
  {
   "cell_type": "markdown",
   "id": "63936d68",
   "metadata": {},
   "source": [
    "## 4. statsmodels 패키지에서 교차검증\n",
    "- 보스턴 집값 데이터로 학습, 검증 데이터 분리 후 회귀분석 모형 생성\n",
    "- 데이터 분리를 직접 코드로 할 수 있다."
   ]
  },
  {
   "cell_type": "markdown",
   "id": "b29ed2a5",
   "metadata": {},
   "source": [
    "### 4-1. 데이터 임포트"
   ]
  },
  {
   "cell_type": "code",
   "execution_count": 1,
   "id": "c9a77d90",
   "metadata": {},
   "outputs": [],
   "source": [
    "from sklearn.datasets import load_boston"
   ]
  },
  {
   "cell_type": "code",
   "execution_count": 2,
   "id": "2ac15a08",
   "metadata": {},
   "outputs": [
    {
     "data": {
      "text/html": [
       "<div>\n",
       "<style scoped>\n",
       "    .dataframe tbody tr th:only-of-type {\n",
       "        vertical-align: middle;\n",
       "    }\n",
       "\n",
       "    .dataframe tbody tr th {\n",
       "        vertical-align: top;\n",
       "    }\n",
       "\n",
       "    .dataframe thead th {\n",
       "        text-align: right;\n",
       "    }\n",
       "</style>\n",
       "<table border=\"1\" class=\"dataframe\">\n",
       "  <thead>\n",
       "    <tr style=\"text-align: right;\">\n",
       "      <th></th>\n",
       "      <th>CRIM</th>\n",
       "      <th>ZN</th>\n",
       "      <th>INDUS</th>\n",
       "      <th>CHAS</th>\n",
       "      <th>NOX</th>\n",
       "      <th>RM</th>\n",
       "      <th>AGE</th>\n",
       "      <th>DIS</th>\n",
       "      <th>RAD</th>\n",
       "      <th>TAX</th>\n",
       "      <th>PTRATIO</th>\n",
       "      <th>B</th>\n",
       "      <th>LSTAT</th>\n",
       "      <th>MEDV</th>\n",
       "    </tr>\n",
       "  </thead>\n",
       "  <tbody>\n",
       "    <tr>\n",
       "      <th>0</th>\n",
       "      <td>0.00632</td>\n",
       "      <td>18.0</td>\n",
       "      <td>2.31</td>\n",
       "      <td>0.0</td>\n",
       "      <td>0.538</td>\n",
       "      <td>6.575</td>\n",
       "      <td>65.2</td>\n",
       "      <td>4.0900</td>\n",
       "      <td>1.0</td>\n",
       "      <td>296.0</td>\n",
       "      <td>15.3</td>\n",
       "      <td>396.90</td>\n",
       "      <td>4.98</td>\n",
       "      <td>24.0</td>\n",
       "    </tr>\n",
       "    <tr>\n",
       "      <th>1</th>\n",
       "      <td>0.02731</td>\n",
       "      <td>0.0</td>\n",
       "      <td>7.07</td>\n",
       "      <td>0.0</td>\n",
       "      <td>0.469</td>\n",
       "      <td>6.421</td>\n",
       "      <td>78.9</td>\n",
       "      <td>4.9671</td>\n",
       "      <td>2.0</td>\n",
       "      <td>242.0</td>\n",
       "      <td>17.8</td>\n",
       "      <td>396.90</td>\n",
       "      <td>9.14</td>\n",
       "      <td>21.6</td>\n",
       "    </tr>\n",
       "    <tr>\n",
       "      <th>2</th>\n",
       "      <td>0.02729</td>\n",
       "      <td>0.0</td>\n",
       "      <td>7.07</td>\n",
       "      <td>0.0</td>\n",
       "      <td>0.469</td>\n",
       "      <td>7.185</td>\n",
       "      <td>61.1</td>\n",
       "      <td>4.9671</td>\n",
       "      <td>2.0</td>\n",
       "      <td>242.0</td>\n",
       "      <td>17.8</td>\n",
       "      <td>392.83</td>\n",
       "      <td>4.03</td>\n",
       "      <td>34.7</td>\n",
       "    </tr>\n",
       "    <tr>\n",
       "      <th>3</th>\n",
       "      <td>0.03237</td>\n",
       "      <td>0.0</td>\n",
       "      <td>2.18</td>\n",
       "      <td>0.0</td>\n",
       "      <td>0.458</td>\n",
       "      <td>6.998</td>\n",
       "      <td>45.8</td>\n",
       "      <td>6.0622</td>\n",
       "      <td>3.0</td>\n",
       "      <td>222.0</td>\n",
       "      <td>18.7</td>\n",
       "      <td>394.63</td>\n",
       "      <td>2.94</td>\n",
       "      <td>33.4</td>\n",
       "    </tr>\n",
       "    <tr>\n",
       "      <th>4</th>\n",
       "      <td>0.06905</td>\n",
       "      <td>0.0</td>\n",
       "      <td>2.18</td>\n",
       "      <td>0.0</td>\n",
       "      <td>0.458</td>\n",
       "      <td>7.147</td>\n",
       "      <td>54.2</td>\n",
       "      <td>6.0622</td>\n",
       "      <td>3.0</td>\n",
       "      <td>222.0</td>\n",
       "      <td>18.7</td>\n",
       "      <td>396.90</td>\n",
       "      <td>5.33</td>\n",
       "      <td>36.2</td>\n",
       "    </tr>\n",
       "  </tbody>\n",
       "</table>\n",
       "</div>"
      ],
      "text/plain": [
       "      CRIM    ZN  INDUS  CHAS    NOX     RM   AGE     DIS  RAD    TAX  \\\n",
       "0  0.00632  18.0   2.31   0.0  0.538  6.575  65.2  4.0900  1.0  296.0   \n",
       "1  0.02731   0.0   7.07   0.0  0.469  6.421  78.9  4.9671  2.0  242.0   \n",
       "2  0.02729   0.0   7.07   0.0  0.469  7.185  61.1  4.9671  2.0  242.0   \n",
       "3  0.03237   0.0   2.18   0.0  0.458  6.998  45.8  6.0622  3.0  222.0   \n",
       "4  0.06905   0.0   2.18   0.0  0.458  7.147  54.2  6.0622  3.0  222.0   \n",
       "\n",
       "   PTRATIO       B  LSTAT  MEDV  \n",
       "0     15.3  396.90   4.98  24.0  \n",
       "1     17.8  396.90   9.14  21.6  \n",
       "2     17.8  392.83   4.03  34.7  \n",
       "3     18.7  394.63   2.94  33.4  \n",
       "4     18.7  396.90   5.33  36.2  "
      ]
     },
     "execution_count": 2,
     "metadata": {},
     "output_type": "execute_result"
    }
   ],
   "source": [
    "boston = load_boston()\n",
    "dfX = pd.DataFrame(boston.data, columns=boston.feature_names)\n",
    "dfy = pd.DataFrame(boston.target, columns=[\"MEDV\"])\n",
    "df = pd.concat([dfX, dfy], axis=1)\n",
    "df.head()"
   ]
  },
  {
   "cell_type": "markdown",
   "id": "5770ab8a",
   "metadata": {},
   "source": [
    "### 4-2. 학습, 검증용 데이터 분리"
   ]
  },
  {
   "cell_type": "code",
   "execution_count": 3,
   "id": "08ee4ac2",
   "metadata": {},
   "outputs": [],
   "source": [
    "N = len(df)\n",
    "ratio = 0.7\n",
    "np.random.seed(0)"
   ]
  },
  {
   "cell_type": "code",
   "execution_count": 4,
   "id": "0e7c011a",
   "metadata": {},
   "outputs": [
    {
     "data": {
      "text/plain": [
       "354.2"
      ]
     },
     "execution_count": 4,
     "metadata": {},
     "output_type": "execute_result"
    }
   ],
   "source": [
    "ratio * N"
   ]
  },
  {
   "cell_type": "markdown",
   "id": "ce048c64",
   "metadata": {},
   "source": [
    "#### 0~504의 숫자에서 354개를 무작위로 선택"
   ]
  },
  {
   "cell_type": "code",
   "execution_count": 5,
   "id": "10ef1ab6",
   "metadata": {},
   "outputs": [
    {
     "data": {
      "text/plain": [
       "array([172,  47, 117, 192, 323, 251, 195, 359,   9, 211, 277, 242, 292,\n",
       "        87,  70, 472,  88, 396, 314, 193, 486,  39,  87, 174,  88, 337,\n",
       "       165,  25, 333,  72, 265, 404, 115, 464, 243, 197, 335, 431, 448,\n",
       "       338,  99, 472, 177, 243, 285, 147, 147, 398, 423, 288, 449, 265,\n",
       "       185, 127,  32,  31, 202, 244, 151, 163, 459, 370, 183,  28, 290,\n",
       "       128, 128, 420,  53, 389,  38, 488, 244, 273, 335, 388, 105,  42,\n",
       "       442,  31, 376, 257, 321, 487, 425,  57, 291, 358, 119, 267, 430,\n",
       "        82,  91, 384, 398,  99,  53, 396, 121, 426,  84, 203, 324, 262,\n",
       "       452,  47, 127, 500, 131, 460, 356, 180, 488, 334, 143, 148, 227,\n",
       "       442, 279, 207, 397, 373, 341,  48, 305,  69, 169, 163, 448,  95,\n",
       "       197,  94, 256, 369, 178, 292, 418, 304, 349, 387,  98,  42, 461,\n",
       "       368, 487, 405, 201, 383,   0, 394, 370,  43, 442, 383,  23, 187,\n",
       "       130, 377,  98,  62, 419, 222, 123, 451,  82, 430, 227, 148, 209,\n",
       "        50, 411, 270,  41,  58, 193,  36, 266,  86,  43, 360,  11, 258,\n",
       "       307,  80,  32, 182, 128, 294, 275, 174,  42, 371, 184, 444, 488,\n",
       "        77, 286, 280, 125, 258,   3,  94, 226, 363, 269, 368, 296, 328,\n",
       "        19,  95, 328, 410, 450, 248, 180, 323, 492, 317, 270, 352, 260,\n",
       "       451, 237, 139,  86, 461, 377, 109, 331, 184,  16, 152, 413, 149,\n",
       "       110,  25, 464, 444, 377, 374, 117, 445,  83, 161, 360, 416, 228,\n",
       "       251, 121, 326, 469, 287,  13, 327, 184, 152,  79,  41, 274,  40,\n",
       "       438, 207, 267, 166, 111, 349, 505, 129, 223, 374, 300, 216, 381,\n",
       "        24,  67, 466, 495, 259, 234, 204, 486, 291, 214, 189, 197, 215,\n",
       "        43,  32,  11, 104, 212, 138, 182, 491, 421, 125, 156, 111, 488,\n",
       "       258,  27, 467, 217, 151, 309, 307, 174, 148, 437,  29,  67,  35,\n",
       "       295, 393,  73, 297, 407, 387, 302, 218, 434, 364, 259, 287, 265,\n",
       "       394,  27, 429, 199, 423,  61, 341, 353,  44, 290, 418,  88,  33,\n",
       "       133, 232, 255,  36, 256, 459, 290, 197, 382, 437, 254,  80, 446,\n",
       "       136, 189, 129])"
      ]
     },
     "execution_count": 5,
     "metadata": {},
     "output_type": "execute_result"
    }
   ],
   "source": [
    "idx_train = np.random.choice(np.arange(N), np.int(ratio * N))\n",
    "idx_train"
   ]
  },
  {
   "cell_type": "code",
   "execution_count": 18,
   "id": "c6810c84",
   "metadata": {},
   "outputs": [
    {
     "data": {
      "text/plain": [
       "array([  0,   3,   9,  11,  11,  13,  16,  19,  23,  24,  25,  25,  27,\n",
       "        27,  28,  29,  31,  31,  32,  32,  32,  33,  35,  36,  36,  38,\n",
       "        39,  40,  41,  41,  42,  42,  42,  43,  43,  43,  44,  47,  47,\n",
       "        48,  50,  53,  53,  57,  58,  61,  62,  67,  67,  69,  70,  72,\n",
       "        73,  77,  79,  80,  80,  82,  82,  83,  84,  86,  86,  87,  87,\n",
       "        88,  88,  88,  91,  94,  94,  95,  95,  98,  98,  99,  99, 104,\n",
       "       105, 109, 110, 111, 111, 115, 117, 117, 119, 121, 121, 123, 125,\n",
       "       125, 127, 127, 128, 128, 128, 129, 129, 130, 131, 133, 136, 138,\n",
       "       139, 143, 147, 147, 148, 148, 148, 149, 151, 151, 152, 152, 156,\n",
       "       161, 163, 163, 165, 166, 169, 172, 174, 174, 174, 177, 178, 180,\n",
       "       180, 182, 182, 183, 184, 184, 184, 185, 187, 189, 189, 192, 193,\n",
       "       193, 195, 197, 197, 197, 197, 199, 201, 202, 203, 204, 207, 207,\n",
       "       209, 211, 212, 214, 215, 216, 217, 218, 222, 223, 226, 227, 227,\n",
       "       228, 232, 234, 237, 242, 243, 243, 244, 244, 248, 251, 251, 254,\n",
       "       255, 256, 256, 257, 258, 258, 258, 259, 259, 260, 262, 265, 265,\n",
       "       265, 266, 267, 267, 269, 270, 270, 273, 274, 275, 277, 279, 280,\n",
       "       285, 286, 287, 287, 288, 290, 290, 290, 291, 291, 292, 292, 294,\n",
       "       295, 296, 297, 300, 302, 304, 305, 307, 307, 309, 314, 317, 321,\n",
       "       323, 323, 324, 326, 327, 328, 328, 331, 333, 334, 335, 335, 337,\n",
       "       338, 341, 341, 349, 349, 352, 353, 356, 358, 359, 360, 360, 363,\n",
       "       364, 368, 368, 369, 370, 370, 371, 373, 374, 374, 376, 377, 377,\n",
       "       377, 381, 382, 383, 383, 384, 387, 387, 388, 389, 393, 394, 394,\n",
       "       396, 396, 397, 398, 398, 404, 405, 407, 410, 411, 413, 416, 418,\n",
       "       418, 419, 420, 421, 423, 423, 425, 426, 429, 430, 430, 431, 434,\n",
       "       437, 437, 438, 442, 442, 442, 444, 444, 445, 446, 448, 448, 449,\n",
       "       450, 451, 451, 452, 459, 459, 460, 461, 461, 464, 464, 466, 467,\n",
       "       469, 472, 472, 486, 486, 487, 487, 488, 488, 488, 488, 491, 492,\n",
       "       495, 500, 505])"
      ]
     },
     "execution_count": 18,
     "metadata": {},
     "output_type": "execute_result"
    }
   ],
   "source": [
    "np.sort(idx_train)"
   ]
  },
  {
   "cell_type": "code",
   "execution_count": 26,
   "id": "b0e797e5",
   "metadata": {},
   "outputs": [],
   "source": [
    "repeat_num = []\n",
    "repeat_list = []\n",
    "\n",
    "for i in range(idx_train.shape[0]) : \n",
    "    if idx_train[i] not in repeat_num :\n",
    "        count = 1\n",
    "        for j in range(i+1, idx_train.shape[0]) :\n",
    "            if idx_train[i] == idx_train[j] : \n",
    "                count += 1\n",
    "                repeat_num.append(idx_train[i])\n",
    "            else : \n",
    "                pass\n",
    "        if count > 1 :\n",
    "            repeat = (idx_train[i], count)\n",
    "            repeat_list.append(repeat)"
   ]
  },
  {
   "cell_type": "code",
   "execution_count": 39,
   "id": "c53d474f",
   "metadata": {
    "scrolled": true
   },
   "outputs": [
    {
     "name": "stdout",
     "output_type": "stream",
     "text": [
      "[47, 117, 323, 251, 292, 87, 472, 88, 88, 396, 193, 486, 174, 174, 25, 265, 265, 464, 243, 197, 197, 197, 335, 448, 99, 147, 398, 423, 127, 32, 32, 31, 244, 151, 163, 459, 370, 290, 290, 128, 128, 53, 488, 488, 488, 42, 42, 442, 442, 487, 291, 267, 430, 82, 121, 180, 148, 148, 227, 207, 341, 95, 94, 256, 418, 349, 387, 98, 461, 368, 383, 394, 43, 43, 377, 377, 451, 270, 41, 36, 86, 360, 11, 258, 258, 307, 80, 182, 184, 184, 444, 125, 328, 152, 374, 287, 111, 129, 67, 259, 189, 27, 437]\n"
     ]
    }
   ],
   "source": [
    "print(repeat_num)"
   ]
  },
  {
   "cell_type": "code",
   "execution_count": 40,
   "id": "fc40c622",
   "metadata": {
    "scrolled": true
   },
   "outputs": [
    {
     "name": "stdout",
     "output_type": "stream",
     "text": [
      "[(47, 2), (117, 2), (323, 2), (251, 2), (292, 2), (87, 2), (472, 2), (88, 3), (396, 2), (193, 2), (486, 2), (174, 3), (25, 2), (265, 3), (464, 2), (243, 2), (197, 4), (335, 2), (448, 2), (99, 2), (147, 2), (398, 2), (423, 2), (127, 2), (32, 3), (31, 2), (244, 2), (151, 2), (163, 2), (459, 2), (370, 2), (290, 3), (128, 3), (53, 2), (488, 4), (42, 3), (442, 3), (487, 2), (291, 2), (267, 2), (430, 2), (82, 2), (121, 2), (180, 2), (148, 3), (227, 2), (207, 2), (341, 2), (95, 2), (94, 2), (256, 2), (418, 2), (349, 2), (387, 2), (98, 2), (461, 2), (368, 2), (383, 2), (394, 2), (43, 3), (377, 3), (451, 2), (270, 2), (41, 2), (36, 2), (86, 2), (360, 2), (11, 2), (258, 3), (307, 2), (80, 2), (182, 2), (184, 3), (444, 2), (125, 2), (328, 2), (152, 2), (374, 2), (287, 2), (111, 2), (129, 2), (67, 2), (259, 2), (189, 2), (27, 2), (437, 2)]\n"
     ]
    }
   ],
   "source": [
    "print(repeat_list)"
   ]
  },
  {
   "cell_type": "markdown",
   "id": "32c26bb0",
   "metadata": {},
   "source": [
    "#### N=504의 데이터에서 학습용 데이터의 idx를 제외"
   ]
  },
  {
   "cell_type": "code",
   "execution_count": 30,
   "id": "edaae091",
   "metadata": {
    "scrolled": true
   },
   "outputs": [
    {
     "data": {
      "text/plain": [
       "[1,\n",
       " 2,\n",
       " 4,\n",
       " 5,\n",
       " 6,\n",
       " 7,\n",
       " 8,\n",
       " 10,\n",
       " 12,\n",
       " 14,\n",
       " 15,\n",
       " 17,\n",
       " 18,\n",
       " 20,\n",
       " 21,\n",
       " 22,\n",
       " 26,\n",
       " 30,\n",
       " 34,\n",
       " 37,\n",
       " 45,\n",
       " 46,\n",
       " 49,\n",
       " 51,\n",
       " 52,\n",
       " 54,\n",
       " 55,\n",
       " 56,\n",
       " 59,\n",
       " 60,\n",
       " 63,\n",
       " 64,\n",
       " 65,\n",
       " 66,\n",
       " 68,\n",
       " 71,\n",
       " 74,\n",
       " 75,\n",
       " 76,\n",
       " 78,\n",
       " 81,\n",
       " 85,\n",
       " 89,\n",
       " 90,\n",
       " 92,\n",
       " 93,\n",
       " 96,\n",
       " 97,\n",
       " 100,\n",
       " 101,\n",
       " 102,\n",
       " 103,\n",
       " 106,\n",
       " 107,\n",
       " 108,\n",
       " 112,\n",
       " 113,\n",
       " 114,\n",
       " 116,\n",
       " 118,\n",
       " 120,\n",
       " 122,\n",
       " 124,\n",
       " 126,\n",
       " 132,\n",
       " 134,\n",
       " 135,\n",
       " 137,\n",
       " 140,\n",
       " 141,\n",
       " 142,\n",
       " 144,\n",
       " 145,\n",
       " 146,\n",
       " 150,\n",
       " 153,\n",
       " 154,\n",
       " 155,\n",
       " 157,\n",
       " 158,\n",
       " 159,\n",
       " 160,\n",
       " 162,\n",
       " 164,\n",
       " 167,\n",
       " 168,\n",
       " 170,\n",
       " 171,\n",
       " 173,\n",
       " 175,\n",
       " 176,\n",
       " 179,\n",
       " 181,\n",
       " 186,\n",
       " 188,\n",
       " 190,\n",
       " 191,\n",
       " 194,\n",
       " 196,\n",
       " 198,\n",
       " 200,\n",
       " 205,\n",
       " 206,\n",
       " 208,\n",
       " 210,\n",
       " 213,\n",
       " 219,\n",
       " 220,\n",
       " 221,\n",
       " 224,\n",
       " 225,\n",
       " 229,\n",
       " 230,\n",
       " 231,\n",
       " 233,\n",
       " 235,\n",
       " 236,\n",
       " 238,\n",
       " 239,\n",
       " 240,\n",
       " 241,\n",
       " 245,\n",
       " 246,\n",
       " 247,\n",
       " 249,\n",
       " 250,\n",
       " 252,\n",
       " 253,\n",
       " 261,\n",
       " 263,\n",
       " 264,\n",
       " 268,\n",
       " 271,\n",
       " 272,\n",
       " 276,\n",
       " 278,\n",
       " 281,\n",
       " 282,\n",
       " 283,\n",
       " 284,\n",
       " 289,\n",
       " 293,\n",
       " 298,\n",
       " 299,\n",
       " 301,\n",
       " 303,\n",
       " 306,\n",
       " 308,\n",
       " 310,\n",
       " 311,\n",
       " 312,\n",
       " 313,\n",
       " 315,\n",
       " 316,\n",
       " 318,\n",
       " 319,\n",
       " 320,\n",
       " 322,\n",
       " 325,\n",
       " 329,\n",
       " 330,\n",
       " 332,\n",
       " 336,\n",
       " 339,\n",
       " 340,\n",
       " 342,\n",
       " 343,\n",
       " 344,\n",
       " 345,\n",
       " 346,\n",
       " 347,\n",
       " 348,\n",
       " 350,\n",
       " 351,\n",
       " 354,\n",
       " 355,\n",
       " 357,\n",
       " 361,\n",
       " 362,\n",
       " 365,\n",
       " 366,\n",
       " 367,\n",
       " 372,\n",
       " 375,\n",
       " 378,\n",
       " 379,\n",
       " 380,\n",
       " 385,\n",
       " 386,\n",
       " 390,\n",
       " 391,\n",
       " 392,\n",
       " 395,\n",
       " 399,\n",
       " 400,\n",
       " 401,\n",
       " 402,\n",
       " 403,\n",
       " 406,\n",
       " 408,\n",
       " 409,\n",
       " 412,\n",
       " 414,\n",
       " 415,\n",
       " 417,\n",
       " 422,\n",
       " 424,\n",
       " 427,\n",
       " 428,\n",
       " 432,\n",
       " 433,\n",
       " 435,\n",
       " 436,\n",
       " 439,\n",
       " 440,\n",
       " 441,\n",
       " 443,\n",
       " 447,\n",
       " 453,\n",
       " 454,\n",
       " 455,\n",
       " 456,\n",
       " 457,\n",
       " 458,\n",
       " 462,\n",
       " 463,\n",
       " 465,\n",
       " 468,\n",
       " 470,\n",
       " 471,\n",
       " 473,\n",
       " 474,\n",
       " 475,\n",
       " 476,\n",
       " 477,\n",
       " 478,\n",
       " 479,\n",
       " 480,\n",
       " 481,\n",
       " 482,\n",
       " 483,\n",
       " 484,\n",
       " 485,\n",
       " 489,\n",
       " 490,\n",
       " 493,\n",
       " 494,\n",
       " 496,\n",
       " 497,\n",
       " 498,\n",
       " 499,\n",
       " 501,\n",
       " 502,\n",
       " 503,\n",
       " 504]"
      ]
     },
     "execution_count": 30,
     "metadata": {},
     "output_type": "execute_result"
    }
   ],
   "source": [
    "idx_test = list(set(np.arange(N)).difference(idx_train))\n",
    "idx_test"
   ]
  },
  {
   "cell_type": "code",
   "execution_count": 31,
   "id": "d6abccec",
   "metadata": {},
   "outputs": [
    {
     "data": {
      "text/plain": [
       "255"
      ]
     },
     "execution_count": 31,
     "metadata": {},
     "output_type": "execute_result"
    }
   ],
   "source": [
    "len(idx_test)"
   ]
  },
  {
   "cell_type": "code",
   "execution_count": 32,
   "id": "55c8e9fd",
   "metadata": {},
   "outputs": [
    {
     "data": {
      "text/plain": [
       "251"
      ]
     },
     "execution_count": 32,
     "metadata": {},
     "output_type": "execute_result"
    }
   ],
   "source": [
    "N - len(idx_test)"
   ]
  },
  {
   "cell_type": "code",
   "execution_count": 33,
   "id": "761074df",
   "metadata": {},
   "outputs": [],
   "source": [
    "df_train = df.iloc[idx_train]\n",
    "df_test = df.iloc[idx_test]"
   ]
  },
  {
   "cell_type": "code",
   "execution_count": 34,
   "id": "387fab6b",
   "metadata": {},
   "outputs": [
    {
     "data": {
      "text/plain": [
       "354"
      ]
     },
     "execution_count": 34,
     "metadata": {},
     "output_type": "execute_result"
    }
   ],
   "source": [
    "len(df_train)"
   ]
  },
  {
   "cell_type": "code",
   "execution_count": 35,
   "id": "5c385423",
   "metadata": {},
   "outputs": [
    {
     "data": {
      "text/plain": [
       "255"
      ]
     },
     "execution_count": 35,
     "metadata": {},
     "output_type": "execute_result"
    }
   ],
   "source": [
    "len(df_test)"
   ]
  },
  {
   "cell_type": "markdown",
   "id": "38542f41",
   "metadata": {},
   "source": [
    "### 4-3. 학습용 데이터로 회귀모형 만들기"
   ]
  },
  {
   "cell_type": "code",
   "execution_count": 36,
   "id": "a62e37dd",
   "metadata": {},
   "outputs": [
    {
     "name": "stdout",
     "output_type": "stream",
     "text": [
      "                            OLS Regression Results                            \n",
      "==============================================================================\n",
      "Dep. Variable:                   MEDV   R-squared:                       0.757\n",
      "Model:                            OLS   Adj. R-squared:                  0.747\n",
      "Method:                 Least Squares   F-statistic:                     81.31\n",
      "Date:                Sat, 06 Aug 2022   Prob (F-statistic):           7.22e-96\n",
      "Time:                        23:27:00   Log-Likelihood:                -1057.6\n",
      "No. Observations:                 354   AIC:                             2143.\n",
      "Df Residuals:                     340   BIC:                             2197.\n",
      "Df Model:                          13                                         \n",
      "Covariance Type:            nonrobust                                         \n",
      "==============================================================================\n",
      "                 coef    std err          t      P>|t|      [0.025      0.975]\n",
      "------------------------------------------------------------------------------\n",
      "Intercept     40.6105      6.807      5.966      0.000      27.222      53.999\n",
      "CRIM          -0.0801      0.040     -2.012      0.045      -0.158      -0.002\n",
      "ZN             0.0438      0.016      2.777      0.006       0.013       0.075\n",
      "INDUS          0.0978      0.076      1.287      0.199      -0.052       0.247\n",
      "CHAS           2.7905      1.120      2.491      0.013       0.587       4.994\n",
      "NOX          -21.4614      4.919     -4.363      0.000     -31.136     -11.787\n",
      "RM             3.7948      0.532      7.128      0.000       2.748       4.842\n",
      "AGE            0.0006      0.016      0.036      0.971      -0.030       0.031\n",
      "DIS           -1.6910      0.256     -6.605      0.000      -2.195      -1.187\n",
      "RAD            0.2730      0.079      3.447      0.001       0.117       0.429\n",
      "TAX           -0.0097      0.004     -2.215      0.027      -0.018      -0.001\n",
      "PTRATIO       -1.1651      0.167     -6.983      0.000      -1.493      -0.837\n",
      "B              0.0134      0.004      3.815      0.000       0.006       0.020\n",
      "LSTAT         -0.5490      0.062     -8.908      0.000      -0.670      -0.428\n",
      "==============================================================================\n",
      "Omnibus:                      129.426   Durbin-Watson:                   1.979\n",
      "Prob(Omnibus):                  0.000   Jarque-Bera (JB):              603.605\n",
      "Skew:                           1.498   Prob(JB):                    8.49e-132\n",
      "Kurtosis:                       8.652   Cond. No.                     1.64e+04\n",
      "==============================================================================\n",
      "\n",
      "Notes:\n",
      "[1] Standard Errors assume that the covariance matrix of the errors is correctly specified.\n",
      "[2] The condition number is large, 1.64e+04. This might indicate that there are\n",
      "strong multicollinearity or other numerical problems.\n"
     ]
    }
   ],
   "source": [
    "model = sm.OLS.from_formula(\"MEDV~ \" + \"+\".join(boston.feature_names), data=df_train)\n",
    "result = model.fit()\n",
    "print(result.summary())"
   ]
  },
  {
   "cell_type": "markdown",
   "id": "f032ca71",
   "metadata": {},
   "source": [
    "### 4-4. 검증용 데이터로 성능 파악\n",
    "- 결정계수 값으로 모형의 성능을 파악한다."
   ]
  },
  {
   "cell_type": "code",
   "execution_count": 37,
   "id": "c5704cff",
   "metadata": {},
   "outputs": [
    {
     "data": {
      "text/plain": [
       "0.6883734124987095"
      ]
     },
     "execution_count": 37,
     "metadata": {},
     "output_type": "execute_result"
    }
   ],
   "source": [
    "pred = result.predict(df_test)\n",
    "\n",
    "# 잔차의 이동범위 : 잔차제곱합\n",
    "rss = ((df_test.MEDV - pred) ** 2).sum()\n",
    "# 종속변수의 이동범위\n",
    "tss = ((df_test.MEDV - df_test.MEDV.mean()) ** 2).sum()\n",
    "# 결정계수\n",
    "rsquared = 1 - rss / tss\n",
    "rsquared"
   ]
  },
  {
   "cell_type": "markdown",
   "id": "c942ce36",
   "metadata": {},
   "source": [
    "## 5. scikit-learn의 교차검증 기능\n",
    "- 독립변수가 많은 빅데이터에서는 과최적화가 쉽게 발생한다.\n",
    "- scikit-learn의 model_selection 서브 패키지는 교차검증을 위한 다양한 명령을 제공한다.\n",
    "- `train_test_split()`\n",
    "    - data : 독립변수 데이터 배열 또는 판다스 데이터 프레임\n",
    "    - data2 : 종속변수 데이터 (data 인수에 종속변수 데이터가 같이 있으면 생략도 가능)\n",
    "    - test_size : 검증용 데이터 개수. 1보다 작은 실수이면 비율\n",
    "    - train_size : 학습용 데이터 개수. 1보다 작은 실수이면 비율. test_size와 train_size 둘 중 하나만 있어도 가능\n",
    "    - random_seed : 난수 발생 시드"
   ]
  },
  {
   "cell_type": "markdown",
   "id": "7cb40136",
   "metadata": {},
   "source": [
    "### 5-1. 보스턴 집값 데이터 학습, 검증 데이터 분리"
   ]
  },
  {
   "cell_type": "code",
   "execution_count": 42,
   "id": "d09d8c92",
   "metadata": {},
   "outputs": [
    {
     "data": {
      "text/plain": [
       "((354, 14), (152, 14))"
      ]
     },
     "execution_count": 42,
     "metadata": {},
     "output_type": "execute_result"
    }
   ],
   "source": [
    "from sklearn.model_selection import train_test_split\n",
    "\n",
    "df_train, df_test = train_test_split(df, test_size=0.3, random_state=0)\n",
    "df_train.shape, df_test.shape"
   ]
  },
  {
   "cell_type": "code",
   "execution_count": 43,
   "id": "47b8d7d8",
   "metadata": {},
   "outputs": [
    {
     "data": {
      "text/html": [
       "<div>\n",
       "<style scoped>\n",
       "    .dataframe tbody tr th:only-of-type {\n",
       "        vertical-align: middle;\n",
       "    }\n",
       "\n",
       "    .dataframe tbody tr th {\n",
       "        vertical-align: top;\n",
       "    }\n",
       "\n",
       "    .dataframe thead th {\n",
       "        text-align: right;\n",
       "    }\n",
       "</style>\n",
       "<table border=\"1\" class=\"dataframe\">\n",
       "  <thead>\n",
       "    <tr style=\"text-align: right;\">\n",
       "      <th></th>\n",
       "      <th>CRIM</th>\n",
       "      <th>ZN</th>\n",
       "      <th>INDUS</th>\n",
       "      <th>CHAS</th>\n",
       "      <th>NOX</th>\n",
       "      <th>RM</th>\n",
       "      <th>AGE</th>\n",
       "      <th>DIS</th>\n",
       "      <th>RAD</th>\n",
       "      <th>TAX</th>\n",
       "      <th>PTRATIO</th>\n",
       "      <th>B</th>\n",
       "      <th>LSTAT</th>\n",
       "      <th>MEDV</th>\n",
       "    </tr>\n",
       "  </thead>\n",
       "  <tbody>\n",
       "    <tr>\n",
       "      <th>501</th>\n",
       "      <td>0.06263</td>\n",
       "      <td>0.0</td>\n",
       "      <td>11.93</td>\n",
       "      <td>0.0</td>\n",
       "      <td>0.573</td>\n",
       "      <td>6.593</td>\n",
       "      <td>69.1</td>\n",
       "      <td>2.4786</td>\n",
       "      <td>1.0</td>\n",
       "      <td>273.0</td>\n",
       "      <td>21.0</td>\n",
       "      <td>391.99</td>\n",
       "      <td>9.67</td>\n",
       "      <td>22.4</td>\n",
       "    </tr>\n",
       "    <tr>\n",
       "      <th>502</th>\n",
       "      <td>0.04527</td>\n",
       "      <td>0.0</td>\n",
       "      <td>11.93</td>\n",
       "      <td>0.0</td>\n",
       "      <td>0.573</td>\n",
       "      <td>6.120</td>\n",
       "      <td>76.7</td>\n",
       "      <td>2.2875</td>\n",
       "      <td>1.0</td>\n",
       "      <td>273.0</td>\n",
       "      <td>21.0</td>\n",
       "      <td>396.90</td>\n",
       "      <td>9.08</td>\n",
       "      <td>20.6</td>\n",
       "    </tr>\n",
       "    <tr>\n",
       "      <th>503</th>\n",
       "      <td>0.06076</td>\n",
       "      <td>0.0</td>\n",
       "      <td>11.93</td>\n",
       "      <td>0.0</td>\n",
       "      <td>0.573</td>\n",
       "      <td>6.976</td>\n",
       "      <td>91.0</td>\n",
       "      <td>2.1675</td>\n",
       "      <td>1.0</td>\n",
       "      <td>273.0</td>\n",
       "      <td>21.0</td>\n",
       "      <td>396.90</td>\n",
       "      <td>5.64</td>\n",
       "      <td>23.9</td>\n",
       "    </tr>\n",
       "    <tr>\n",
       "      <th>504</th>\n",
       "      <td>0.10959</td>\n",
       "      <td>0.0</td>\n",
       "      <td>11.93</td>\n",
       "      <td>0.0</td>\n",
       "      <td>0.573</td>\n",
       "      <td>6.794</td>\n",
       "      <td>89.3</td>\n",
       "      <td>2.3889</td>\n",
       "      <td>1.0</td>\n",
       "      <td>273.0</td>\n",
       "      <td>21.0</td>\n",
       "      <td>393.45</td>\n",
       "      <td>6.48</td>\n",
       "      <td>22.0</td>\n",
       "    </tr>\n",
       "    <tr>\n",
       "      <th>505</th>\n",
       "      <td>0.04741</td>\n",
       "      <td>0.0</td>\n",
       "      <td>11.93</td>\n",
       "      <td>0.0</td>\n",
       "      <td>0.573</td>\n",
       "      <td>6.030</td>\n",
       "      <td>80.8</td>\n",
       "      <td>2.5050</td>\n",
       "      <td>1.0</td>\n",
       "      <td>273.0</td>\n",
       "      <td>21.0</td>\n",
       "      <td>396.90</td>\n",
       "      <td>7.88</td>\n",
       "      <td>11.9</td>\n",
       "    </tr>\n",
       "  </tbody>\n",
       "</table>\n",
       "</div>"
      ],
      "text/plain": [
       "        CRIM   ZN  INDUS  CHAS    NOX     RM   AGE     DIS  RAD    TAX  \\\n",
       "501  0.06263  0.0  11.93   0.0  0.573  6.593  69.1  2.4786  1.0  273.0   \n",
       "502  0.04527  0.0  11.93   0.0  0.573  6.120  76.7  2.2875  1.0  273.0   \n",
       "503  0.06076  0.0  11.93   0.0  0.573  6.976  91.0  2.1675  1.0  273.0   \n",
       "504  0.10959  0.0  11.93   0.0  0.573  6.794  89.3  2.3889  1.0  273.0   \n",
       "505  0.04741  0.0  11.93   0.0  0.573  6.030  80.8  2.5050  1.0  273.0   \n",
       "\n",
       "     PTRATIO       B  LSTAT  MEDV  \n",
       "501     21.0  391.99   9.67  22.4  \n",
       "502     21.0  396.90   9.08  20.6  \n",
       "503     21.0  396.90   5.64  23.9  \n",
       "504     21.0  393.45   6.48  22.0  \n",
       "505     21.0  396.90   7.88  11.9  "
      ]
     },
     "execution_count": 43,
     "metadata": {},
     "output_type": "execute_result"
    }
   ],
   "source": [
    "df.tail()"
   ]
  },
  {
   "cell_type": "markdown",
   "id": "440a6902",
   "metadata": {},
   "source": [
    "### 5-2. 이미 분리한 학습, 검증 데이터를 다시 분리"
   ]
  },
  {
   "cell_type": "code",
   "execution_count": 44,
   "id": "bc08ff60",
   "metadata": {},
   "outputs": [
    {
     "data": {
      "text/plain": [
       "((354, 13), (152, 13), (354, 1), (152, 1))"
      ]
     },
     "execution_count": 44,
     "metadata": {},
     "output_type": "execute_result"
    }
   ],
   "source": [
    "dfX_train, dfX_test, dfy_train, dfy_test = train_test_split(dfX, dfy,\n",
    "                                                           test_size=0.3,\n",
    "                                                           random_state=0)\n",
    "dfX_train.shape, dfX_test.shape, dfy_train.shape, dfy_test.shape"
   ]
  },
  {
   "cell_type": "markdown",
   "id": "cf3345d3",
   "metadata": {},
   "source": [
    "## 6. K-폴드 교차검증\n",
    "- 데이터의 수가 적은 경우는 이 데이터의 일부인 검증 데이터도 적기 때문에 검증 성능의 신뢰도가 떨어지게 된다.\n",
    "- 그렇다고 검증용 데이터의 수를 늘리면 학습 데이터의 수가 줄어들기 때문에 정상적인 학습이 되지 않는 문제가 발생한다.\n",
    "- `K-폴드 교차검증 K-fold` : 데이터를 K개의 부분 집합으로 나눈 후 학습 데이터와 검증 데이터를 부분집합의 조합으로 분리하여 K개의 모형과 K의 교차검증 성능을 측정하는 방법 \n",
    "    - 전체 데이터를 K개의 부분 집합으로 나누기 D_1, D_2, ..., D_k\n",
    "    - D_1, D_2, ..., D_k-1을 학습 데이터로 회귀분석 모형을 만들고, D_k로 교차검증을 한다.\n",
    "    - D_1, D_2, ..., D_k-2, D_k를 학습데이터로 회귀분석 모형을 만들고, D_k-1로 교차검증을 한다.\n",
    "    - 이와 같은 방식으로 모든 부분 집합에 대해 학습, 검증 데이터를 분리하여 검증한다."
   ]
  },
  {
   "cell_type": "code",
   "execution_count": 45,
   "id": "d2448ad1",
   "metadata": {},
   "outputs": [],
   "source": [
    "from sklearn.model_selection import KFold"
   ]
  },
  {
   "cell_type": "code",
   "execution_count": 46,
   "id": "09ae257e",
   "metadata": {},
   "outputs": [
    {
     "data": {
      "text/plain": [
       "KFold(n_splits=5, random_state=0, shuffle=True)"
      ]
     },
     "execution_count": 46,
     "metadata": {},
     "output_type": "execute_result"
    }
   ],
   "source": [
    "scores = np.zeros(5)\n",
    "cv = KFold(5, shuffle=True, random_state=0)\n",
    "cv"
   ]
  },
  {
   "cell_type": "code",
   "execution_count": 59,
   "id": "f53cf851",
   "metadata": {},
   "outputs": [
    {
     "name": "stdout",
     "output_type": "stream",
     "text": [
      "0 (array([ 0,  2,  3,  4,  5,  7,  9, 10, 11, 12, 13, 14]), array([1, 6, 8]))\n",
      "1 (array([ 0,  1,  2,  3,  5,  6,  7,  8, 10, 11, 12, 13]), array([ 4,  9, 14]))\n",
      "2 (array([ 0,  1,  3,  4,  5,  6,  7,  8,  9, 11, 12, 14]), array([ 2, 10, 13]))\n",
      "3 (array([ 0,  1,  2,  4,  5,  6,  8,  9, 10, 12, 13, 14]), array([ 3,  7, 11]))\n",
      "4 (array([ 1,  2,  3,  4,  6,  7,  8,  9, 10, 11, 13, 14]), array([ 0,  5, 12]))\n"
     ]
    }
   ],
   "source": [
    "test_df = list(range(15))\n",
    "\n",
    "for i, (idx_train, idx_test) in enumerate(cv.split(test_df)) : \n",
    "    print(i, (idx_train, idx_test))"
   ]
  },
  {
   "cell_type": "code",
   "execution_count": 64,
   "id": "38de7ac8",
   "metadata": {},
   "outputs": [
    {
     "name": "stdout",
     "output_type": "stream",
     "text": [
      "k_0, 학습 R2 = 0.77301356, 검증 R2 = 0.58922238\n",
      "k_1, 학습 R2 = 0.72917058, 검증 R2 = 0.77799144\n",
      "k_2, 학습 R2 = 0.74897081, 검증 R2 = 0.66791979\n",
      "k_3, 학습 R2 = 0.75658611, 검증 R2 = 0.66801630\n",
      "k_4, 학습 R2 = 0.70497483, 검증 R2 = 0.83953317\n"
     ]
    }
   ],
   "source": [
    "for i, (idx_train, idx_test) in enumerate(cv.split(df)) : \n",
    "    df_train = df.iloc[idx_train]\n",
    "    df_test = df.iloc[idx_test]\n",
    "    \n",
    "    model = sm.OLS.from_formula(\"MEDV ~ \" + \"+\".join(boston.feature_names),\n",
    "                               data=df_train)\n",
    "    # 모형 추정\n",
    "    result = model.fit()\n",
    "    \n",
    "    # 모형 성능 검증\n",
    "    pred = result.predict(df_test)\n",
    "    rss = ((df_test.MEDV - pred) ** 2).sum()\n",
    "    ## 종속변수의 이동범위 : 종속변수의 분산 : 데이터와 평균의 차이의 제곱의 합\n",
    "    tss = ((df_test.MEDV - df_test.MEDV.mean()) ** 2).sum()\n",
    "    rsquared = 1 - rss / tss\n",
    "    \n",
    "    scores[i] = rsquared\n",
    "    print(\"k_{}, 학습 R2 = {:.8f}, 검증 R2 = {:.8f}\".format(i, result.rsquared, rsquared))"
   ]
  },
  {
   "cell_type": "markdown",
   "id": "0eefc97d",
   "metadata": {},
   "source": [
    "## 7. 평가 점수\n",
    "- scikit-learn의 metrics 서브패키지의 예측성능 평가 함수, 회귀분석에 유용한 대표적인 평가 기준.\n",
    "    - `r2_score` : 결정계수\n",
    "    - `mean_squared_error` : 평균 제곱 오차(mean squared error)\n",
    "    - `median_absolute_error` : 절대 오차 중앙값(median absolute error)"
   ]
  },
  {
   "cell_type": "code",
   "execution_count": 66,
   "id": "d2427fe0",
   "metadata": {},
   "outputs": [],
   "source": [
    "from sklearn.metrics import r2_score, mean_squared_error, median_absolute_error"
   ]
  },
  {
   "cell_type": "code",
   "execution_count": 68,
   "id": "f2daf89e",
   "metadata": {},
   "outputs": [],
   "source": [
    "scores_r2 = np.zeros(5)\n",
    "scores_mse = np.zeros(5)\n",
    "scores_mae = np.zeros(5)\n",
    "\n",
    "cv = KFold(5, shuffle=True, random_state=0)\n",
    "for i, (idx_train, idx_test) in enumerate(cv.split(df)) : \n",
    "    df_train = df.iloc[idx_train]\n",
    "    df_test = df.iloc[idx_test]\n",
    "    \n",
    "    model = sm.OLS.from_formula(\"MEDV ~ \" + \"+\".join(boston.feature_names),\n",
    "                               data=df_train)\n",
    "    result = model.fit()\n",
    "    pred = result.predict(df_test)\n",
    "    \n",
    "    rsquared = r2_score(df_test.MEDV, pred)\n",
    "    mse = mean_squared_error(df_test.MEDV, pred)\n",
    "    mae = median_absolute_error(df_test.MEDV, pred)\n",
    "    \n",
    "    scores_r2[i] = rsquared\n",
    "    scores_mse[i] = mse\n",
    "    scores_mae[i] = mae"
   ]
  },
  {
   "cell_type": "code",
   "execution_count": 69,
   "id": "5078ea93",
   "metadata": {},
   "outputs": [
    {
     "data": {
      "text/plain": [
       "array([0.58922238, 0.77799144, 0.66791979, 0.6680163 , 0.83953317])"
      ]
     },
     "execution_count": 69,
     "metadata": {},
     "output_type": "execute_result"
    }
   ],
   "source": [
    "scores_r2"
   ]
  },
  {
   "cell_type": "code",
   "execution_count": 70,
   "id": "25a060cf",
   "metadata": {},
   "outputs": [
    {
     "data": {
      "text/plain": [
       "array([33.44898   , 18.65881615, 21.23463289, 29.22251557, 16.57369039])"
      ]
     },
     "execution_count": 70,
     "metadata": {},
     "output_type": "execute_result"
    }
   ],
   "source": [
    "scores_mse"
   ]
  },
  {
   "cell_type": "code",
   "execution_count": 71,
   "id": "d1f87a6f",
   "metadata": {},
   "outputs": [
    {
     "data": {
      "text/plain": [
       "array([2.64327501, 2.77893757, 2.05618551, 2.41515299, 2.26594351])"
      ]
     },
     "execution_count": 71,
     "metadata": {},
     "output_type": "execute_result"
    }
   ],
   "source": [
    "scores_mae"
   ]
  },
  {
   "cell_type": "markdown",
   "id": "bacd4488",
   "metadata": {},
   "source": [
    "## 8. 교차검증 반복\n",
    "- `cross_val_score` : 교차검증을 간단하게 만들어주는 함수\n",
    "    - model : 회귀분석 모형\n",
    "    - x : 독립변수 데이터\n",
    "    - y : 종속변수 데이터\n",
    "    - scoring : 성능 검증에 사용할 함수의 이름\n",
    "    - cv : 교차검증 생성기 객체 또는 숫자\n",
    "        - None : KFold(3)\n",
    "        - 숫자 k : KFold(k)\n",
    "- 단 cross_val_score 명령은 scikit-learn에서 제공하는 모형만 사용가능하다.\n",
    "- statsmodel의 OLS 객체를 사용하려면 scikit-learn의 RegressorMixin으로 wrapper class를 만들어 주어야 한다. "
   ]
  },
  {
   "cell_type": "code",
   "execution_count": 72,
   "id": "a2c68698",
   "metadata": {},
   "outputs": [],
   "source": [
    "from sklearn.base import BaseEstimator, RegressorMixin\n",
    "import statsmodels.formula.api as smf\n",
    "import statsmodels.api as sm"
   ]
  },
  {
   "cell_type": "markdown",
   "id": "a1837368",
   "metadata": {},
   "source": [
    "#### 래퍼 클래스 wrapper class"
   ]
  },
  {
   "cell_type": "code",
   "execution_count": 91,
   "id": "da1f182c",
   "metadata": {},
   "outputs": [],
   "source": [
    "class StatsmodelsOLS(BaseEstimator, RegressorMixin) : \n",
    "    \n",
    "    def __init__(self, formula) : \n",
    "        self.formula = formula\n",
    "        self.model = None\n",
    "        self.data = None\n",
    "        self.result = None\n",
    "        \n",
    "    def fit(self, dfX, dfy) : \n",
    "        self.data = pd.concat([dfX, dfy], axis=1)\n",
    "        self.model = smf.ols(self.formula, data=self.data)\n",
    "        self.result = self.model.fit()\n",
    "        \n",
    "    def predict(self, new_data) : \n",
    "        return self.result.predict(new_data)"
   ]
  },
  {
   "cell_type": "code",
   "execution_count": 92,
   "id": "ceced3a4",
   "metadata": {},
   "outputs": [],
   "source": [
    "from sklearn.model_selection import cross_val_score"
   ]
  },
  {
   "cell_type": "code",
   "execution_count": 93,
   "id": "f752db22",
   "metadata": {},
   "outputs": [
    {
     "data": {
      "text/plain": [
       "StatsmodelsOLS(formula='MEDV ~ '\n",
       "                       'CRIM+ZN+INDUS+CHAS+NOX+RM+AGE+DIS+RAD+TAX+PTRATIO+B+LSTAT')"
      ]
     },
     "execution_count": 93,
     "metadata": {},
     "output_type": "execute_result"
    }
   ],
   "source": [
    "model = StatsmodelsOLS(\"MEDV ~ \" + \"+\".join(boston.feature_names))\n",
    "model"
   ]
  },
  {
   "cell_type": "code",
   "execution_count": 96,
   "id": "c6760085",
   "metadata": {},
   "outputs": [
    {
     "data": {
      "text/plain": [
       "array([0.58922238, 0.77799144, 0.66791979, 0.6680163 , 0.83953317])"
      ]
     },
     "execution_count": 96,
     "metadata": {},
     "output_type": "execute_result"
    }
   ],
   "source": [
    "cv = KFold(5, shuffle=True, random_state=0)\n",
    "cross_val_score(model, dfX, dfy, scoring=\"r2\", cv=cv)"
   ]
  },
  {
   "cell_type": "markdown",
   "id": "559231fd",
   "metadata": {},
   "source": [
    "## 모형 성능 증가\n",
    "- 데이터 전처리\n",
    "- 다중공선성 제거\n",
    "- 분산분석을 통한 독립변수의 중요도 판단\n",
    "- 독립변수, 종속변수의 비선형 변환\n",
    "- 기저함수를 사용한 다항함수 적용\n",
    "- 교차검증"
   ]
  },
  {
   "cell_type": "code",
   "execution_count": null,
   "id": "385caa11",
   "metadata": {},
   "outputs": [],
   "source": []
  },
  {
   "cell_type": "code",
   "execution_count": null,
   "id": "2b238c34",
   "metadata": {},
   "outputs": [],
   "source": []
  },
  {
   "cell_type": "code",
   "execution_count": null,
   "id": "020e2a65",
   "metadata": {},
   "outputs": [],
   "source": []
  },
  {
   "cell_type": "code",
   "execution_count": null,
   "id": "4f9cc0cc",
   "metadata": {},
   "outputs": [],
   "source": []
  },
  {
   "cell_type": "code",
   "execution_count": null,
   "id": "45bd8fea",
   "metadata": {},
   "outputs": [],
   "source": []
  },
  {
   "cell_type": "code",
   "execution_count": null,
   "id": "7d2b0759",
   "metadata": {},
   "outputs": [],
   "source": []
  }
 ],
 "metadata": {
  "kernelspec": {
   "display_name": "Python 3 (ipykernel)",
   "language": "python",
   "name": "python3"
  },
  "language_info": {
   "codemirror_mode": {
    "name": "ipython",
    "version": 3
   },
   "file_extension": ".py",
   "mimetype": "text/x-python",
   "name": "python",
   "nbconvert_exporter": "python",
   "pygments_lexer": "ipython3",
   "version": "3.7.11"
  }
 },
 "nbformat": 4,
 "nbformat_minor": 5
}
