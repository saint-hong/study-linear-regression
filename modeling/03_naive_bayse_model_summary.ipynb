{
 "cells": [
  {
   "cell_type": "markdown",
   "id": "365377ce",
   "metadata": {},
   "source": [
    "# 분류 모델 - Naive Bayes model\n",
    "\n",
    "** 확률변수의 독립, 조건부 독립**\n",
    "- A와 B가 독립이면 결합확률은 주변확률의 곱과 같다.\n",
    "   - P(A, B) = P(A)P(B)\n",
    "- A,B가 C에 대해 조건부 독립이면, C에 대한 A,B의 결합조건부확률은 C에 대한 A,B의 조건부확률의 곱과 같다.\n",
    "   - P(A, B | C) = P(A | C)P(B | C)\n",
    "   - P(A | B, C) = P(A | C)\n",
    "   - P(B | A, C) = P(B | C)\n",
    "- 조건부 독립에서 보면 일반적인 독립은 무조건부 독립과 같다.\n",
    "- 조건부 독립과 무조건부 독립은 관계가 없다.\n",
    "\n",
    "** 정의 **\n",
    "- 조건부확률 P(y=k|x)를 구하기 위해 베이즈 정리를 사용할 때, 가능도를 구하는 것이 문제이다.\n",
    "   - P(x | y=k) = P(x1, ..., xD | y=k)\n",
    "   - 조건부확률은 x1, ..., xD의 결합확률이 된다.\n",
    "- 원리상으로 y=k인 데이터만 모아서 가능도 함수의 모양을 추정할 수 있지만, D가 커지면 가능도 함수의 추정이 어려워진다. (D=데이터의 갯수)\n",
    "- 나이브 베이즈 모델은 가능도를 나이브 가정을 사용하여 정의 한다.\n",
    "   - 나이브 가정 naive assumption : 모든 차원의 개별 독립변수가 서로 조건부 독립이라는 가정\n",
    "   - 나이브 가정을 사용하면 벡터 x의 결합확률분포함수는 개별 스칼라 원소 x_d의 확률분포함수의 곱이다.\n",
    "      - P(x_1,...,x_D | y=k) = prod_d=1_D P(x_d | y=k)\n",
    "   - x_d의 확률분포함수는 결합확률분포함수보다 추정이 쉽다.\n",
    "   - 가능도에 나이브 가정식을 대입하여 베이즈 정리를 계산한다. \n",
    "\n",
    "** 나이브 베이즈 모델의 종류 **\n",
    "- 베이즈 정리의 가능도를 구하기 위해서 나이브 가정을 사용할 때, 원소 x_d의 확률분포함수를 어떤 것으로 정의하느냐에 따라서 종류가 달라진다.\n",
    "- 정규분포 가능도 모형 (GaussianNB : 정규분포 나이브 베이즈)\n",
    "   - x 벡터의 원소 x_d가 모두 실수, 클래스 k마다 특정한 값 주변에서 발생할때 가능도 분포로 정규분포를 사용한다.\n",
    "   - 즉 정규분포인 x_d의 확률분포들의 곱을 구하면 가능도를 구할 수 있다.\n",
    "   - QDA와 달리 모든 독립변수들이 서로 조건부독립이라고 가정한다.\n",
    "- 베르누이분포 가능도 모형(BernouliNB : 베르누이분포 나이브베이즈)\n",
    "   - x_d가 0또는 1만 가질 수 있는 베르누이 분포 형태\n",
    "   - 독립변수가 동전세트로 이루어진 형태와 같다. (독립변수 1이 D번 시행한 동전과 같음)\n",
    "   - 또한 y=k 마다 x_d의 1이 될 확률이 다르다. 따라서 D x K개의 동전 세트와 같다.\n",
    "   - 베르누이분포 가능도 모형을 기반으로 하는 나이브 베이즈 모형은 동전 세트를 N번 던진 결과로부터 1~K 중 어느 동전 세트를 던졌는지를 찾아내는 모형과 같다.\n",
    "- 다항분포 가능도 모형(MultinomialNB : 다항분포 나이브 베이즈)\n",
    "   - x벡터가 다항분포의 표본이라고 가정한다.\n",
    "   - D개의 면을 가지는 주사위를 sum_x=1_D x_d 만큼 던져서 나온 결과와 같다.\n",
    "   - x = (1, 4, 0, 5) 이면\n",
    "      - d=4\n",
    "      - N=10\n",
    "      - 1이 1번, 2가 4번, 3이 0번, 4가 5번 나온 결과와 같다.\n",
    "   - 각 클래스마다 주사위가 다르다고 가정하면, D개의 면을 가진 주사위가 K개 있는 것과 같다.\n",
    "   - 다항분포 가능도 모형을 기반으로하는 나이브 베이즈 모형은 주사위를 던진 결과로부터 1~K 중 어느 주사위를 던졌는지 찾는 모형과 같다.\n",
    "\n",
    "** sklearn naive bayes model **\n",
    "- GaussianNB : 정규분포 나이브 베이즈 모형\n",
    "- BernoulliNB : 베르누이분포 나이브 베이즈 모형\n",
    "- MultinomialNB : 다항분포 나이브 베이즈 모형\n"
   ]
  },
  {
   "cell_type": "markdown",
   "id": "e548a2d8",
   "metadata": {},
   "source": [
    "# Gaussian Naive bayse model"
   ]
  },
  {
   "cell_type": "code",
   "execution_count": 1,
   "id": "7738e4bc",
   "metadata": {},
   "outputs": [
    {
     "data": {
      "text/plain": [
       "((100, 2), (100,))"
      ]
     },
     "execution_count": 1,
     "metadata": {},
     "output_type": "execute_result"
    }
   ],
   "source": [
    "np.random.seed(0)\n",
    "rv0 = sp.stats.multivariate_normal([-2, -2], [[1, 0.9], [0.9, 2]])\n",
    "rv1 = sp.stats.multivariate_normal([2, 2], [[1.2, -0.8], [-0.8, 2]])\n",
    "X0 = rv0.rvs(40)\n",
    "X1 = rv1.rvs(60)\n",
    "X = np.vstack([X0, X1])\n",
    "y = np.hstack([np.zeros(40), np.ones(60)])\n",
    "\n",
    "X.shape, y.shape"
   ]
  },
  {
   "cell_type": "code",
   "execution_count": 3,
   "id": "b33a562a",
   "metadata": {},
   "outputs": [
    {
     "data": {
      "text/plain": [
       "array([[-3.65937565, -4.27892515],\n",
       "       [-4.11410669, -2.56217408],\n",
       "       [-2.92859796, -4.89992211],\n",
       "       [-2.67683553, -3.35500055],\n",
       "       [-2.1594698 , -1.71569175]])"
      ]
     },
     "execution_count": 3,
     "metadata": {},
     "output_type": "execute_result"
    }
   ],
   "source": [
    "X[:5]"
   ]
  },
  {
   "cell_type": "code",
   "execution_count": 4,
   "id": "369eaec4",
   "metadata": {},
   "outputs": [
    {
     "data": {
      "text/plain": [
       "array([0., 0., 0., 0., 0.])"
      ]
     },
     "execution_count": 4,
     "metadata": {},
     "output_type": "execute_result"
    }
   ],
   "source": [
    "y[:5]"
   ]
  },
  {
   "cell_type": "code",
   "execution_count": 5,
   "id": "cf58dbbe",
   "metadata": {},
   "outputs": [],
   "source": [
    "import matplotlib.pyplot as plt\n",
    "%matplotlib inline"
   ]
  },
  {
   "cell_type": "code",
   "execution_count": 18,
   "id": "201b2e7c",
   "metadata": {},
   "outputs": [],
   "source": [
    "xx1 = np.linspace(-5, 5, 100)\n",
    "xx2 = np.linspace(-5, 5, 100)\n",
    "XX1, XX2 = np.meshgrid(xx1, xx2)"
   ]
  },
  {
   "cell_type": "code",
   "execution_count": 19,
   "id": "106545b5",
   "metadata": {},
   "outputs": [
    {
     "data": {
      "text/plain": [
       "(array([-5. , -2.5,  0. ,  2.5,  5. ]), array([-5. , -2.5,  0. ,  2.5,  5. ]))"
      ]
     },
     "execution_count": 19,
     "metadata": {},
     "output_type": "execute_result"
    }
   ],
   "source": [
    "test_xx1 = np.linspace(-5, 5, 5)\n",
    "test_xx2 = np.linspace(-5, 5, 5)\n",
    "\n",
    "test_xx1, test_xx2"
   ]
  },
  {
   "cell_type": "code",
   "execution_count": 20,
   "id": "d89d2269",
   "metadata": {},
   "outputs": [
    {
     "data": {
      "text/plain": [
       "(array([[-5. , -2.5,  0. ,  2.5,  5. ],\n",
       "        [-5. , -2.5,  0. ,  2.5,  5. ],\n",
       "        [-5. , -2.5,  0. ,  2.5,  5. ],\n",
       "        [-5. , -2.5,  0. ,  2.5,  5. ],\n",
       "        [-5. , -2.5,  0. ,  2.5,  5. ]]),\n",
       " array([[-5. , -5. , -5. , -5. , -5. ],\n",
       "        [-2.5, -2.5, -2.5, -2.5, -2.5],\n",
       "        [ 0. ,  0. ,  0. ,  0. ,  0. ],\n",
       "        [ 2.5,  2.5,  2.5,  2.5,  2.5],\n",
       "        [ 5. ,  5. ,  5. ,  5. ,  5. ]]))"
      ]
     },
     "execution_count": 20,
     "metadata": {},
     "output_type": "execute_result"
    }
   ],
   "source": [
    "test_XX1, test_XX2 = np.meshgrid(test_xx1, test_xx2)\n",
    "test_XX1, test_XX2"
   ]
  },
  {
   "cell_type": "code",
   "execution_count": 21,
   "id": "71773902",
   "metadata": {},
   "outputs": [
    {
     "data": {
      "text/plain": [
       "array([[-5. , -5. , -5. , -5. , -5. ],\n",
       "       [-2.5, -2.5, -2.5, -2.5, -2.5],\n",
       "       [ 0. ,  0. ,  0. ,  0. ,  0. ],\n",
       "       [ 2.5,  2.5,  2.5,  2.5,  2.5],\n",
       "       [ 5. ,  5. ,  5. ,  5. ,  5. ]])"
      ]
     },
     "execution_count": 21,
     "metadata": {},
     "output_type": "execute_result"
    }
   ],
   "source": [
    "test_XX1.T"
   ]
  },
  {
   "cell_type": "code",
   "execution_count": 22,
   "id": "93d9a572",
   "metadata": {},
   "outputs": [
    {
     "data": {
      "image/png": "[encoded data removed]",
      "text/plain": [
       "<Figure size 576x432 with 1 Axes>"
      ]
     },
     "metadata": {
      "image/png": {
       "height": 361,
       "width": 480
      },
      "needs_background": "light"
     },
     "output_type": "display_data"
    }
   ],
   "source": [
    "plt.figure(figsize=(8, 6))\n",
    "plt.contour(XX1, XX2, rv0.pdf(np.dstack([XX1, XX2])), cmap=mpl.cm.cool)\n",
    "plt.contour(XX1, XX2, rv1.pdf(np.dstack([XX1, XX2])), cmap=mpl.cm.hot)\n",
    "plt.scatter(X0[:, 0], X0[:, 1], marker=\"o\", c=\"b\", label=\"y=0\")\n",
    "plt.scatter(X1[:, 0], X1[:, 1], marker=\"s\", c=\"r\", label=\"y=1\")\n",
    "plt.legend()\n",
    "plt.grid(False)\n",
    "plt.axis(\"equal\")\n",
    "plt.show() ; "
   ]
  },
  {
   "cell_type": "code",
   "execution_count": 23,
   "id": "9cf7fad6",
   "metadata": {},
   "outputs": [],
   "source": [
    "from sklearn.naive_bayes import GaussianNB"
   ]
  },
  {
   "cell_type": "code",
   "execution_count": 24,
   "id": "dc50932f",
   "metadata": {},
   "outputs": [
    {
     "data": {
      "text/plain": [
       "GaussianNB()"
      ]
     },
     "execution_count": 24,
     "metadata": {},
     "output_type": "execute_result"
    }
   ],
   "source": [
    "model_norm = GaussianNB().fit(X, y)\n",
    "model_norm"
   ]
  },
  {
   "cell_type": "markdown",
   "id": "468116e9",
   "metadata": {},
   "source": [
    "### class의 종류"
   ]
  },
  {
   "cell_type": "code",
   "execution_count": 25,
   "id": "f5b697d3",
   "metadata": {},
   "outputs": [
    {
     "data": {
      "text/plain": [
       "array([0., 1.])"
      ]
     },
     "execution_count": 25,
     "metadata": {},
     "output_type": "execute_result"
    }
   ],
   "source": [
    "model_norm.classes_"
   ]
  },
  {
   "cell_type": "markdown",
   "id": "abaf8582",
   "metadata": {},
   "source": [
    "### class 별 표본의 수"
   ]
  },
  {
   "cell_type": "code",
   "execution_count": 26,
   "id": "2aa1bbf9",
   "metadata": {},
   "outputs": [
    {
     "data": {
      "text/plain": [
       "array([40., 60.])"
      ]
     },
     "execution_count": 26,
     "metadata": {},
     "output_type": "execute_result"
    }
   ],
   "source": [
    "model_norm.class_count_"
   ]
  },
  {
   "cell_type": "markdown",
   "id": "5bd02eb3",
   "metadata": {},
   "source": [
    "### class 별 사전 확률"
   ]
  },
  {
   "cell_type": "code",
   "execution_count": 27,
   "id": "1f42c5d5",
   "metadata": {},
   "outputs": [
    {
     "data": {
      "text/plain": [
       "array([0.4, 0.6])"
      ]
     },
     "execution_count": 27,
     "metadata": {},
     "output_type": "execute_result"
    }
   ],
   "source": [
    "model_norm.class_prior_"
   ]
  },
  {
   "cell_type": "markdown",
   "id": "bc7ef499",
   "metadata": {},
   "source": [
    "### class 별 x가 이루는 분포의 통계값"
   ]
  },
  {
   "cell_type": "code",
   "execution_count": 28,
   "id": "7956e2ba",
   "metadata": {},
   "outputs": [
    {
     "data": {
      "text/plain": [
       "array([[-1.96197643, -2.00597903],\n",
       "       [ 2.19130701,  2.12626716]])"
      ]
     },
     "execution_count": 28,
     "metadata": {},
     "output_type": "execute_result"
    }
   ],
   "source": [
    "model_norm.theta_"
   ]
  },
  {
   "cell_type": "code",
   "execution_count": 32,
   "id": "3cfd5a60",
   "metadata": {},
   "outputs": [
    {
     "data": {
      "text/plain": [
       "array([[1.02398854, 2.31390497],\n",
       "       [1.25429371, 1.93742544]])"
      ]
     },
     "execution_count": 32,
     "metadata": {},
     "output_type": "execute_result"
    }
   ],
   "source": [
    "model_norm.sigma_"
   ]
  },
  {
   "cell_type": "code",
   "execution_count": 33,
   "id": "3372ae0f",
   "metadata": {},
   "outputs": [
    {
     "data": {
      "text/plain": [
       "(array([-1.96197643, -2.00597903]), array([1.02398854, 2.31390497]))"
      ]
     },
     "execution_count": 33,
     "metadata": {},
     "output_type": "execute_result"
    }
   ],
   "source": [
    "# class 0 인 x 표본의 분포의 기대값과 분산\n",
    "\n",
    "model_norm.theta_[0], model_norm.sigma_[0]"
   ]
  },
  {
   "cell_type": "code",
   "execution_count": 34,
   "id": "56c09456",
   "metadata": {},
   "outputs": [
    {
     "data": {
      "text/plain": [
       "(array([2.19130701, 2.12626716]), array([1.25429371, 1.93742544]))"
      ]
     },
     "execution_count": 34,
     "metadata": {},
     "output_type": "execute_result"
    }
   ],
   "source": [
    "# class 1인 x 표본의 분포의 기댓값과 분산\n",
    "\n",
    "model_norm.theta_[1], model_norm.sigma_[1]"
   ]
  },
  {
   "cell_type": "markdown",
   "id": "a5946f36",
   "metadata": {},
   "source": [
    "### gaussian model로 구한 데이터의 확률분포를 나타내기"
   ]
  },
  {
   "cell_type": "code",
   "execution_count": 44,
   "id": "8ce21d2f",
   "metadata": {},
   "outputs": [
    {
     "data": {
      "image/png": "[encoded data removed]",
      "text/plain": [
       "<Figure size 576x432 with 1 Axes>"
      ]
     },
     "metadata": {
      "image/png": {
       "height": 361,
       "width": 480
      },
      "needs_background": "light"
     },
     "output_type": "display_data"
    }
   ],
   "source": [
    "rv0 = sp.stats.multivariate_normal(model_norm.theta_[0], model_norm.sigma_[0])\n",
    "rv1 = sp.stats.multivariate_normal(model_norm.theta_[1], model_norm.sigma_[1])\n",
    "\n",
    "xx1 = np.linspace(-5, 5, 100)\n",
    "xx2 = np.linspace(-5, 5, 100)\n",
    "XX1, XX2 = np.meshgrid(xx1, xx2)\n",
    "\n",
    "plt.figure(figsize=(8, 6))\n",
    "plt.contour(XX1, XX2, rv0.pdf(np.dstack([XX1, XX2])), cmap=mpl.cm.cool)\n",
    "plt.contour(XX1, XX2, rv1.pdf(np.dstack([XX1, XX2])), cmap=mpl.cm.hot)\n",
    "plt.scatter(X0[:, 0], X0[:, 1], marker=\"o\", c=\"b\", label=\"class0\")\n",
    "plt.scatter(X1[:, 0], X1[:, 1], marker=\"s\", c=\"r\", label=\"class1\")\n",
    "\n",
    "x_new = [0, 0]\n",
    "plt.scatter(x_new[0], x_new[1], marker=\"x\", c=\"g\", s=100, linewidth=5, label=\"x_new\")\n",
    "\n",
    "plt.legend()\n",
    "plt.grid(False)\n",
    "plt.axis(\"equal\")\n",
    "plt.show() ; "
   ]
  },
  {
   "cell_type": "markdown",
   "id": "e9f82413",
   "metadata": {},
   "source": [
    "### x_new 에 대한 모형의 예측값"
   ]
  },
  {
   "cell_type": "code",
   "execution_count": 46,
   "id": "34a32a27",
   "metadata": {},
   "outputs": [
    {
     "data": {
      "text/plain": [
       "array([[0.48475244, 0.51524756]])"
      ]
     },
     "execution_count": 46,
     "metadata": {},
     "output_type": "execute_result"
    }
   ],
   "source": [
    "model_norm.predict_proba([x_new])"
   ]
  },
  {
   "cell_type": "code",
   "execution_count": 52,
   "id": "99ab79bb",
   "metadata": {},
   "outputs": [
    {
     "data": {
      "text/plain": [
       "array([[0.48475244, 0.51524756]])"
      ]
     },
     "execution_count": 52,
     "metadata": {},
     "output_type": "execute_result"
    }
   ],
   "source": [
    "model_norm.predict_proba(np.array(x_new).reshape(1, -1))"
   ]
  },
  {
   "cell_type": "code",
   "execution_count": 56,
   "id": "9e868be9",
   "metadata": {},
   "outputs": [
    {
     "data": {
      "text/plain": [
       "(array([0, 0]), array([[0, 0]]))"
      ]
     },
     "execution_count": 56,
     "metadata": {},
     "output_type": "execute_result"
    }
   ],
   "source": [
    "np.array(x_new), np.array(x_new).reshape(1, -1)"
   ]
  },
  {
   "cell_type": "markdown",
   "id": "d2fd6d93",
   "metadata": {},
   "source": [
    "### gaussian NB 모델에서 예측값이 나오는 과정"
   ]
  },
  {
   "cell_type": "code",
   "execution_count": 59,
   "id": "5cf9a1f7",
   "metadata": {},
   "outputs": [
    {
     "data": {
      "text/plain": [
       "[0.006615760017637307, 0.004687965595148289]"
      ]
     },
     "execution_count": 59,
     "metadata": {},
     "output_type": "execute_result"
    }
   ],
   "source": [
    "# 가능도의 계산 : 정규분포의 확률밀도 함수의 곱\n",
    "\n",
    "likelihood = [(sp.stats.norm(model_norm.theta_[0][0], np.sqrt(model_norm.sigma_[0][0])).pdf(x_new[0]) * \\\n",
    "               sp.stats.norm(model_norm.theta_[0][1], np.sqrt(model_norm.sigma_[0][1])).pdf(x_new[1])),\n",
    "              (sp.stats.norm(model_norm.theta_[1][0], np.sqrt(model_norm.sigma_[1][0])).pdf(x_new[0]) * \\\n",
    "               sp.stats.norm(model_norm.theta_[1][1], np.sqrt(model_norm.sigma_[1][1])).pdf(x_new[1]))]\n",
    "\n",
    "likelihood"
   ]
  },
  {
   "cell_type": "code",
   "execution_count": 62,
   "id": "7e61647c",
   "metadata": {},
   "outputs": [
    {
     "data": {
      "text/plain": [
       "array([0.0026463 , 0.00281278])"
      ]
     },
     "execution_count": 62,
     "metadata": {},
     "output_type": "execute_result"
    }
   ],
   "source": [
    "# 조건부확률 = 가능도 x 사전확률\n",
    "\n",
    "posterior = likelihood * model_norm.class_prior_\n",
    "posterior"
   ]
  },
  {
   "cell_type": "code",
   "execution_count": 63,
   "id": "3bbc376d",
   "metadata": {},
   "outputs": [
    {
     "data": {
      "text/plain": [
       "array([0.48475244, 0.51524756])"
      ]
     },
     "execution_count": 63,
     "metadata": {},
     "output_type": "execute_result"
    }
   ],
   "source": [
    "# 정규화를 하면 x_new에 대한 예측값과 같다.\n",
    "\n",
    "posterior / posterior.sum()"
   ]
  },
  {
   "cell_type": "markdown",
   "id": "3d6a94b8",
   "metadata": {},
   "source": [
    "## GaussianNB with iris data "
   ]
  },
  {
   "cell_type": "code",
   "execution_count": 65,
   "id": "b39c67dc",
   "metadata": {},
   "outputs": [],
   "source": [
    "from sklearn.datasets import load_iris\n",
    "\n",
    "iris = load_iris()\n",
    "X = iris.data\n",
    "y = iris.target"
   ]
  },
  {
   "cell_type": "code",
   "execution_count": 66,
   "id": "b0127085",
   "metadata": {},
   "outputs": [],
   "source": [
    "from sklearn.naive_bayes import GaussianNB"
   ]
  },
  {
   "cell_type": "code",
   "execution_count": 67,
   "id": "b5a78a58",
   "metadata": {},
   "outputs": [
    {
     "data": {
      "text/plain": [
       "GaussianNB()"
      ]
     },
     "execution_count": 67,
     "metadata": {},
     "output_type": "execute_result"
    }
   ],
   "source": [
    "gnb = GaussianNB().fit(X, y)\n",
    "gnb"
   ]
  },
  {
   "cell_type": "code",
   "execution_count": 69,
   "id": "826339b0",
   "metadata": {},
   "outputs": [
    {
     "data": {
      "text/plain": [
       "array([0, 1, 2])"
      ]
     },
     "execution_count": 69,
     "metadata": {},
     "output_type": "execute_result"
    }
   ],
   "source": [
    "gnb.classes_"
   ]
  },
  {
   "cell_type": "code",
   "execution_count": 71,
   "id": "76f89a64",
   "metadata": {},
   "outputs": [
    {
     "data": {
      "text/plain": [
       "array([0.33333333, 0.33333333, 0.33333333])"
      ]
     },
     "execution_count": 71,
     "metadata": {},
     "output_type": "execute_result"
    }
   ],
   "source": [
    "gnb.class_prior_"
   ]
  },
  {
   "cell_type": "code",
   "execution_count": 72,
   "id": "acc85484",
   "metadata": {},
   "outputs": [
    {
     "data": {
      "text/plain": [
       "array([[5.006, 3.428, 1.462, 0.246],\n",
       "       [5.936, 2.77 , 4.26 , 1.326],\n",
       "       [6.588, 2.974, 5.552, 2.026]])"
      ]
     },
     "execution_count": 72,
     "metadata": {},
     "output_type": "execute_result"
    }
   ],
   "source": [
    "gnb.theta_"
   ]
  },
  {
   "cell_type": "code",
   "execution_count": 73,
   "id": "bd9e263c",
   "metadata": {},
   "outputs": [
    {
     "data": {
      "text/plain": [
       "array([[0.121764, 0.140816, 0.029556, 0.010884],\n",
       "       [0.261104, 0.0965  , 0.2164  , 0.038324],\n",
       "       [0.396256, 0.101924, 0.298496, 0.073924]])"
      ]
     },
     "execution_count": 73,
     "metadata": {},
     "output_type": "execute_result"
    }
   ],
   "source": [
    "gnb.sigma_"
   ]
  },
  {
   "cell_type": "code",
   "execution_count": 74,
   "id": "16797c25",
   "metadata": {},
   "outputs": [
    {
     "name": "stdout",
     "output_type": "stream",
     "text": [
      "[[50  0  0]\n",
      " [ 0 47  3]\n",
      " [ 0  3 47]]\n"
     ]
    }
   ],
   "source": [
    "from sklearn.metrics import confusion_matrix\n",
    "y_pred = gnb.predict(X)\n",
    "\n",
    "print(confusion_matrix(y, y_pred))"
   ]
  },
  {
   "cell_type": "code",
   "execution_count": 75,
   "id": "be55948d",
   "metadata": {},
   "outputs": [
    {
     "name": "stdout",
     "output_type": "stream",
     "text": [
      "              precision    recall  f1-score   support\n",
      "\n",
      "           0       1.00      1.00      1.00        50\n",
      "           1       0.94      0.94      0.94        50\n",
      "           2       0.94      0.94      0.94        50\n",
      "\n",
      "    accuracy                           0.96       150\n",
      "   macro avg       0.96      0.96      0.96       150\n",
      "weighted avg       0.96      0.96      0.96       150\n",
      "\n"
     ]
    }
   ],
   "source": [
    "from sklearn.metrics import classification_report\n",
    "\n",
    "print(classification_report(y, y_pred))"
   ]
  },
  {
   "cell_type": "markdown",
   "id": "f4be028b",
   "metadata": {},
   "source": [
    "# Bernoulli Naive Bayse Model"
   ]
  },
  {
   "cell_type": "markdown",
   "id": "7b8cfcd0",
   "metadata": {},
   "source": [
    "## 4세트의 동전, 4개의 키워드"
   ]
  },
  {
   "cell_type": "code",
   "execution_count": 78,
   "id": "b0fea54a",
   "metadata": {},
   "outputs": [
    {
     "data": {
      "text/plain": [
       "array([[0, 1, 1, 0],\n",
       "       [1, 1, 1, 1],\n",
       "       [1, 1, 1, 0],\n",
       "       [0, 1, 0, 0],\n",
       "       [0, 0, 0, 1],\n",
       "       [0, 1, 1, 0],\n",
       "       [0, 1, 1, 1],\n",
       "       [1, 0, 1, 0],\n",
       "       [1, 0, 1, 1],\n",
       "       [0, 1, 1, 0]])"
      ]
     },
     "execution_count": 78,
     "metadata": {},
     "output_type": "execute_result"
    }
   ],
   "source": [
    "X = np.array([\n",
    "    [0, 1, 1, 0],\n",
    "    [1, 1, 1, 1],\n",
    "    [1, 1, 1, 0],\n",
    "    [0, 1, 0, 0],\n",
    "    [0, 0, 0, 1],\n",
    "    [0, 1, 1, 0],\n",
    "    [0, 1, 1, 1],\n",
    "    [1, 0, 1, 0],\n",
    "    [1, 0, 1, 1],\n",
    "    [0, 1, 1, 0]])\n",
    "X"
   ]
  },
  {
   "cell_type": "code",
   "execution_count": 79,
   "id": "8f1b2421",
   "metadata": {},
   "outputs": [
    {
     "data": {
      "text/plain": [
       "array([0, 0, 0, 0, 1, 1, 1, 1, 1, 1])"
      ]
     },
     "execution_count": 79,
     "metadata": {},
     "output_type": "execute_result"
    }
   ],
   "source": [
    "y = np.array([0, 0, 0, 0, 1, 1, 1, 1, 1, 1])\n",
    "y"
   ]
  },
  {
   "cell_type": "code",
   "execution_count": 80,
   "id": "2e994f87",
   "metadata": {},
   "outputs": [],
   "source": [
    "from sklearn.naive_bayes import BernoulliNB"
   ]
  },
  {
   "cell_type": "code",
   "execution_count": 81,
   "id": "769e172c",
   "metadata": {},
   "outputs": [
    {
     "data": {
      "text/plain": [
       "BernoulliNB()"
      ]
     },
     "execution_count": 81,
     "metadata": {},
     "output_type": "execute_result"
    }
   ],
   "source": [
    "bnb = BernoulliNB().fit(X, y)\n",
    "bnb"
   ]
  },
  {
   "cell_type": "markdown",
   "id": "342dac5f",
   "metadata": {},
   "source": [
    "### class 의 종류"
   ]
  },
  {
   "cell_type": "code",
   "execution_count": 83,
   "id": "b198c664",
   "metadata": {},
   "outputs": [
    {
     "data": {
      "text/plain": [
       "array([0, 1])"
      ]
     },
     "execution_count": 83,
     "metadata": {},
     "output_type": "execute_result"
    }
   ],
   "source": [
    "bnb.classes_"
   ]
  },
  {
   "cell_type": "markdown",
   "id": "4e2a8c1b",
   "metadata": {},
   "source": [
    "### class 별 표본 수"
   ]
  },
  {
   "cell_type": "code",
   "execution_count": 86,
   "id": "a3aecf1e",
   "metadata": {},
   "outputs": [
    {
     "data": {
      "text/plain": [
       "array([4., 6.])"
      ]
     },
     "execution_count": 86,
     "metadata": {},
     "output_type": "execute_result"
    }
   ],
   "source": [
    "bnb.class_count_"
   ]
  },
  {
   "cell_type": "markdown",
   "id": "dc89aac5",
   "metadata": {},
   "source": [
    "### class 별 사전확률"
   ]
  },
  {
   "cell_type": "code",
   "execution_count": 88,
   "id": "dd428940",
   "metadata": {},
   "outputs": [
    {
     "data": {
      "text/plain": [
       "array([0.4, 0.6])"
      ]
     },
     "execution_count": 88,
     "metadata": {},
     "output_type": "execute_result"
    }
   ],
   "source": [
    "np.exp(bnb.class_log_prior_)"
   ]
  },
  {
   "cell_type": "markdown",
   "id": "97255480",
   "metadata": {},
   "source": [
    "### class의 d번째 동전의 앞면이 나온 횟수\n",
    "- class 별 d번째 키워드가 나온 횟수"
   ]
  },
  {
   "cell_type": "code",
   "execution_count": 90,
   "id": "36a0dcfe",
   "metadata": {},
   "outputs": [
    {
     "data": {
      "text/plain": [
       "array([[2., 4., 3., 1.],\n",
       "       [2., 3., 5., 3.]])"
      ]
     },
     "execution_count": 90,
     "metadata": {},
     "output_type": "execute_result"
    }
   ],
   "source": [
    "fc = bnb.feature_count_\n",
    "fc"
   ]
  },
  {
   "cell_type": "markdown",
   "id": "0492252d",
   "metadata": {},
   "source": [
    "### class의 d번째 동전의 모수\n",
    "- class 별 d번째 키워드의 확률분포의 모수"
   ]
  },
  {
   "cell_type": "code",
   "execution_count": 93,
   "id": "182d10c5",
   "metadata": {},
   "outputs": [
    {
     "data": {
      "text/plain": [
       "array([[4.],\n",
       "       [6.]])"
      ]
     },
     "execution_count": 93,
     "metadata": {},
     "output_type": "execute_result"
    }
   ],
   "source": [
    "bnb.class_count_[:, np.newaxis]"
   ]
  },
  {
   "cell_type": "code",
   "execution_count": 94,
   "id": "6acc5c17",
   "metadata": {},
   "outputs": [
    {
     "data": {
      "text/plain": [
       "array([[4., 4., 4., 4.],\n",
       "       [6., 6., 6., 6.]])"
      ]
     },
     "execution_count": 94,
     "metadata": {},
     "output_type": "execute_result"
    }
   ],
   "source": [
    "np.repeat(bnb.class_count_[:, np.newaxis], 4, axis=1)"
   ]
  },
  {
   "cell_type": "code",
   "execution_count": 95,
   "id": "41912892",
   "metadata": {},
   "outputs": [
    {
     "data": {
      "text/plain": [
       "array([[0.5       , 1.        , 0.75      , 0.25      ],\n",
       "       [0.33333333, 0.5       , 0.83333333, 0.5       ]])"
      ]
     },
     "execution_count": 95,
     "metadata": {},
     "output_type": "execute_result"
    }
   ],
   "source": [
    "fc / np.repeat(bnb.class_count_[:, np.newaxis], 4, axis=1)"
   ]
  },
  {
   "cell_type": "markdown",
   "id": "c700c316",
   "metadata": {},
   "source": [
    "### 스무딩이 적용된 모수\n",
    "- 모수가 0, 1과 같이 극단적인 값이 나오지 않도록 0.5에 가깝게 조정하는 방법\n",
    "- 라플라스 스무딩, 애드윈 스무딩\n",
    "   - 알파 가중치에 따라서 스무딩의 정도가 달라진다."
   ]
  },
  {
   "cell_type": "code",
   "execution_count": 97,
   "id": "be19c540",
   "metadata": {},
   "outputs": [
    {
     "data": {
      "text/plain": [
       "array([[0.5       , 0.83333333, 0.66666667, 0.33333333],\n",
       "       [0.375     , 0.5       , 0.75      , 0.5       ]])"
      ]
     },
     "execution_count": 97,
     "metadata": {},
     "output_type": "execute_result"
    }
   ],
   "source": [
    "np.exp(bnb.feature_log_prob_)"
   ]
  },
  {
   "cell_type": "code",
   "execution_count": 99,
   "id": "9e2c59af",
   "metadata": {},
   "outputs": [
    {
     "data": {
      "text/plain": [
       "1.0"
      ]
     },
     "execution_count": 99,
     "metadata": {},
     "output_type": "execute_result"
    }
   ],
   "source": [
    "bnb.alpha"
   ]
  },
  {
   "cell_type": "markdown",
   "id": "42213840",
   "metadata": {},
   "source": [
    "### 새로운 표본의 예측값"
   ]
  },
  {
   "cell_type": "code",
   "execution_count": 104,
   "id": "deb75b35",
   "metadata": {},
   "outputs": [
    {
     "data": {
      "text/plain": [
       "array([[0.34501348, 0.65498652]])"
      ]
     },
     "execution_count": 104,
     "metadata": {},
     "output_type": "execute_result"
    }
   ],
   "source": [
    "x_new = np.array([0, 1, 1, 1])\n",
    "\n",
    "bnb.predict_proba([x_new])"
   ]
  },
  {
   "cell_type": "code",
   "execution_count": 105,
   "id": "62348f41",
   "metadata": {},
   "outputs": [
    {
     "data": {
      "text/plain": [
       "array([[0.09530901, 0.90469099]])"
      ]
     },
     "execution_count": 105,
     "metadata": {},
     "output_type": "execute_result"
    }
   ],
   "source": [
    "x_new = np.array([0, 0, 1, 1])\n",
    "\n",
    "bnb.predict_proba([x_new])"
   ]
  },
  {
   "cell_type": "markdown",
   "id": "b510bf33",
   "metadata": {},
   "source": [
    "## mnist digit data"
   ]
  },
  {
   "cell_type": "code",
   "execution_count": 2,
   "id": "9dad387f",
   "metadata": {},
   "outputs": [],
   "source": [
    "from sklearn.datasets import load_digits\n",
    "\n",
    "digit = load_digits()\n",
    "X = digit.data\n",
    "y = digit.target"
   ]
  },
  {
   "cell_type": "code",
   "execution_count": 3,
   "id": "6f5548d0",
   "metadata": {},
   "outputs": [
    {
     "data": {
      "text/plain": [
       "array([ 0.,  0.,  5., 13.,  9.,  1.,  0.,  0.,  0.,  0., 13., 15., 10.,\n",
       "       15.,  5.,  0.,  0.,  3., 15.,  2.,  0., 11.,  8.,  0.,  0.,  4.,\n",
       "       12.,  0.,  0.,  8.,  8.,  0.,  0.,  5.,  8.,  0.,  0.,  9.,  8.,\n",
       "        0.,  0.,  4., 11.,  0.,  1., 12.,  7.,  0.,  0.,  2., 14.,  5.,\n",
       "       10., 12.,  0.,  0.,  0.,  0.,  6., 13., 10.,  0.,  0.,  0.])"
      ]
     },
     "execution_count": 3,
     "metadata": {},
     "output_type": "execute_result"
    }
   ],
   "source": [
    "X[0]"
   ]
  },
  {
   "cell_type": "code",
   "execution_count": 5,
   "id": "63eb64ff",
   "metadata": {},
   "outputs": [],
   "source": [
    "from sklearn.preprocessing import Binarizer"
   ]
  },
  {
   "cell_type": "code",
   "execution_count": 8,
   "id": "e15e6325",
   "metadata": {},
   "outputs": [
    {
     "data": {
      "text/plain": [
       "array([0., 0., 0., 1., 1., 0., 0., 0., 0., 0., 1., 1., 1., 1., 0., 0., 0.,\n",
       "       0., 1., 0., 0., 1., 1., 0., 0., 0., 1., 0., 0., 1., 1., 0., 0., 0.,\n",
       "       1., 0., 0., 1., 1., 0., 0., 0., 1., 0., 0., 1., 0., 0., 0., 0., 1.,\n",
       "       0., 1., 1., 0., 0., 0., 0., 0., 1., 1., 0., 0., 0.])"
      ]
     },
     "execution_count": 8,
     "metadata": {},
     "output_type": "execute_result"
    }
   ],
   "source": [
    "X_bin = Binarizer(threshold=7).fit_transform(X)\n",
    "X_bin[0]"
   ]
  },
  {
   "cell_type": "markdown",
   "id": "5a5c8334",
   "metadata": {},
   "source": [
    "### 2진화 하기 전, 후"
   ]
  },
  {
   "cell_type": "code",
   "execution_count": 9,
   "id": "dffce489",
   "metadata": {},
   "outputs": [],
   "source": [
    "%matplotlib inline"
   ]
  },
  {
   "cell_type": "code",
   "execution_count": 15,
   "id": "97d115df",
   "metadata": {},
   "outputs": [
    {
     "data": {
      "image/png": "[encoded data removed]",
      "text/plain": [
       "<Figure size 576x576 with 2 Axes>"
      ]
     },
     "metadata": {
      "image/png": {
       "height": 306,
       "width": 568
      },
      "needs_background": "light"
     },
     "output_type": "display_data"
    }
   ],
   "source": [
    "plt.figure(figsize=(8, 8))\n",
    "plt.subplot(121)\n",
    "plt.imshow(X[0, :].reshape(8, 8), cmap=plt.cm.binary)\n",
    "plt.title(\"before binarizer\")\n",
    "plt.grid(False) \n",
    "\n",
    "plt.subplot(122)\n",
    "plt.imshow(X_bin[0, :].reshape(8, 8), cmap=plt.cm.binary)\n",
    "plt.title(\"after binarizer\")\n",
    "plt.grid(False)\n",
    "\n",
    "plt.tight_layout()\n",
    "plt.show() ;"
   ]
  },
  {
   "cell_type": "markdown",
   "id": "5071a7e9",
   "metadata": {},
   "source": [
    "### 이진화 전후 데이터에 대한 모형 테스트"
   ]
  },
  {
   "cell_type": "code",
   "execution_count": 19,
   "id": "3d55c5cd",
   "metadata": {},
   "outputs": [],
   "source": [
    "from sklearn.naive_bayes import BernoulliNB\n",
    "from sklearn.metrics import (confusion_matrix, classification_report)"
   ]
  },
  {
   "cell_type": "code",
   "execution_count": 24,
   "id": "22b9821b",
   "metadata": {},
   "outputs": [
    {
     "name": "stdout",
     "output_type": "stream",
     "text": [
      "[[175   1   0   0   2   0   0   0   0   0]\n",
      " [  0 112  21   0   3   1   1   1  32  11]\n",
      " [  0   6 153   6   0   0   0   1  11   0]\n",
      " [  1   1   3 157   0   2   0   3   7   9]\n",
      " [  0   1   0   0 172   0   0   7   1   0]\n",
      " [  2   3   0   2   1 149   2   0   3  20]\n",
      " [  0   5   0   0   2   2 171   0   1   0]\n",
      " [  0   0   0   0   3   0   0 175   1   0]\n",
      " [  0  13   1   4   0   3   2   2 142   7]\n",
      " [  0   6   0   3   7   3   0   9   6 146]]\n"
     ]
    }
   ],
   "source": [
    "bnb = BernoulliNB()\n",
    "bnb.fit(X, y)\n",
    "y_pred = bnb.predict(X)\n",
    "\n",
    "print(confusion_matrix(y, y_pred))"
   ]
  },
  {
   "cell_type": "code",
   "execution_count": 25,
   "id": "a9f6ab0b",
   "metadata": {},
   "outputs": [
    {
     "name": "stdout",
     "output_type": "stream",
     "text": [
      "              precision    recall  f1-score   support\n",
      "\n",
      "           0       0.98      0.98      0.98       178\n",
      "           1       0.76      0.62      0.68       182\n",
      "           2       0.86      0.86      0.86       177\n",
      "           3       0.91      0.86      0.88       183\n",
      "           4       0.91      0.95      0.93       181\n",
      "           5       0.93      0.82      0.87       182\n",
      "           6       0.97      0.94      0.96       181\n",
      "           7       0.88      0.98      0.93       179\n",
      "           8       0.70      0.82      0.75       174\n",
      "           9       0.76      0.81      0.78       180\n",
      "\n",
      "    accuracy                           0.86      1797\n",
      "   macro avg       0.87      0.86      0.86      1797\n",
      "weighted avg       0.87      0.86      0.86      1797\n",
      "\n"
     ]
    }
   ],
   "source": [
    "print(classification_report(y, y_pred))"
   ]
  },
  {
   "cell_type": "code",
   "execution_count": 26,
   "id": "0c45fc12",
   "metadata": {},
   "outputs": [
    {
     "name": "stdout",
     "output_type": "stream",
     "text": [
      "[[173   0   0   0   2   1   1   0   1   0]\n",
      " [  0 145   9   0   0   1   2   0  16   9]\n",
      " [  0   7 159   3   0   0   0   2   4   2]\n",
      " [  0   3   2 156   0   2   0   5   5  10]\n",
      " [  0   4   0   0 170   0   0   4   3   0]\n",
      " [  0   1   0   3   2 161   1   0   0  14]\n",
      " [  1   3   0   0   1   0 174   0   2   0]\n",
      " [  0   0   1   0   1   0   0 177   0   0]\n",
      " [  0  15   2   2   0   6   1   0 143   5]\n",
      " [  0   3   1   3   1   4   0   7   4 157]]\n"
     ]
    }
   ],
   "source": [
    "bnb.fit(X_bin, y)\n",
    "\n",
    "y_pred = bnb.predict(X_bin)\n",
    "\n",
    "print(confusion_matrix(y, y_pred))"
   ]
  },
  {
   "cell_type": "code",
   "execution_count": 27,
   "id": "5051d3ff",
   "metadata": {},
   "outputs": [
    {
     "name": "stdout",
     "output_type": "stream",
     "text": [
      "              precision    recall  f1-score   support\n",
      "\n",
      "           0       0.99      0.97      0.98       178\n",
      "           1       0.80      0.80      0.80       182\n",
      "           2       0.91      0.90      0.91       177\n",
      "           3       0.93      0.85      0.89       183\n",
      "           4       0.96      0.94      0.95       181\n",
      "           5       0.92      0.88      0.90       182\n",
      "           6       0.97      0.96      0.97       181\n",
      "           7       0.91      0.99      0.95       179\n",
      "           8       0.80      0.82      0.81       174\n",
      "           9       0.80      0.87      0.83       180\n",
      "\n",
      "    accuracy                           0.90      1797\n",
      "   macro avg       0.90      0.90      0.90      1797\n",
      "weighted avg       0.90      0.90      0.90      1797\n",
      "\n"
     ]
    }
   ],
   "source": [
    "print(classification_report(y, y_pred))"
   ]
  },
  {
   "cell_type": "code",
   "execution_count": 30,
   "id": "cb2400f8",
   "metadata": {},
   "outputs": [
    {
     "name": "stdout",
     "output_type": "stream",
     "text": [
      "              precision    recall  f1-score   support\n",
      "\n",
      "           0       0.99      0.97      0.98       178\n",
      "           1       0.80      0.80      0.80       182\n",
      "           2       0.91      0.90      0.91       177\n",
      "           3       0.93      0.85      0.89       183\n",
      "           4       0.96      0.94      0.95       181\n",
      "           5       0.92      0.88      0.90       182\n",
      "           6       0.97      0.96      0.97       181\n",
      "           7       0.91      0.99      0.95       179\n",
      "           8       0.80      0.82      0.81       174\n",
      "           9       0.80      0.87      0.83       180\n",
      "\n",
      "    accuracy                           0.90      1797\n",
      "   macro avg       0.90      0.90      0.90      1797\n",
      "weighted avg       0.90      0.90      0.90      1797\n",
      "\n"
     ]
    }
   ],
   "source": [
    "bnb_bin = BernoulliNB(binarize=7).fit(X, y)\n",
    "y_pred = bnb_bin.predict(X)\n",
    "\n",
    "print(classification_report(y, y_pred))"
   ]
  },
  {
   "cell_type": "markdown",
   "id": "d4d898b2",
   "metadata": {},
   "source": [
    "## Multinomial NB Model\n",
    "- 클래스 k 0, 1 별로 4가지 키워드가 나온 현황\n",
    "   - 즉 정상메일과 스팸메일이 각각 4개, 6개 있고\n",
    "   - 각 메일별 키워드 4개가 몇개씩 들어있는지에 대한 데이터\n",
    "- 또는 4면체 주사위를 각 클래스별 총합의 수만큼 던졌을 때 주사위 면이 나온 횟수    "
   ]
  },
  {
   "cell_type": "code",
   "execution_count": 1,
   "id": "631b5fc1",
   "metadata": {},
   "outputs": [],
   "source": [
    "X = np.array([\n",
    "    [3, 4, 1, 2],\n",
    "    [3, 5, 1, 1],\n",
    "    [3, 3, 0, 4],\n",
    "    [3, 4, 1, 2],\n",
    "    [1, 2, 1, 4],\n",
    "    [0, 0, 5, 3],\n",
    "    [1, 2, 4, 1],\n",
    "    [1, 1, 4, 2],\n",
    "    [0, 1, 2, 5],\n",
    "    [2, 1, 2, 3]])\n",
    "y = np.array([0, 0, 0, 0, 1, 1, 1, 1, 1, 1])"
   ]
  },
  {
   "cell_type": "code",
   "execution_count": 2,
   "id": "faec3ee2",
   "metadata": {},
   "outputs": [
    {
     "data": {
      "text/plain": [
       "((10, 4), (10,))"
      ]
     },
     "execution_count": 2,
     "metadata": {},
     "output_type": "execute_result"
    }
   ],
   "source": [
    "X.shape, y.shape"
   ]
  },
  {
   "cell_type": "markdown",
   "id": "1e97b4d0",
   "metadata": {},
   "source": [
    "### 사전 확률"
   ]
  },
  {
   "cell_type": "code",
   "execution_count": 3,
   "id": "7dca3f4e",
   "metadata": {},
   "outputs": [],
   "source": [
    "from sklearn.naive_bayes import MultinomialNB"
   ]
  },
  {
   "cell_type": "code",
   "execution_count": 5,
   "id": "827a90aa",
   "metadata": {},
   "outputs": [
    {
     "data": {
      "text/plain": [
       "MultinomialNB()"
      ]
     },
     "execution_count": 5,
     "metadata": {},
     "output_type": "execute_result"
    }
   ],
   "source": [
    "mnb = MultinomialNB().fit(X, y)\n",
    "mnb"
   ]
  },
  {
   "cell_type": "code",
   "execution_count": 8,
   "id": "f5a5e528",
   "metadata": {},
   "outputs": [
    {
     "data": {
      "text/plain": [
       "array([0, 1])"
      ]
     },
     "execution_count": 8,
     "metadata": {},
     "output_type": "execute_result"
    }
   ],
   "source": [
    "mnb.classes_"
   ]
  },
  {
   "cell_type": "code",
   "execution_count": 9,
   "id": "7b70dfa7",
   "metadata": {},
   "outputs": [
    {
     "data": {
      "text/plain": [
       "array([4., 6.])"
      ]
     },
     "execution_count": 9,
     "metadata": {},
     "output_type": "execute_result"
    }
   ],
   "source": [
    "mnb.class_count_"
   ]
  },
  {
   "cell_type": "code",
   "execution_count": 10,
   "id": "3136fdb7",
   "metadata": {},
   "outputs": [
    {
     "data": {
      "text/plain": [
       "array([0.4, 0.6])"
      ]
     },
     "execution_count": 10,
     "metadata": {},
     "output_type": "execute_result"
    }
   ],
   "source": [
    "np.exp(mnb.class_log_prior_)"
   ]
  },
  {
   "cell_type": "markdown",
   "id": "23e3ccc9",
   "metadata": {},
   "source": [
    "### 클래스별 가능도 확률분포\n",
    "- 클래스 0 정상메일은 키워드 1~4가 각각 12, 16, 3, 9번 나왔다.\n",
    "   - 또는 클래스 0인 주사위를 40번 던진 상황에서 각 면이 몇번씩 나왔는지에 대한 정보\n",
    "- 클래스 1 스팸메일은 키워드 1~4가 각각 5, 7, 18, 18번 나왔다.\n",
    "   - 또는 클래스 1인 주사위를 48번 던진 상황에서 각 면이 몇번씩 나왔는지에 대한 정보"
   ]
  },
  {
   "cell_type": "code",
   "execution_count": 12,
   "id": "3ea858eb",
   "metadata": {},
   "outputs": [
    {
     "data": {
      "text/plain": [
       "array([[12., 16.,  3.,  9.],\n",
       "       [ 5.,  7., 18., 18.]])"
      ]
     },
     "execution_count": 12,
     "metadata": {},
     "output_type": "execute_result"
    }
   ],
   "source": [
    "fc = mnb.feature_count_\n",
    "fc"
   ]
  },
  {
   "cell_type": "code",
   "execution_count": 14,
   "id": "c569af82",
   "metadata": {},
   "outputs": [
    {
     "data": {
      "text/plain": [
       "(40.0, 48.0)"
      ]
     },
     "execution_count": 14,
     "metadata": {},
     "output_type": "execute_result"
    }
   ],
   "source": [
    "fc[0].sum(), fc[1].sum()"
   ]
  },
  {
   "cell_type": "markdown",
   "id": "b682bd00",
   "metadata": {},
   "source": [
    "### 클래스 별 각 면(혹은 키워드)이 나올 확률\n",
    "- 모수값\n",
    "- 이 값에 0.075 같은 극단적인 값을 제거하기 위해 alpha=1 스무딩을 적용한다."
   ]
  },
  {
   "cell_type": "code",
   "execution_count": 17,
   "id": "ab831629",
   "metadata": {},
   "outputs": [
    {
     "data": {
      "text/plain": [
       "array([[40., 40., 40., 40.],\n",
       "       [48., 48., 48., 48.]])"
      ]
     },
     "execution_count": 17,
     "metadata": {},
     "output_type": "execute_result"
    }
   ],
   "source": [
    "np.repeat(fc.sum(axis=1)[:, np.newaxis], 4, axis=1)"
   ]
  },
  {
   "cell_type": "code",
   "execution_count": 15,
   "id": "d1df890b",
   "metadata": {},
   "outputs": [
    {
     "data": {
      "text/plain": [
       "array([[0.3       , 0.4       , 0.075     , 0.225     ],\n",
       "       [0.10416667, 0.14583333, 0.375     , 0.375     ]])"
      ]
     },
     "execution_count": 15,
     "metadata": {},
     "output_type": "execute_result"
    }
   ],
   "source": [
    "fc / np.repeat(fc.sum(axis=1)[:, np.newaxis], 4, axis=1)"
   ]
  },
  {
   "cell_type": "code",
   "execution_count": 19,
   "id": "63b7ae02",
   "metadata": {},
   "outputs": [
    {
     "data": {
      "text/plain": [
       "array([[0.29545455, 0.38636364, 0.09090909, 0.22727273],\n",
       "       [0.11538462, 0.15384615, 0.36538462, 0.36538462]])"
      ]
     },
     "execution_count": 19,
     "metadata": {},
     "output_type": "execute_result"
    }
   ],
   "source": [
    "# 스무딩 적용\n",
    "\n",
    "(fc + mnb.alpha) / \\\n",
    "(np.repeat(fc.sum(axis=1)[:, np.newaxis], 4, axis=1) + mnb.alpha * X.shape[1])"
   ]
  },
  {
   "cell_type": "markdown",
   "id": "01d81b0e",
   "metadata": {},
   "source": [
    "### 모수 추정치\n",
    "- 위에서 구한 스무딩 값과 같다."
   ]
  },
  {
   "cell_type": "code",
   "execution_count": 21,
   "id": "e44877d4",
   "metadata": {},
   "outputs": [
    {
     "data": {
      "text/plain": [
       "array([[0.29545455, 0.38636364, 0.09090909, 0.22727273],\n",
       "       [0.11538462, 0.15384615, 0.36538462, 0.36538462]])"
      ]
     },
     "execution_count": 21,
     "metadata": {},
     "output_type": "execute_result"
    }
   ],
   "source": [
    "theta = np.exp(mnb.feature_log_prob_)\n",
    "theta"
   ]
  },
  {
   "cell_type": "markdown",
   "id": "81ef0ca9",
   "metadata": {},
   "source": [
    "### 이 모수값 추정치를 사용하여 예측"
   ]
  },
  {
   "cell_type": "code",
   "execution_count": 24,
   "id": "b590d476",
   "metadata": {},
   "outputs": [
    {
     "data": {
      "text/plain": [
       "array([[0.38848858, 0.61151142]])"
      ]
     },
     "execution_count": 24,
     "metadata": {},
     "output_type": "execute_result"
    }
   ],
   "source": [
    "# 스펨메일 k=1 일 확률 60%\n",
    "\n",
    "x_new = np.array([10, 10, 10, 10])\n",
    "mnb.predict_proba([x_new])"
   ]
  },
  {
   "cell_type": "code",
   "execution_count": 26,
   "id": "7b696749",
   "metadata": {},
   "outputs": [
    {
     "data": {
      "text/plain": [
       "array([[0.87217513, 0.12782487]])"
      ]
     },
     "execution_count": 26,
     "metadata": {},
     "output_type": "execute_result"
    }
   ],
   "source": [
    "# 정상메일 k=0 일 확률 87%\n",
    "\n",
    "x_new = np.array([10, 10, 10, 5])\n",
    "mnb.predict_proba([x_new])"
   ]
  },
  {
   "cell_type": "markdown",
   "id": "4f6b6cf5",
   "metadata": {},
   "source": [
    "### 다항 분포의 확률질량함수를 사용하여 확률 계산"
   ]
  },
  {
   "cell_type": "code",
   "execution_count": 28,
   "id": "79249055",
   "metadata": {},
   "outputs": [
    {
     "data": {
      "text/plain": [
       "array([0.87217513, 0.12782487])"
      ]
     },
     "execution_count": 28,
     "metadata": {},
     "output_type": "execute_result"
    }
   ],
   "source": [
    "p = (theta ** x_new).prod(axis=1) * np.exp(mnb.class_log_prior_)\n",
    "p / p.sum()"
   ]
  },
  {
   "cell_type": "markdown",
   "id": "9f4a5abd",
   "metadata": {},
   "source": [
    "### MultinomialNB with digits data\n",
    "- 이진화한 데이터를 베르누이 나이브 베이즈 모형으로 분석한 결과와 성능 비교\n",
    "- 다항분포 나이브 베이즈 모형과 베르누이분포 나이브 베이즈 모형의 성능이 비슷하다."
   ]
  },
  {
   "cell_type": "code",
   "execution_count": 29,
   "id": "fbac18cc",
   "metadata": {},
   "outputs": [],
   "source": [
    "from sklearn.datasets import load_digits"
   ]
  },
  {
   "cell_type": "code",
   "execution_count": 30,
   "id": "af1641a2",
   "metadata": {},
   "outputs": [],
   "source": [
    "digits = load_digits()\n",
    "X = digits.data\n",
    "y = digits.target"
   ]
  },
  {
   "cell_type": "code",
   "execution_count": 31,
   "id": "aab2d069",
   "metadata": {},
   "outputs": [
    {
     "data": {
      "text/plain": [
       "array([[ 0.,  0.,  5., 13.,  9.,  1.,  0.,  0.,  0.,  0., 13., 15., 10.,\n",
       "        15.,  5.,  0.,  0.,  3., 15.,  2.,  0., 11.,  8.,  0.,  0.,  4.,\n",
       "        12.,  0.,  0.,  8.,  8.,  0.,  0.,  5.,  8.,  0.,  0.,  9.,  8.,\n",
       "         0.,  0.,  4., 11.,  0.,  1., 12.,  7.,  0.,  0.,  2., 14.,  5.,\n",
       "        10., 12.,  0.,  0.,  0.,  0.,  6., 13., 10.,  0.,  0.,  0.],\n",
       "       [ 0.,  0.,  0., 12., 13.,  5.,  0.,  0.,  0.,  0.,  0., 11., 16.,\n",
       "         9.,  0.,  0.,  0.,  0.,  3., 15., 16.,  6.,  0.,  0.,  0.,  7.,\n",
       "        15., 16., 16.,  2.,  0.,  0.,  0.,  0.,  1., 16., 16.,  3.,  0.,\n",
       "         0.,  0.,  0.,  1., 16., 16.,  6.,  0.,  0.,  0.,  0.,  1., 16.,\n",
       "        16.,  6.,  0.,  0.,  0.,  0.,  0., 11., 16., 10.,  0.,  0.]])"
      ]
     },
     "execution_count": 31,
     "metadata": {},
     "output_type": "execute_result"
    }
   ],
   "source": [
    "X[:2]"
   ]
  },
  {
   "cell_type": "code",
   "execution_count": 32,
   "id": "ed65a9e8",
   "metadata": {},
   "outputs": [
    {
     "data": {
      "text/plain": [
       "array([0, 1])"
      ]
     },
     "execution_count": 32,
     "metadata": {},
     "output_type": "execute_result"
    }
   ],
   "source": [
    "y[:2]"
   ]
  },
  {
   "cell_type": "code",
   "execution_count": 34,
   "id": "37da6bf1",
   "metadata": {},
   "outputs": [],
   "source": [
    "from sklearn.metrics import classification_report"
   ]
  },
  {
   "cell_type": "code",
   "execution_count": 35,
   "id": "98f97700",
   "metadata": {},
   "outputs": [
    {
     "name": "stdout",
     "output_type": "stream",
     "text": [
      "              precision    recall  f1-score   support\n",
      "\n",
      "           0       0.99      0.98      0.99       178\n",
      "           1       0.87      0.75      0.81       182\n",
      "           2       0.90      0.90      0.90       177\n",
      "           3       0.99      0.87      0.93       183\n",
      "           4       0.96      0.96      0.96       181\n",
      "           5       0.97      0.86      0.91       182\n",
      "           6       0.98      0.97      0.98       181\n",
      "           7       0.89      0.99      0.94       179\n",
      "           8       0.78      0.89      0.83       174\n",
      "           9       0.76      0.88      0.82       180\n",
      "\n",
      "    accuracy                           0.91      1797\n",
      "   macro avg       0.91      0.91      0.91      1797\n",
      "weighted avg       0.91      0.91      0.91      1797\n",
      "\n"
     ]
    }
   ],
   "source": [
    "mnb = MultinomialNB()\n",
    "mnb.fit(X, y)\n",
    "y_pred = mnb.predict(X)\n",
    "\n",
    "print(classification_report(y, y_pred))"
   ]
  },
  {
   "cell_type": "markdown",
   "id": "fb09aed3",
   "metadata": {},
   "source": [
    "#### 속성값"
   ]
  },
  {
   "cell_type": "code",
   "execution_count": 41,
   "id": "458c7847",
   "metadata": {},
   "outputs": [
    {
     "data": {
      "text/plain": [
       "array([0, 1, 2, 3, 4, 5, 6, 7, 8, 9])"
      ]
     },
     "execution_count": 41,
     "metadata": {},
     "output_type": "execute_result"
    }
   ],
   "source": [
    "# 클래스 종류\n",
    "\n",
    "mnb.classes_"
   ]
  },
  {
   "cell_type": "code",
   "execution_count": 40,
   "id": "60184778",
   "metadata": {},
   "outputs": [
    {
     "data": {
      "text/plain": [
       "array([-2.31209034, -2.2898672 , -2.31772415, -2.28438773, -2.29537686,\n",
       "       -2.2898672 , -2.29537686, -2.30648808, -2.33481859, -2.30091704])"
      ]
     },
     "execution_count": 40,
     "metadata": {},
     "output_type": "execute_result"
    }
   ],
   "source": [
    "# 클래스 별 사전확률\n",
    "\n",
    "mnb.class_log_prior_"
   ]
  },
  {
   "cell_type": "code",
   "execution_count": 43,
   "id": "c008190c",
   "metadata": {},
   "outputs": [
    {
     "data": {
      "text/plain": [
       "array([178., 182., 177., 183., 181., 182., 181., 179., 174., 180.])"
      ]
     },
     "execution_count": 43,
     "metadata": {},
     "output_type": "execute_result"
    }
   ],
   "source": [
    "# 클래스별 분포\n",
    "\n",
    "mnb.class_count_"
   ]
  },
  {
   "cell_type": "code",
   "execution_count": 46,
   "id": "4af4c81b",
   "metadata": {},
   "outputs": [
    {
     "data": {
      "text/plain": [
       "((178,), (182,))"
      ]
     },
     "execution_count": 46,
     "metadata": {},
     "output_type": "execute_result"
    }
   ],
   "source": [
    "y[y==0].shape, y[y==1].shape"
   ]
  },
  {
   "cell_type": "code",
   "execution_count": 50,
   "id": "707d3d0c",
   "metadata": {},
   "outputs": [
    {
     "data": {
      "text/plain": [
       "(10, 64)"
      ]
     },
     "execution_count": 50,
     "metadata": {},
     "output_type": "execute_result"
    }
   ],
   "source": [
    "# 클래스별 64개의 키워드 등장 횟수\n",
    "\n",
    "fc = mnb.feature_count_\n",
    "fc.shape"
   ]
  },
  {
   "cell_type": "code",
   "execution_count": 51,
   "id": "c824ce71",
   "metadata": {},
   "outputs": [
    {
     "data": {
      "text/plain": [
       "array([[0.00000000e+00, 7.09031286e-05, 1.32057077e-02, 4.13187982e-02,\n",
       "        3.56465479e-02, 9.23513250e-03, 1.06354693e-04, 0.00000000e+00,\n",
       "        0.00000000e+00, 2.80067358e-03, 3.96880262e-02, 4.21873615e-02,\n",
       "        3.62669503e-02, 3.58947089e-02, 3.04883453e-03, 0.00000000e+00,\n",
       "        0.00000000e+00, 1.17699193e-02, 4.50412124e-02, 1.66090579e-02,\n",
       "        6.62944252e-03, 3.83940441e-02, 1.11140654e-02, 0.00000000e+00,\n",
       "        0.00000000e+00, 1.66976868e-02, 4.01134450e-02, 6.29265266e-03,\n",
       "        4.43144554e-04, 2.85916866e-02, 2.03491979e-02, 0.00000000e+00,\n",
       "        0.00000000e+00, 1.85234423e-02, 3.64619339e-02, 2.81839936e-03,\n",
       "        1.41806257e-04, 2.76876717e-02, 2.24762918e-02, 0.00000000e+00,\n",
       "        0.00000000e+00, 1.10254365e-02, 4.19214748e-02, 5.21137995e-03,\n",
       "        4.83913853e-03, 3.56819995e-02, 1.84702650e-02, 0.00000000e+00,\n",
       "        0.00000000e+00, 2.51706107e-03, 4.11947177e-02, 3.14278118e-02,\n",
       "        3.26508907e-02, 4.18151201e-02, 7.62208632e-03, 0.00000000e+00,\n",
       "        0.00000000e+00, 1.77257822e-05, 1.31170788e-02, 4.27900381e-02,\n",
       "        4.20455553e-02, 1.71585571e-02, 8.68563325e-04, 0.00000000e+00],\n",
       "       [0.00000000e+00, 3.50834108e-05, 7.84114232e-03, 2.93998983e-02,\n",
       "        3.32239900e-02, 1.94011262e-02, 3.17504868e-03, 0.00000000e+00,\n",
       "        0.00000000e+00, 2.98208992e-04, 1.29808620e-02, 4.07493817e-02,\n",
       "        4.45208483e-02, 2.69616012e-02, 3.84163348e-03, 0.00000000e+00,\n",
       "        3.50834108e-05, 3.52588279e-03, 2.25235497e-02, 4.74327714e-02,\n",
       "        4.52225165e-02, 2.35935938e-02, 2.22779659e-03, 0.00000000e+00,\n",
       "        1.75417054e-05, 6.78863999e-03, 2.89788973e-02, 4.56084341e-02,\n",
       "        4.42577227e-02, 1.99624608e-02, 1.17529426e-03, 0.00000000e+00,\n",
       "        0.00000000e+00, 3.68375813e-03, 2.18043398e-02, 3.78900837e-02,\n",
       "        4.37139299e-02, 1.77171225e-02, 1.15775256e-03, 0.00000000e+00,\n",
       "        0.00000000e+00, 1.38579473e-03, 1.65242865e-02, 3.28380725e-02,\n",
       "        4.28193029e-02, 1.87696248e-02, 1.12266915e-03, 0.00000000e+00,\n",
       "        0.00000000e+00, 3.68375813e-04, 1.51560335e-02, 3.49430772e-02,\n",
       "        4.33455541e-02, 2.45583876e-02, 6.54305612e-03, 2.05237953e-03,\n",
       "        0.00000000e+00, 1.75417054e-05, 7.15701581e-03, 2.91718561e-02,\n",
       "        4.15913835e-02, 2.73826021e-02, 9.73564650e-03, 4.77134387e-03],\n",
       "       [0.00000000e+00, 2.96944174e-03, 3.07922111e-02, 4.51895044e-02,\n",
       "        3.06662347e-02, 7.59457222e-03, 3.41935716e-04, 0.00000000e+00,\n",
       "        3.59932333e-05, 1.68088399e-02, 4.39837311e-02, 3.85667495e-02,\n",
       "        4.00064788e-02, 1.75287046e-02, 1.33174963e-03, 0.00000000e+00,\n",
       "        1.79966166e-05, 1.44512832e-02, 2.49973005e-02, 1.44692798e-02,\n",
       "        3.69470540e-02, 1.88964475e-02, 1.49371918e-03, 0.00000000e+00,\n",
       "        0.00000000e+00, 2.73548573e-03, 5.52496131e-03, 1.50991614e-02,\n",
       "        3.85307562e-02, 1.41273441e-02, 7.91851132e-04, 0.00000000e+00,\n",
       "        0.00000000e+00, 1.97962783e-04, 3.90526581e-03, 2.79127524e-02,\n",
       "        3.34197171e-02, 7.23463989e-03, 1.97962783e-04, 0.00000000e+00,\n",
       "        0.00000000e+00, 1.83565490e-03, 1.70607926e-02, 3.77748983e-02,\n",
       "        2.31436490e-02, 6.55076846e-03, 3.05942483e-03, 5.39898499e-05,\n",
       "        5.39898499e-05, 4.51715078e-03, 3.56153043e-02, 4.54774502e-02,\n",
       "        3.83147968e-02, 3.38876291e-02, 2.28736997e-02, 2.26757370e-03,\n",
       "        1.79966166e-05, 3.00543498e-03, 3.21599539e-02, 4.44876363e-02,\n",
       "        4.17881438e-02, 3.75769355e-02, 2.55551956e-02, 6.15484289e-03],\n",
       "       [0.00000000e+00, 2.10147638e-03, 2.73370020e-02, 4.61790529e-02,\n",
       "        4.63571441e-02, 2.43806878e-02, 2.56451354e-03, 1.78091218e-05,\n",
       "        3.56182437e-05, 1.37130238e-02, 4.12459262e-02, 2.92960054e-02,\n",
       "        3.67758366e-02, 3.90910224e-02, 6.87432103e-03, 5.34273655e-05,\n",
       "        1.78091218e-05, 7.24831259e-03, 1.20745846e-02, 1.01333903e-02,\n",
       "        3.91978772e-02, 3.03823618e-02, 2.65355915e-03, 0.00000000e+00,\n",
       "        0.00000000e+00, 9.61692579e-04, 4.75503553e-03, 2.91357233e-02,\n",
       "        4.65174262e-02, 1.82721590e-02, 2.67136827e-04, 0.00000000e+00,\n",
       "        0.00000000e+00, 1.95900340e-04, 3.41935139e-03, 1.83790137e-02,\n",
       "        3.92691136e-02, 3.67580275e-02, 7.15926698e-03, 0.00000000e+00,\n",
       "        0.00000000e+00, 1.38911150e-03, 4.55913519e-03, 3.15221456e-03,\n",
       "        1.43719613e-02, 3.95540596e-02, 2.05873448e-02, 0.00000000e+00,\n",
       "        0.00000000e+00, 2.83165037e-03, 2.31874766e-02, 2.03023989e-02,\n",
       "        2.69273922e-02, 4.24213282e-02, 1.93228972e-02, 2.13709462e-04,\n",
       "        0.00000000e+00, 1.63843921e-03, 3.03645527e-02, 4.77462556e-02,\n",
       "        4.55379245e-02, 2.82630763e-02, 4.59475343e-03, 2.13709462e-04],\n",
       "       [0.00000000e+00, 0.00000000e+00, 1.45806291e-03, 2.27066626e-02,\n",
       "        3.70027917e-02, 6.47237682e-03, 6.75687690e-04, 4.08968865e-04,\n",
       "        0.00000000e+00, 1.95593805e-04, 1.11844094e-02, 4.26927933e-02,\n",
       "        2.72053202e-02, 6.59684561e-03, 3.68071979e-03, 9.60187770e-04,\n",
       "        0.00000000e+00, 2.32934441e-03, 3.37132595e-02, 3.67005103e-02,\n",
       "        1.57186294e-02, 1.86347552e-02, 1.23757535e-02, 1.08465656e-03,\n",
       "        1.77812550e-05, 1.49362542e-02, 4.66224506e-02, 2.04484433e-02,\n",
       "        2.36668504e-02, 3.42111346e-02, 1.97371931e-02, 7.11250200e-05,\n",
       "        0.00000000e+00, 2.76142890e-02, 4.69425132e-02, 3.12594463e-02,\n",
       "        4.18926368e-02, 4.48976689e-02, 1.70700048e-02, 0.00000000e+00,\n",
       "        2.84500080e-04, 2.02706307e-02, 3.62559789e-02, 3.99189175e-02,\n",
       "        4.70492007e-02, 3.35887907e-02, 5.17434521e-03, 0.00000000e+00,\n",
       "        1.77812550e-04, 3.50290724e-03, 9.37072139e-03, 2.51604758e-02,\n",
       "        4.32973559e-02, 1.33892850e-02, 7.11250200e-05, 0.00000000e+00,\n",
       "        0.00000000e+00, 7.11250200e-05, 1.77812550e-03, 2.51426946e-02,\n",
       "        3.80163232e-02, 6.29456427e-03, 0.00000000e+00, 0.00000000e+00],\n",
       "       [0.00000000e+00, 3.14763480e-03, 3.24957525e-02, 4.24394170e-02,\n",
       "        4.52293660e-02, 3.96494679e-02, 1.34847536e-02, 1.43074309e-04,\n",
       "        1.78842887e-05, 1.26799607e-02, 4.81802736e-02, 3.91665921e-02,\n",
       "        2.68264330e-02, 2.02807833e-02, 6.88545113e-03, 1.07305732e-04,\n",
       "        0.00000000e+00, 1.81883216e-02, 4.66958777e-02, 1.85460073e-02,\n",
       "        6.27738532e-03, 1.89573460e-03, 1.78842887e-04, 0.00000000e+00,\n",
       "        0.00000000e+00, 1.74729500e-02, 4.66064562e-02, 3.91844764e-02,\n",
       "        2.92050434e-02, 1.35384065e-02, 1.25190021e-03, 0.00000000e+00,\n",
       "        0.00000000e+00, 6.31315389e-03, 2.49128141e-02, 2.74344988e-02,\n",
       "        2.87579362e-02, 2.48591612e-02, 5.90181526e-03, 0.00000000e+00,\n",
       "        0.00000000e+00, 8.22677278e-04, 4.11338639e-03, 1.19467048e-02,\n",
       "        2.40543682e-02, 2.66118215e-02, 7.74389699e-03, 0.00000000e+00,\n",
       "        0.00000000e+00, 2.70052759e-03, 1.87785031e-02, 2.66475901e-02,\n",
       "        3.52857015e-02, 2.38397568e-02, 4.34588214e-03, 0.00000000e+00,\n",
       "        0.00000000e+00, 3.11186623e-03, 3.47134043e-02, 4.79656622e-02,\n",
       "        3.04748279e-02, 8.24465707e-03, 6.43834391e-04, 0.00000000e+00],\n",
       "       [0.00000000e+00, 0.00000000e+00, 3.65663164e-03, 3.58740415e-02,\n",
       "        3.07973587e-02, 4.65066742e-03, 3.55012780e-05, 0.00000000e+00,\n",
       "        0.00000000e+00, 1.06503834e-04, 2.29160750e-02, 4.66486794e-02,\n",
       "        1.99339676e-02, 2.82235160e-03, 1.59755751e-04, 0.00000000e+00,\n",
       "        0.00000000e+00, 2.37858563e-03, 4.02406987e-02, 3.06021017e-02,\n",
       "        2.99985799e-03, 3.37262141e-04, 1.77506390e-05, 0.00000000e+00,\n",
       "        0.00000000e+00, 7.43751775e-03, 4.40038341e-02, 2.60579381e-02,\n",
       "        1.24786992e-02, 6.51448452e-03, 4.43765976e-04, 0.00000000e+00,\n",
       "        0.00000000e+00, 1.15024141e-02, 4.73587049e-02, 4.13767396e-02,\n",
       "        3.86608918e-02, 3.32114456e-02, 9.10607782e-03, 0.00000000e+00,\n",
       "        0.00000000e+00, 6.19497302e-03, 4.71811985e-02, 3.44362397e-02,\n",
       "        1.79636467e-02, 3.25191707e-02, 2.96080659e-02, 7.45526839e-04,\n",
       "        0.00000000e+00, 6.21272366e-04, 3.33179494e-02, 4.06844646e-02,\n",
       "        1.78038909e-02, 3.62290542e-02, 3.46314967e-02, 1.68631071e-03,\n",
       "        0.00000000e+00, 0.00000000e+00, 4.61516615e-03, 3.43297359e-02,\n",
       "        4.84947458e-02, 4.19092587e-02, 1.43957682e-02, 3.01760863e-04],\n",
       "       [0.00000000e+00, 5.52598132e-04, 1.68174032e-02, 4.30658144e-02,\n",
       "        4.69708412e-02, 3.63609571e-02, 1.71121222e-02, 3.29716886e-03,\n",
       "        0.00000000e+00, 3.61030780e-03, 3.47215826e-02, 3.86081895e-02,\n",
       "        3.68214555e-02, 4.10212013e-02, 1.76647203e-02, 2.00777321e-03,\n",
       "        0.00000000e+00, 2.68931091e-03, 1.59332461e-02, 7.64427416e-03,\n",
       "        2.33749010e-02, 3.71345945e-02, 1.04809446e-02, 3.86818693e-04,\n",
       "        0.00000000e+00, 2.02619315e-03, 1.43307116e-02, 2.06119103e-02,\n",
       "        4.00081048e-02, 4.06712225e-02, 1.66884636e-02, 0.00000000e+00,\n",
       "        0.00000000e+00, 4.89970344e-03, 2.99139789e-02, 4.43183702e-02,\n",
       "        4.86838954e-02, 3.75029932e-02, 1.45517508e-02, 0.00000000e+00,\n",
       "        0.00000000e+00, 3.70240749e-03, 1.79594393e-02, 3.87187091e-02,\n",
       "        3.57715191e-02, 1.27834368e-02, 2.02619315e-03, 0.00000000e+00,\n",
       "        0.00000000e+00, 3.31558879e-04, 1.02599053e-02, 4.07633222e-02,\n",
       "        1.93593546e-02, 6.07857945e-04, 0.00000000e+00, 0.00000000e+00,\n",
       "        0.00000000e+00, 4.05238630e-04, 2.10724088e-02, 3.84424101e-02,\n",
       "        7.27587541e-03, 3.68398755e-05, 0.00000000e+00, 0.00000000e+00],\n",
       "       [0.00000000e+00, 4.35479376e-04, 1.52243590e-02, 3.51693144e-02,\n",
       "        3.75905797e-02, 1.88998049e-02, 1.60256410e-03, 0.00000000e+00,\n",
       "        8.70958751e-05, 5.99219621e-03, 3.72421962e-02, 3.47512542e-02,\n",
       "        2.83061594e-02, 3.52738294e-02, 7.62959866e-03, 0.00000000e+00,\n",
       "        1.74191750e-05, 8.93603679e-03, 3.50996377e-02, 2.25578317e-02,\n",
       "        2.40210424e-02, 3.53957637e-02, 6.51477146e-03, 0.00000000e+00,\n",
       "        0.00000000e+00, 3.57093088e-03, 2.59197324e-02, 4.00641026e-02,\n",
       "        4.03776477e-02, 2.12688127e-02, 1.55030658e-03, 0.00000000e+00,\n",
       "        0.00000000e+00, 1.34127648e-03, 2.11468785e-02, 4.25202062e-02,\n",
       "        3.91583055e-02, 1.31863155e-02, 3.13545151e-04, 0.00000000e+00,\n",
       "        0.00000000e+00, 3.50125418e-03, 3.23822464e-02, 2.58152174e-02,\n",
       "        2.77487458e-02, 2.57107023e-02, 3.90189521e-03, 0.00000000e+00,\n",
       "        0.00000000e+00, 3.01351728e-03, 3.32532051e-02, 2.45087793e-02,\n",
       "        2.54145764e-02, 2.89158305e-02, 7.01992754e-03, 1.74191750e-05,\n",
       "        0.00000000e+00, 4.35479376e-04, 1.51721014e-02, 3.84789576e-02,\n",
       "        3.94370123e-02, 2.04152731e-02, 3.65802676e-03, 3.48383501e-05],\n",
       "       [0.00000000e+00, 4.61058306e-04, 1.81408710e-02, 3.77713151e-02,\n",
       "        3.59270819e-02, 1.89743226e-02, 5.01844233e-03, 3.90126259e-04,\n",
       "        0.00000000e+00, 7.76705916e-03, 4.04489999e-02, 3.06071783e-02,\n",
       "        3.23272805e-02, 3.62640091e-02, 8.31678252e-03, 3.90126259e-04,\n",
       "        0.00000000e+00, 1.16860548e-02, 3.98992765e-02, 1.80344730e-02,\n",
       "        2.65463186e-02, 4.50418499e-02, 1.02496808e-02, 1.41864094e-04,\n",
       "        0.00000000e+00, 6.24202014e-03, 3.32493971e-02, 3.89062278e-02,\n",
       "        4.22223010e-02, 4.48822528e-02, 1.22535111e-02, 0.00000000e+00,\n",
       "        0.00000000e+00, 5.31990353e-04, 9.39849624e-03, 1.64917010e-02,\n",
       "        1.62611718e-02, 3.71683927e-02, 1.54277202e-02, 0.00000000e+00,\n",
       "        0.00000000e+00, 4.96524330e-04, 1.66690311e-03, 1.95063130e-03,\n",
       "        7.83799120e-03, 3.11037027e-02, 1.86728614e-02, 7.09320471e-05,\n",
       "        0.00000000e+00, 2.11022840e-03, 1.95240460e-02, 1.58355795e-02,\n",
       "        1.85487303e-02, 3.36040573e-02, 1.65626330e-02, 3.54660235e-04,\n",
       "        0.00000000e+00, 2.83728188e-04, 1.82827351e-02, 3.84451695e-02,\n",
       "        4.19563059e-02, 2.83905519e-02, 6.68534544e-03, 1.77330118e-04]])"
      ]
     },
     "execution_count": 51,
     "metadata": {},
     "output_type": "execute_result"
    }
   ],
   "source": [
    "# 클래스별 키워드별 확률\n",
    "\n",
    "fc / np.repeat(fc.sum(axis=1)[:, np.newaxis], 64, axis=1)"
   ]
  },
  {
   "cell_type": "code",
   "execution_count": 53,
   "id": "c1ae30ea",
   "metadata": {},
   "outputs": [
    {
     "data": {
      "text/plain": [
       "array([[1.77056959e-05, 8.85284796e-05, 1.32084492e-02, 4.12896829e-02,\n",
       "        3.56238602e-02, 9.24237327e-03, 1.23939871e-04, 1.77056959e-05,\n",
       "        1.77056959e-05, 2.81520565e-03, 3.96607589e-02, 4.21572620e-02,\n",
       "        3.62435596e-02, 3.58717399e-02, 3.06308539e-03, 1.77056959e-05,\n",
       "        1.77056959e-05, 1.17742878e-02, 4.50078790e-02, 1.66079428e-02,\n",
       "        6.63963597e-03, 3.83682431e-02, 1.11191770e-02, 1.77056959e-05,\n",
       "        1.77056959e-05, 1.66964713e-02, 4.00856956e-02, 6.30322775e-03,\n",
       "        4.60348094e-04, 2.85769932e-02, 2.03438446e-02, 1.77056959e-05,\n",
       "        1.77056959e-05, 1.85201579e-02, 3.64383222e-02, 2.83291135e-03,\n",
       "        1.59351263e-04, 2.76740027e-02, 2.24685281e-02, 1.77056959e-05,\n",
       "        1.77056959e-05, 1.10306486e-02, 4.18916766e-02, 5.22318030e-03,\n",
       "        4.85136068e-03, 3.56592716e-02, 1.84670408e-02, 1.77056959e-05,\n",
       "        1.77056959e-05, 2.53191452e-03, 4.11657430e-02, 3.14099046e-02,\n",
       "        3.26315976e-02, 4.17854424e-02, 7.63115494e-03, 1.77056959e-05,\n",
       "        1.77056959e-05, 3.54113918e-05, 1.31199207e-02, 4.27592557e-02,\n",
       "        4.20156164e-02, 1.71568193e-02, 8.85284796e-04, 1.77056959e-05],\n",
       "       [1.75220340e-05, 5.25661019e-05, 7.84987121e-03, 2.93844509e-02,\n",
       "        3.32042543e-02, 1.93968916e-02, 3.18901018e-03, 1.75220340e-05,\n",
       "        1.75220340e-05, 3.15396611e-04, 1.29838272e-02, 4.07212069e-02,\n",
       "        4.44884442e-02, 2.69488882e-02, 3.85484747e-03, 1.75220340e-05,\n",
       "        5.25661019e-05, 3.53945086e-03, 2.25158136e-02, 4.73971019e-02,\n",
       "        4.51893256e-02, 2.35846577e-02, 2.24282035e-03, 1.75220340e-05,\n",
       "        3.50440679e-05, 6.79854918e-03, 2.89639221e-02, 4.55748103e-02,\n",
       "        4.42256137e-02, 1.99575967e-02, 1.19149831e-03, 1.75220340e-05,\n",
       "        1.75220340e-05, 3.69714917e-03, 2.17974102e-02, 3.78651154e-02,\n",
       "        4.36824307e-02, 1.77147763e-02, 1.17397628e-03, 1.75220340e-05,\n",
       "        1.75220340e-05, 1.40176272e-03, 1.65232780e-02, 3.28187696e-02,\n",
       "        4.27888069e-02, 1.87660984e-02, 1.13893221e-03, 1.75220340e-05,\n",
       "        1.75220340e-05, 3.85484747e-04, 1.51565594e-02, 3.49214137e-02,\n",
       "        4.33144679e-02, 2.45483696e-02, 6.55324070e-03, 2.06760001e-03,\n",
       "        1.75220340e-05, 3.50440679e-05, 7.16651189e-03, 2.91566645e-02,\n",
       "        4.15622645e-02, 2.73694170e-02, 9.74225088e-03, 4.78351527e-03],\n",
       "       [1.79759123e-05, 2.98400144e-03, 3.07747618e-02, 4.51554916e-02,\n",
       "        3.06489304e-02, 7.60381089e-03, 3.59518246e-04, 1.79759123e-05,\n",
       "        5.39277368e-05, 1.68074780e-02, 4.39511055e-02, 3.85403559e-02,\n",
       "        3.99784289e-02, 1.75265145e-02, 1.34819342e-03, 1.79759123e-05,\n",
       "        3.59518246e-05, 1.44526335e-02, 2.49865181e-02, 1.44706094e-02,\n",
       "        3.69225238e-02, 1.88926838e-02, 1.50997663e-03, 1.79759123e-05,\n",
       "        1.79759123e-05, 2.75031458e-03, 5.53658098e-03, 1.50997663e-02,\n",
       "        3.85044041e-02, 1.41290671e-02, 8.08916052e-04, 1.79759123e-05,\n",
       "        1.79759123e-05, 2.15710947e-04, 3.91874888e-03, 2.78986159e-02,\n",
       "        3.33992450e-02, 7.24429265e-03, 2.15710947e-04, 1.79759123e-05,\n",
       "        1.79759123e-05, 1.85151896e-03, 1.70591408e-02, 3.77494158e-02,\n",
       "        2.31349991e-02, 6.56120798e-03, 3.07388100e-03, 7.19036491e-05,\n",
       "        7.19036491e-05, 4.52992989e-03, 3.55923063e-02, 4.54431062e-02,\n",
       "        3.82886932e-02, 3.38666187e-02, 2.28653604e-02, 2.28294086e-03,\n",
       "        3.59518246e-05, 3.01995326e-03, 3.21409312e-02, 4.44544311e-02,\n",
       "        4.17580442e-02, 3.75516807e-02, 2.55437713e-02, 6.16573791e-03],\n",
       "       [1.77888464e-05, 2.11687272e-03, 2.73236681e-02, 4.61442675e-02,\n",
       "        4.63221560e-02, 2.43707196e-02, 2.57938273e-03, 3.55776928e-05,\n",
       "        5.33665392e-05, 1.37152006e-02, 4.12167571e-02, 2.92804412e-02,\n",
       "        3.67517566e-02, 3.90643067e-02, 6.88428355e-03, 7.11553856e-05,\n",
       "        3.55776928e-05, 7.25784933e-03, 1.20786267e-02, 1.01396424e-02,\n",
       "        3.91710398e-02, 3.03655608e-02, 2.66832696e-03, 1.77888464e-05,\n",
       "        1.77888464e-05, 9.78386552e-04, 4.76741083e-03, 2.91203415e-02,\n",
       "        4.64822556e-02, 1.82691452e-02, 2.84621542e-04, 1.77888464e-05,\n",
       "        1.77888464e-05, 2.13466157e-04, 3.43324735e-03, 1.83758783e-02,\n",
       "        3.92421951e-02, 3.67339678e-02, 7.16890510e-03, 1.77888464e-05,\n",
       "        1.77888464e-05, 1.40531887e-03, 4.57173352e-03, 3.16641466e-03,\n",
       "        1.43733879e-02, 3.95268167e-02, 2.05816953e-02, 1.77888464e-05,\n",
       "        1.77888464e-05, 2.84621542e-03, 2.31788669e-02, 2.02970737e-02,\n",
       "        2.69145246e-02, 4.23908210e-02, 1.93186872e-02, 2.31255003e-04,\n",
       "        1.77888464e-05, 1.65436271e-03, 3.03477719e-02, 4.77096860e-02,\n",
       "        4.55038691e-02, 2.82486881e-02, 4.60731122e-03, 2.31255003e-04],\n",
       "       [1.77610429e-05, 1.77610429e-05, 1.47416656e-03, 2.26986129e-02,\n",
       "        3.69784914e-02, 6.48278067e-03, 6.92680674e-04, 4.26265030e-04,\n",
       "        1.77610429e-05, 2.13132515e-04, 1.11894570e-02, 4.26620251e-02,\n",
       "        2.71921567e-02, 6.60710797e-03, 3.69429693e-03, 9.76857361e-04,\n",
       "        1.77610429e-05, 2.34445767e-03, 3.36926984e-02, 3.66765536e-02,\n",
       "        1.57185230e-02, 1.86313340e-02, 1.23794469e-02, 1.10118466e-03,\n",
       "        3.55220859e-05, 1.49370371e-02, 4.65872156e-02, 2.04429604e-02,\n",
       "        2.36577092e-02, 3.41900076e-02, 1.97325187e-02, 8.88052146e-05,\n",
       "        1.77610429e-05, 2.76006607e-02, 4.69069144e-02, 3.12416745e-02,\n",
       "        4.18627782e-02, 4.48643944e-02, 1.70683623e-02, 1.77610429e-05,\n",
       "        3.01937730e-04, 2.02653500e-02, 3.62325276e-02, 3.98913024e-02,\n",
       "        4.70134806e-02, 3.35683711e-02, 5.18622454e-03, 1.77610429e-05,\n",
       "        1.95371472e-04, 3.51668650e-03, 9.37783067e-03, 2.51496368e-02,\n",
       "        4.32659006e-02, 1.33918264e-02, 8.88052146e-05, 1.77610429e-05,\n",
       "        1.77610429e-05, 8.88052146e-05, 1.79386534e-03, 2.51318757e-02,\n",
       "        3.79908708e-02, 6.30517024e-03, 1.77610429e-05, 1.77610429e-05],\n",
       "       [1.78638418e-05, 3.16190000e-03, 3.24764644e-02, 4.24087604e-02,\n",
       "        4.51955197e-02, 3.96220011e-02, 1.34872006e-02, 1.60774576e-04,\n",
       "        3.57276836e-05, 1.26833277e-02, 4.81430536e-02, 3.91396774e-02,\n",
       "        2.68136265e-02, 2.02754604e-02, 6.89544293e-03, 1.25046893e-04,\n",
       "        1.78638418e-05, 1.81853910e-02, 4.66603548e-02, 1.85426678e-02,\n",
       "        6.28807231e-03, 1.91143107e-03, 1.96502260e-04, 1.78638418e-05,\n",
       "        1.78638418e-05, 1.74708373e-02, 4.65710356e-02, 3.91575412e-02,\n",
       "        2.91895175e-02, 1.35407921e-02, 1.26833277e-03, 1.78638418e-05,\n",
       "        1.78638418e-05, 6.32380000e-03, 2.49021955e-02, 2.74209972e-02,\n",
       "        2.87429215e-02, 2.48486039e-02, 5.91293164e-03, 1.78638418e-05,\n",
       "        1.78638418e-05, 8.39600564e-04, 4.12654746e-03, 1.19509102e-02,\n",
       "        2.40447311e-02, 2.65992604e-02, 7.75290734e-03, 1.78638418e-05,\n",
       "        1.78638418e-05, 2.71530395e-03, 1.87748977e-02, 2.66349881e-02,\n",
       "        3.52632237e-02, 2.38303650e-02, 4.35877740e-03, 1.78638418e-05,\n",
       "        1.78638418e-05, 3.12617231e-03, 3.46915808e-02, 4.79286875e-02,\n",
       "        3.04578503e-02, 8.25309491e-03, 6.60962147e-04, 1.78638418e-05],\n",
       "       [1.77304965e-05, 1.77304965e-05, 3.67021277e-03, 3.58510638e-02,\n",
       "        3.07801418e-02, 4.66312057e-03, 5.31914894e-05, 1.77304965e-05,\n",
       "        1.77304965e-05, 1.24113475e-04, 2.29078014e-02, 4.66134752e-02,\n",
       "        1.99290780e-02, 2.83687943e-03, 1.77304965e-04, 1.77304965e-05,\n",
       "        1.77304965e-05, 2.39361702e-03, 4.02127660e-02, 3.05851064e-02,\n",
       "        3.01418440e-03, 3.54609929e-04, 3.54609929e-05, 1.77304965e-05,\n",
       "        1.77304965e-05, 7.44680851e-03, 4.39716312e-02, 2.60460993e-02,\n",
       "        1.24822695e-02, 6.52482270e-03, 4.60992908e-04, 1.77304965e-05,\n",
       "        1.77304965e-05, 1.15070922e-02, 4.73226950e-02, 4.13475177e-02,\n",
       "        3.86347518e-02, 3.31914894e-02, 9.11347518e-03, 1.77304965e-05,\n",
       "        1.77304965e-05, 6.20567376e-03, 4.71453901e-02, 3.44148936e-02,\n",
       "        1.79609929e-02, 3.25000000e-02, 2.95921986e-02, 7.62411348e-04,\n",
       "        1.77304965e-05, 6.38297872e-04, 3.32978723e-02, 4.06560284e-02,\n",
       "        1.78014184e-02, 3.62056738e-02, 3.46099291e-02, 1.70212766e-03,\n",
       "        1.77304965e-05, 1.77304965e-05, 4.62765957e-03, 3.43085106e-02,\n",
       "        4.84574468e-02, 4.18794326e-02, 1.43971631e-02, 3.19148936e-04],\n",
       "       [1.83982485e-05, 5.70345703e-04, 1.68159991e-02, 4.30335032e-02,\n",
       "        4.69339319e-02, 3.63365408e-02, 1.71103711e-02, 3.31168473e-03,\n",
       "        1.83982485e-05, 3.62445495e-03, 3.46990966e-02, 3.85811271e-02,\n",
       "        3.67964970e-02, 4.09912976e-02, 1.76623185e-02, 2.02380733e-03,\n",
       "        1.83982485e-05, 2.70454253e-03, 1.59328832e-02, 7.65367137e-03,\n",
       "        2.33657756e-02, 3.71092672e-02, 1.04870016e-02, 4.04761467e-04,\n",
       "        1.83982485e-05, 2.04220558e-03, 1.43322356e-02, 2.06060383e-02,\n",
       "        3.99793940e-02, 4.06417309e-02, 1.66872114e-02, 1.83982485e-05,\n",
       "        1.83982485e-05, 4.91233235e-03, 2.98971538e-02, 4.42845841e-02,\n",
       "        4.86449690e-02, 3.74772322e-02, 1.45530146e-02, 1.83982485e-05,\n",
       "        1.83982485e-05, 3.71644619e-03, 1.79566905e-02, 3.86915166e-02,\n",
       "        3.57477968e-02, 1.27867827e-02, 2.04220558e-03, 1.83982485e-05,\n",
       "        1.83982485e-05, 3.49566721e-04, 1.02662227e-02, 4.07337221e-02,\n",
       "        1.93549574e-02, 6.25540449e-04, 1.83982485e-05, 1.83982485e-05,\n",
       "        1.83982485e-05, 4.23159715e-04, 2.10659945e-02, 3.84155428e-02,\n",
       "        7.28570640e-03, 5.51947455e-05, 1.83982485e-05, 1.83982485e-05],\n",
       "       [1.73997773e-05, 4.52394209e-04, 1.52248051e-02, 3.51475501e-02,\n",
       "        3.75661192e-02, 1.88961581e-02, 1.61817929e-03, 1.73997773e-05,\n",
       "        1.04398664e-04, 6.00292316e-03, 3.72181236e-02, 3.47299555e-02,\n",
       "        2.82920379e-02, 3.52519488e-02, 7.63850223e-03, 1.73997773e-05,\n",
       "        3.47995546e-05, 8.94348552e-03, 3.50779510e-02, 2.25501114e-02,\n",
       "        2.40116927e-02, 3.53737472e-02, 6.52491648e-03, 1.73997773e-05,\n",
       "        1.73997773e-05, 3.58435412e-03, 2.59082684e-02, 4.00368875e-02,\n",
       "        4.03500835e-02, 2.12625278e-02, 1.56597996e-03, 1.73997773e-05,\n",
       "        1.73997773e-05, 1.35718263e-03, 2.11407294e-02, 4.24902561e-02,\n",
       "        3.91320991e-02, 1.31890312e-02, 3.30595768e-04, 1.73997773e-05,\n",
       "        1.73997773e-05, 3.51475501e-03, 3.23635857e-02, 2.58038697e-02,\n",
       "        2.77352450e-02, 2.56994710e-02, 3.91494989e-03, 1.73997773e-05,\n",
       "        1.73997773e-05, 3.02756125e-03, 3.32335746e-02, 2.44988864e-02,\n",
       "        2.54036748e-02, 2.89010301e-02, 7.02951002e-03, 3.47995546e-05,\n",
       "        1.73997773e-05, 4.52394209e-04, 1.51726058e-02, 3.84535078e-02,\n",
       "        3.94104955e-02, 2.04099388e-02, 3.67135301e-03, 5.21993318e-05],\n",
       "       [1.77129092e-05, 4.78248548e-04, 1.81380190e-02, 3.77462094e-02,\n",
       "        3.59040669e-02, 1.89705257e-02, 5.03046620e-03, 4.07396911e-04,\n",
       "        1.77129092e-05, 7.77596712e-03, 4.04208587e-02, 3.05901941e-02,\n",
       "        3.23083463e-02, 3.62406122e-02, 8.32506731e-03, 4.07396911e-04,\n",
       "        1.77129092e-05, 1.16905201e-02, 3.98717585e-02, 1.80317415e-02,\n",
       "        2.65339379e-02, 4.50085022e-02, 1.02557744e-02, 1.59416183e-04,\n",
       "        1.77129092e-05, 6.25265694e-03, 3.32294176e-02, 3.88798356e-02,\n",
       "        4.21921496e-02, 4.48490860e-02, 1.22573331e-02, 1.77129092e-05,\n",
       "        1.77129092e-05, 5.49100184e-04, 9.40555477e-03, 1.64907184e-02,\n",
       "        1.62604506e-02, 3.71439705e-02, 1.54279439e-02, 1.77129092e-05,\n",
       "        1.77129092e-05, 5.13674366e-04, 1.68272637e-03, 1.96613292e-03,\n",
       "        7.84681876e-03, 3.10861556e-02, 1.86694063e-02, 8.85645458e-05,\n",
       "        1.77129092e-05, 2.12554910e-03, 1.95196259e-02, 1.58353408e-02,\n",
       "        1.85454159e-02, 3.35836758e-02, 1.65615701e-02, 3.71971093e-04,\n",
       "        1.77129092e-05, 3.01119456e-04, 1.82797223e-02, 3.84193000e-02,\n",
       "        4.19264560e-02, 2.83760805e-02, 6.69547967e-03, 1.94842001e-04]])"
      ]
     },
     "execution_count": 53,
     "metadata": {},
     "output_type": "execute_result"
    }
   ],
   "source": [
    "# 스무딩을 적용한 확률값\n",
    "\n",
    "(fc + mnb.alpha) / \\\n",
    "(np.repeat(fc.sum(axis=1)[:, np.newaxis], 64, axis=1) + mnb.alpha * X.shape[1])"
   ]
  },
  {
   "cell_type": "code",
   "execution_count": 54,
   "id": "66bade24",
   "metadata": {},
   "outputs": [
    {
     "data": {
      "text/plain": [
       "array([[1.77056959e-05, 8.85284796e-05, 1.32084492e-02, 4.12896829e-02,\n",
       "        3.56238602e-02, 9.24237327e-03, 1.23939871e-04, 1.77056959e-05,\n",
       "        1.77056959e-05, 2.81520565e-03, 3.96607589e-02, 4.21572620e-02,\n",
       "        3.62435596e-02, 3.58717399e-02, 3.06308539e-03, 1.77056959e-05,\n",
       "        1.77056959e-05, 1.17742878e-02, 4.50078790e-02, 1.66079428e-02,\n",
       "        6.63963597e-03, 3.83682431e-02, 1.11191770e-02, 1.77056959e-05,\n",
       "        1.77056959e-05, 1.66964713e-02, 4.00856956e-02, 6.30322775e-03,\n",
       "        4.60348094e-04, 2.85769932e-02, 2.03438446e-02, 1.77056959e-05,\n",
       "        1.77056959e-05, 1.85201579e-02, 3.64383222e-02, 2.83291135e-03,\n",
       "        1.59351263e-04, 2.76740027e-02, 2.24685281e-02, 1.77056959e-05,\n",
       "        1.77056959e-05, 1.10306486e-02, 4.18916766e-02, 5.22318030e-03,\n",
       "        4.85136068e-03, 3.56592716e-02, 1.84670408e-02, 1.77056959e-05,\n",
       "        1.77056959e-05, 2.53191452e-03, 4.11657430e-02, 3.14099046e-02,\n",
       "        3.26315976e-02, 4.17854424e-02, 7.63115494e-03, 1.77056959e-05,\n",
       "        1.77056959e-05, 3.54113918e-05, 1.31199207e-02, 4.27592557e-02,\n",
       "        4.20156164e-02, 1.71568193e-02, 8.85284796e-04, 1.77056959e-05],\n",
       "       [1.75220340e-05, 5.25661019e-05, 7.84987121e-03, 2.93844509e-02,\n",
       "        3.32042543e-02, 1.93968916e-02, 3.18901018e-03, 1.75220340e-05,\n",
       "        1.75220340e-05, 3.15396611e-04, 1.29838272e-02, 4.07212069e-02,\n",
       "        4.44884442e-02, 2.69488882e-02, 3.85484747e-03, 1.75220340e-05,\n",
       "        5.25661019e-05, 3.53945086e-03, 2.25158136e-02, 4.73971019e-02,\n",
       "        4.51893256e-02, 2.35846577e-02, 2.24282035e-03, 1.75220340e-05,\n",
       "        3.50440679e-05, 6.79854918e-03, 2.89639221e-02, 4.55748103e-02,\n",
       "        4.42256137e-02, 1.99575967e-02, 1.19149831e-03, 1.75220340e-05,\n",
       "        1.75220340e-05, 3.69714917e-03, 2.17974102e-02, 3.78651154e-02,\n",
       "        4.36824307e-02, 1.77147763e-02, 1.17397628e-03, 1.75220340e-05,\n",
       "        1.75220340e-05, 1.40176272e-03, 1.65232780e-02, 3.28187696e-02,\n",
       "        4.27888069e-02, 1.87660984e-02, 1.13893221e-03, 1.75220340e-05,\n",
       "        1.75220340e-05, 3.85484747e-04, 1.51565594e-02, 3.49214137e-02,\n",
       "        4.33144679e-02, 2.45483696e-02, 6.55324070e-03, 2.06760001e-03,\n",
       "        1.75220340e-05, 3.50440679e-05, 7.16651189e-03, 2.91566645e-02,\n",
       "        4.15622645e-02, 2.73694170e-02, 9.74225088e-03, 4.78351527e-03],\n",
       "       [1.79759123e-05, 2.98400144e-03, 3.07747618e-02, 4.51554916e-02,\n",
       "        3.06489304e-02, 7.60381089e-03, 3.59518246e-04, 1.79759123e-05,\n",
       "        5.39277368e-05, 1.68074780e-02, 4.39511055e-02, 3.85403559e-02,\n",
       "        3.99784289e-02, 1.75265145e-02, 1.34819342e-03, 1.79759123e-05,\n",
       "        3.59518246e-05, 1.44526335e-02, 2.49865181e-02, 1.44706094e-02,\n",
       "        3.69225238e-02, 1.88926838e-02, 1.50997663e-03, 1.79759123e-05,\n",
       "        1.79759123e-05, 2.75031458e-03, 5.53658098e-03, 1.50997663e-02,\n",
       "        3.85044041e-02, 1.41290671e-02, 8.08916052e-04, 1.79759123e-05,\n",
       "        1.79759123e-05, 2.15710947e-04, 3.91874888e-03, 2.78986159e-02,\n",
       "        3.33992450e-02, 7.24429265e-03, 2.15710947e-04, 1.79759123e-05,\n",
       "        1.79759123e-05, 1.85151896e-03, 1.70591408e-02, 3.77494158e-02,\n",
       "        2.31349991e-02, 6.56120798e-03, 3.07388100e-03, 7.19036491e-05,\n",
       "        7.19036491e-05, 4.52992989e-03, 3.55923063e-02, 4.54431062e-02,\n",
       "        3.82886932e-02, 3.38666187e-02, 2.28653604e-02, 2.28294086e-03,\n",
       "        3.59518246e-05, 3.01995326e-03, 3.21409312e-02, 4.44544311e-02,\n",
       "        4.17580442e-02, 3.75516807e-02, 2.55437713e-02, 6.16573791e-03],\n",
       "       [1.77888464e-05, 2.11687272e-03, 2.73236681e-02, 4.61442675e-02,\n",
       "        4.63221560e-02, 2.43707196e-02, 2.57938273e-03, 3.55776928e-05,\n",
       "        5.33665392e-05, 1.37152006e-02, 4.12167571e-02, 2.92804412e-02,\n",
       "        3.67517566e-02, 3.90643067e-02, 6.88428355e-03, 7.11553856e-05,\n",
       "        3.55776928e-05, 7.25784933e-03, 1.20786267e-02, 1.01396424e-02,\n",
       "        3.91710398e-02, 3.03655608e-02, 2.66832696e-03, 1.77888464e-05,\n",
       "        1.77888464e-05, 9.78386552e-04, 4.76741083e-03, 2.91203415e-02,\n",
       "        4.64822556e-02, 1.82691452e-02, 2.84621542e-04, 1.77888464e-05,\n",
       "        1.77888464e-05, 2.13466157e-04, 3.43324735e-03, 1.83758783e-02,\n",
       "        3.92421951e-02, 3.67339678e-02, 7.16890510e-03, 1.77888464e-05,\n",
       "        1.77888464e-05, 1.40531887e-03, 4.57173352e-03, 3.16641466e-03,\n",
       "        1.43733879e-02, 3.95268167e-02, 2.05816953e-02, 1.77888464e-05,\n",
       "        1.77888464e-05, 2.84621542e-03, 2.31788669e-02, 2.02970737e-02,\n",
       "        2.69145246e-02, 4.23908210e-02, 1.93186872e-02, 2.31255003e-04,\n",
       "        1.77888464e-05, 1.65436271e-03, 3.03477719e-02, 4.77096860e-02,\n",
       "        4.55038691e-02, 2.82486881e-02, 4.60731122e-03, 2.31255003e-04],\n",
       "       [1.77610429e-05, 1.77610429e-05, 1.47416656e-03, 2.26986129e-02,\n",
       "        3.69784914e-02, 6.48278067e-03, 6.92680674e-04, 4.26265030e-04,\n",
       "        1.77610429e-05, 2.13132515e-04, 1.11894570e-02, 4.26620251e-02,\n",
       "        2.71921567e-02, 6.60710797e-03, 3.69429693e-03, 9.76857361e-04,\n",
       "        1.77610429e-05, 2.34445767e-03, 3.36926984e-02, 3.66765536e-02,\n",
       "        1.57185230e-02, 1.86313340e-02, 1.23794469e-02, 1.10118466e-03,\n",
       "        3.55220859e-05, 1.49370371e-02, 4.65872156e-02, 2.04429604e-02,\n",
       "        2.36577092e-02, 3.41900076e-02, 1.97325187e-02, 8.88052146e-05,\n",
       "        1.77610429e-05, 2.76006607e-02, 4.69069144e-02, 3.12416745e-02,\n",
       "        4.18627782e-02, 4.48643944e-02, 1.70683623e-02, 1.77610429e-05,\n",
       "        3.01937730e-04, 2.02653500e-02, 3.62325276e-02, 3.98913024e-02,\n",
       "        4.70134806e-02, 3.35683711e-02, 5.18622454e-03, 1.77610429e-05,\n",
       "        1.95371472e-04, 3.51668650e-03, 9.37783067e-03, 2.51496368e-02,\n",
       "        4.32659006e-02, 1.33918264e-02, 8.88052146e-05, 1.77610429e-05,\n",
       "        1.77610429e-05, 8.88052146e-05, 1.79386534e-03, 2.51318757e-02,\n",
       "        3.79908708e-02, 6.30517024e-03, 1.77610429e-05, 1.77610429e-05],\n",
       "       [1.78638418e-05, 3.16190000e-03, 3.24764644e-02, 4.24087604e-02,\n",
       "        4.51955197e-02, 3.96220011e-02, 1.34872006e-02, 1.60774576e-04,\n",
       "        3.57276836e-05, 1.26833277e-02, 4.81430536e-02, 3.91396774e-02,\n",
       "        2.68136265e-02, 2.02754604e-02, 6.89544293e-03, 1.25046893e-04,\n",
       "        1.78638418e-05, 1.81853910e-02, 4.66603548e-02, 1.85426678e-02,\n",
       "        6.28807231e-03, 1.91143107e-03, 1.96502260e-04, 1.78638418e-05,\n",
       "        1.78638418e-05, 1.74708373e-02, 4.65710356e-02, 3.91575412e-02,\n",
       "        2.91895175e-02, 1.35407921e-02, 1.26833277e-03, 1.78638418e-05,\n",
       "        1.78638418e-05, 6.32380000e-03, 2.49021955e-02, 2.74209972e-02,\n",
       "        2.87429215e-02, 2.48486039e-02, 5.91293164e-03, 1.78638418e-05,\n",
       "        1.78638418e-05, 8.39600564e-04, 4.12654746e-03, 1.19509102e-02,\n",
       "        2.40447311e-02, 2.65992604e-02, 7.75290734e-03, 1.78638418e-05,\n",
       "        1.78638418e-05, 2.71530395e-03, 1.87748977e-02, 2.66349881e-02,\n",
       "        3.52632237e-02, 2.38303650e-02, 4.35877740e-03, 1.78638418e-05,\n",
       "        1.78638418e-05, 3.12617231e-03, 3.46915808e-02, 4.79286875e-02,\n",
       "        3.04578503e-02, 8.25309491e-03, 6.60962147e-04, 1.78638418e-05],\n",
       "       [1.77304965e-05, 1.77304965e-05, 3.67021277e-03, 3.58510638e-02,\n",
       "        3.07801418e-02, 4.66312057e-03, 5.31914894e-05, 1.77304965e-05,\n",
       "        1.77304965e-05, 1.24113475e-04, 2.29078014e-02, 4.66134752e-02,\n",
       "        1.99290780e-02, 2.83687943e-03, 1.77304965e-04, 1.77304965e-05,\n",
       "        1.77304965e-05, 2.39361702e-03, 4.02127660e-02, 3.05851064e-02,\n",
       "        3.01418440e-03, 3.54609929e-04, 3.54609929e-05, 1.77304965e-05,\n",
       "        1.77304965e-05, 7.44680851e-03, 4.39716312e-02, 2.60460993e-02,\n",
       "        1.24822695e-02, 6.52482270e-03, 4.60992908e-04, 1.77304965e-05,\n",
       "        1.77304965e-05, 1.15070922e-02, 4.73226950e-02, 4.13475177e-02,\n",
       "        3.86347518e-02, 3.31914894e-02, 9.11347518e-03, 1.77304965e-05,\n",
       "        1.77304965e-05, 6.20567376e-03, 4.71453901e-02, 3.44148936e-02,\n",
       "        1.79609929e-02, 3.25000000e-02, 2.95921986e-02, 7.62411348e-04,\n",
       "        1.77304965e-05, 6.38297872e-04, 3.32978723e-02, 4.06560284e-02,\n",
       "        1.78014184e-02, 3.62056738e-02, 3.46099291e-02, 1.70212766e-03,\n",
       "        1.77304965e-05, 1.77304965e-05, 4.62765957e-03, 3.43085106e-02,\n",
       "        4.84574468e-02, 4.18794326e-02, 1.43971631e-02, 3.19148936e-04],\n",
       "       [1.83982485e-05, 5.70345703e-04, 1.68159991e-02, 4.30335032e-02,\n",
       "        4.69339319e-02, 3.63365408e-02, 1.71103711e-02, 3.31168473e-03,\n",
       "        1.83982485e-05, 3.62445495e-03, 3.46990966e-02, 3.85811271e-02,\n",
       "        3.67964970e-02, 4.09912976e-02, 1.76623185e-02, 2.02380733e-03,\n",
       "        1.83982485e-05, 2.70454253e-03, 1.59328832e-02, 7.65367137e-03,\n",
       "        2.33657756e-02, 3.71092672e-02, 1.04870016e-02, 4.04761467e-04,\n",
       "        1.83982485e-05, 2.04220558e-03, 1.43322356e-02, 2.06060383e-02,\n",
       "        3.99793940e-02, 4.06417309e-02, 1.66872114e-02, 1.83982485e-05,\n",
       "        1.83982485e-05, 4.91233235e-03, 2.98971538e-02, 4.42845841e-02,\n",
       "        4.86449690e-02, 3.74772322e-02, 1.45530146e-02, 1.83982485e-05,\n",
       "        1.83982485e-05, 3.71644619e-03, 1.79566905e-02, 3.86915166e-02,\n",
       "        3.57477968e-02, 1.27867827e-02, 2.04220558e-03, 1.83982485e-05,\n",
       "        1.83982485e-05, 3.49566721e-04, 1.02662227e-02, 4.07337221e-02,\n",
       "        1.93549574e-02, 6.25540449e-04, 1.83982485e-05, 1.83982485e-05,\n",
       "        1.83982485e-05, 4.23159715e-04, 2.10659945e-02, 3.84155428e-02,\n",
       "        7.28570640e-03, 5.51947455e-05, 1.83982485e-05, 1.83982485e-05],\n",
       "       [1.73997773e-05, 4.52394209e-04, 1.52248051e-02, 3.51475501e-02,\n",
       "        3.75661192e-02, 1.88961581e-02, 1.61817929e-03, 1.73997773e-05,\n",
       "        1.04398664e-04, 6.00292316e-03, 3.72181236e-02, 3.47299555e-02,\n",
       "        2.82920379e-02, 3.52519488e-02, 7.63850223e-03, 1.73997773e-05,\n",
       "        3.47995546e-05, 8.94348552e-03, 3.50779510e-02, 2.25501114e-02,\n",
       "        2.40116927e-02, 3.53737472e-02, 6.52491648e-03, 1.73997773e-05,\n",
       "        1.73997773e-05, 3.58435412e-03, 2.59082684e-02, 4.00368875e-02,\n",
       "        4.03500835e-02, 2.12625278e-02, 1.56597996e-03, 1.73997773e-05,\n",
       "        1.73997773e-05, 1.35718263e-03, 2.11407294e-02, 4.24902561e-02,\n",
       "        3.91320991e-02, 1.31890312e-02, 3.30595768e-04, 1.73997773e-05,\n",
       "        1.73997773e-05, 3.51475501e-03, 3.23635857e-02, 2.58038697e-02,\n",
       "        2.77352450e-02, 2.56994710e-02, 3.91494989e-03, 1.73997773e-05,\n",
       "        1.73997773e-05, 3.02756125e-03, 3.32335746e-02, 2.44988864e-02,\n",
       "        2.54036748e-02, 2.89010301e-02, 7.02951002e-03, 3.47995546e-05,\n",
       "        1.73997773e-05, 4.52394209e-04, 1.51726058e-02, 3.84535078e-02,\n",
       "        3.94104955e-02, 2.04099388e-02, 3.67135301e-03, 5.21993318e-05],\n",
       "       [1.77129092e-05, 4.78248548e-04, 1.81380190e-02, 3.77462094e-02,\n",
       "        3.59040669e-02, 1.89705257e-02, 5.03046620e-03, 4.07396911e-04,\n",
       "        1.77129092e-05, 7.77596712e-03, 4.04208587e-02, 3.05901941e-02,\n",
       "        3.23083463e-02, 3.62406122e-02, 8.32506731e-03, 4.07396911e-04,\n",
       "        1.77129092e-05, 1.16905201e-02, 3.98717585e-02, 1.80317415e-02,\n",
       "        2.65339379e-02, 4.50085022e-02, 1.02557744e-02, 1.59416183e-04,\n",
       "        1.77129092e-05, 6.25265694e-03, 3.32294176e-02, 3.88798356e-02,\n",
       "        4.21921496e-02, 4.48490860e-02, 1.22573331e-02, 1.77129092e-05,\n",
       "        1.77129092e-05, 5.49100184e-04, 9.40555477e-03, 1.64907184e-02,\n",
       "        1.62604506e-02, 3.71439705e-02, 1.54279439e-02, 1.77129092e-05,\n",
       "        1.77129092e-05, 5.13674366e-04, 1.68272637e-03, 1.96613292e-03,\n",
       "        7.84681876e-03, 3.10861556e-02, 1.86694063e-02, 8.85645458e-05,\n",
       "        1.77129092e-05, 2.12554910e-03, 1.95196259e-02, 1.58353408e-02,\n",
       "        1.85454159e-02, 3.35836758e-02, 1.65615701e-02, 3.71971093e-04,\n",
       "        1.77129092e-05, 3.01119456e-04, 1.82797223e-02, 3.84193000e-02,\n",
       "        4.19264560e-02, 2.83760805e-02, 6.69547967e-03, 1.94842001e-04]])"
      ]
     },
     "execution_count": 54,
     "metadata": {},
     "output_type": "execute_result"
    }
   ],
   "source": [
    "# 모수의 추정치\n",
    "\n",
    "theta = np.exp(mnb.feature_log_prob_)\n",
    "theta"
   ]
  },
  {
   "cell_type": "code",
   "execution_count": 56,
   "id": "e42b2fb8",
   "metadata": {},
   "outputs": [
    {
     "data": {
      "text/plain": [
       "array([ 0.,  0.,  0.,  1., 14., 13.,  1.,  0., 15.,  0.,  0.,  1., 16.,\n",
       "       16.,  3.,  0.,  0.,  5., 11., 15., 16., 16.,  0.,  0.,  0.,  4.,\n",
       "       15., 16., 16., 15.,  0.,  0., 10.,  0.,  0.,  8., 16.,  7.,  0.,\n",
       "        0.,  0.,  0.,  0., 10., 16.,  3.,  0.,  0.,  0.,  0.,  0.,  8.,\n",
       "       16.,  6.,  0.,  0.,  0.,  0.,  0., 10., 13., 15.,  2.,  0.])"
      ]
     },
     "execution_count": 56,
     "metadata": {},
     "output_type": "execute_result"
    }
   ],
   "source": [
    "# 예측\n",
    "\n",
    "x_new_num = np.array(\n",
    "      [ 0.,  0.,  0.,  1., 14., 13.,  1.,  0.,  15.,  0.,  0.,  1., 16.,\n",
    "       16.,  3.,  0.,  0.,  5., 11., 15., 16., 16.,  0.,  0.,  0.,  4.,\n",
    "       15., 16., 16., 15.,  0.,  0.,  10.,  0.,  0.,  8., 16.,  7.,  0.,\n",
    "        0.,  0.,  0.,  0., 10., 16.,  3.,  0.,  0.,  0.,  0.,  0.,  8.,\n",
    "       16.,  6.,  0.,  0.,  0.,  0.,  0.,  10., 13., 15.,  2.,  0.])\n",
    "\n",
    "x_new_num"
   ]
  },
  {
   "cell_type": "code",
   "execution_count": 59,
   "id": "b78694a2",
   "metadata": {},
   "outputs": [
    {
     "data": {
      "text/plain": [
       "1"
      ]
     },
     "execution_count": 59,
     "metadata": {},
     "output_type": "execute_result"
    }
   ],
   "source": [
    "np.argmax(mnb.predict_proba([x_new_num]))"
   ]
  },
  {
   "cell_type": "code",
   "execution_count": 61,
   "id": "3d81d2eb",
   "metadata": {},
   "outputs": [],
   "source": [
    "import matplotlib.pyplot as plt\n",
    "%matplotlib inline"
   ]
  },
  {
   "cell_type": "code",
   "execution_count": 64,
   "id": "4852b71f",
   "metadata": {},
   "outputs": [],
   "source": [
    "from sklearn.preprocessing import Binarizer"
   ]
  },
  {
   "cell_type": "code",
   "execution_count": 68,
   "id": "df0aa9f1",
   "metadata": {},
   "outputs": [
    {
     "data": {
      "text/plain": [
       "array([[0., 0., 0., 0., 1., 1., 0., 0., 1., 0., 0., 0., 1., 1., 0., 0.,\n",
       "        0., 0., 1., 1., 1., 1., 0., 0., 0., 0., 1., 1., 1., 1., 0., 0.,\n",
       "        1., 0., 0., 1., 1., 0., 0., 0., 0., 0., 0., 1., 1., 0., 0., 0.,\n",
       "        0., 0., 0., 1., 1., 0., 0., 0., 0., 0., 0., 1., 1., 1., 0., 0.]])"
      ]
     },
     "execution_count": 68,
     "metadata": {},
     "output_type": "execute_result"
    }
   ],
   "source": [
    "bin_x_new_num = Binarizer(threshold=7).fit_transform(x_new_num.reshape(1, -1))\n",
    "bin_x_new_num"
   ]
  },
  {
   "cell_type": "code",
   "execution_count": 69,
   "id": "de7c0d49",
   "metadata": {},
   "outputs": [
    {
     "data": {
      "image/png": "[encoded data removed]",
      "text/plain": [
       "<Figure size 432x432 with 2 Axes>"
      ]
     },
     "metadata": {
      "image/png": {
       "height": 219,
       "width": 424
      },
      "needs_background": "light"
     },
     "output_type": "display_data"
    }
   ],
   "source": [
    "plt.figure(figsize=(6, 6))\n",
    "plt.subplot(121)\n",
    "plt.imshow(x_new_num.reshape(8, 8), cmap=mpl.cm.binary)\n",
    "plt.grid(False)\n",
    "\n",
    "plt.subplot(122)\n",
    "plt.imshow(bin_x_new_num.reshape(8, 8), cmap=mpl.cm.binary)\n",
    "plt.grid(False)\n",
    "\n",
    "plt.tight_layout()\n",
    "plt.show() ; "
   ]
  },
  {
   "cell_type": "code",
   "execution_count": 37,
   "id": "9e59aa64",
   "metadata": {},
   "outputs": [],
   "source": [
    "from sklearn.naive_bayes import BernoulliNB"
   ]
  },
  {
   "cell_type": "code",
   "execution_count": 38,
   "id": "e4cad9c2",
   "metadata": {},
   "outputs": [
    {
     "name": "stdout",
     "output_type": "stream",
     "text": [
      "              precision    recall  f1-score   support\n",
      "\n",
      "           0       0.99      0.97      0.98       178\n",
      "           1       0.80      0.80      0.80       182\n",
      "           2       0.91      0.90      0.91       177\n",
      "           3       0.93      0.85      0.89       183\n",
      "           4       0.96      0.94      0.95       181\n",
      "           5       0.92      0.88      0.90       182\n",
      "           6       0.97      0.96      0.97       181\n",
      "           7       0.91      0.99      0.95       179\n",
      "           8       0.80      0.82      0.81       174\n",
      "           9       0.80      0.87      0.83       180\n",
      "\n",
      "    accuracy                           0.90      1797\n",
      "   macro avg       0.90      0.90      0.90      1797\n",
      "weighted avg       0.90      0.90      0.90      1797\n",
      "\n"
     ]
    }
   ],
   "source": [
    "bnb = BernoulliNB(binarize=7)\n",
    "bnb.fit(X, y)\n",
    "y_pred = bnb.predict(X)\n",
    "\n",
    "print(classification_report(y, y_pred))"
   ]
  },
  {
   "cell_type": "markdown",
   "id": "c0a4777c",
   "metadata": {},
   "source": [
    "### 실수, 이진수, 자연수가 혼합되어 있는 데이터의 분석\n",
    "- 가우시안분포 NB, 베르누이분포 NB, 다항분포 NB를 표본의 특성에 맞게 학습한 뒤\n",
    "- 각 모델별 가능도를 구하고 \n",
    "- 각 모델 가능도를 곱하면 전체 예측값을 구할 수 있다."
   ]
  },
  {
   "cell_type": "code",
   "execution_count": 70,
   "id": "b4af363e",
   "metadata": {},
   "outputs": [],
   "source": [
    "from sklearn.datasets import fetch_covtype"
   ]
  },
  {
   "cell_type": "code",
   "execution_count": 71,
   "id": "cc628675",
   "metadata": {},
   "outputs": [],
   "source": [
    "covt = fetch_covtype()\n",
    "X = covt.data\n",
    "y = covt.target"
   ]
  },
  {
   "cell_type": "code",
   "execution_count": 72,
   "id": "da1db68f",
   "metadata": {},
   "outputs": [
    {
     "data": {
      "text/plain": [
       "((581012, 54), (581012,))"
      ]
     },
     "execution_count": 72,
     "metadata": {},
     "output_type": "execute_result"
    }
   ],
   "source": [
    "X.shape, y.shape"
   ]
  },
  {
   "cell_type": "code",
   "execution_count": 76,
   "id": "18f5f34a",
   "metadata": {},
   "outputs": [
    {
     "data": {
      "text/plain": [
       "array([5, 5, 2, 2, 5])"
      ]
     },
     "execution_count": 76,
     "metadata": {},
     "output_type": "execute_result"
    }
   ],
   "source": [
    "y[:5]"
   ]
  },
  {
   "cell_type": "markdown",
   "id": "089ec739",
   "metadata": {},
   "source": [
    "#### 표본 데이터의 데이터 타입이 구간별로 다르다."
   ]
  },
  {
   "cell_type": "code",
   "execution_count": 81,
   "id": "91393de4",
   "metadata": {},
   "outputs": [
    {
     "data": {
      "text/plain": [
       "2596.0"
      ]
     },
     "execution_count": 81,
     "metadata": {},
     "output_type": "execute_result"
    }
   ],
   "source": [
    "X[: :10][0][0]"
   ]
  },
  {
   "cell_type": "code",
   "execution_count": 82,
   "id": "481d4e06",
   "metadata": {},
   "outputs": [
    {
     "data": {
      "text/plain": [
       "1.0"
      ]
     },
     "execution_count": 82,
     "metadata": {},
     "output_type": "execute_result"
    }
   ],
   "source": [
    "X[:, 10:][0][0]"
   ]
  },
  {
   "cell_type": "code",
   "execution_count": 83,
   "id": "162aca70",
   "metadata": {},
   "outputs": [
    {
     "data": {
      "text/plain": [
       "((581012, 10), (581012, 44))"
      ]
     },
     "execution_count": 83,
     "metadata": {},
     "output_type": "execute_result"
    }
   ],
   "source": [
    "X1 = X[:, :10]\n",
    "X2 = X[:, 10:]\n",
    "\n",
    "X1.shape, X2.shape"
   ]
  },
  {
   "cell_type": "markdown",
   "id": "821d667c",
   "metadata": {},
   "source": [
    "#### 데이터 특성 별 NB 모델 다르게 학습"
   ]
  },
  {
   "cell_type": "code",
   "execution_count": 84,
   "id": "54189486",
   "metadata": {},
   "outputs": [],
   "source": [
    "from sklearn.naive_bayes import GaussianNB, BernoulliNB"
   ]
  },
  {
   "cell_type": "code",
   "execution_count": 86,
   "id": "3a623caa",
   "metadata": {},
   "outputs": [],
   "source": [
    "model1 = GaussianNB().fit(X1, y)\n",
    "model2 = BernoulliNB().fit(X2, y)\n",
    "\n",
    "prob1 = model1.predict_proba(X1)\n",
    "prob2 = model2.predict_proba(X2)"
   ]
  },
  {
   "cell_type": "code",
   "execution_count": 90,
   "id": "9f569287",
   "metadata": {},
   "outputs": [
    {
     "data": {
      "text/plain": [
       "(0.002042037702632471, 0.3443946525401781)"
      ]
     },
     "execution_count": 90,
     "metadata": {},
     "output_type": "execute_result"
    }
   ],
   "source": [
    "prob1[0][0], prob2[0][0]"
   ]
  },
  {
   "cell_type": "markdown",
   "id": "b43f64da",
   "metadata": {},
   "source": [
    "#### 각 모델별 가능도 계산\n",
    "- 베르누이분포 NB는 class_prior_ 속성값이 없다."
   ]
  },
  {
   "cell_type": "code",
   "execution_count": 92,
   "id": "3d22f8f9",
   "metadata": {},
   "outputs": [],
   "source": [
    "likelihood_1 = prob1 / model1.class_prior_\n",
    "likelihood_2 = prob2 / model1.class_prior_"
   ]
  },
  {
   "cell_type": "code",
   "execution_count": 93,
   "id": "6e32dfd1",
   "metadata": {},
   "outputs": [
    {
     "data": {
      "text/plain": [
       "array([[1.92884483e-03, 1.32830471e+00, 1.21228480e-30, ...,\n",
       "        1.54641603e-05, 1.30886283e-25, 1.44670042e-15],\n",
       "       [1.80140939e-03, 1.32847533e+00, 3.43931137e-30, ...,\n",
       "        1.75318519e-05, 3.07196218e-25, 9.79628975e-16],\n",
       "       [5.47990911e-03, 1.83874308e+00, 8.31531711e-33, ...,\n",
       "        3.94043409e-08, 2.12360730e-28, 1.49456028e-12],\n",
       "       ...,\n",
       "       [6.45091525e-09, 7.34269162e-03, 6.76151071e+00, ...,\n",
       "        3.56932025e-04, 1.37410004e+00, 2.33019631e-22],\n",
       "       [7.99387059e-09, 9.07279455e-03, 6.66578603e+00, ...,\n",
       "        3.07960191e-04, 1.48648560e+00, 2.22254908e-22],\n",
       "       [9.95946367e-09, 1.12747913e-02, 6.59004911e+00, ...,\n",
       "        3.44829354e-04, 1.45848588e+00, 2.50052567e-22]])"
      ]
     },
     "execution_count": 93,
     "metadata": {},
     "output_type": "execute_result"
    }
   ],
   "source": [
    "prob = likelihood_1 * likelihood_2 * model1.class_prior_\n",
    "prob"
   ]
  },
  {
   "cell_type": "code",
   "execution_count": 94,
   "id": "40085cb8",
   "metadata": {},
   "outputs": [
    {
     "data": {
      "text/plain": [
       "(581012, 7)"
      ]
     },
     "execution_count": 94,
     "metadata": {},
     "output_type": "execute_result"
    }
   ],
   "source": [
    "prob.shape"
   ]
  },
  {
   "cell_type": "code",
   "execution_count": 96,
   "id": "9dd032b0",
   "metadata": {},
   "outputs": [
    {
     "data": {
      "text/plain": [
       "{1, 2, 3, 4, 5, 6, 7}"
      ]
     },
     "execution_count": 96,
     "metadata": {},
     "output_type": "execute_result"
    }
   ],
   "source": [
    "set(y)"
   ]
  },
  {
   "cell_type": "code",
   "execution_count": 99,
   "id": "a48c1ef9",
   "metadata": {},
   "outputs": [
    {
     "data": {
      "text/plain": [
       "array([2, 2, 2, ..., 3, 3, 3], dtype=int64)"
      ]
     },
     "execution_count": 99,
     "metadata": {},
     "output_type": "execute_result"
    }
   ],
   "source": [
    "# np.argmax(axis=1) : 각 행에서 가장 큰 값의 인덱스 반환\n",
    "# np.argmax(axis=0) : 각 열에서 가장 큰 값의 인덱스 반환\n",
    "\n",
    "y_pred = np.argmax(prob, axis=1) + 1\n",
    "y_pred"
   ]
  },
  {
   "cell_type": "code",
   "execution_count": 108,
   "id": "47a96a24",
   "metadata": {},
   "outputs": [
    {
     "name": "stdout",
     "output_type": "stream",
     "text": [
      "              precision    recall  f1-score   support\n",
      "\n",
      "           1       0.66      0.66      0.66    211840\n",
      "           2       0.75      0.67      0.71    283301\n",
      "           3       0.64      0.66      0.65     35754\n",
      "           4       0.34      0.71      0.46      2747\n",
      "           5       0.18      0.37      0.24      9493\n",
      "           6       0.36      0.47      0.41     17367\n",
      "           7       0.43      0.68      0.53     20510\n",
      "\n",
      "    accuracy                           0.65    581012\n",
      "   macro avg       0.48      0.60      0.52    581012\n",
      "weighted avg       0.68      0.65      0.66    581012\n",
      "\n"
     ]
    }
   ],
   "source": [
    "print(classification_report(y, y_pred))"
   ]
  },
  {
   "cell_type": "code",
   "execution_count": 109,
   "id": "44919f4c",
   "metadata": {},
   "outputs": [
    {
     "name": "stdout",
     "output_type": "stream",
     "text": [
      "              precision    recall  f1-score   support\n",
      "\n",
      "           1       0.65      0.48      0.55    211840\n",
      "           2       0.65      0.76      0.70    283301\n",
      "           3       0.60      0.87      0.71     35754\n",
      "           4       0.55      0.43      0.48      2747\n",
      "           5       0.22      0.06      0.10      9493\n",
      "           6       0.24      0.23      0.23     17367\n",
      "           7       0.63      0.61      0.62     20510\n",
      "\n",
      "    accuracy                           0.63    581012\n",
      "   macro avg       0.51      0.49      0.49    581012\n",
      "weighted avg       0.63      0.63      0.62    581012\n",
      "\n"
     ]
    }
   ],
   "source": [
    "model3 = BernoulliNB().fit(X, y)\n",
    "y_pred = model3.predict(X)\n",
    "print(classification_report(y, y_pred))"
   ]
  }
 ],
 "metadata": {
  "kernelspec": {
   "display_name": "Python 3 (ipykernel)",
   "language": "python",
   "name": "python3"
  },
  "language_info": {
   "codemirror_mode": {
    "name": "ipython",
    "version": 3
   },
   "file_extension": ".py",
   "mimetype": "text/x-python",
   "name": "python",
   "nbconvert_exporter": "python",
   "pygments_lexer": "ipython3",
   "version": "3.10.13"
  }
 },
 "nbformat": 4,
 "nbformat_minor": 5
}
