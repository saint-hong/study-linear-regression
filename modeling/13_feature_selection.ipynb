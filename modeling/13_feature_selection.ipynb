{
 "cells": [
  {
   "cell_type": "markdown",
   "id": "cf140ff6",
   "metadata": {},
   "source": [
    "# Feature Selection\n",
    "\n",
    "** 정의 **\n",
    "- 실무에서는 대규모 데이터 기반의 분류예측 모형 만들어야 한다.\n",
    "   - 대규모 데이터 : 표본 갯수가 많거나, 독립변수 즉 특징데이터의 종류가 많거나, 두가지 다 많은 데이터\n",
    "- 특징 데이터 종류가 많은 경우 가장 중요한 것을 선택하여 종류를 줄이는 방법\n",
    "- 예측모형에서 중요한 특징 데이터\n",
    "   - 종속데이터(target)와 상관관계가 크고 예측에 도움이 되는 데이터\n",
    "   - 상관관계의 계산에 앞서 독립변수의 값 자체가 표본(데이터 샘플)에 따라서 변하지 않으면 예측에 도움이 되지 않을 수 있다.\n",
    "   - 즉 집값 데이터 세트에서 각 집별 샘플 데이터에 따라서 방의 갯수 독립변수의 값 자체가 일정하거나 큰 변화가 없는 경우\n",
    "\n",
    "** 분산에 의한 선택 **\n",
    "- 표본의 변화에 따라서 데이터 값의 변화, 즉 분산이 기준치보다 낮은 특징데이터는 사용하지 않는 방법\n",
    "   - 종속변수와 어떤 독립변수의 데이터가 0, 1로 이루어져 있는 경우 종속변수는 균형을 이루지만 독립변수의 데이터의 90% 이상이 0으로만 이루어진 경우 이 독립변수는 예측에 도움이 되지 않을 가능성이 높다는 것.\n",
    "- 분산선택은 상관관계와 반드시 일치하는 것은 아니다. 상황에 따라서 사용해야한다.\n",
    "- 클래스 사용\n",
    "   - from sklearn.feature_selection import VarianceThreshold\n",
    "   - var_selector = VarianceThreshold(1e-5) : threshold 값을 기준으로 제거한다.\n",
    "   - X_train_sel = var_selector.fit_transform(X_train)\n",
    "   - X_test_sel = var_selector.transform(X_test)   ## transform 만 사용\n",
    "\n",
    "** 단일 변수 선택 **\n",
    "- 독립변수를 하나만 사용하여 예측모형의 성능을 측정한 후 분류성능 또는 상관관계가 높은 변수만 선택하는 방법\n",
    "- 단일 변수의 성능이 높은 것만 모아놓았다고 해서 모형의 성능이 반드시 좋아지는 것은 아니다.\n",
    "- 성능 지표\n",
    "   - chi2 : 카이제곱 검정 통계값\n",
    "   - f_classif : 분산분석(ANOVA) F검정 통계값\n",
    "   - mutual_info_classif : 상호정보량 (mutual information)\n",
    "- 클래스 사용\n",
    "   - from sklearn.feature_selection import chi2, SelectKBest\n",
    "   - selector = SelectKBest(chi2, k=14330) : 성능 지표 통계값 클래스와 best feature의 갯수를 입력한다.\n",
    "   - X_train_sel = selector.fit_transform(X_train, y_train)  ## X_train, y_train을 입력\n",
    "   - X_test_sel = selector.transform(X_test)\n",
    "\n",
    "** 특성 중요도 계산 **\n",
    "- DT, RF, ET 등의 의사결정나무 모형은 특성 중요도 값을 속성값으로 반환한다.\n",
    "   - clf.feature_importances_\n",
    "- 특성 중요도를 계산하여 feature를 선택한 후 최종 분류는 다른 모형을 사용한다.\n",
    "- 클래스 사용\n",
    "   - from sklearn.ensemble import ExtraTreesClassifier\n",
    "   - from sklearn.feature_selection import SelectFromModel\n",
    "   - model_sel = ExtraTreesClassifier(n_estimators=100).fit(X_trian, y_train)\n",
    "   - selector = SelectFromModel(model_sel, prefit=True, max_features=14330)\n",
    "   - X_train_sel = selector.fit_transform(X_train)\n",
    "   - X_test_sel = selector.transform(X_test)\n",
    "\n",
    "** sklearn feature selection docs **\n",
    "- feature_selection 모듈의 클래스는 고차원의 데이터 세트에서 성능을 높이기 위해 feature 선택, 차원축소 등 샘플링하는데 사용할 수 있다.\n",
    "- fitting 전 전처리 단계에서 사용된다.\n",
    "   - pipeline에서 사용\n",
    "- 낮은 분산의 feature 제거\n",
    "   - VarianceThreshold(threshold={\"float\"})\n",
    "   - 모든 데이터 샘플에서 동일한 값을 갖는, 즉 분산이 0에 가까운 feature를 제거하는 방식\n",
    "   - threshold 값을 설정하여 분산값의 기준으로 사용할 수 있다. \n",
    "- 단변량 특징 선택\n",
    "   - 단변량 통계 테스트를 기반으로 최상의 feature 를 선택 하는 방법\n",
    "   - SelectKBest() : k째로 높은 score feature를 제외하고 모든 feature를 제거한다.\n",
    "   - SelectPercentile() : 설정한 최고 점수 비율을 제외한 모든 feature를 제거한다.\n",
    "   - SelectFpr() : 위양성율 기준\n",
    "   - SelectFdr() : 허위발견율 기준\n",
    "   - SelectFwe() : 가족의 실수 기준 (??)\n",
    "   - 단변량 특징선택 방법에 사용할 수 있는 p-value 지표들\n",
    "      - regression : r_regression, f_regression, mutual_info_regression\n",
    "      - classification : chi2, f_classif, mutual_info_classif\n",
    "      - chi2는 카이제곱 통계값으로, non-negative feature의 경우만 사용\n",
    "      - f_classif는 ANOVA F-value 값으로 두 feature간의 선형종속성 추정, \n",
    "      - mutual_info_classif는 상호정보량 값으로, 변수간의 모든 종속성 측정, 두 feature가 독립이고, 종속성이 높은 경우 0\n",
    "- 재귀적 변수 선택방법도 있음\n",
    "- SelectFromModel 방법\n",
    "   - coef_, feature_importances_ 을 반환하는 모형을 사용할 수 있다.\n",
    "   - threshold 보다 낮으면 중요하지 않은 feature로 제거된다.\n",
    "   - max_features 매개변수를 사용하여 feature 수의 제한을 설정할 수 있다.\n",
    "- L1-based 변수 선택법\n",
    "   - SelectFromModel() 클래스에서 linear model의 penalty 매개변수의 L1norm 값을 사용하여 변수선택을 할 수도 있다.\n",
    "   - L1 norm 값은 가중치 추정값으로 다수가 0인 희소 행렬과 같다. \n",
    "   - 0 이 아닌 coef를 선택하는 방식\n",
    "   - Lasso, LogisticRegression, LinearSVC를 사용해 희소 추정기를 계산할 수 있다. \n",
    "   - 다중 클래스의 분류 문제는 LR을 사용할 수 있다. \n",
    "- 순차적 변수선택 Sequential Feature Selection SFS\n",
    "   - SequentialFeatureSelector()\n",
    "   - cv score을 사용하므로 여러 모형을 사용할 수 있다.\n",
    "   - forward-SFS : 선택된 feature에 추가할 최상의 feature를 반복적으로 탐색하는 탐욕적 greedy 절차이다.\n",
    "      - 처음에는 0개의 feature로 시작하여 cv score를 최대화하는 feature를 찾아서 추가한 후 반복한다.\n",
    "      - n_feature_to_select 매개변수에 feature의 갯수를 설정할수 있다.\n",
    "   - backward-SFS : \n",
    "      - 반대방향으로 반복한다. 모든 feature에서 시작하여 cv score가 높은 방향으로 feature 를 제거해 나간다.\n",
    "   - n_feature_to_select : feature 갯수\n",
    "   - direction : 방향 선택\n",
    "   - 추정기로 ETC를 사용하는 경우, 시간이 오래 걸린다.   \n",
    "   - 참고\n",
    "      - 모델에 기반한 순차적 변수선택 : feature importance에 기반한 SelectFromModel과 그리디 접근방식에 의존하는 SequentialFeatureSelector를 사용하여 비교\n",
    "      - https://scikit-learn.org/stable/auto_examples/feature_selection/plot_select_from_model_diabetes.html#sphx-glr-auto-examples-feature-selection-plot-select-from-model-diabetes-py\n",
    "- tips\n",
    "   - SFS 는 내부 추정기로 RF, ETC 등을 사용하면 시간이 더 오래 걸리 수 있다.\n",
    "   - SFS 는 backward 방향에서 tol 값을 음수로 설정하면 0에 가까울 수록 속도가 빨라지고 성능이 나아진다.\n",
    "   - SFM 은 l1, coef_, feature_importances 을 출력하는 추정기를 사용할 수 있다. \n",
    "   - SFM 의 feature_importances 를 사용할 수 있으므로 좀 더 신뢰가 간다.\n",
    "\n",
    "** 변수선택법의 pipeline 적용 **\n",
    "- pipeline에 추가하여 변수를 선택한 후 다른 모형으로 예측 해도 된다."
   ]
  },
  {
   "cell_type": "code",
   "execution_count": 1,
   "id": "7470cc3e",
   "metadata": {},
   "outputs": [],
   "source": [
    "from sklearn.datasets import fetch_rcv1"
   ]
  },
  {
   "cell_type": "code",
   "execution_count": 2,
   "id": "09ecc9d2",
   "metadata": {},
   "outputs": [
    {
     "data": {
      "text/plain": [
       "((23149, 47236), (781265, 47236), (23149, 103), (781265, 103))"
      ]
     },
     "execution_count": 2,
     "metadata": {},
     "output_type": "execute_result"
    }
   ],
   "source": [
    "rcv_train = fetch_rcv1(subset=\"train\")\n",
    "rcv_test = fetch_rcv1(subset=\"test\")\n",
    "X_train = rcv_train.data\n",
    "y_train = rcv_train.target\n",
    "X_test = rcv_test.data\n",
    "y_test = rcv_test.target\n",
    "\n",
    "X_train.shape, X_test.shape, y_train.shape, y_test.shape"
   ]
  },
  {
   "cell_type": "code",
   "execution_count": 7,
   "id": "0b16a0aa",
   "metadata": {
    "scrolled": true
   },
   "outputs": [
    {
     "name": "stdout",
     "output_type": "stream",
     "text": [
      "Help on function fetch_rcv1 in module sklearn.datasets._rcv1:\n",
      "\n",
      "fetch_rcv1(*, data_home=None, subset='all', download_if_missing=True, random_state=None, shuffle=False, return_X_y=False)\n",
      "    Load the RCV1 multilabel dataset (classification).\n",
      "    \n",
      "    Download it if necessary.\n",
      "    \n",
      "    Version: RCV1-v2, vectors, full sets, topics multilabels.\n",
      "    \n",
      "    =================   =====================\n",
      "    Classes                               103\n",
      "    Samples total                      804414\n",
      "    Dimensionality                      47236\n",
      "    Features            real, between 0 and 1\n",
      "    =================   =====================\n",
      "    \n",
      "    Read more in the :ref:`User Guide <rcv1_dataset>`.\n",
      "    \n",
      "    .. versionadded:: 0.17\n",
      "    \n",
      "    Parameters\n",
      "    ----------\n",
      "    data_home : str, default=None\n",
      "        Specify another download and cache folder for the datasets. By default\n",
      "        all scikit-learn data is stored in '~/scikit_learn_data' subfolders.\n",
      "    \n",
      "    subset : {'train', 'test', 'all'}, default='all'\n",
      "        Select the dataset to load: 'train' for the training set\n",
      "        (23149 samples), 'test' for the test set (781265 samples),\n",
      "        'all' for both, with the training samples first if shuffle is False.\n",
      "        This follows the official LYRL2004 chronological split.\n",
      "    \n",
      "    download_if_missing : bool, default=True\n",
      "        If False, raise an OSError if the data is not locally available\n",
      "        instead of trying to download the data from the source site.\n",
      "    \n",
      "    random_state : int, RandomState instance or None, default=None\n",
      "        Determines random number generation for dataset shuffling. Pass an int\n",
      "        for reproducible output across multiple function calls.\n",
      "        See :term:`Glossary <random_state>`.\n",
      "    \n",
      "    shuffle : bool, default=False\n",
      "        Whether to shuffle dataset.\n",
      "    \n",
      "    return_X_y : bool, default=False\n",
      "        If True, returns ``(dataset.data, dataset.target)`` instead of a Bunch\n",
      "        object. See below for more information about the `dataset.data` and\n",
      "        `dataset.target` object.\n",
      "    \n",
      "        .. versionadded:: 0.20\n",
      "    \n",
      "    Returns\n",
      "    -------\n",
      "    dataset : :class:`~sklearn.utils.Bunch`\n",
      "        Dictionary-like object. Returned only if `return_X_y` is False.\n",
      "        `dataset` has the following attributes:\n",
      "    \n",
      "        - data : sparse matrix of shape (804414, 47236), dtype=np.float64\n",
      "            The array has 0.16% of non zero values. Will be of CSR format.\n",
      "        - target : sparse matrix of shape (804414, 103), dtype=np.uint8\n",
      "            Each sample has a value of 1 in its categories, and 0 in others.\n",
      "            The array has 3.15% of non zero values. Will be of CSR format.\n",
      "        - sample_id : ndarray of shape (804414,), dtype=np.uint32,\n",
      "            Identification number of each sample, as ordered in dataset.data.\n",
      "        - target_names : ndarray of shape (103,), dtype=object\n",
      "            Names of each target (RCV1 topics), as ordered in dataset.target.\n",
      "        - DESCR : str\n",
      "            Description of the RCV1 dataset.\n",
      "    \n",
      "    (data, target) : tuple\n",
      "        A tuple consisting of `dataset.data` and `dataset.target`, as\n",
      "        described above. Returned only if `return_X_y` is True.\n",
      "    \n",
      "        .. versionadded:: 0.20\n",
      "\n"
     ]
    }
   ],
   "source": [
    "help(fetch_rcv1)"
   ]
  },
  {
   "cell_type": "code",
   "execution_count": 13,
   "id": "20d86313",
   "metadata": {},
   "outputs": [
    {
     "data": {
      "text/plain": [
       "(23149, 103)"
      ]
     },
     "execution_count": 13,
     "metadata": {},
     "output_type": "execute_result"
    }
   ],
   "source": [
    "rcv_train.target.shape"
   ]
  },
  {
   "cell_type": "code",
   "execution_count": 8,
   "id": "a2d320ad",
   "metadata": {},
   "outputs": [
    {
     "data": {
      "text/plain": [
       "array([  0,   1,   2,   3,   4,   5,   6,   7,   8,   9,  10,  11,  12,\n",
       "        13,  14,  15,  16,  17,  18,  19,  20,  21,  22,  23,  24,  25,\n",
       "        26,  27,  28,  29,  30,  31,  32,  33,  34,  35,  36,  37,  38,\n",
       "        39,  40,  41,  42,  43,  44,  45,  46,  47,  48,  49,  50,  51,\n",
       "        52,  53,  54,  55,  56,  57,  58,  59,  60,  61,  62,  63,  64,\n",
       "        65,  66,  67,  68,  69,  70,  71,  72,  73,  74,  75,  76,  77,\n",
       "        78,  79,  80,  81,  82,  83,  84,  85,  86,  87,  88,  89,  90,\n",
       "        91,  92,  93,  94,  95,  96,  97,  98,  99, 100, 101, 102])"
      ]
     },
     "execution_count": 8,
     "metadata": {},
     "output_type": "execute_result"
    }
   ],
   "source": [
    "classes = np.arange(rcv_train.target.shape[1])\n",
    "classes"
   ]
  },
  {
   "cell_type": "code",
   "execution_count": 14,
   "id": "657a4bd2",
   "metadata": {},
   "outputs": [],
   "source": [
    "y_train = y_train.dot(classes)\n",
    "y_test = y_test.dot(classes)"
   ]
  },
  {
   "cell_type": "code",
   "execution_count": 17,
   "id": "3f640793",
   "metadata": {},
   "outputs": [
    {
     "data": {
      "text/plain": [
       "(23149,)"
      ]
     },
     "execution_count": 17,
     "metadata": {},
     "output_type": "execute_result"
    }
   ],
   "source": [
    "y_train.shape"
   ]
  },
  {
   "cell_type": "code",
   "execution_count": 18,
   "id": "86a04095",
   "metadata": {},
   "outputs": [
    {
     "data": {
      "text/plain": [
       "(781265,)"
      ]
     },
     "execution_count": 18,
     "metadata": {},
     "output_type": "execute_result"
    }
   ],
   "source": [
    "y_test.shape"
   ]
  },
  {
   "cell_type": "markdown",
   "id": "9bba1c3a",
   "metadata": {},
   "source": [
    "## VarianceThreshold()"
   ]
  },
  {
   "cell_type": "code",
   "execution_count": 20,
   "id": "74b14f20",
   "metadata": {},
   "outputs": [],
   "source": [
    "from sklearn.feature_selection import VarianceThreshold"
   ]
  },
  {
   "cell_type": "code",
   "execution_count": 29,
   "id": "981fcbb3",
   "metadata": {},
   "outputs": [
    {
     "data": {
      "text/plain": [
       "((23149, 14330), (781265, 14330))"
      ]
     },
     "execution_count": 29,
     "metadata": {},
     "output_type": "execute_result"
    }
   ],
   "source": [
    "# 표본의 변화에 따른 feature 값의 분산을 계산하여 불필요한 feature를 제거\n",
    "\n",
    "var_selector = VarianceThreshold(1e-5)\n",
    "X_train_sel = var_selector.fit_transform(X_train)\n",
    "X_test_sel = var_selector.transform(X_test)\n",
    "\n",
    "X_train_sel.shape, X_test_sel.shape"
   ]
  },
  {
   "cell_type": "code",
   "execution_count": 31,
   "id": "ef42fb03",
   "metadata": {},
   "outputs": [
    {
     "data": {
      "text/plain": [
       "((23149, 47236), (23149, 14330))"
      ]
     },
     "execution_count": 31,
     "metadata": {},
     "output_type": "execute_result"
    }
   ],
   "source": [
    "X_train.shape, X_train_sel.shape"
   ]
  },
  {
   "cell_type": "code",
   "execution_count": 30,
   "id": "d7d6dde5",
   "metadata": {},
   "outputs": [
    {
     "data": {
      "text/plain": [
       "((781265, 47236), (781265, 14330))"
      ]
     },
     "execution_count": 30,
     "metadata": {},
     "output_type": "execute_result"
    }
   ],
   "source": [
    "X_test.shape, X_test_sel.shape"
   ]
  },
  {
   "cell_type": "code",
   "execution_count": 26,
   "id": "0075bc23",
   "metadata": {},
   "outputs": [],
   "source": [
    "from sklearn.naive_bayes import BernoulliNB\n",
    "from sklearn.metrics import accuracy_score"
   ]
  },
  {
   "cell_type": "code",
   "execution_count": 27,
   "id": "31611b3b",
   "metadata": {},
   "outputs": [
    {
     "name": "stdout",
     "output_type": "stream",
     "text": [
      "train acc : 0.381\n",
      "test acc : 0.324\n",
      "CPU times: total: 17.3 s\n",
      "Wall time: 17.6 s\n"
     ]
    }
   ],
   "source": [
    "%%time\n",
    "\n",
    "model = BernoulliNB()\n",
    "model.fit(X_train, y_train)\n",
    "\n",
    "print(\"train acc : {:5.3f}\".format(accuracy_score(y_train, model.predict(X_train))))\n",
    "print(\"test acc : {:5.3f}\".format(accuracy_score(y_test, model.predict(X_test))))"
   ]
  },
  {
   "cell_type": "code",
   "execution_count": 32,
   "id": "34f403eb",
   "metadata": {},
   "outputs": [
    {
     "name": "stdout",
     "output_type": "stream",
     "text": [
      "var selector train acc : 0.529\n",
      "var selector test acc : 0.441\n",
      "CPU times: total: 13.9 s\n",
      "Wall time: 14.8 s\n"
     ]
    }
   ],
   "source": [
    "%%time\n",
    "\n",
    "model = BernoulliNB()\n",
    "model.fit(X_train_sel, y_train)\n",
    "\n",
    "print(\"var selector train acc : {:5.3f}\"\\\n",
    "      .format(accuracy_score(y_train, model.predict(X_train_sel))))\n",
    "print(\"var selector test acc : {:5.3f}\"\\\n",
    "      .format(accuracy_score(y_test, model.predict(X_test_sel))))"
   ]
  },
  {
   "cell_type": "markdown",
   "id": "7dfa05ed",
   "metadata": {},
   "source": [
    "## 단일 변수 선택방법"
   ]
  },
  {
   "cell_type": "code",
   "execution_count": 33,
   "id": "71bb0cac",
   "metadata": {},
   "outputs": [],
   "source": [
    "from sklearn.feature_selection import chi2, SelectKBest"
   ]
  },
  {
   "cell_type": "code",
   "execution_count": 35,
   "id": "71cca037",
   "metadata": {},
   "outputs": [
    {
     "data": {
      "text/plain": [
       "(23149, 14330)"
      ]
     },
     "execution_count": 35,
     "metadata": {},
     "output_type": "execute_result"
    }
   ],
   "source": [
    "X_train_sel.shape"
   ]
  },
  {
   "cell_type": "code",
   "execution_count": 37,
   "id": "d2accfba",
   "metadata": {},
   "outputs": [
    {
     "name": "stdout",
     "output_type": "stream",
     "text": [
      "kbest select train acc : 0.505\n",
      "kbest select test acc : 0.438\n",
      "CPU times: total: 11.8 s\n",
      "Wall time: 12 s\n"
     ]
    }
   ],
   "source": [
    "%%time\n",
    "\n",
    "kbest_selector = SelectKBest(chi2, k=14330)\n",
    "X_train_kbest = kbest_selector.fit_transform(X_train, y_train)\n",
    "X_test_kbest = kbest_selector.transform(X_test)\n",
    "\n",
    "model = BernoulliNB()\n",
    "model.fit(X_train_kbest, y_train)\n",
    "\n",
    "print(\"kbest select train acc : {:5.3f}\"\\\n",
    "      .format(accuracy_score(y_train, model.predict(X_train_kbest))))\n",
    "print(\"kbest select test acc : {:5.3f}\"\\\n",
    "      .format(accuracy_score(y_test, model.predict(X_test_kbest))))"
   ]
  },
  {
   "cell_type": "markdown",
   "id": "f1ba1c7b",
   "metadata": {},
   "source": [
    "## 특성 중요도 계산 방법\n",
    "- DT, RF, ET 등 의사결정나무 계열의 모형은 특성 중요도를 반환한다.\n",
    "- 이를 사용하여 feature를 선택한 후 예측 모형은 다른 것을 사용하는 방식."
   ]
  },
  {
   "cell_type": "code",
   "execution_count": 38,
   "id": "a1c7e384",
   "metadata": {},
   "outputs": [],
   "source": [
    "from sklearn.feature_selection import SelectFromModel\n",
    "from sklearn.ensemble import ExtraTreesClassifier"
   ]
  },
  {
   "cell_type": "code",
   "execution_count": 40,
   "id": "3679fad9",
   "metadata": {},
   "outputs": [
    {
     "name": "stdout",
     "output_type": "stream",
     "text": [
      "CPU times: total: 1min 32s\n",
      "Wall time: 1min 40s\n"
     ]
    }
   ],
   "source": [
    "%%time\n",
    "\n",
    "# 랜덤 샘플링\n",
    "n_sample = 10000\n",
    "idx = np.random.choice(range(len(y_train)), n_sample)\n",
    "# feature importance 계산을 위한 ET 모형\n",
    "fimp_model = ExtraTreesClassifier(n_estimators=50).fit(X_train[idx, :], y_train[idx])\n",
    "# feature importance 를 사용하여 feature select\n",
    "fimp_selector = SelectFromModel(fimp_model, prefit=True, max_features=14330)\n",
    "# train, test 데이터 변환\n",
    "X_train_fimp = fimp_selector.fit_transform(X_train)\n",
    "X_test_fimp = fimp_selector.transform(X_test)"
   ]
  },
  {
   "cell_type": "code",
   "execution_count": 41,
   "id": "a48ed0cc",
   "metadata": {},
   "outputs": [
    {
     "name": "stdout",
     "output_type": "stream",
     "text": [
      "feature imp train acc : 0.602\n",
      "feature imp test acc : 0.491\n",
      "CPU times: total: 10.7 s\n",
      "Wall time: 12.6 s\n"
     ]
    }
   ],
   "source": [
    "%%time\n",
    "\n",
    "model = BernoulliNB()\n",
    "model.fit(X_train_fimp, y_train)\n",
    "\n",
    "print(\"feature imp train acc : {:5.3f}\"\n",
    "      .format(accuracy_score(y_train, model.predict(X_train_fimp))))\n",
    "print(\"feature imp test acc : {:5.3f}\"\n",
    "      .format(accuracy_score(y_test, model.predict(X_test_fimp))))"
   ]
  },
  {
   "cell_type": "markdown",
   "id": "21a22805",
   "metadata": {},
   "source": [
    "## L1-based 변수선택\n",
    "- Lasso, LogisticRegression, LinearSVC 를 사용하여 추정 가중치 희소 행렬을 사용"
   ]
  },
  {
   "cell_type": "code",
   "execution_count": 44,
   "id": "eb7ac9f4",
   "metadata": {},
   "outputs": [],
   "source": [
    "from sklearn.svm import LinearSVC"
   ]
  },
  {
   "cell_type": "code",
   "execution_count": 47,
   "id": "9a4cc445",
   "metadata": {},
   "outputs": [
    {
     "data": {
      "text/plain": [
       "(23149, 47236)"
      ]
     },
     "execution_count": 47,
     "metadata": {},
     "output_type": "execute_result"
    }
   ],
   "source": [
    "X_train.shape"
   ]
  },
  {
   "cell_type": "code",
   "execution_count": 49,
   "id": "50e4312c",
   "metadata": {},
   "outputs": [
    {
     "name": "stdout",
     "output_type": "stream",
     "text": [
      "l1 based select train acc : 0.152\n",
      "l1 based selet test acc : 0.150\n",
      "CPU times: total: 12.9 s\n",
      "Wall time: 14.2 s\n"
     ]
    }
   ],
   "source": [
    "%%time\n",
    "\n",
    "l1_svc = LinearSVC(C=0.01, \n",
    "                   penalty=\"l1\", \n",
    "                   dual=False).fit(X_train[idx, :], y_train[idx])\n",
    "l1_selector = SelectFromModel(l1_svc, prefit=True, max_features=14330)\n",
    "X_train_l1 = l1_selector.fit_transform(X_train)\n",
    "X_test_l1 = l1_selector.transform(X_test)\n",
    "\n",
    "model = BernoulliNB()\n",
    "model.fit(X_train_l1, y_train)\n",
    "\n",
    "print(\"l1 based select train acc : {:5.3f}\"\n",
    "      .format(accuracy_score(y_train, model.predict(X_train_l1))))\n",
    "print(\"l1 based selet test acc : {:5.3f}\"\n",
    "      .format(accuracy_score(y_test, model.predict(X_test_l1))))"
   ]
  },
  {
   "cell_type": "code",
   "execution_count": 50,
   "id": "65cfc525",
   "metadata": {},
   "outputs": [
    {
     "data": {
      "text/plain": [
       "((23149, 4), (781265, 4))"
      ]
     },
     "execution_count": 50,
     "metadata": {},
     "output_type": "execute_result"
    }
   ],
   "source": [
    "X_train_l1.shape, X_test_l1.shape"
   ]
  },
  {
   "cell_type": "markdown",
   "id": "d9cd287b",
   "metadata": {},
   "source": [
    "#### LR의 multi_class=\"auto\""
   ]
  },
  {
   "cell_type": "code",
   "execution_count": 51,
   "id": "21b93603",
   "metadata": {},
   "outputs": [],
   "source": [
    "from sklearn.linear_model import LogisticRegression"
   ]
  },
  {
   "cell_type": "code",
   "execution_count": 52,
   "id": "830b622d",
   "metadata": {},
   "outputs": [
    {
     "name": "stdout",
     "output_type": "stream",
     "text": [
      "logsticR l1 based train acc : 0.617\n",
      "logsticR l1 based test acc : 0.528\n",
      "CPU times: total: 5min 28s\n",
      "Wall time: 5min 52s\n"
     ]
    }
   ],
   "source": [
    "%%time\n",
    "\n",
    "lr_select = LogisticRegression(solver=\"saga\", \n",
    "                               penalty=\"l1\",\n",
    "                               max_iter=150,\n",
    "                               n_jobs=2).fit(X_train[idx, :], y_train[idx])\n",
    "lr_selector = SelectFromModel(lr_select, prefit=True, max_features=14330)\n",
    "X_train_lr = lr_selector.fit_transform(X_train)\n",
    "X_test_lr = lr_selector.transform(X_test)\n",
    "\n",
    "model = BernoulliNB()\n",
    "model.fit(X_train_lr, y_train)\n",
    "\n",
    "print(\"logsticR l1 based train acc : {:5.3f}\"\n",
    "      .format(accuracy_score(y_train, model.predict(X_train_lr))))\n",
    "print(\"logsticR l1 based test acc : {:5.3f}\"\n",
    "      .format(accuracy_score(y_test, model.predict(X_test_lr))))"
   ]
  },
  {
   "cell_type": "markdown",
   "id": "0179f28a",
   "metadata": {},
   "source": [
    "#### LR의 multi_class=\"multinomial\""
   ]
  },
  {
   "cell_type": "code",
   "execution_count": 71,
   "id": "937daf4f",
   "metadata": {},
   "outputs": [
    {
     "name": "stdout",
     "output_type": "stream",
     "text": [
      "logsticR l1 based train acc : 0.618\n",
      "logsticR l1 based test acc : 0.528\n",
      "CPU times: total: 5min 36s\n",
      "Wall time: 5min 55s\n"
     ]
    }
   ],
   "source": [
    "%%time\n",
    "\n",
    "lr_model = LogisticRegression(solver=\"saga\", \n",
    "                               penalty=\"l1\",\n",
    "                               max_iter=150,\n",
    "                               multi_class=\"multinomial\",\n",
    "                               n_jobs=2).fit(X_train[idx, :], y_train[idx])\n",
    "l1based_selector = SelectFromModel(lr_model, prefit=True, max_features=14330)\n",
    "X_train_lr = l1based_selector.fit_transform(X_train)\n",
    "X_test_lr = l1based_selector.transform(X_test)\n",
    "\n",
    "model = BernoulliNB()\n",
    "model.fit(X_train_lr, y_train)\n",
    "\n",
    "print(\"logsticR l1 based train acc : {:5.3f}\"\n",
    "      .format(accuracy_score(y_train, model.predict(X_train_lr))))\n",
    "print(\"logsticR l1 based test acc : {:5.3f}\"\n",
    "      .format(accuracy_score(y_test, model.predict(X_test_lr))))"
   ]
  },
  {
   "cell_type": "code",
   "execution_count": 73,
   "id": "d19706ef",
   "metadata": {},
   "outputs": [
    {
     "data": {
      "text/plain": [
       "((23149, 47236), (10000,))"
      ]
     },
     "execution_count": 73,
     "metadata": {},
     "output_type": "execute_result"
    }
   ],
   "source": [
    "X_train.shape, idx.shape"
   ]
  },
  {
   "cell_type": "code",
   "execution_count": 74,
   "id": "df0b7a47",
   "metadata": {},
   "outputs": [
    {
     "data": {
      "text/plain": [
       "(405, 47236)"
      ]
     },
     "execution_count": 74,
     "metadata": {},
     "output_type": "execute_result"
    }
   ],
   "source": [
    "lr_select.coef_.shape"
   ]
  },
  {
   "cell_type": "code",
   "execution_count": 75,
   "id": "2d210415",
   "metadata": {},
   "outputs": [
    {
     "data": {
      "text/plain": [
       "(129, 47236)"
      ]
     },
     "execution_count": 75,
     "metadata": {},
     "output_type": "execute_result"
    }
   ],
   "source": [
    "lr_select.coef_[lr_select.coef_.sum(axis=1) != 0].shape"
   ]
  },
  {
   "cell_type": "code",
   "execution_count": 76,
   "id": "e8f777c5",
   "metadata": {},
   "outputs": [
    {
     "data": {
      "text/plain": [
       "(276, 47236)"
      ]
     },
     "execution_count": 76,
     "metadata": {},
     "output_type": "execute_result"
    }
   ],
   "source": [
    "lr_select.coef_[lr_select.coef_.sum(axis=1) == 0].shape"
   ]
  },
  {
   "cell_type": "code",
   "execution_count": 77,
   "id": "6cbfa85d",
   "metadata": {},
   "outputs": [
    {
     "data": {
      "text/plain": [
       "((23149, 876), (781265, 876))"
      ]
     },
     "execution_count": 77,
     "metadata": {},
     "output_type": "execute_result"
    }
   ],
   "source": [
    "X_train_lr.shape, X_test_lr.shape"
   ]
  },
  {
   "cell_type": "markdown",
   "id": "36c44c87",
   "metadata": {},
   "source": [
    "## sklearn docs"
   ]
  },
  {
   "cell_type": "markdown",
   "id": "5458daaa",
   "metadata": {},
   "source": [
    "## SelectFromModel과 SequentialFeatureSelector 비교\n",
    "- feature_importances 값에 기반한 SFM과\n",
    "- 순차적 변수 선택 방법을 비교\n",
    "- diabetes 데이터 사용"
   ]
  },
  {
   "cell_type": "code",
   "execution_count": 2,
   "id": "2f511bf1",
   "metadata": {},
   "outputs": [
    {
     "data": {
      "text/plain": [
       "((442, 10), (442,))"
      ]
     },
     "execution_count": 2,
     "metadata": {},
     "output_type": "execute_result"
    }
   ],
   "source": [
    "from sklearn.datasets import load_diabetes\n",
    "\n",
    "diab = load_diabetes()\n",
    "X = diab.data\n",
    "y = diab.target\n",
    "\n",
    "X.shape, y.shape"
   ]
  },
  {
   "cell_type": "code",
   "execution_count": 3,
   "id": "9f55c893",
   "metadata": {},
   "outputs": [
    {
     "data": {
      "text/plain": [
       "['age', 'sex', 'bmi', 'bp', 's1', 's2', 's3', 's4', 's5', 's6']"
      ]
     },
     "execution_count": 3,
     "metadata": {},
     "output_type": "execute_result"
    }
   ],
   "source": [
    "diab.feature_names"
   ]
  },
  {
   "cell_type": "markdown",
   "id": "76d35686",
   "metadata": {},
   "source": [
    "### 계수의 특징 중요도\n",
    "- RidgeCV 모형을 사용하여 feature_importance 계산\n",
    "- 절대값 가중치 값이 큰 feature가 중요함"
   ]
  },
  {
   "cell_type": "code",
   "execution_count": 5,
   "id": "5de4dd08",
   "metadata": {},
   "outputs": [],
   "source": [
    "%matplotlib inline"
   ]
  },
  {
   "cell_type": "code",
   "execution_count": 6,
   "id": "c65c500c",
   "metadata": {},
   "outputs": [],
   "source": [
    "from sklearn.linear_model import RidgeCV"
   ]
  },
  {
   "cell_type": "code",
   "execution_count": 7,
   "id": "279affa2",
   "metadata": {},
   "outputs": [
    {
     "data": {
      "text/html": [
       "<style>#sk-container-id-1 {color: black;}#sk-container-id-1 pre{padding: 0;}#sk-container-id-1 div.sk-toggleable {background-color: white;}#sk-container-id-1 label.sk-toggleable__label {cursor: pointer;display: block;width: 100%;margin-bottom: 0;padding: 0.3em;box-sizing: border-box;text-align: center;}#sk-container-id-1 label.sk-toggleable__label-arrow:before {content: \"▸\";float: left;margin-right: 0.25em;color: #696969;}#sk-container-id-1 label.sk-toggleable__label-arrow:hover:before {color: black;}#sk-container-id-1 div.sk-estimator:hover label.sk-toggleable__label-arrow:before {color: black;}#sk-container-id-1 div.sk-toggleable__content {max-height: 0;max-width: 0;overflow: hidden;text-align: left;background-color: #f0f8ff;}#sk-container-id-1 div.sk-toggleable__content pre {margin: 0.2em;color: black;border-radius: 0.25em;background-color: #f0f8ff;}#sk-container-id-1 input.sk-toggleable__control:checked~div.sk-toggleable__content {max-height: 200px;max-width: 100%;overflow: auto;}#sk-container-id-1 input.sk-toggleable__control:checked~label.sk-toggleable__label-arrow:before {content: \"▾\";}#sk-container-id-1 div.sk-estimator input.sk-toggleable__control:checked~label.sk-toggleable__label {background-color: #d4ebff;}#sk-container-id-1 div.sk-label input.sk-toggleable__control:checked~label.sk-toggleable__label {background-color: #d4ebff;}#sk-container-id-1 input.sk-hidden--visually {border: 0;clip: rect(1px 1px 1px 1px);clip: rect(1px, 1px, 1px, 1px);height: 1px;margin: -1px;overflow: hidden;padding: 0;position: absolute;width: 1px;}#sk-container-id-1 div.sk-estimator {font-family: monospace;background-color: #f0f8ff;border: 1px dotted black;border-radius: 0.25em;box-sizing: border-box;margin-bottom: 0.5em;}#sk-container-id-1 div.sk-estimator:hover {background-color: #d4ebff;}#sk-container-id-1 div.sk-parallel-item::after {content: \"\";width: 100%;border-bottom: 1px solid gray;flex-grow: 1;}#sk-container-id-1 div.sk-label:hover label.sk-toggleable__label {background-color: #d4ebff;}#sk-container-id-1 div.sk-serial::before {content: \"\";position: absolute;border-left: 1px solid gray;box-sizing: border-box;top: 0;bottom: 0;left: 50%;z-index: 0;}#sk-container-id-1 div.sk-serial {display: flex;flex-direction: column;align-items: center;background-color: white;padding-right: 0.2em;padding-left: 0.2em;position: relative;}#sk-container-id-1 div.sk-item {position: relative;z-index: 1;}#sk-container-id-1 div.sk-parallel {display: flex;align-items: stretch;justify-content: center;background-color: white;position: relative;}#sk-container-id-1 div.sk-item::before, #sk-container-id-1 div.sk-parallel-item::before {content: \"\";position: absolute;border-left: 1px solid gray;box-sizing: border-box;top: 0;bottom: 0;left: 50%;z-index: -1;}#sk-container-id-1 div.sk-parallel-item {display: flex;flex-direction: column;z-index: 1;position: relative;background-color: white;}#sk-container-id-1 div.sk-parallel-item:first-child::after {align-self: flex-end;width: 50%;}#sk-container-id-1 div.sk-parallel-item:last-child::after {align-self: flex-start;width: 50%;}#sk-container-id-1 div.sk-parallel-item:only-child::after {width: 0;}#sk-container-id-1 div.sk-dashed-wrapped {border: 1px dashed gray;margin: 0 0.4em 0.5em 0.4em;box-sizing: border-box;padding-bottom: 0.4em;background-color: white;}#sk-container-id-1 div.sk-label label {font-family: monospace;font-weight: bold;display: inline-block;line-height: 1.2em;}#sk-container-id-1 div.sk-label-container {text-align: center;}#sk-container-id-1 div.sk-container {/* jupyter's `normalize.less` sets `[hidden] { display: none; }` but bootstrap.min.css set `[hidden] { display: none !important; }` so we also need the `!important` here to be able to override the default hidden behavior on the sphinx rendered scikit-learn.org. See: https://github.com/scikit-learn/scikit-learn/issues/21755 */display: inline-block !important;position: relative;}#sk-container-id-1 div.sk-text-repr-fallback {display: none;}</style><div id=\"sk-container-id-1\" class=\"sk-top-container\"><div class=\"sk-text-repr-fallback\"><pre>RidgeCV(alphas=array([1.e-06, 1.e-03, 1.e+00, 1.e+03, 1.e+06]))</pre><b>In a Jupyter environment, please rerun this cell to show the HTML representation or trust the notebook. <br />On GitHub, the HTML representation is unable to render, please try loading this page with nbviewer.org.</b></div><div class=\"sk-container\" hidden><div class=\"sk-item\"><div class=\"sk-estimator sk-toggleable\"><input class=\"sk-toggleable__control sk-hidden--visually\" id=\"sk-estimator-id-1\" type=\"checkbox\" checked><label for=\"sk-estimator-id-1\" class=\"sk-toggleable__label sk-toggleable__label-arrow\">RidgeCV</label><div class=\"sk-toggleable__content\"><pre>RidgeCV(alphas=array([1.e-06, 1.e-03, 1.e+00, 1.e+03, 1.e+06]))</pre></div></div></div></div></div>"
      ],
      "text/plain": [
       "RidgeCV(alphas=array([1.e-06, 1.e-03, 1.e+00, 1.e+03, 1.e+06]))"
      ]
     },
     "execution_count": 7,
     "metadata": {},
     "output_type": "execute_result"
    }
   ],
   "source": [
    "ridge = RidgeCV(alphas=np.logspace(-6, 6, num=5)).fit(X, y)\n",
    "ridge"
   ]
  },
  {
   "cell_type": "code",
   "execution_count": 9,
   "id": "91bf2b25",
   "metadata": {},
   "outputs": [
    {
     "data": {
      "text/plain": [
       "array([  -9.54916175, -239.08695779,  520.3693746 ,  323.82274522,\n",
       "       -712.32215918,  413.37912498,   65.81132269,  167.51300694,\n",
       "        720.9399241 ,   68.12336029])"
      ]
     },
     "execution_count": 9,
     "metadata": {},
     "output_type": "execute_result"
    }
   ],
   "source": [
    "ridge.coef_"
   ]
  },
  {
   "cell_type": "code",
   "execution_count": 8,
   "id": "6e764882",
   "metadata": {},
   "outputs": [
    {
     "data": {
      "text/plain": [
       "array([  9.54916175, 239.08695779, 520.3693746 , 323.82274522,\n",
       "       712.32215918, 413.37912498,  65.81132269, 167.51300694,\n",
       "       720.9399241 ,  68.12336029])"
      ]
     },
     "execution_count": 8,
     "metadata": {},
     "output_type": "execute_result"
    }
   ],
   "source": [
    "imp = np.abs(ridge.coef_)\n",
    "imp"
   ]
  },
  {
   "cell_type": "code",
   "execution_count": 11,
   "id": "7dab2b6e",
   "metadata": {},
   "outputs": [
    {
     "data": {
      "image/png": "[encoded data removed]",
      "text/plain": [
       "<Figure size 600x400 with 1 Axes>"
      ]
     },
     "metadata": {
      "image/png": {
       "height": 377,
       "width": 525
      }
     },
     "output_type": "display_data"
    }
   ],
   "source": [
    "feature_names = np.array(diab.feature_names)\n",
    "plt.figure()\n",
    "plt.bar(x=feature_names, height=imp)\n",
    "plt.grid(False)\n",
    "plt.title(\"feature imp via coeff\")\n",
    "plt.show() ; "
   ]
  },
  {
   "cell_type": "markdown",
   "id": "9c2feefa",
   "metadata": {},
   "source": [
    "### SelectFromModel()에 importance 값을 적용하여 변수선택"
   ]
  },
  {
   "cell_type": "code",
   "execution_count": 12,
   "id": "37f4aa53",
   "metadata": {},
   "outputs": [],
   "source": [
    "from sklearn.feature_selection import SelectFromModel"
   ]
  },
  {
   "cell_type": "code",
   "execution_count": 13,
   "id": "9e7aaac1",
   "metadata": {},
   "outputs": [
    {
     "data": {
      "text/plain": [
       "array([  9.54916175,  65.81132269,  68.12336029, 167.51300694,\n",
       "       239.08695779, 323.82274522, 413.37912498, 520.3693746 ,\n",
       "       712.32215918, 720.9399241 ])"
      ]
     },
     "execution_count": 13,
     "metadata": {},
     "output_type": "execute_result"
    }
   ],
   "source": [
    "np.sort(imp)"
   ]
  },
  {
   "cell_type": "code",
   "execution_count": 14,
   "id": "63cfed2b",
   "metadata": {},
   "outputs": [
    {
     "data": {
      "text/plain": [
       "520.3793746031438"
      ]
     },
     "execution_count": 14,
     "metadata": {},
     "output_type": "execute_result"
    }
   ],
   "source": [
    "thr = np.sort(imp)[-3] + 0.01\n",
    "thr"
   ]
  },
  {
   "cell_type": "code",
   "execution_count": 16,
   "id": "574a4f64",
   "metadata": {},
   "outputs": [
    {
     "name": "stdout",
     "output_type": "stream",
     "text": [
      "CPU times: total: 0 ns\n",
      "Wall time: 2.01 ms\n"
     ]
    },
    {
     "data": {
      "text/html": [
       "<style>#sk-container-id-2 {color: black;}#sk-container-id-2 pre{padding: 0;}#sk-container-id-2 div.sk-toggleable {background-color: white;}#sk-container-id-2 label.sk-toggleable__label {cursor: pointer;display: block;width: 100%;margin-bottom: 0;padding: 0.3em;box-sizing: border-box;text-align: center;}#sk-container-id-2 label.sk-toggleable__label-arrow:before {content: \"▸\";float: left;margin-right: 0.25em;color: #696969;}#sk-container-id-2 label.sk-toggleable__label-arrow:hover:before {color: black;}#sk-container-id-2 div.sk-estimator:hover label.sk-toggleable__label-arrow:before {color: black;}#sk-container-id-2 div.sk-toggleable__content {max-height: 0;max-width: 0;overflow: hidden;text-align: left;background-color: #f0f8ff;}#sk-container-id-2 div.sk-toggleable__content pre {margin: 0.2em;color: black;border-radius: 0.25em;background-color: #f0f8ff;}#sk-container-id-2 input.sk-toggleable__control:checked~div.sk-toggleable__content {max-height: 200px;max-width: 100%;overflow: auto;}#sk-container-id-2 input.sk-toggleable__control:checked~label.sk-toggleable__label-arrow:before {content: \"▾\";}#sk-container-id-2 div.sk-estimator input.sk-toggleable__control:checked~label.sk-toggleable__label {background-color: #d4ebff;}#sk-container-id-2 div.sk-label input.sk-toggleable__control:checked~label.sk-toggleable__label {background-color: #d4ebff;}#sk-container-id-2 input.sk-hidden--visually {border: 0;clip: rect(1px 1px 1px 1px);clip: rect(1px, 1px, 1px, 1px);height: 1px;margin: -1px;overflow: hidden;padding: 0;position: absolute;width: 1px;}#sk-container-id-2 div.sk-estimator {font-family: monospace;background-color: #f0f8ff;border: 1px dotted black;border-radius: 0.25em;box-sizing: border-box;margin-bottom: 0.5em;}#sk-container-id-2 div.sk-estimator:hover {background-color: #d4ebff;}#sk-container-id-2 div.sk-parallel-item::after {content: \"\";width: 100%;border-bottom: 1px solid gray;flex-grow: 1;}#sk-container-id-2 div.sk-label:hover label.sk-toggleable__label {background-color: #d4ebff;}#sk-container-id-2 div.sk-serial::before {content: \"\";position: absolute;border-left: 1px solid gray;box-sizing: border-box;top: 0;bottom: 0;left: 50%;z-index: 0;}#sk-container-id-2 div.sk-serial {display: flex;flex-direction: column;align-items: center;background-color: white;padding-right: 0.2em;padding-left: 0.2em;position: relative;}#sk-container-id-2 div.sk-item {position: relative;z-index: 1;}#sk-container-id-2 div.sk-parallel {display: flex;align-items: stretch;justify-content: center;background-color: white;position: relative;}#sk-container-id-2 div.sk-item::before, #sk-container-id-2 div.sk-parallel-item::before {content: \"\";position: absolute;border-left: 1px solid gray;box-sizing: border-box;top: 0;bottom: 0;left: 50%;z-index: -1;}#sk-container-id-2 div.sk-parallel-item {display: flex;flex-direction: column;z-index: 1;position: relative;background-color: white;}#sk-container-id-2 div.sk-parallel-item:first-child::after {align-self: flex-end;width: 50%;}#sk-container-id-2 div.sk-parallel-item:last-child::after {align-self: flex-start;width: 50%;}#sk-container-id-2 div.sk-parallel-item:only-child::after {width: 0;}#sk-container-id-2 div.sk-dashed-wrapped {border: 1px dashed gray;margin: 0 0.4em 0.5em 0.4em;box-sizing: border-box;padding-bottom: 0.4em;background-color: white;}#sk-container-id-2 div.sk-label label {font-family: monospace;font-weight: bold;display: inline-block;line-height: 1.2em;}#sk-container-id-2 div.sk-label-container {text-align: center;}#sk-container-id-2 div.sk-container {/* jupyter's `normalize.less` sets `[hidden] { display: none; }` but bootstrap.min.css set `[hidden] { display: none !important; }` so we also need the `!important` here to be able to override the default hidden behavior on the sphinx rendered scikit-learn.org. See: https://github.com/scikit-learn/scikit-learn/issues/21755 */display: inline-block !important;position: relative;}#sk-container-id-2 div.sk-text-repr-fallback {display: none;}</style><div id=\"sk-container-id-2\" class=\"sk-top-container\"><div class=\"sk-text-repr-fallback\"><pre>SelectFromModel(estimator=RidgeCV(alphas=array([1.e-06, 1.e-03, 1.e+00, 1.e+03, 1.e+06])),\n",
       "                threshold=520.3793746031438)</pre><b>In a Jupyter environment, please rerun this cell to show the HTML representation or trust the notebook. <br />On GitHub, the HTML representation is unable to render, please try loading this page with nbviewer.org.</b></div><div class=\"sk-container\" hidden><div class=\"sk-item sk-dashed-wrapped\"><div class=\"sk-label-container\"><div class=\"sk-label sk-toggleable\"><input class=\"sk-toggleable__control sk-hidden--visually\" id=\"sk-estimator-id-2\" type=\"checkbox\" ><label for=\"sk-estimator-id-2\" class=\"sk-toggleable__label sk-toggleable__label-arrow\">SelectFromModel</label><div class=\"sk-toggleable__content\"><pre>SelectFromModel(estimator=RidgeCV(alphas=array([1.e-06, 1.e-03, 1.e+00, 1.e+03, 1.e+06])),\n",
       "                threshold=520.3793746031438)</pre></div></div></div><div class=\"sk-parallel\"><div class=\"sk-parallel-item\"><div class=\"sk-item\"><div class=\"sk-label-container\"><div class=\"sk-label sk-toggleable\"><input class=\"sk-toggleable__control sk-hidden--visually\" id=\"sk-estimator-id-3\" type=\"checkbox\" ><label for=\"sk-estimator-id-3\" class=\"sk-toggleable__label sk-toggleable__label-arrow\">estimator: RidgeCV</label><div class=\"sk-toggleable__content\"><pre>RidgeCV(alphas=array([1.e-06, 1.e-03, 1.e+00, 1.e+03, 1.e+06]))</pre></div></div></div><div class=\"sk-serial\"><div class=\"sk-item\"><div class=\"sk-estimator sk-toggleable\"><input class=\"sk-toggleable__control sk-hidden--visually\" id=\"sk-estimator-id-4\" type=\"checkbox\" ><label for=\"sk-estimator-id-4\" class=\"sk-toggleable__label sk-toggleable__label-arrow\">RidgeCV</label><div class=\"sk-toggleable__content\"><pre>RidgeCV(alphas=array([1.e-06, 1.e-03, 1.e+00, 1.e+03, 1.e+06]))</pre></div></div></div></div></div></div></div></div></div></div>"
      ],
      "text/plain": [
       "SelectFromModel(estimator=RidgeCV(alphas=array([1.e-06, 1.e-03, 1.e+00, 1.e+03, 1.e+06])),\n",
       "                threshold=520.3793746031438)"
      ]
     },
     "execution_count": 16,
     "metadata": {},
     "output_type": "execute_result"
    }
   ],
   "source": [
    "%%time\n",
    "\n",
    "sfm = SelectFromModel(ridge, threshold=thr).fit(X, y)\n",
    "sfm"
   ]
  },
  {
   "cell_type": "code",
   "execution_count": 17,
   "id": "76b5400d",
   "metadata": {},
   "outputs": [
    {
     "data": {
      "text/plain": [
       "array([False, False, False, False,  True, False, False, False,  True,\n",
       "       False])"
      ]
     },
     "execution_count": 17,
     "metadata": {},
     "output_type": "execute_result"
    }
   ],
   "source": [
    "sfm.get_support()"
   ]
  },
  {
   "cell_type": "code",
   "execution_count": 20,
   "id": "7db5f338",
   "metadata": {},
   "outputs": [
    {
     "name": "stdout",
     "output_type": "stream",
     "text": [
      "feature selected by sfm : ['s1' 's5']\n"
     ]
    }
   ],
   "source": [
    "print(f\"feature selected by sfm : {feature_names[sfm.get_support()]}\")"
   ]
  },
  {
   "cell_type": "markdown",
   "id": "50afa7b2",
   "metadata": {},
   "source": [
    "### Sequential Feature Selection\n",
    "- SFS : 반복할 때마다 cv score를 기반으로 feature를 추가한다.\n",
    "- foward, backward 방향을 설정 가능"
   ]
  },
  {
   "cell_type": "code",
   "execution_count": 22,
   "id": "b17a1029",
   "metadata": {},
   "outputs": [],
   "source": [
    "from sklearn.feature_selection import SequentialFeatureSelector"
   ]
  },
  {
   "cell_type": "code",
   "execution_count": 23,
   "id": "64365f51",
   "metadata": {},
   "outputs": [],
   "source": [
    "import time"
   ]
  },
  {
   "cell_type": "code",
   "execution_count": 25,
   "id": "256efac2",
   "metadata": {},
   "outputs": [
    {
     "name": "stdout",
     "output_type": "stream",
     "text": [
      "features selected by fwd sfs : ['bmi' 's5']\n",
      "Done in 0.167s\n",
      "feature selected by bwd sfs : ['bmi' 's5']\n",
      "Done in 0.581s\n"
     ]
    }
   ],
   "source": [
    "tic_fwd = time.time()\n",
    "sfs_forward = SequentialFeatureSelector(\n",
    "    ridge, n_features_to_select=2, direction=\"forward\").fit(X, y)\n",
    "end_fwd = time.time()\n",
    "\n",
    "tic_bwd = time.time()\n",
    "sfs_backward = SequentialFeatureSelector(\n",
    "    ridge, n_features_to_select=2, direction=\"backward\").fit(X, y)\n",
    "end_bwd = time.time()\n",
    "\n",
    "print(\"features selected by fwd sfs : \"\n",
    "     f\"{feature_names[sfs_forward.get_support()]}\")\n",
    "print(f\"Done in {end_fwd - tic_fwd:.3f}s\")\n",
    "print(\"feature selected by bwd sfs : \"\n",
    "     f\"{feature_names[sfs_backward.get_support()]}\")\n",
    "print(f\"Done in {end_bwd - tic_bwd:.3f}s\")"
   ]
  },
  {
   "cell_type": "markdown",
   "id": "cfe2484b",
   "metadata": {},
   "source": [
    "### SFS의 매개변수 음수 공차\n",
    "- 매개변수 direction=\"backward\"을 tol=음수로 사용한 경우\n",
    "- tol 값이 0에 가까워질 수록 속도도 빨라지고 성능도 좋아지는 경향이 있다."
   ]
  },
  {
   "cell_type": "code",
   "execution_count": 36,
   "id": "52035e86",
   "metadata": {},
   "outputs": [
    {
     "name": "stdout",
     "output_type": "stream",
     "text": [
      "['mean radius' 'mean texture' 'mean perimeter' 'mean area'\n",
      " 'mean smoothness' 'mean compactness' 'mean concavity'\n",
      " 'mean concave points' 'mean symmetry' 'mean fractal dimension'\n",
      " 'radius error' 'texture error' 'perimeter error' 'area error'\n",
      " 'smoothness error' 'compactness error' 'concavity error'\n",
      " 'concave points error' 'symmetry error' 'fractal dimension error'\n",
      " 'worst radius' 'worst texture' 'worst perimeter' 'worst area'\n",
      " 'worst smoothness' 'worst compactness' 'worst concavity'\n",
      " 'worst concave points' 'worst symmetry' 'worst fractal dimension']\n"
     ]
    }
   ],
   "source": [
    "from sklearn.datasets import load_breast_cancer\n",
    "\n",
    "bc = load_breast_cancer()\n",
    "X, y = bc.data, bc.target\n",
    "feature_names = bc.feature_names\n",
    "print(feature_names)"
   ]
  },
  {
   "cell_type": "code",
   "execution_count": 28,
   "id": "add07c1d",
   "metadata": {},
   "outputs": [],
   "source": [
    "from sklearn.linear_model import LogisticRegression\n",
    "from sklearn.metrics import roc_auc_score\n",
    "from sklearn.pipeline import make_pipeline\n",
    "from sklearn.preprocessing import StandardScaler"
   ]
  },
  {
   "cell_type": "code",
   "execution_count": 30,
   "id": "5a738899",
   "metadata": {},
   "outputs": [
    {
     "name": "stdout",
     "output_type": "stream",
     "text": [
      "-0.01\n",
      "-0.001\n",
      "-0.0001\n"
     ]
    }
   ],
   "source": [
    "for tol in [-1e-2, -1e-3, -1e-4] : \n",
    "    print(tol)"
   ]
  },
  {
   "cell_type": "code",
   "execution_count": 45,
   "id": "1325727c",
   "metadata": {},
   "outputs": [
    {
     "name": "stdout",
     "output_type": "stream",
     "text": [
      "\n",
      "tol: -0.1\n",
      "features selected : ['worst perimeter']\n",
      "roc auc score : 0.975\n",
      "Done in  18.174s\n",
      "\n",
      "tol: -0.01\n",
      "features selected : ['worst perimeter']\n",
      "roc auc score : 0.975\n",
      "Done in  20.022s\n",
      "\n",
      "tol: -0.001\n",
      "features selected : ['radius error' 'fractal dimension error' 'worst texture'\n",
      " 'worst perimeter' 'worst concave points']\n",
      "roc auc score : 0.997\n",
      "Done in  19.164s\n",
      "\n",
      "tol: -0.0001\n",
      "features selected : ['mean area' 'mean smoothness' 'mean compactness' 'mean concavity'\n",
      " 'mean concave points' 'mean symmetry' 'radius error' 'perimeter error'\n",
      " 'area error' 'smoothness error' 'symmetry error'\n",
      " 'fractal dimension error' 'worst radius' 'worst texture'\n",
      " 'worst perimeter' 'worst area' 'worst concave points' 'worst symmetry'\n",
      " 'worst fractal dimension']\n",
      "roc auc score : 0.998\n",
      "Done in  13.955s\n"
     ]
    }
   ],
   "source": [
    "for tol in [-1e-1, -1e-2, -1e-3, -1e-4] : \n",
    "    start = time.time()\n",
    "    feature_selector = SequentialFeatureSelector(\n",
    "        LogisticRegression(),\n",
    "        n_features_to_select=\"auto\",\n",
    "        direction=\"backward\",\n",
    "        scoring=\"roc_auc\",\n",
    "        tol=tol,\n",
    "        n_jobs=2)\n",
    "    \n",
    "    model = make_pipeline(StandardScaler(), \n",
    "                          feature_selector, \n",
    "                          LogisticRegression())\n",
    "    model.fit(X, y)\n",
    "    end = time.time()\n",
    "    \n",
    "    print(f\"\\ntol: {tol}\")\n",
    "    print(f\"features selected : {feature_names[model[1].get_support()]}\")\n",
    "    print(f\"roc auc score : {roc_auc_score(y, model.predict_proba(X)[:, 1]):.3f}\")\n",
    "    print(f\"Done in {end - start : .3f}s\")"
   ]
  },
  {
   "cell_type": "code",
   "execution_count": 46,
   "id": "2feeec40",
   "metadata": {},
   "outputs": [
    {
     "data": {
      "text/html": [
       "<style>#sk-container-id-10 {color: black;}#sk-container-id-10 pre{padding: 0;}#sk-container-id-10 div.sk-toggleable {background-color: white;}#sk-container-id-10 label.sk-toggleable__label {cursor: pointer;display: block;width: 100%;margin-bottom: 0;padding: 0.3em;box-sizing: border-box;text-align: center;}#sk-container-id-10 label.sk-toggleable__label-arrow:before {content: \"▸\";float: left;margin-right: 0.25em;color: #696969;}#sk-container-id-10 label.sk-toggleable__label-arrow:hover:before {color: black;}#sk-container-id-10 div.sk-estimator:hover label.sk-toggleable__label-arrow:before {color: black;}#sk-container-id-10 div.sk-toggleable__content {max-height: 0;max-width: 0;overflow: hidden;text-align: left;background-color: #f0f8ff;}#sk-container-id-10 div.sk-toggleable__content pre {margin: 0.2em;color: black;border-radius: 0.25em;background-color: #f0f8ff;}#sk-container-id-10 input.sk-toggleable__control:checked~div.sk-toggleable__content {max-height: 200px;max-width: 100%;overflow: auto;}#sk-container-id-10 input.sk-toggleable__control:checked~label.sk-toggleable__label-arrow:before {content: \"▾\";}#sk-container-id-10 div.sk-estimator input.sk-toggleable__control:checked~label.sk-toggleable__label {background-color: #d4ebff;}#sk-container-id-10 div.sk-label input.sk-toggleable__control:checked~label.sk-toggleable__label {background-color: #d4ebff;}#sk-container-id-10 input.sk-hidden--visually {border: 0;clip: rect(1px 1px 1px 1px);clip: rect(1px, 1px, 1px, 1px);height: 1px;margin: -1px;overflow: hidden;padding: 0;position: absolute;width: 1px;}#sk-container-id-10 div.sk-estimator {font-family: monospace;background-color: #f0f8ff;border: 1px dotted black;border-radius: 0.25em;box-sizing: border-box;margin-bottom: 0.5em;}#sk-container-id-10 div.sk-estimator:hover {background-color: #d4ebff;}#sk-container-id-10 div.sk-parallel-item::after {content: \"\";width: 100%;border-bottom: 1px solid gray;flex-grow: 1;}#sk-container-id-10 div.sk-label:hover label.sk-toggleable__label {background-color: #d4ebff;}#sk-container-id-10 div.sk-serial::before {content: \"\";position: absolute;border-left: 1px solid gray;box-sizing: border-box;top: 0;bottom: 0;left: 50%;z-index: 0;}#sk-container-id-10 div.sk-serial {display: flex;flex-direction: column;align-items: center;background-color: white;padding-right: 0.2em;padding-left: 0.2em;position: relative;}#sk-container-id-10 div.sk-item {position: relative;z-index: 1;}#sk-container-id-10 div.sk-parallel {display: flex;align-items: stretch;justify-content: center;background-color: white;position: relative;}#sk-container-id-10 div.sk-item::before, #sk-container-id-10 div.sk-parallel-item::before {content: \"\";position: absolute;border-left: 1px solid gray;box-sizing: border-box;top: 0;bottom: 0;left: 50%;z-index: -1;}#sk-container-id-10 div.sk-parallel-item {display: flex;flex-direction: column;z-index: 1;position: relative;background-color: white;}#sk-container-id-10 div.sk-parallel-item:first-child::after {align-self: flex-end;width: 50%;}#sk-container-id-10 div.sk-parallel-item:last-child::after {align-self: flex-start;width: 50%;}#sk-container-id-10 div.sk-parallel-item:only-child::after {width: 0;}#sk-container-id-10 div.sk-dashed-wrapped {border: 1px dashed gray;margin: 0 0.4em 0.5em 0.4em;box-sizing: border-box;padding-bottom: 0.4em;background-color: white;}#sk-container-id-10 div.sk-label label {font-family: monospace;font-weight: bold;display: inline-block;line-height: 1.2em;}#sk-container-id-10 div.sk-label-container {text-align: center;}#sk-container-id-10 div.sk-container {/* jupyter's `normalize.less` sets `[hidden] { display: none; }` but bootstrap.min.css set `[hidden] { display: none !important; }` so we also need the `!important` here to be able to override the default hidden behavior on the sphinx rendered scikit-learn.org. See: https://github.com/scikit-learn/scikit-learn/issues/21755 */display: inline-block !important;position: relative;}#sk-container-id-10 div.sk-text-repr-fallback {display: none;}</style><div id=\"sk-container-id-10\" class=\"sk-top-container\"><div class=\"sk-text-repr-fallback\"><pre>Pipeline(steps=[(&#x27;standardscaler&#x27;, StandardScaler()),\n",
       "                (&#x27;sequentialfeatureselector&#x27;,\n",
       "                 SequentialFeatureSelector(direction=&#x27;backward&#x27;,\n",
       "                                           estimator=LogisticRegression(),\n",
       "                                           n_jobs=2, scoring=&#x27;roc_auc&#x27;,\n",
       "                                           tol=-0.0001)),\n",
       "                (&#x27;logisticregression&#x27;, LogisticRegression())])</pre><b>In a Jupyter environment, please rerun this cell to show the HTML representation or trust the notebook. <br />On GitHub, the HTML representation is unable to render, please try loading this page with nbviewer.org.</b></div><div class=\"sk-container\" hidden><div class=\"sk-item sk-dashed-wrapped\"><div class=\"sk-label-container\"><div class=\"sk-label sk-toggleable\"><input class=\"sk-toggleable__control sk-hidden--visually\" id=\"sk-estimator-id-26\" type=\"checkbox\" ><label for=\"sk-estimator-id-26\" class=\"sk-toggleable__label sk-toggleable__label-arrow\">Pipeline</label><div class=\"sk-toggleable__content\"><pre>Pipeline(steps=[(&#x27;standardscaler&#x27;, StandardScaler()),\n",
       "                (&#x27;sequentialfeatureselector&#x27;,\n",
       "                 SequentialFeatureSelector(direction=&#x27;backward&#x27;,\n",
       "                                           estimator=LogisticRegression(),\n",
       "                                           n_jobs=2, scoring=&#x27;roc_auc&#x27;,\n",
       "                                           tol=-0.0001)),\n",
       "                (&#x27;logisticregression&#x27;, LogisticRegression())])</pre></div></div></div><div class=\"sk-serial\"><div class=\"sk-item\"><div class=\"sk-estimator sk-toggleable\"><input class=\"sk-toggleable__control sk-hidden--visually\" id=\"sk-estimator-id-27\" type=\"checkbox\" ><label for=\"sk-estimator-id-27\" class=\"sk-toggleable__label sk-toggleable__label-arrow\">StandardScaler</label><div class=\"sk-toggleable__content\"><pre>StandardScaler()</pre></div></div></div><div class=\"sk-item sk-dashed-wrapped\"><div class=\"sk-label-container\"><div class=\"sk-label sk-toggleable\"><input class=\"sk-toggleable__control sk-hidden--visually\" id=\"sk-estimator-id-28\" type=\"checkbox\" ><label for=\"sk-estimator-id-28\" class=\"sk-toggleable__label sk-toggleable__label-arrow\">sequentialfeatureselector: SequentialFeatureSelector</label><div class=\"sk-toggleable__content\"><pre>SequentialFeatureSelector(direction=&#x27;backward&#x27;, estimator=LogisticRegression(),\n",
       "                          n_jobs=2, scoring=&#x27;roc_auc&#x27;, tol=-0.0001)</pre></div></div></div><div class=\"sk-parallel\"><div class=\"sk-parallel-item\"><div class=\"sk-item\"><div class=\"sk-label-container\"><div class=\"sk-label sk-toggleable\"><input class=\"sk-toggleable__control sk-hidden--visually\" id=\"sk-estimator-id-29\" type=\"checkbox\" ><label for=\"sk-estimator-id-29\" class=\"sk-toggleable__label sk-toggleable__label-arrow\">estimator: LogisticRegression</label><div class=\"sk-toggleable__content\"><pre>LogisticRegression()</pre></div></div></div><div class=\"sk-serial\"><div class=\"sk-item\"><div class=\"sk-estimator sk-toggleable\"><input class=\"sk-toggleable__control sk-hidden--visually\" id=\"sk-estimator-id-30\" type=\"checkbox\" ><label for=\"sk-estimator-id-30\" class=\"sk-toggleable__label sk-toggleable__label-arrow\">LogisticRegression</label><div class=\"sk-toggleable__content\"><pre>LogisticRegression()</pre></div></div></div></div></div></div></div></div><div class=\"sk-item\"><div class=\"sk-estimator sk-toggleable\"><input class=\"sk-toggleable__control sk-hidden--visually\" id=\"sk-estimator-id-31\" type=\"checkbox\" ><label for=\"sk-estimator-id-31\" class=\"sk-toggleable__label sk-toggleable__label-arrow\">LogisticRegression</label><div class=\"sk-toggleable__content\"><pre>LogisticRegression()</pre></div></div></div></div></div></div></div>"
      ],
      "text/plain": [
       "Pipeline(steps=[('standardscaler', StandardScaler()),\n",
       "                ('sequentialfeatureselector',\n",
       "                 SequentialFeatureSelector(direction='backward',\n",
       "                                           estimator=LogisticRegression(),\n",
       "                                           n_jobs=2, scoring='roc_auc',\n",
       "                                           tol=-0.0001)),\n",
       "                ('logisticregression', LogisticRegression())])"
      ]
     },
     "execution_count": 46,
     "metadata": {},
     "output_type": "execute_result"
    }
   ],
   "source": [
    "model"
   ]
  },
  {
   "cell_type": "code",
   "execution_count": 47,
   "id": "ef4efd54",
   "metadata": {},
   "outputs": [
    {
     "data": {
      "text/html": [
       "<style>#sk-container-id-11 {color: black;}#sk-container-id-11 pre{padding: 0;}#sk-container-id-11 div.sk-toggleable {background-color: white;}#sk-container-id-11 label.sk-toggleable__label {cursor: pointer;display: block;width: 100%;margin-bottom: 0;padding: 0.3em;box-sizing: border-box;text-align: center;}#sk-container-id-11 label.sk-toggleable__label-arrow:before {content: \"▸\";float: left;margin-right: 0.25em;color: #696969;}#sk-container-id-11 label.sk-toggleable__label-arrow:hover:before {color: black;}#sk-container-id-11 div.sk-estimator:hover label.sk-toggleable__label-arrow:before {color: black;}#sk-container-id-11 div.sk-toggleable__content {max-height: 0;max-width: 0;overflow: hidden;text-align: left;background-color: #f0f8ff;}#sk-container-id-11 div.sk-toggleable__content pre {margin: 0.2em;color: black;border-radius: 0.25em;background-color: #f0f8ff;}#sk-container-id-11 input.sk-toggleable__control:checked~div.sk-toggleable__content {max-height: 200px;max-width: 100%;overflow: auto;}#sk-container-id-11 input.sk-toggleable__control:checked~label.sk-toggleable__label-arrow:before {content: \"▾\";}#sk-container-id-11 div.sk-estimator input.sk-toggleable__control:checked~label.sk-toggleable__label {background-color: #d4ebff;}#sk-container-id-11 div.sk-label input.sk-toggleable__control:checked~label.sk-toggleable__label {background-color: #d4ebff;}#sk-container-id-11 input.sk-hidden--visually {border: 0;clip: rect(1px 1px 1px 1px);clip: rect(1px, 1px, 1px, 1px);height: 1px;margin: -1px;overflow: hidden;padding: 0;position: absolute;width: 1px;}#sk-container-id-11 div.sk-estimator {font-family: monospace;background-color: #f0f8ff;border: 1px dotted black;border-radius: 0.25em;box-sizing: border-box;margin-bottom: 0.5em;}#sk-container-id-11 div.sk-estimator:hover {background-color: #d4ebff;}#sk-container-id-11 div.sk-parallel-item::after {content: \"\";width: 100%;border-bottom: 1px solid gray;flex-grow: 1;}#sk-container-id-11 div.sk-label:hover label.sk-toggleable__label {background-color: #d4ebff;}#sk-container-id-11 div.sk-serial::before {content: \"\";position: absolute;border-left: 1px solid gray;box-sizing: border-box;top: 0;bottom: 0;left: 50%;z-index: 0;}#sk-container-id-11 div.sk-serial {display: flex;flex-direction: column;align-items: center;background-color: white;padding-right: 0.2em;padding-left: 0.2em;position: relative;}#sk-container-id-11 div.sk-item {position: relative;z-index: 1;}#sk-container-id-11 div.sk-parallel {display: flex;align-items: stretch;justify-content: center;background-color: white;position: relative;}#sk-container-id-11 div.sk-item::before, #sk-container-id-11 div.sk-parallel-item::before {content: \"\";position: absolute;border-left: 1px solid gray;box-sizing: border-box;top: 0;bottom: 0;left: 50%;z-index: -1;}#sk-container-id-11 div.sk-parallel-item {display: flex;flex-direction: column;z-index: 1;position: relative;background-color: white;}#sk-container-id-11 div.sk-parallel-item:first-child::after {align-self: flex-end;width: 50%;}#sk-container-id-11 div.sk-parallel-item:last-child::after {align-self: flex-start;width: 50%;}#sk-container-id-11 div.sk-parallel-item:only-child::after {width: 0;}#sk-container-id-11 div.sk-dashed-wrapped {border: 1px dashed gray;margin: 0 0.4em 0.5em 0.4em;box-sizing: border-box;padding-bottom: 0.4em;background-color: white;}#sk-container-id-11 div.sk-label label {font-family: monospace;font-weight: bold;display: inline-block;line-height: 1.2em;}#sk-container-id-11 div.sk-label-container {text-align: center;}#sk-container-id-11 div.sk-container {/* jupyter's `normalize.less` sets `[hidden] { display: none; }` but bootstrap.min.css set `[hidden] { display: none !important; }` so we also need the `!important` here to be able to override the default hidden behavior on the sphinx rendered scikit-learn.org. See: https://github.com/scikit-learn/scikit-learn/issues/21755 */display: inline-block !important;position: relative;}#sk-container-id-11 div.sk-text-repr-fallback {display: none;}</style><div id=\"sk-container-id-11\" class=\"sk-top-container\"><div class=\"sk-text-repr-fallback\"><pre>StandardScaler()</pre><b>In a Jupyter environment, please rerun this cell to show the HTML representation or trust the notebook. <br />On GitHub, the HTML representation is unable to render, please try loading this page with nbviewer.org.</b></div><div class=\"sk-container\" hidden><div class=\"sk-item\"><div class=\"sk-estimator sk-toggleable\"><input class=\"sk-toggleable__control sk-hidden--visually\" id=\"sk-estimator-id-32\" type=\"checkbox\" checked><label for=\"sk-estimator-id-32\" class=\"sk-toggleable__label sk-toggleable__label-arrow\">StandardScaler</label><div class=\"sk-toggleable__content\"><pre>StandardScaler()</pre></div></div></div></div></div>"
      ],
      "text/plain": [
       "StandardScaler()"
      ]
     },
     "execution_count": 47,
     "metadata": {},
     "output_type": "execute_result"
    }
   ],
   "source": [
    "model[0]"
   ]
  },
  {
   "cell_type": "code",
   "execution_count": 48,
   "id": "dbbb8531",
   "metadata": {},
   "outputs": [
    {
     "data": {
      "text/html": [
       "<style>#sk-container-id-12 {color: black;}#sk-container-id-12 pre{padding: 0;}#sk-container-id-12 div.sk-toggleable {background-color: white;}#sk-container-id-12 label.sk-toggleable__label {cursor: pointer;display: block;width: 100%;margin-bottom: 0;padding: 0.3em;box-sizing: border-box;text-align: center;}#sk-container-id-12 label.sk-toggleable__label-arrow:before {content: \"▸\";float: left;margin-right: 0.25em;color: #696969;}#sk-container-id-12 label.sk-toggleable__label-arrow:hover:before {color: black;}#sk-container-id-12 div.sk-estimator:hover label.sk-toggleable__label-arrow:before {color: black;}#sk-container-id-12 div.sk-toggleable__content {max-height: 0;max-width: 0;overflow: hidden;text-align: left;background-color: #f0f8ff;}#sk-container-id-12 div.sk-toggleable__content pre {margin: 0.2em;color: black;border-radius: 0.25em;background-color: #f0f8ff;}#sk-container-id-12 input.sk-toggleable__control:checked~div.sk-toggleable__content {max-height: 200px;max-width: 100%;overflow: auto;}#sk-container-id-12 input.sk-toggleable__control:checked~label.sk-toggleable__label-arrow:before {content: \"▾\";}#sk-container-id-12 div.sk-estimator input.sk-toggleable__control:checked~label.sk-toggleable__label {background-color: #d4ebff;}#sk-container-id-12 div.sk-label input.sk-toggleable__control:checked~label.sk-toggleable__label {background-color: #d4ebff;}#sk-container-id-12 input.sk-hidden--visually {border: 0;clip: rect(1px 1px 1px 1px);clip: rect(1px, 1px, 1px, 1px);height: 1px;margin: -1px;overflow: hidden;padding: 0;position: absolute;width: 1px;}#sk-container-id-12 div.sk-estimator {font-family: monospace;background-color: #f0f8ff;border: 1px dotted black;border-radius: 0.25em;box-sizing: border-box;margin-bottom: 0.5em;}#sk-container-id-12 div.sk-estimator:hover {background-color: #d4ebff;}#sk-container-id-12 div.sk-parallel-item::after {content: \"\";width: 100%;border-bottom: 1px solid gray;flex-grow: 1;}#sk-container-id-12 div.sk-label:hover label.sk-toggleable__label {background-color: #d4ebff;}#sk-container-id-12 div.sk-serial::before {content: \"\";position: absolute;border-left: 1px solid gray;box-sizing: border-box;top: 0;bottom: 0;left: 50%;z-index: 0;}#sk-container-id-12 div.sk-serial {display: flex;flex-direction: column;align-items: center;background-color: white;padding-right: 0.2em;padding-left: 0.2em;position: relative;}#sk-container-id-12 div.sk-item {position: relative;z-index: 1;}#sk-container-id-12 div.sk-parallel {display: flex;align-items: stretch;justify-content: center;background-color: white;position: relative;}#sk-container-id-12 div.sk-item::before, #sk-container-id-12 div.sk-parallel-item::before {content: \"\";position: absolute;border-left: 1px solid gray;box-sizing: border-box;top: 0;bottom: 0;left: 50%;z-index: -1;}#sk-container-id-12 div.sk-parallel-item {display: flex;flex-direction: column;z-index: 1;position: relative;background-color: white;}#sk-container-id-12 div.sk-parallel-item:first-child::after {align-self: flex-end;width: 50%;}#sk-container-id-12 div.sk-parallel-item:last-child::after {align-self: flex-start;width: 50%;}#sk-container-id-12 div.sk-parallel-item:only-child::after {width: 0;}#sk-container-id-12 div.sk-dashed-wrapped {border: 1px dashed gray;margin: 0 0.4em 0.5em 0.4em;box-sizing: border-box;padding-bottom: 0.4em;background-color: white;}#sk-container-id-12 div.sk-label label {font-family: monospace;font-weight: bold;display: inline-block;line-height: 1.2em;}#sk-container-id-12 div.sk-label-container {text-align: center;}#sk-container-id-12 div.sk-container {/* jupyter's `normalize.less` sets `[hidden] { display: none; }` but bootstrap.min.css set `[hidden] { display: none !important; }` so we also need the `!important` here to be able to override the default hidden behavior on the sphinx rendered scikit-learn.org. See: https://github.com/scikit-learn/scikit-learn/issues/21755 */display: inline-block !important;position: relative;}#sk-container-id-12 div.sk-text-repr-fallback {display: none;}</style><div id=\"sk-container-id-12\" class=\"sk-top-container\"><div class=\"sk-text-repr-fallback\"><pre>SequentialFeatureSelector(direction=&#x27;backward&#x27;, estimator=LogisticRegression(),\n",
       "                          n_jobs=2, scoring=&#x27;roc_auc&#x27;, tol=-0.0001)</pre><b>In a Jupyter environment, please rerun this cell to show the HTML representation or trust the notebook. <br />On GitHub, the HTML representation is unable to render, please try loading this page with nbviewer.org.</b></div><div class=\"sk-container\" hidden><div class=\"sk-item sk-dashed-wrapped\"><div class=\"sk-label-container\"><div class=\"sk-label sk-toggleable\"><input class=\"sk-toggleable__control sk-hidden--visually\" id=\"sk-estimator-id-33\" type=\"checkbox\" ><label for=\"sk-estimator-id-33\" class=\"sk-toggleable__label sk-toggleable__label-arrow\">SequentialFeatureSelector</label><div class=\"sk-toggleable__content\"><pre>SequentialFeatureSelector(direction=&#x27;backward&#x27;, estimator=LogisticRegression(),\n",
       "                          n_jobs=2, scoring=&#x27;roc_auc&#x27;, tol=-0.0001)</pre></div></div></div><div class=\"sk-parallel\"><div class=\"sk-parallel-item\"><div class=\"sk-item\"><div class=\"sk-label-container\"><div class=\"sk-label sk-toggleable\"><input class=\"sk-toggleable__control sk-hidden--visually\" id=\"sk-estimator-id-34\" type=\"checkbox\" ><label for=\"sk-estimator-id-34\" class=\"sk-toggleable__label sk-toggleable__label-arrow\">estimator: LogisticRegression</label><div class=\"sk-toggleable__content\"><pre>LogisticRegression()</pre></div></div></div><div class=\"sk-serial\"><div class=\"sk-item\"><div class=\"sk-estimator sk-toggleable\"><input class=\"sk-toggleable__control sk-hidden--visually\" id=\"sk-estimator-id-35\" type=\"checkbox\" ><label for=\"sk-estimator-id-35\" class=\"sk-toggleable__label sk-toggleable__label-arrow\">LogisticRegression</label><div class=\"sk-toggleable__content\"><pre>LogisticRegression()</pre></div></div></div></div></div></div></div></div></div></div>"
      ],
      "text/plain": [
       "SequentialFeatureSelector(direction='backward', estimator=LogisticRegression(),\n",
       "                          n_jobs=2, scoring='roc_auc', tol=-0.0001)"
      ]
     },
     "execution_count": 48,
     "metadata": {},
     "output_type": "execute_result"
    }
   ],
   "source": [
    "model[1]"
   ]
  },
  {
   "cell_type": "code",
   "execution_count": 49,
   "id": "b590d5d4",
   "metadata": {},
   "outputs": [
    {
     "data": {
      "text/html": [
       "<style>#sk-container-id-13 {color: black;}#sk-container-id-13 pre{padding: 0;}#sk-container-id-13 div.sk-toggleable {background-color: white;}#sk-container-id-13 label.sk-toggleable__label {cursor: pointer;display: block;width: 100%;margin-bottom: 0;padding: 0.3em;box-sizing: border-box;text-align: center;}#sk-container-id-13 label.sk-toggleable__label-arrow:before {content: \"▸\";float: left;margin-right: 0.25em;color: #696969;}#sk-container-id-13 label.sk-toggleable__label-arrow:hover:before {color: black;}#sk-container-id-13 div.sk-estimator:hover label.sk-toggleable__label-arrow:before {color: black;}#sk-container-id-13 div.sk-toggleable__content {max-height: 0;max-width: 0;overflow: hidden;text-align: left;background-color: #f0f8ff;}#sk-container-id-13 div.sk-toggleable__content pre {margin: 0.2em;color: black;border-radius: 0.25em;background-color: #f0f8ff;}#sk-container-id-13 input.sk-toggleable__control:checked~div.sk-toggleable__content {max-height: 200px;max-width: 100%;overflow: auto;}#sk-container-id-13 input.sk-toggleable__control:checked~label.sk-toggleable__label-arrow:before {content: \"▾\";}#sk-container-id-13 div.sk-estimator input.sk-toggleable__control:checked~label.sk-toggleable__label {background-color: #d4ebff;}#sk-container-id-13 div.sk-label input.sk-toggleable__control:checked~label.sk-toggleable__label {background-color: #d4ebff;}#sk-container-id-13 input.sk-hidden--visually {border: 0;clip: rect(1px 1px 1px 1px);clip: rect(1px, 1px, 1px, 1px);height: 1px;margin: -1px;overflow: hidden;padding: 0;position: absolute;width: 1px;}#sk-container-id-13 div.sk-estimator {font-family: monospace;background-color: #f0f8ff;border: 1px dotted black;border-radius: 0.25em;box-sizing: border-box;margin-bottom: 0.5em;}#sk-container-id-13 div.sk-estimator:hover {background-color: #d4ebff;}#sk-container-id-13 div.sk-parallel-item::after {content: \"\";width: 100%;border-bottom: 1px solid gray;flex-grow: 1;}#sk-container-id-13 div.sk-label:hover label.sk-toggleable__label {background-color: #d4ebff;}#sk-container-id-13 div.sk-serial::before {content: \"\";position: absolute;border-left: 1px solid gray;box-sizing: border-box;top: 0;bottom: 0;left: 50%;z-index: 0;}#sk-container-id-13 div.sk-serial {display: flex;flex-direction: column;align-items: center;background-color: white;padding-right: 0.2em;padding-left: 0.2em;position: relative;}#sk-container-id-13 div.sk-item {position: relative;z-index: 1;}#sk-container-id-13 div.sk-parallel {display: flex;align-items: stretch;justify-content: center;background-color: white;position: relative;}#sk-container-id-13 div.sk-item::before, #sk-container-id-13 div.sk-parallel-item::before {content: \"\";position: absolute;border-left: 1px solid gray;box-sizing: border-box;top: 0;bottom: 0;left: 50%;z-index: -1;}#sk-container-id-13 div.sk-parallel-item {display: flex;flex-direction: column;z-index: 1;position: relative;background-color: white;}#sk-container-id-13 div.sk-parallel-item:first-child::after {align-self: flex-end;width: 50%;}#sk-container-id-13 div.sk-parallel-item:last-child::after {align-self: flex-start;width: 50%;}#sk-container-id-13 div.sk-parallel-item:only-child::after {width: 0;}#sk-container-id-13 div.sk-dashed-wrapped {border: 1px dashed gray;margin: 0 0.4em 0.5em 0.4em;box-sizing: border-box;padding-bottom: 0.4em;background-color: white;}#sk-container-id-13 div.sk-label label {font-family: monospace;font-weight: bold;display: inline-block;line-height: 1.2em;}#sk-container-id-13 div.sk-label-container {text-align: center;}#sk-container-id-13 div.sk-container {/* jupyter's `normalize.less` sets `[hidden] { display: none; }` but bootstrap.min.css set `[hidden] { display: none !important; }` so we also need the `!important` here to be able to override the default hidden behavior on the sphinx rendered scikit-learn.org. See: https://github.com/scikit-learn/scikit-learn/issues/21755 */display: inline-block !important;position: relative;}#sk-container-id-13 div.sk-text-repr-fallback {display: none;}</style><div id=\"sk-container-id-13\" class=\"sk-top-container\"><div class=\"sk-text-repr-fallback\"><pre>LogisticRegression()</pre><b>In a Jupyter environment, please rerun this cell to show the HTML representation or trust the notebook. <br />On GitHub, the HTML representation is unable to render, please try loading this page with nbviewer.org.</b></div><div class=\"sk-container\" hidden><div class=\"sk-item\"><div class=\"sk-estimator sk-toggleable\"><input class=\"sk-toggleable__control sk-hidden--visually\" id=\"sk-estimator-id-36\" type=\"checkbox\" checked><label for=\"sk-estimator-id-36\" class=\"sk-toggleable__label sk-toggleable__label-arrow\">LogisticRegression</label><div class=\"sk-toggleable__content\"><pre>LogisticRegression()</pre></div></div></div></div></div>"
      ],
      "text/plain": [
       "LogisticRegression()"
      ]
     },
     "execution_count": 49,
     "metadata": {},
     "output_type": "execute_result"
    }
   ],
   "source": [
    "model[2]"
   ]
  },
  {
   "cell_type": "code",
   "execution_count": 51,
   "id": "d5789f5f",
   "metadata": {},
   "outputs": [
    {
     "name": "stdout",
     "output_type": "stream",
     "text": [
      "\n",
      "tol: 1\n",
      "features selected : ['mean radius' 'mean perimeter' 'mean area' 'mean smoothness'\n",
      " 'mean compactness' 'mean concavity' 'mean concave points' 'mean symmetry'\n",
      " 'mean fractal dimension' 'radius error' 'texture error' 'perimeter error'\n",
      " 'area error' 'smoothness error' 'compactness error' 'concavity error'\n",
      " 'concave points error' 'symmetry error' 'fractal dimension error'\n",
      " 'worst radius' 'worst texture' 'worst perimeter' 'worst area'\n",
      " 'worst smoothness' 'worst compactness' 'worst concavity'\n",
      " 'worst concave points' 'worst symmetry' 'worst fractal dimension']\n",
      "roc auc score : 0.997\n",
      "Done in  2.462s\n",
      "\n",
      "tol: 0.1\n",
      "features selected : ['mean radius' 'mean perimeter' 'mean area' 'mean smoothness'\n",
      " 'mean compactness' 'mean concavity' 'mean concave points' 'mean symmetry'\n",
      " 'mean fractal dimension' 'radius error' 'texture error' 'perimeter error'\n",
      " 'area error' 'smoothness error' 'compactness error' 'concavity error'\n",
      " 'concave points error' 'symmetry error' 'fractal dimension error'\n",
      " 'worst radius' 'worst texture' 'worst perimeter' 'worst area'\n",
      " 'worst smoothness' 'worst compactness' 'worst concavity'\n",
      " 'worst concave points' 'worst symmetry' 'worst fractal dimension']\n",
      "roc auc score : 0.997\n",
      "Done in  2.512s\n",
      "\n",
      "tol: 0.01\n",
      "features selected : ['mean radius' 'mean perimeter' 'mean area' 'mean smoothness'\n",
      " 'mean compactness' 'mean concavity' 'mean concave points' 'mean symmetry'\n",
      " 'mean fractal dimension' 'radius error' 'texture error' 'perimeter error'\n",
      " 'area error' 'smoothness error' 'compactness error' 'concavity error'\n",
      " 'concave points error' 'symmetry error' 'fractal dimension error'\n",
      " 'worst radius' 'worst texture' 'worst perimeter' 'worst area'\n",
      " 'worst smoothness' 'worst compactness' 'worst concavity'\n",
      " 'worst concave points' 'worst symmetry' 'worst fractal dimension']\n",
      "roc auc score : 0.997\n",
      "Done in  2.594s\n",
      "\n",
      "tol: 0.001\n",
      "features selected : ['mean radius' 'mean perimeter' 'mean area' 'mean smoothness'\n",
      " 'mean compactness' 'mean concavity' 'mean concave points' 'mean symmetry'\n",
      " 'mean fractal dimension' 'radius error' 'texture error' 'perimeter error'\n",
      " 'area error' 'smoothness error' 'compactness error' 'concavity error'\n",
      " 'concave points error' 'symmetry error' 'fractal dimension error'\n",
      " 'worst radius' 'worst texture' 'worst perimeter' 'worst area'\n",
      " 'worst smoothness' 'worst compactness' 'worst concavity'\n",
      " 'worst concave points' 'worst symmetry' 'worst fractal dimension']\n",
      "roc auc score : 0.997\n",
      "Done in  2.656s\n",
      "\n",
      "tol: 0.0001\n",
      "features selected : ['mean radius' 'mean perimeter' 'mean area' 'mean smoothness'\n",
      " 'mean compactness' 'mean concavity' 'mean concave points' 'mean symmetry'\n",
      " 'mean fractal dimension' 'radius error' 'texture error' 'perimeter error'\n",
      " 'area error' 'smoothness error' 'concavity error' 'concave points error'\n",
      " 'symmetry error' 'fractal dimension error' 'worst radius' 'worst texture'\n",
      " 'worst perimeter' 'worst area' 'worst compactness' 'worst concave points'\n",
      " 'worst symmetry' 'worst fractal dimension']\n",
      "roc auc score : 0.998\n",
      "Done in  6.350s\n"
     ]
    }
   ],
   "source": [
    "for tol in [1, 1e-1, 1e-2, 1e-3, 1e-4] : \n",
    "    start = time.time()\n",
    "    feature_selector = SequentialFeatureSelector(\n",
    "        LogisticRegression(),\n",
    "        n_features_to_select=\"auto\",\n",
    "        direction=\"backward\",\n",
    "        scoring=\"roc_auc\",\n",
    "        tol=tol,\n",
    "        n_jobs=2)\n",
    "    \n",
    "    model = make_pipeline(StandardScaler(), \n",
    "                          feature_selector, \n",
    "                          LogisticRegression())\n",
    "    model.fit(X, y)\n",
    "    end = time.time()\n",
    "    \n",
    "    print(f\"\\ntol: {tol}\")\n",
    "    print(f\"features selected : {feature_names[model[1].get_support()]}\")\n",
    "    print(f\"roc auc score : {roc_auc_score(y, model.predict_proba(X)[:, 1]):.3f}\")\n",
    "    print(f\"Done in {end - start : .3f}s\")"
   ]
  },
  {
   "cell_type": "code",
   "execution_count": 52,
   "id": "5df06679",
   "metadata": {},
   "outputs": [],
   "source": [
    "from sklearn.ensemble import ExtraTreesClassifier"
   ]
  },
  {
   "cell_type": "code",
   "execution_count": 54,
   "id": "0cb5a69c",
   "metadata": {},
   "outputs": [
    {
     "name": "stdout",
     "output_type": "stream",
     "text": [
      "\n",
      "tol: -0.01\n",
      "features selected : ['worst perimeter']\n",
      "roc auc score : 0.999\n",
      "Done in  20.156s\n",
      "\n",
      "tol: -0.001\n",
      "features selected : ['radius error' 'fractal dimension error' 'worst texture'\n",
      " 'worst perimeter' 'worst concave points']\n",
      "roc auc score : 1.000\n",
      "Done in  19.023s\n",
      "\n",
      "tol: -0.0001\n",
      "features selected : ['mean area' 'mean smoothness' 'mean compactness' 'mean concavity'\n",
      " 'mean concave points' 'mean symmetry' 'radius error' 'perimeter error'\n",
      " 'area error' 'smoothness error' 'symmetry error'\n",
      " 'fractal dimension error' 'worst radius' 'worst texture'\n",
      " 'worst perimeter' 'worst area' 'worst concave points' 'worst symmetry'\n",
      " 'worst fractal dimension']\n",
      "roc auc score : 1.000\n",
      "Done in  13.231s\n"
     ]
    }
   ],
   "source": [
    "for tol in [-1e-2, -1e-3, -1e-4] : \n",
    "    start = time.time()\n",
    "    feature_selector = SequentialFeatureSelector(\n",
    "        LogisticRegression(),\n",
    "        n_features_to_select=\"auto\",\n",
    "        direction=\"backward\",\n",
    "        scoring=\"roc_auc\",\n",
    "        tol=tol,\n",
    "        n_jobs=2)\n",
    "    \n",
    "    model = make_pipeline(StandardScaler(), \n",
    "                          feature_selector, \n",
    "                          ExtraTreesClassifier())\n",
    "    model.fit(X, y)\n",
    "    end = time.time()\n",
    "    \n",
    "    print(f\"\\ntol: {tol}\")\n",
    "    print(f\"features selected : {feature_names[model[1].get_support()]}\")\n",
    "    print(f\"roc auc score : {roc_auc_score(y, model.predict_proba(X)[:, 1]):.3f}\")\n",
    "    print(f\"Done in {end - start : .3f}s\")"
   ]
  }
 ],
 "metadata": {
  "kernelspec": {
   "display_name": "Python 3 (ipykernel)",
   "language": "python",
   "name": "python3"
  },
  "language_info": {
   "codemirror_mode": {
    "name": "ipython",
    "version": 3
   },
   "file_extension": ".py",
   "mimetype": "text/x-python",
   "name": "python",
   "nbconvert_exporter": "python",
   "pygments_lexer": "ipython3",
   "version": "3.10.13"
  }
 },
 "nbformat": 4,
 "nbformat_minor": 5
}
