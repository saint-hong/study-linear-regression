{
 "cells": [
  {
   "cell_type": "markdown",
   "id": "db5f1075",
   "metadata": {},
   "source": [
    "# MLP\n",
    "\n",
    "** 정의 **\n",
    "- MLP : Multi-layer Perceptron : 지도학습 알고리즘으로 m 차원의 input 데이터를 입력받아 o 차원의 output 데이터를 반환한다. \n",
    "- 장점\n",
    "   - 비선형 모델을 학습하는 기능\n",
    "   - 부분적합을 활용하여 실시간으로 모델을 학습하는 기능\n",
    "- 단점\n",
    "   - 로컬 최소값이 둘 이상있는 비볼록(non-convex) 손실 함수가 있다. 서로 다른 무작위 가중치 초기화로 인해 유효성 검사 정확도가 달라질 수 있다.\n",
    "   - 하이퍼파라미터, 레이어수, 반복수, 뉴런수 등을 조정해야한다.\n",
    "   - 기능의 확장에 민감하다.\n",
    "- MLP의 학습방식\n",
    "   - 역전파를 사용하여 학습한다.\n",
    "   - 경사하강법을 사용하여 훈련하고, 역전파를 사용하여 경사를 계산한다. \n",
    "- 확률값\n",
    "   - 교차엔트로피(cross entropy loss function) 손실 함수를 사용하여 확률 추정치 벡터를 반환한다. \n",
    "- 출력함수\n",
    "   - softmax 함수를 사용하여 출력함수로 적용하고 다중 클래스 분류 문제를 지원한다.\n",
    "   - softmax 함수는 다변수 입력을 확률 처럼 보이게 해준다. (출력 값이 0~1사이의 값)\n",
    "- 데이터 스케일링에 민감하다.\n",
    "   - 입력 데이터의 값을 [0, 1]이나 [-1, 1] 로 스케일링 한다.\n",
    "   - 또는 평균 0, 분산 1로 스케일링한다. (StandardScaler() 사용)\n",
    "- solver\n",
    "   - L-BFGS가 작은 데이터 세트에서 더 빠르다.\n",
    "   - Adam은 큰 데이터 세트에서 강력하다. 빠르고 성능이 꽤 좋다.\n",
    "   - SGD로 설정한 후 momentum, nesterovs_momentum, learning_rate를 설정하면 Adam이나 L-BGFS보다 성능이 더 좋을 수 있다. \n",
    "\n",
    "** clf 사용 **\n",
    "- MLPClassifier 클래스는 역전파(backpropagation)를 사용하여 훈련하는 MLP 알고리즘을 구현한다.\n",
    "- params\n",
    "   - hidden_layer_sizes=(5, 2)\n",
    "      - 이 hidden layer에 맞추어 앞 뒤로 다른 크기의 레이어가 생성된다.\n",
    "   - warm_start=True, max_iter=1\n",
    "       - 이전 학습을 다음 학습에서 사용가능\n",
    "- clf.coefs_\n",
    "   - input : 2x2\n",
    "   - (2, 2), (5, 2), (2, 1)\n",
    "   - output : 2x1\n",
    "\n",
    "** algorithm **\n",
    "- MLP는 SGD, Adam, LBGFS 방법을 사용하여 훈련한다. : solver\n",
    "- 기본적으로 SGD는 손실함수의 기울기를 사용하여 w의 값을 업데이트 하는 방식\n",
    "- Adam은 SGD와 같은 방식으로 매개변수를 업데이트하지만, 저차모멘트의 적응형 추정 방식으로 매개변수의 양을 자동으로 조정할 수 있다. \n",
    "- SGD와 Adam은 online과 mini-batch 학습을 지원한다.\n",
    "- L-BFGS는 해시안 행렬(2차 도함수)을 근사화하는 solver이다. 매개변수 w를 업데이트하기 위해 해시안 행렬의 역을 근사화한다.\n",
    "- L-BFGS는 online과 mini-batch 학습을 지원하지 않는다.\n",
    "- 초기의 임의의 가중치로부터 가중치를 업데이트하면서 손실함수를 최소화해 나간다.\n",
    "- 손실을 계산한 후 출력 레이어에서 이전 레이어로 역방향으로 손실값을 전파하고, 이 값보다 작은 매개변수를 찾기 위해 매개변수를 업데이트하는 과정을 반복한다. (역전파 backpropagation)\n",
    "- MLPClassifier는 손실함수로 평균교차엔트로피 값을 사용한다.  MLPRegression은 손실함수로 평균제곱오류손실함수 값을 사용한다.\n",
    "   - 손실함수에 복잡한 모델에 불이익을 주는 L2 정규화 페널티가 추가된다. \n",
    "\n",
    "** parameters **\n",
    "- hidden_layer_sizes : 은닉층의 사이즈\n",
    "- activation : 히든 레이어의 활성화함수\n",
    "   - \"identity\" : non-op activation(무작동 활성화), 선형 병목 현상을 구현하는데 유용\n",
    "   - \"logistic\" : 로지스틱 시그모이드 함수 값을 반환한다.\n",
    "   - \"tahn\" : 하이퍼볼릭 탄젠트 함수값을 반환한다.\n",
    "   - \"relu\": relu 함수값을 반환한다. \n",
    "- slover : 가중치 최적화를 위한 solver\n",
    "   - \"lbfgs\" : quasi-newton 방법의 하나, 소규모 데이터에서 다른 solver보다 더 잘 작동할 수 있다.\n",
    "   - \"sgd\" : 확률적 경사하강법\n",
    "   - \"adam\" : sgd 기반의 가중치 최적화 방법, 디폴트 솔버, 수천개 샘플의 대규모 데이터 세트에서 잘 작동한다. \n",
    "- alpha : L2 정규화의 강도.\n",
    "- batch_size : sgd, adam 솔버의 경우 사용할 수 있는 mini-batch의 크기\n",
    "- learning_rate : 가중치 업데이트를 위한 학습률\n",
    "   - \"constant\" : learning_rate_init에 의해 제공되는 일정한 학습률\n",
    "   - \"invscaling\" : 학습률을 점진적으로 감소시키는 방식, power_t의 역 스케일링 지수를 사용하여 시간단계 t에서 학습률을 감소시킨다.\n",
    "   - \"adaptive\" : 훈련 손실값이 계속 감소하면 학습률을 learning_rate_init으로 유지한다. 하지만 두번의 연속 에포크에서 손실함수를 tol 만큼 감소시키지 못하거나, early_stopping=True 일때 검증점수를 최소한 tol 만큼 높이지 못하면 학습률을 5로 나눈다.\n",
    "- learning_rate_init : 초기학습률, sgd, adam인 경우 사용\n",
    "- power_t : solver=\"sgd\", learning_rate=\"invscaling\" 인경우 사용, t에서 학습률이 감소된다.\n",
    "- max_iter : 최대 반복 횟수, solver의 최적화는 tol(수렴) 또는 max_iter 까지 반복한다.\n",
    "- shuffle : 각 반복에서 샘플을 섞을 지 여부를 정한다.\n",
    "- tol : 최적화에 대한 허용오차, \n",
    "- momentum : solver=\"sgd\"일때 경사하강법 업데이트, 0~1 사이의 값\n",
    "- nestrovs_momentum : Nestrov의 모멘텀을 사용할 지 여부, True, False\n",
    "- early_stopping : 검증 점수가 상승되지 않으면 훈련을 조기에 종료할지 여부. True, False\n",
    "- n_iter_no_change : tol 값에 도달하지 못한 최대 에포크의 수. solver=\"sgd\", \"adam\" 일떄 사용\n",
    "- max_fun : solver=\"lbfgs\" 일때 사용, tol, max_iter와 같이 솔버가 이 값에 도달할때까지 반복한다. \n"
   ]
  },
  {
   "cell_type": "code",
   "execution_count": 1,
   "id": "87d3a9cc",
   "metadata": {},
   "outputs": [],
   "source": [
    "from sklearn.neural_network import MLPClassifier"
   ]
  },
  {
   "cell_type": "code",
   "execution_count": 4,
   "id": "40527dbb",
   "metadata": {},
   "outputs": [
    {
     "data": {
      "text/html": [
       "<style>#sk-container-id-3 {color: black;}#sk-container-id-3 pre{padding: 0;}#sk-container-id-3 div.sk-toggleable {background-color: white;}#sk-container-id-3 label.sk-toggleable__label {cursor: pointer;display: block;width: 100%;margin-bottom: 0;padding: 0.3em;box-sizing: border-box;text-align: center;}#sk-container-id-3 label.sk-toggleable__label-arrow:before {content: \"▸\";float: left;margin-right: 0.25em;color: #696969;}#sk-container-id-3 label.sk-toggleable__label-arrow:hover:before {color: black;}#sk-container-id-3 div.sk-estimator:hover label.sk-toggleable__label-arrow:before {color: black;}#sk-container-id-3 div.sk-toggleable__content {max-height: 0;max-width: 0;overflow: hidden;text-align: left;background-color: #f0f8ff;}#sk-container-id-3 div.sk-toggleable__content pre {margin: 0.2em;color: black;border-radius: 0.25em;background-color: #f0f8ff;}#sk-container-id-3 input.sk-toggleable__control:checked~div.sk-toggleable__content {max-height: 200px;max-width: 100%;overflow: auto;}#sk-container-id-3 input.sk-toggleable__control:checked~label.sk-toggleable__label-arrow:before {content: \"▾\";}#sk-container-id-3 div.sk-estimator input.sk-toggleable__control:checked~label.sk-toggleable__label {background-color: #d4ebff;}#sk-container-id-3 div.sk-label input.sk-toggleable__control:checked~label.sk-toggleable__label {background-color: #d4ebff;}#sk-container-id-3 input.sk-hidden--visually {border: 0;clip: rect(1px 1px 1px 1px);clip: rect(1px, 1px, 1px, 1px);height: 1px;margin: -1px;overflow: hidden;padding: 0;position: absolute;width: 1px;}#sk-container-id-3 div.sk-estimator {font-family: monospace;background-color: #f0f8ff;border: 1px dotted black;border-radius: 0.25em;box-sizing: border-box;margin-bottom: 0.5em;}#sk-container-id-3 div.sk-estimator:hover {background-color: #d4ebff;}#sk-container-id-3 div.sk-parallel-item::after {content: \"\";width: 100%;border-bottom: 1px solid gray;flex-grow: 1;}#sk-container-id-3 div.sk-label:hover label.sk-toggleable__label {background-color: #d4ebff;}#sk-container-id-3 div.sk-serial::before {content: \"\";position: absolute;border-left: 1px solid gray;box-sizing: border-box;top: 0;bottom: 0;left: 50%;z-index: 0;}#sk-container-id-3 div.sk-serial {display: flex;flex-direction: column;align-items: center;background-color: white;padding-right: 0.2em;padding-left: 0.2em;position: relative;}#sk-container-id-3 div.sk-item {position: relative;z-index: 1;}#sk-container-id-3 div.sk-parallel {display: flex;align-items: stretch;justify-content: center;background-color: white;position: relative;}#sk-container-id-3 div.sk-item::before, #sk-container-id-3 div.sk-parallel-item::before {content: \"\";position: absolute;border-left: 1px solid gray;box-sizing: border-box;top: 0;bottom: 0;left: 50%;z-index: -1;}#sk-container-id-3 div.sk-parallel-item {display: flex;flex-direction: column;z-index: 1;position: relative;background-color: white;}#sk-container-id-3 div.sk-parallel-item:first-child::after {align-self: flex-end;width: 50%;}#sk-container-id-3 div.sk-parallel-item:last-child::after {align-self: flex-start;width: 50%;}#sk-container-id-3 div.sk-parallel-item:only-child::after {width: 0;}#sk-container-id-3 div.sk-dashed-wrapped {border: 1px dashed gray;margin: 0 0.4em 0.5em 0.4em;box-sizing: border-box;padding-bottom: 0.4em;background-color: white;}#sk-container-id-3 div.sk-label label {font-family: monospace;font-weight: bold;display: inline-block;line-height: 1.2em;}#sk-container-id-3 div.sk-label-container {text-align: center;}#sk-container-id-3 div.sk-container {/* jupyter's `normalize.less` sets `[hidden] { display: none; }` but bootstrap.min.css set `[hidden] { display: none !important; }` so we also need the `!important` here to be able to override the default hidden behavior on the sphinx rendered scikit-learn.org. See: https://github.com/scikit-learn/scikit-learn/issues/21755 */display: inline-block !important;position: relative;}#sk-container-id-3 div.sk-text-repr-fallback {display: none;}</style><div id=\"sk-container-id-3\" class=\"sk-top-container\"><div class=\"sk-text-repr-fallback\"><pre>MLPClassifier(alpha=1e-05, hidden_layer_sizes=(5, 2), random_state=1,\n",
       "              solver=&#x27;lbfgs&#x27;)</pre><b>In a Jupyter environment, please rerun this cell to show the HTML representation or trust the notebook. <br />On GitHub, the HTML representation is unable to render, please try loading this page with nbviewer.org.</b></div><div class=\"sk-container\" hidden><div class=\"sk-item\"><div class=\"sk-estimator sk-toggleable\"><input class=\"sk-toggleable__control sk-hidden--visually\" id=\"sk-estimator-id-3\" type=\"checkbox\" checked><label for=\"sk-estimator-id-3\" class=\"sk-toggleable__label sk-toggleable__label-arrow\">MLPClassifier</label><div class=\"sk-toggleable__content\"><pre>MLPClassifier(alpha=1e-05, hidden_layer_sizes=(5, 2), random_state=1,\n",
       "              solver=&#x27;lbfgs&#x27;)</pre></div></div></div></div></div>"
      ],
      "text/plain": [
       "MLPClassifier(alpha=1e-05, hidden_layer_sizes=(5, 2), random_state=1,\n",
       "              solver='lbfgs')"
      ]
     },
     "execution_count": 4,
     "metadata": {},
     "output_type": "execute_result"
    }
   ],
   "source": [
    "X = [[0, 0], [1, 1]]\n",
    "y = [0, 1]\n",
    "\n",
    "clf = MLPClassifier(solver=\"lbfgs\", alpha=1e-5,\n",
    "                   hidden_layer_sizes=(5, 2), random_state=1)\n",
    "clf.fit(X, y)"
   ]
  },
  {
   "cell_type": "code",
   "execution_count": 8,
   "id": "2dfeac4d",
   "metadata": {},
   "outputs": [
    {
     "data": {
      "text/plain": [
       "array([1, 0, 1])"
      ]
     },
     "execution_count": 8,
     "metadata": {},
     "output_type": "execute_result"
    }
   ],
   "source": [
    "clf.predict([[2, 2], [-1, -2], [1, 1]])"
   ]
  },
  {
   "cell_type": "code",
   "execution_count": 9,
   "id": "695119fb",
   "metadata": {},
   "outputs": [
    {
     "data": {
      "text/plain": [
       "[array([[-0.14196276, -0.02104562, -0.85522848, -3.51355396, -0.60434709],\n",
       "        [-0.69744683, -0.9347486 , -0.26422217, -3.35199017,  0.06640954]]),\n",
       " array([[ 0.29164405, -0.14147894],\n",
       "        [ 2.39665167, -0.6152434 ],\n",
       "        [-0.51650256,  0.51452834],\n",
       "        [ 4.0186541 , -0.31920293],\n",
       "        [ 0.32903482,  0.64394475]]),\n",
       " array([[-4.53025854],\n",
       "        [-0.86285329]])]"
      ]
     },
     "execution_count": 9,
     "metadata": {},
     "output_type": "execute_result"
    }
   ],
   "source": [
    "clf.coefs_"
   ]
  },
  {
   "cell_type": "code",
   "execution_count": 10,
   "id": "7df02ef6",
   "metadata": {},
   "outputs": [
    {
     "data": {
      "text/plain": [
       "[(2, 5), (5, 2), (2, 1)]"
      ]
     },
     "execution_count": 10,
     "metadata": {},
     "output_type": "execute_result"
    }
   ],
   "source": [
    "[coef.shape for coef in clf.coefs_]"
   ]
  },
  {
   "cell_type": "code",
   "execution_count": 14,
   "id": "61d95f82",
   "metadata": {},
   "outputs": [
    {
     "data": {
      "text/plain": [
       "array([[1.96718015e-04, 9.99803282e-01],\n",
       "       [1.96718015e-04, 9.99803282e-01]])"
      ]
     },
     "execution_count": 14,
     "metadata": {},
     "output_type": "execute_result"
    }
   ],
   "source": [
    "clf.predict_proba([[2, 2], [1, 2]])"
   ]
  },
  {
   "cell_type": "code",
   "execution_count": 11,
   "id": "ec6d8ef8",
   "metadata": {},
   "outputs": [
    {
     "data": {
      "text/html": [
       "<style>#sk-container-id-4 {color: black;}#sk-container-id-4 pre{padding: 0;}#sk-container-id-4 div.sk-toggleable {background-color: white;}#sk-container-id-4 label.sk-toggleable__label {cursor: pointer;display: block;width: 100%;margin-bottom: 0;padding: 0.3em;box-sizing: border-box;text-align: center;}#sk-container-id-4 label.sk-toggleable__label-arrow:before {content: \"▸\";float: left;margin-right: 0.25em;color: #696969;}#sk-container-id-4 label.sk-toggleable__label-arrow:hover:before {color: black;}#sk-container-id-4 div.sk-estimator:hover label.sk-toggleable__label-arrow:before {color: black;}#sk-container-id-4 div.sk-toggleable__content {max-height: 0;max-width: 0;overflow: hidden;text-align: left;background-color: #f0f8ff;}#sk-container-id-4 div.sk-toggleable__content pre {margin: 0.2em;color: black;border-radius: 0.25em;background-color: #f0f8ff;}#sk-container-id-4 input.sk-toggleable__control:checked~div.sk-toggleable__content {max-height: 200px;max-width: 100%;overflow: auto;}#sk-container-id-4 input.sk-toggleable__control:checked~label.sk-toggleable__label-arrow:before {content: \"▾\";}#sk-container-id-4 div.sk-estimator input.sk-toggleable__control:checked~label.sk-toggleable__label {background-color: #d4ebff;}#sk-container-id-4 div.sk-label input.sk-toggleable__control:checked~label.sk-toggleable__label {background-color: #d4ebff;}#sk-container-id-4 input.sk-hidden--visually {border: 0;clip: rect(1px 1px 1px 1px);clip: rect(1px, 1px, 1px, 1px);height: 1px;margin: -1px;overflow: hidden;padding: 0;position: absolute;width: 1px;}#sk-container-id-4 div.sk-estimator {font-family: monospace;background-color: #f0f8ff;border: 1px dotted black;border-radius: 0.25em;box-sizing: border-box;margin-bottom: 0.5em;}#sk-container-id-4 div.sk-estimator:hover {background-color: #d4ebff;}#sk-container-id-4 div.sk-parallel-item::after {content: \"\";width: 100%;border-bottom: 1px solid gray;flex-grow: 1;}#sk-container-id-4 div.sk-label:hover label.sk-toggleable__label {background-color: #d4ebff;}#sk-container-id-4 div.sk-serial::before {content: \"\";position: absolute;border-left: 1px solid gray;box-sizing: border-box;top: 0;bottom: 0;left: 50%;z-index: 0;}#sk-container-id-4 div.sk-serial {display: flex;flex-direction: column;align-items: center;background-color: white;padding-right: 0.2em;padding-left: 0.2em;position: relative;}#sk-container-id-4 div.sk-item {position: relative;z-index: 1;}#sk-container-id-4 div.sk-parallel {display: flex;align-items: stretch;justify-content: center;background-color: white;position: relative;}#sk-container-id-4 div.sk-item::before, #sk-container-id-4 div.sk-parallel-item::before {content: \"\";position: absolute;border-left: 1px solid gray;box-sizing: border-box;top: 0;bottom: 0;left: 50%;z-index: -1;}#sk-container-id-4 div.sk-parallel-item {display: flex;flex-direction: column;z-index: 1;position: relative;background-color: white;}#sk-container-id-4 div.sk-parallel-item:first-child::after {align-self: flex-end;width: 50%;}#sk-container-id-4 div.sk-parallel-item:last-child::after {align-self: flex-start;width: 50%;}#sk-container-id-4 div.sk-parallel-item:only-child::after {width: 0;}#sk-container-id-4 div.sk-dashed-wrapped {border: 1px dashed gray;margin: 0 0.4em 0.5em 0.4em;box-sizing: border-box;padding-bottom: 0.4em;background-color: white;}#sk-container-id-4 div.sk-label label {font-family: monospace;font-weight: bold;display: inline-block;line-height: 1.2em;}#sk-container-id-4 div.sk-label-container {text-align: center;}#sk-container-id-4 div.sk-container {/* jupyter's `normalize.less` sets `[hidden] { display: none; }` but bootstrap.min.css set `[hidden] { display: none !important; }` so we also need the `!important` here to be able to override the default hidden behavior on the sphinx rendered scikit-learn.org. See: https://github.com/scikit-learn/scikit-learn/issues/21755 */display: inline-block !important;position: relative;}#sk-container-id-4 div.sk-text-repr-fallback {display: none;}</style><div id=\"sk-container-id-4\" class=\"sk-top-container\"><div class=\"sk-text-repr-fallback\"><pre>MLPClassifier(alpha=1e-05, hidden_layer_sizes=(10, 2), random_state=1,\n",
       "              solver=&#x27;lbfgs&#x27;)</pre><b>In a Jupyter environment, please rerun this cell to show the HTML representation or trust the notebook. <br />On GitHub, the HTML representation is unable to render, please try loading this page with nbviewer.org.</b></div><div class=\"sk-container\" hidden><div class=\"sk-item\"><div class=\"sk-estimator sk-toggleable\"><input class=\"sk-toggleable__control sk-hidden--visually\" id=\"sk-estimator-id-4\" type=\"checkbox\" checked><label for=\"sk-estimator-id-4\" class=\"sk-toggleable__label sk-toggleable__label-arrow\">MLPClassifier</label><div class=\"sk-toggleable__content\"><pre>MLPClassifier(alpha=1e-05, hidden_layer_sizes=(10, 2), random_state=1,\n",
       "              solver=&#x27;lbfgs&#x27;)</pre></div></div></div></div></div>"
      ],
      "text/plain": [
       "MLPClassifier(alpha=1e-05, hidden_layer_sizes=(10, 2), random_state=1,\n",
       "              solver='lbfgs')"
      ]
     },
     "execution_count": 11,
     "metadata": {},
     "output_type": "execute_result"
    }
   ],
   "source": [
    "clf_2 = MLPClassifier(solver=\"lbfgs\", alpha=1e-5,\n",
    "                     hidden_layer_sizes=(10, 2), random_state=1)\n",
    "clf_2.fit(X, y)"
   ]
  },
  {
   "cell_type": "code",
   "execution_count": 13,
   "id": "d00474c3",
   "metadata": {},
   "outputs": [
    {
     "data": {
      "text/plain": [
       "[(2, 10), (10, 2), (2, 1)]"
      ]
     },
     "execution_count": 13,
     "metadata": {},
     "output_type": "execute_result"
    }
   ],
   "source": [
    "[coef.shape for coef in clf_2.coefs_]"
   ]
  },
  {
   "cell_type": "code",
   "execution_count": 19,
   "id": "4e51d8d6",
   "metadata": {},
   "outputs": [
    {
     "name": "stdout",
     "output_type": "stream",
     "text": [
      "[(2, 15), (15, 1)]\n",
      "[(2, 15), (15, 1)]\n",
      "[(2, 15), (15, 1)]\n",
      "[(2, 15), (15, 1)]\n",
      "[(2, 15), (15, 1)]\n",
      "[(2, 15), (15, 1)]\n",
      "[(2, 15), (15, 1)]\n",
      "[(2, 15), (15, 1)]\n",
      "[(2, 15), (15, 1)]\n",
      "[(2, 15), (15, 1)]\n"
     ]
    }
   ],
   "source": [
    "X = [[0, 0], [1, 1]]\n",
    "y = [0, 1]\n",
    "\n",
    "clf_3 = MLPClassifier(hidden_layer_sizes=(15, ), random_state=1, \n",
    "                      max_iter=1, warm_start=True)\n",
    "\n",
    "for i in range(10) : \n",
    "    clf_3.fit(X, y)\n",
    "    print([coef.shape for coef in clf_3.coefs_])"
   ]
  },
  {
   "cell_type": "code",
   "execution_count": 18,
   "id": "e5437198",
   "metadata": {},
   "outputs": [
    {
     "data": {
      "text/html": [
       "<style>#sk-container-id-6 {color: black;}#sk-container-id-6 pre{padding: 0;}#sk-container-id-6 div.sk-toggleable {background-color: white;}#sk-container-id-6 label.sk-toggleable__label {cursor: pointer;display: block;width: 100%;margin-bottom: 0;padding: 0.3em;box-sizing: border-box;text-align: center;}#sk-container-id-6 label.sk-toggleable__label-arrow:before {content: \"▸\";float: left;margin-right: 0.25em;color: #696969;}#sk-container-id-6 label.sk-toggleable__label-arrow:hover:before {color: black;}#sk-container-id-6 div.sk-estimator:hover label.sk-toggleable__label-arrow:before {color: black;}#sk-container-id-6 div.sk-toggleable__content {max-height: 0;max-width: 0;overflow: hidden;text-align: left;background-color: #f0f8ff;}#sk-container-id-6 div.sk-toggleable__content pre {margin: 0.2em;color: black;border-radius: 0.25em;background-color: #f0f8ff;}#sk-container-id-6 input.sk-toggleable__control:checked~div.sk-toggleable__content {max-height: 200px;max-width: 100%;overflow: auto;}#sk-container-id-6 input.sk-toggleable__control:checked~label.sk-toggleable__label-arrow:before {content: \"▾\";}#sk-container-id-6 div.sk-estimator input.sk-toggleable__control:checked~label.sk-toggleable__label {background-color: #d4ebff;}#sk-container-id-6 div.sk-label input.sk-toggleable__control:checked~label.sk-toggleable__label {background-color: #d4ebff;}#sk-container-id-6 input.sk-hidden--visually {border: 0;clip: rect(1px 1px 1px 1px);clip: rect(1px, 1px, 1px, 1px);height: 1px;margin: -1px;overflow: hidden;padding: 0;position: absolute;width: 1px;}#sk-container-id-6 div.sk-estimator {font-family: monospace;background-color: #f0f8ff;border: 1px dotted black;border-radius: 0.25em;box-sizing: border-box;margin-bottom: 0.5em;}#sk-container-id-6 div.sk-estimator:hover {background-color: #d4ebff;}#sk-container-id-6 div.sk-parallel-item::after {content: \"\";width: 100%;border-bottom: 1px solid gray;flex-grow: 1;}#sk-container-id-6 div.sk-label:hover label.sk-toggleable__label {background-color: #d4ebff;}#sk-container-id-6 div.sk-serial::before {content: \"\";position: absolute;border-left: 1px solid gray;box-sizing: border-box;top: 0;bottom: 0;left: 50%;z-index: 0;}#sk-container-id-6 div.sk-serial {display: flex;flex-direction: column;align-items: center;background-color: white;padding-right: 0.2em;padding-left: 0.2em;position: relative;}#sk-container-id-6 div.sk-item {position: relative;z-index: 1;}#sk-container-id-6 div.sk-parallel {display: flex;align-items: stretch;justify-content: center;background-color: white;position: relative;}#sk-container-id-6 div.sk-item::before, #sk-container-id-6 div.sk-parallel-item::before {content: \"\";position: absolute;border-left: 1px solid gray;box-sizing: border-box;top: 0;bottom: 0;left: 50%;z-index: -1;}#sk-container-id-6 div.sk-parallel-item {display: flex;flex-direction: column;z-index: 1;position: relative;background-color: white;}#sk-container-id-6 div.sk-parallel-item:first-child::after {align-self: flex-end;width: 50%;}#sk-container-id-6 div.sk-parallel-item:last-child::after {align-self: flex-start;width: 50%;}#sk-container-id-6 div.sk-parallel-item:only-child::after {width: 0;}#sk-container-id-6 div.sk-dashed-wrapped {border: 1px dashed gray;margin: 0 0.4em 0.5em 0.4em;box-sizing: border-box;padding-bottom: 0.4em;background-color: white;}#sk-container-id-6 div.sk-label label {font-family: monospace;font-weight: bold;display: inline-block;line-height: 1.2em;}#sk-container-id-6 div.sk-label-container {text-align: center;}#sk-container-id-6 div.sk-container {/* jupyter's `normalize.less` sets `[hidden] { display: none; }` but bootstrap.min.css set `[hidden] { display: none !important; }` so we also need the `!important` here to be able to override the default hidden behavior on the sphinx rendered scikit-learn.org. See: https://github.com/scikit-learn/scikit-learn/issues/21755 */display: inline-block !important;position: relative;}#sk-container-id-6 div.sk-text-repr-fallback {display: none;}</style><div id=\"sk-container-id-6\" class=\"sk-top-container\"><div class=\"sk-text-repr-fallback\"><pre>MLPClassifier(hidden_layer_sizes=(15,), max_iter=1, random_state=1,\n",
       "              warm_start=True)</pre><b>In a Jupyter environment, please rerun this cell to show the HTML representation or trust the notebook. <br />On GitHub, the HTML representation is unable to render, please try loading this page with nbviewer.org.</b></div><div class=\"sk-container\" hidden><div class=\"sk-item\"><div class=\"sk-estimator sk-toggleable\"><input class=\"sk-toggleable__control sk-hidden--visually\" id=\"sk-estimator-id-6\" type=\"checkbox\" checked><label for=\"sk-estimator-id-6\" class=\"sk-toggleable__label sk-toggleable__label-arrow\">MLPClassifier</label><div class=\"sk-toggleable__content\"><pre>MLPClassifier(hidden_layer_sizes=(15,), max_iter=1, random_state=1,\n",
       "              warm_start=True)</pre></div></div></div></div></div>"
      ],
      "text/plain": [
       "MLPClassifier(hidden_layer_sizes=(15,), max_iter=1, random_state=1,\n",
       "              warm_start=True)"
      ]
     },
     "execution_count": 18,
     "metadata": {},
     "output_type": "execute_result"
    }
   ],
   "source": [
    "clf_3"
   ]
  }
 ],
 "metadata": {
  "kernelspec": {
   "display_name": "Python 3 (ipykernel)",
   "language": "python",
   "name": "python3"
  },
  "language_info": {
   "codemirror_mode": {
    "name": "ipython",
    "version": 3
   },
   "file_extension": ".py",
   "mimetype": "text/x-python",
   "name": "python",
   "nbconvert_exporter": "python",
   "pygments_lexer": "ipython3",
   "version": "3.10.13"
  }
 },
 "nbformat": 4,
 "nbformat_minor": 5
}
