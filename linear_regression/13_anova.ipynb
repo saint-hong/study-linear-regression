{
 "cells": [
  {
   "cell_type": "markdown",
   "id": "474cfab7",
   "metadata": {},
   "source": [
    "# 분산분석\n",
    "    \n",
    "## 1. 분산분석의 의미\n",
    "- OLS 방법이나 확률론적 선형회귀모형을 통해서 가중치값과 예측값을 구하여 원래 정답인 종속값과의 비교를 통해 모형의 성능이 좋은지 안 좋은지 평가할 수 있다. \n",
    "- 잔차의 제곱합 RSS를 구하여 잔차의 크기가 작을 수록 예측값이 종속값과 가깝다고 볼 수 있기 때문이다.\n",
    "- 그런데 독립변수의 스케일이 달라지게되면 잔차제곱합이 달라지므로 잔차 제곱합 만으로는 모형의 성능을 평가할 수 없다. 따라서 이러한 경우 분산분석을 통해 모형의 성능을 평가한다.\n",
    "- `분산분석 analysis of variance` : 종속변수의 분산과 독립변수의 분산간의 관계를 사용하여 선형회귀분석의 성능을 평가하는 방법\n",
    "    - 분산분석을 사용하여 두 개의 선형회귀분석의 성능을 비교할 수 있다. (전체모형과 축소모형)\n",
    "    - 독립변수의 중요도를 비교할 수 있다. (하나씩 비교하거나 전체를 한번에 비교가능)\n",
    "\n",
    "## 2. 수학적 의미\n",
    "- 1) TSS (Total sum of square) : 종속변수값의 움직임의 범위, 분산\n",
    "    - y의 샘플 평균 : $\\bar{y} = \\dfrac{1}{N} \\sum_{i=1}^{N} y_i$\n",
    "    - $\\text{TSS} = \\sum_{i=1}^{N}(y_i - \\bar{y})^2=(y-\\bar{y}1_N)^T(y-\\bar{y}1_N)$\n",
    "    - y의 샘플 평균을 일벡터와 곱하면 N번 반복하는 브로드캐스팅 벡터가 된다.\n",
    "    - 행렬로 나타내기 위한 방법\n",
    "\n",
    "- 2) ESS (explained sum of square) : 예측값의 움직임의 범위, 분산\n",
    "    - $\\text{ESS} = \\sum_{i=1}^{N}(\\hat{y} - \\bar{\\hat{y}})^2=(\\hat{y}-\\bar{\\hat{y}}1_N)^T(\\hat{y}-\\bar{\\hat{y}}1_N)$\n",
    "    \n",
    "- 3) RSS (residual sum of square) : 잔차의 움직임의 범위, 오차의 크기, 분산\n",
    "    - $\\text{RSS} = \\sum_{i=1}^{N}(y - \\hat{y})^2=(y-\\hat{y}1_N)^T(y-\\hat{y}1_N)=e^Te$\n",
    "\n",
    "### 2-1. TSS = ESS + RSS\n",
    "- `종속변수의 움직임의 범위 = 예측값의 이동범위 + 잔차의 이동범위`\n",
    "- 증명 \n",
    "    - 1) 잔차의 평균은 0이다. 따라서 종속값의 평균과 예측값의 평균은 같다.\n",
    "        - $e = \\bar{y} - \\bar{\\hat{y}} = 0,\\;\\; \\bar{y} = \\bar{\\hat{y}}$\n",
    "        - OLS를 통해서 구한 직교방정식에 따르면 X와 e가 직교한다. X에 상수항 결합을 한 경우 첫번째 열이 1벡터인데 이 1벡터와 잔차벡터의 내적도 직교이므로 0이다. 따라서 잔차의 합은 0이고 이로부터 잔차의 평균도 0이된다는 거을 알 수 있다. \n",
    "    \n",
    "    - 2) 선형 회귀 모형 : $y = X\\hat{w} + e = \\hat{y} + e$\n",
    "    - 3) X의 평균 벡터 : $\\bar{x} = \\dfrac{1}{N}X^T1_N$\n",
    "        - X의 각 열의 평균값이 원소인 벡터가 된다.\n",
    "    - 4) 이것에 대한 예측값 : $\\bar{x}^T\\hat{w} = \\bar{y}$\n",
    "    - 5) 각 행이 평균값으로 반복되는 행렬 : $\\bar{X}=\\dfrac{1}{N}X^T1_N1_N^T$\n",
    "        - 각 행에 X의 열의 평균값이 반복된다. 1번 행에는 1번열의 평균값 데이터가 반복\n",
    "        - 평균 벡터가 열 단위로 합해져 있는 평균 행렬의 형태\n",
    "    - 6) 이것에 대한 예측값 : $\\bar{X}^T\\hat{w} = \\bar{y}1_N$ \n",
    "        - y의 평균값을 원소로 하는 벡터가 된다.\n",
    "    - 7) X 평균 행렬과 e는 직교 한다.\n",
    "        - $\\bar{X}^Te = \\dfrac{1}{N}X^T1_N1_N^Te=\\dfrac{1}{N}X^T1_N0=0$\n",
    "        - 1_N^Te : 잔차의 합이므로 값은 0이다.\n",
    "    - 8) 직교 방정식 두개를 합한다.\n",
    "        - $\\bar{X}^Te - X^Te = (\\bar{X} - X)^Te$\n",
    "\n",
    "$\\begin{aligned}\n",
    "    TSS\n",
    "    &= (y - \\bar{y}1_N)^T(y - \\bar{y}1_N) \\\\\n",
    "    &= (\\hat{y} - \\bar{y}1_N + e)^T(\\hat{y} - \\bar{y}1_N + e) \\\\\n",
    "    &= \\vdots \\\\\n",
    "    &= (\\hat{y} - \\bar{y}1_N)^T(\\hat{y} - \\bar{y}1_N)^T + e^Te \\\\\n",
    "    &= ESS + RSS \\\\\n",
    "    \\end{aligned}$\n",
    "\n",
    "- 이 식의 의미\n",
    "    - **1) 모형 예측치의 움직임의 크기(분산)은 종속변수의 움직임의 크기(분산)보다 클 수 없다.**\n",
    "    - **2) 모형의 성능이 좋을수록 모형 예측치의 움직임의 크기는 종속변수의 움직임의 크기와 비슷해진다.**"
   ]
  },
  {
   "cell_type": "markdown",
   "id": "dc83a229",
   "metadata": {},
   "source": [
    "## 3. 1차원 데이터로 식 확인"
   ]
  },
  {
   "cell_type": "markdown",
   "id": "b39d8655",
   "metadata": {},
   "source": [
    "### 3-1. 데이터 생성 함수 임포트"
   ]
  },
  {
   "cell_type": "code",
   "execution_count": 1,
   "id": "ba906941",
   "metadata": {},
   "outputs": [],
   "source": [
    "from sklearn.datasets import make_regression"
   ]
  },
  {
   "cell_type": "markdown",
   "id": "380dbd77",
   "metadata": {},
   "source": [
    "### 3-2. 데이터 프레임 생성"
   ]
  },
  {
   "cell_type": "code",
   "execution_count": 3,
   "id": "32581677",
   "metadata": {},
   "outputs": [],
   "source": [
    "X0, y, coef = make_regression(n_samples=100, n_features=1, noise=30,\n",
    "                             coef=True, random_state=0)\n",
    "\n",
    "dfX0 = pd.DataFrame(X0, columns=[\"X\"])\n",
    "dfX = sm.add_constant(dfX0)\n",
    "dfy = pd.DataFrame(y, columns=[\"Y\"])\n",
    "df = pd.concat([dfX, dfy], axis=1)"
   ]
  },
  {
   "cell_type": "code",
   "execution_count": 4,
   "id": "e75f31a3",
   "metadata": {},
   "outputs": [
    {
     "data": {
      "text/html": [
       "<div>\n",
       "<style scoped>\n",
       "    .dataframe tbody tr th:only-of-type {\n",
       "        vertical-align: middle;\n",
       "    }\n",
       "\n",
       "    .dataframe tbody tr th {\n",
       "        vertical-align: top;\n",
       "    }\n",
       "\n",
       "    .dataframe thead th {\n",
       "        text-align: right;\n",
       "    }\n",
       "</style>\n",
       "<table border=\"1\" class=\"dataframe\">\n",
       "  <thead>\n",
       "    <tr style=\"text-align: right;\">\n",
       "      <th></th>\n",
       "      <th>const</th>\n",
       "      <th>X</th>\n",
       "      <th>Y</th>\n",
       "    </tr>\n",
       "  </thead>\n",
       "  <tbody>\n",
       "    <tr>\n",
       "      <th>0</th>\n",
       "      <td>1.0</td>\n",
       "      <td>-0.359553</td>\n",
       "      <td>-29.387972</td>\n",
       "    </tr>\n",
       "    <tr>\n",
       "      <th>1</th>\n",
       "      <td>1.0</td>\n",
       "      <td>0.976639</td>\n",
       "      <td>-18.771359</td>\n",
       "    </tr>\n",
       "    <tr>\n",
       "      <th>2</th>\n",
       "      <td>1.0</td>\n",
       "      <td>0.402342</td>\n",
       "      <td>0.563777</td>\n",
       "    </tr>\n",
       "    <tr>\n",
       "      <th>3</th>\n",
       "      <td>1.0</td>\n",
       "      <td>-0.813146</td>\n",
       "      <td>19.905024</td>\n",
       "    </tr>\n",
       "    <tr>\n",
       "      <th>4</th>\n",
       "      <td>1.0</td>\n",
       "      <td>-0.887786</td>\n",
       "      <td>-31.843421</td>\n",
       "    </tr>\n",
       "  </tbody>\n",
       "</table>\n",
       "</div>"
      ],
      "text/plain": [
       "   const         X          Y\n",
       "0    1.0 -0.359553 -29.387972\n",
       "1    1.0  0.976639 -18.771359\n",
       "2    1.0  0.402342   0.563777\n",
       "3    1.0 -0.813146  19.905024\n",
       "4    1.0 -0.887786 -31.843421"
      ]
     },
     "execution_count": 4,
     "metadata": {},
     "output_type": "execute_result"
    }
   ],
   "source": [
    "df.head()"
   ]
  },
  {
   "cell_type": "markdown",
   "id": "de2dda51",
   "metadata": {},
   "source": [
    "### 3-3. OLS 모델 생성 및 계산\n",
    "- 분산분석의 수치들이 result 객체에 내장 되어있다."
   ]
  },
  {
   "cell_type": "code",
   "execution_count": 5,
   "id": "eaf6526d",
   "metadata": {},
   "outputs": [],
   "source": [
    "model = sm.OLS.from_formula(\"Y ~ X\", df)\n",
    "result = model.fit()"
   ]
  },
  {
   "cell_type": "code",
   "execution_count": 8,
   "id": "ff122139",
   "metadata": {},
   "outputs": [
    {
     "name": "stdout",
     "output_type": "stream",
     "text": [
      "종속변수의 이동범위 TSS =  291345.7578983061\n",
      "예측값의 이동범위 ESS =  188589.61349210917\n",
      "잔차의 이동범위 RSS =  102754.33755137534\n",
      "TSS = ESS + RSS =  291343.9510434845\n",
      "결정계수 R squared =  0.6473091780922585\n"
     ]
    }
   ],
   "source": [
    "print(\"종속변수의 이동범위 TSS = \", result.uncentered_tss)\n",
    "print(\"예측값의 이동범위 ESS = \", result.mse_model)\n",
    "print(\"잔차의 이동범위 RSS = \", result.ssr)\n",
    "print(\"TSS = ESS + RSS = \", result.mse_model + result.ssr)\n",
    "print(\"결정계수 R squared = \", result.rsquared)"
   ]
  },
  {
   "cell_type": "markdown",
   "id": "420acfb0",
   "metadata": {},
   "source": [
    "### 3-4. TSS, ESS, RSS의 분산 확인"
   ]
  },
  {
   "cell_type": "code",
   "execution_count": 12,
   "id": "9f4a930e",
   "metadata": {},
   "outputs": [
    {
     "data": {
      "image/png": "[encoded data removed]",
      "text/plain": [
       "<Figure size 720x576 with 1 Axes>"
      ]
     },
     "metadata": {
      "image/png": {
       "height": 469,
       "width": 615
      },
      "needs_background": "light"
     },
     "output_type": "display_data"
    }
   ],
   "source": [
    "%matplotlib inline\n",
    "\n",
    "plt.figure(figsize=(10, 8))\n",
    "\n",
    "sns.distplot(y, kde=False, fit=sp.stats.norm, hist_kws={\"color\":\"r\", \"alpha\":0.2},\n",
    "            fit_kws={\"color\":\"r\"}, label=\"TSS\")\n",
    "\n",
    "sns.distplot(result.fittedvalues, \n",
    "             kde=False, fit=sp.stats.norm, hist_kws={\"color\":\"g\", \"alpha\":0.2},\n",
    "            fit_kws={\"color\":\"g\"}, label=\"ESS\")\n",
    "\n",
    "sns.distplot(result.resid,\n",
    "             kde=False, fit=sp.stats.norm, hist_kws={\"color\":\"b\", \"alpha\":0.2},\n",
    "            fit_kws={\"color\":\"b\"}, label=\"RSS\")\n",
    "\n",
    "plt.legend()\n",
    "plt.show() ; "
   ]
  },
  {
   "cell_type": "markdown",
   "id": "e0e88c01",
   "metadata": {},
   "source": [
    "#### 예측값"
   ]
  },
  {
   "cell_type": "code",
   "execution_count": 14,
   "id": "ddd97298",
   "metadata": {
    "scrolled": true
   },
   "outputs": [
    {
     "data": {
      "text/plain": [
       "0    -17.934714\n",
       "1     39.638175\n",
       "2     14.893262\n",
       "3    -37.478808\n",
       "4    -40.694820\n",
       "        ...    \n",
       "95   -52.645684\n",
       "96   -18.072076\n",
       "97    12.912314\n",
       "98   -71.981016\n",
       "99   -53.312776\n",
       "Length: 100, dtype: float64"
      ]
     },
     "execution_count": 14,
     "metadata": {},
     "output_type": "execute_result"
    }
   ],
   "source": [
    "result.fittedvalues"
   ]
  },
  {
   "cell_type": "markdown",
   "id": "9e97b3ea",
   "metadata": {},
   "source": [
    "#### 잔차"
   ]
  },
  {
   "cell_type": "code",
   "execution_count": 15,
   "id": "8c9b9eeb",
   "metadata": {},
   "outputs": [
    {
     "data": {
      "text/plain": [
       "0    -11.453259\n",
       "1    -58.409534\n",
       "2    -14.329485\n",
       "3     57.383832\n",
       "4      8.851398\n",
       "        ...    \n",
       "95     6.090249\n",
       "96    47.418766\n",
       "97    -7.768456\n",
       "98    50.498218\n",
       "99   -12.863933\n",
       "Length: 100, dtype: float64"
      ]
     },
     "execution_count": 15,
     "metadata": {},
     "output_type": "execute_result"
    }
   ],
   "source": [
    "result.resid"
   ]
  },
  {
   "cell_type": "markdown",
   "id": "f998339a",
   "metadata": {},
   "source": [
    "## 4. 결정계수\n",
    "- `결정계수 coefficient of determination` : 분산분석의 관계를 사용한 모형의 성능 지표\n",
    "    - $R^2 = 1- \\dfrac{RSS}{TSS} = \\dfrac{ESS}{TSS}$\n",
    "- 결정계수의 조건\n",
    "    - $0 \\leq R^2 \\leq 1$\n",
    "- 결정계수의 의미\n",
    "    - 1) R^2 = 0 : RSS가 최대이고, ESS가 0에 가깝다. 즉 잔차가 크고 예측값이 0이므로 의미없는 모형이라는 뜻이다.\n",
    "    - 2) R^2 = 1 : RSS가 0이고, ESS가 TSS와 비슷하다. 즉 잔차가 0이고 예측값이 종속값과 거의 같으므로 회귀결과가 완벽하다는 뜻이다. \n",
    "    - 따라서 R^2 수치가 1에 가까울 수록 좋은 성능의 모형이라고 할 수 있다.\n",
    "    \n",
    "## 5. 분산분석표\n",
    "- 이미지 첨부\n",
    "\n",
    "## 6. 회귀분석 F-검정과 분산 분석의 관계\n",
    "- 회귀분석 F-검정의 귀무가설 : H_0 : R^2 = 0 \n",
    "    - 모든 계수 w_i가 0이다. 라는 귀무가설이다. 이 가설은 모형 자체가 아무런 의미가 없다는 것을 의미한다. 따라서 결정계수 값도 0이 된다.\n",
    "- 가중치의 예측값 hat{w}는 기대값이 0인 정규분포에서 나온 표본이다. 따라서 hat{y}도 hat{w}의 선형조합이므로 정규 분포를 따른다. \n",
    "- 잔차는 오차의 선형변환으로 정규분포를 따른다. e = M\\epsilon\n",
    "- `회귀분석 F-검정의 검정통계량`\n",
    "    - $\\dfrac{ESS}{K-1} ÷ \\dfrac{RSS}{N-K} \\sim F(K-1, N-K)$\n",
    "    - ESS와 RSS의 비율은 F분포를 따른다."
   ]
  },
  {
   "cell_type": "markdown",
   "id": "305119d9",
   "metadata": {},
   "source": [
    "### 6-1. anova_lm\n",
    "- anova_lm 의 F은 OLS summary의 F-statistic의 값과 같다.\n",
    "    - 이 값이 작을 수록 0에 가까울 수록 wi=0이라는 귀무가설이 강하게 기각되므로 의미있는 모형이라고 볼 수 있다.\n",
    "    - 이 값이 클 수록 귀무가설이 강하게 채택되므로 의미가 없는 모형이라고 볼 수 있다.\n",
    "- anova_lm의 PR(>F)는 OLS summary의 Prob (F-statistics) 값과 같다. 유의확률을 의미한다.     "
   ]
  },
  {
   "cell_type": "code",
   "execution_count": 16,
   "id": "4d8792db",
   "metadata": {},
   "outputs": [
    {
     "data": {
      "text/html": [
       "<div>\n",
       "<style scoped>\n",
       "    .dataframe tbody tr th:only-of-type {\n",
       "        vertical-align: middle;\n",
       "    }\n",
       "\n",
       "    .dataframe tbody tr th {\n",
       "        vertical-align: top;\n",
       "    }\n",
       "\n",
       "    .dataframe thead th {\n",
       "        text-align: right;\n",
       "    }\n",
       "</style>\n",
       "<table border=\"1\" class=\"dataframe\">\n",
       "  <thead>\n",
       "    <tr style=\"text-align: right;\">\n",
       "      <th></th>\n",
       "      <th>df</th>\n",
       "      <th>sum_sq</th>\n",
       "      <th>mean_sq</th>\n",
       "      <th>F</th>\n",
       "      <th>PR(&gt;F)</th>\n",
       "    </tr>\n",
       "  </thead>\n",
       "  <tbody>\n",
       "    <tr>\n",
       "      <th>X</th>\n",
       "      <td>1.0</td>\n",
       "      <td>188589.613492</td>\n",
       "      <td>188589.613492</td>\n",
       "      <td>179.863766</td>\n",
       "      <td>6.601482e-24</td>\n",
       "    </tr>\n",
       "    <tr>\n",
       "      <th>Residual</th>\n",
       "      <td>98.0</td>\n",
       "      <td>102754.337551</td>\n",
       "      <td>1048.513648</td>\n",
       "      <td>NaN</td>\n",
       "      <td>NaN</td>\n",
       "    </tr>\n",
       "  </tbody>\n",
       "</table>\n",
       "</div>"
      ],
      "text/plain": [
       "            df         sum_sq        mean_sq           F        PR(>F)\n",
       "X          1.0  188589.613492  188589.613492  179.863766  6.601482e-24\n",
       "Residual  98.0  102754.337551    1048.513648         NaN           NaN"
      ]
     },
     "execution_count": 16,
     "metadata": {},
     "output_type": "execute_result"
    }
   ],
   "source": [
    "sm.stats.anova_lm(result)"
   ]
  },
  {
   "cell_type": "code",
   "execution_count": 17,
   "id": "068b6562",
   "metadata": {},
   "outputs": [
    {
     "name": "stdout",
     "output_type": "stream",
     "text": [
      "                            OLS Regression Results                            \n",
      "==============================================================================\n",
      "Dep. Variable:                      Y   R-squared:                       0.647\n",
      "Model:                            OLS   Adj. R-squared:                  0.644\n",
      "Method:                 Least Squares   F-statistic:                     179.9\n",
      "Date:                Mon, 25 Jul 2022   Prob (F-statistic):           6.60e-24\n",
      "Time:                        16:22:36   Log-Likelihood:                -488.64\n",
      "No. Observations:                 100   AIC:                             981.3\n",
      "Df Residuals:                      98   BIC:                             986.5\n",
      "Df Model:                           1                                         \n",
      "Covariance Type:            nonrobust                                         \n",
      "==============================================================================\n",
      "                 coef    std err          t      P>|t|      [0.025      0.975]\n",
      "------------------------------------------------------------------------------\n",
      "Intercept     -2.4425      3.244     -0.753      0.453      -8.880       3.995\n",
      "X             43.0873      3.213     13.411      0.000      36.712      49.463\n",
      "==============================================================================\n",
      "Omnibus:                        3.523   Durbin-Watson:                   1.984\n",
      "Prob(Omnibus):                  0.172   Jarque-Bera (JB):                2.059\n",
      "Skew:                          -0.073   Prob(JB):                        0.357\n",
      "Kurtosis:                       2.312   Cond. No.                         1.06\n",
      "==============================================================================\n",
      "\n",
      "Notes:\n",
      "[1] Standard Errors assume that the covariance matrix of the errors is correctly specified.\n"
     ]
    }
   ],
   "source": [
    "print(result.summary())"
   ]
  },
  {
   "cell_type": "markdown",
   "id": "a9075810",
   "metadata": {},
   "source": [
    "## 7. 결정계수와 상관계수\n",
    "- y와 hat{y}의 샘플 상관계수 r의 제곱은 R^2 (결정계수)와 같다."
   ]
  },
  {
   "cell_type": "code",
   "execution_count": 18,
   "id": "afb060f1",
   "metadata": {},
   "outputs": [
    {
     "data": {
      "image/png": "[encoded data removed]",
      "text/plain": [
       "<Figure size 432x432 with 3 Axes>"
      ]
     },
     "metadata": {
      "image/png": {
       "height": 423,
       "width": 433
      },
      "needs_background": "light"
     },
     "output_type": "display_data"
    }
   ],
   "source": [
    "sns.jointplot(result.fittedvalues, y)\n",
    "plt.show() ; "
   ]
  },
  {
   "cell_type": "markdown",
   "id": "f418789c",
   "metadata": {},
   "source": [
    "## 8. 상수항이 없는 모형\n",
    "- TSS의 정의가 달라진다.\n",
    "    - $\\text{TSS} = \\sum_{i} y_i^2 = y^Ty$\n",
    "- TSS의 정의를 바꾸지 않으면 TSS=ESS+RSS 관계식이 성립하지 않는다. 따라서 R^2 값이 1보다 커지는 경우가 발생한다. \n",
    "- **모형의 결정계수를 비교할 때 상수항이 없는 모형과 상수항이 있는 모형은 직접 비교하면 안된다.**"
   ]
  },
  {
   "cell_type": "code",
   "execution_count": 19,
   "id": "bbc1c73b",
   "metadata": {},
   "outputs": [],
   "source": [
    "X0, y, coef = make_regression(n_samples=100, n_features=1, noise=30, bias=100,\n",
    "                             coef=True, random_state=0)\n",
    "dfX = pd.DataFrame(X0, columns=[\"X\"])\n",
    "dfy = pd.DataFrame(y, columns=[\"Y\"])\n",
    "df = pd.concat([dfX, dfy], axis=1)"
   ]
  },
  {
   "cell_type": "code",
   "execution_count": 20,
   "id": "c0d58562",
   "metadata": {},
   "outputs": [
    {
     "data": {
      "text/html": [
       "<div>\n",
       "<style scoped>\n",
       "    .dataframe tbody tr th:only-of-type {\n",
       "        vertical-align: middle;\n",
       "    }\n",
       "\n",
       "    .dataframe tbody tr th {\n",
       "        vertical-align: top;\n",
       "    }\n",
       "\n",
       "    .dataframe thead th {\n",
       "        text-align: right;\n",
       "    }\n",
       "</style>\n",
       "<table border=\"1\" class=\"dataframe\">\n",
       "  <thead>\n",
       "    <tr style=\"text-align: right;\">\n",
       "      <th></th>\n",
       "      <th>X</th>\n",
       "      <th>Y</th>\n",
       "    </tr>\n",
       "  </thead>\n",
       "  <tbody>\n",
       "    <tr>\n",
       "      <th>0</th>\n",
       "      <td>-0.359553</td>\n",
       "      <td>70.612028</td>\n",
       "    </tr>\n",
       "    <tr>\n",
       "      <th>1</th>\n",
       "      <td>0.976639</td>\n",
       "      <td>81.228641</td>\n",
       "    </tr>\n",
       "    <tr>\n",
       "      <th>2</th>\n",
       "      <td>0.402342</td>\n",
       "      <td>100.563777</td>\n",
       "    </tr>\n",
       "    <tr>\n",
       "      <th>3</th>\n",
       "      <td>-0.813146</td>\n",
       "      <td>119.905024</td>\n",
       "    </tr>\n",
       "    <tr>\n",
       "      <th>4</th>\n",
       "      <td>-0.887786</td>\n",
       "      <td>68.156579</td>\n",
       "    </tr>\n",
       "  </tbody>\n",
       "</table>\n",
       "</div>"
      ],
      "text/plain": [
       "          X           Y\n",
       "0 -0.359553   70.612028\n",
       "1  0.976639   81.228641\n",
       "2  0.402342  100.563777\n",
       "3 -0.813146  119.905024\n",
       "4 -0.887786   68.156579"
      ]
     },
     "execution_count": 20,
     "metadata": {},
     "output_type": "execute_result"
    }
   ],
   "source": [
    "df.head()"
   ]
  },
  {
   "cell_type": "markdown",
   "id": "3fedbf92",
   "metadata": {},
   "source": [
    "### 8-1. 새로운 OLS 모형을 생성하고 계산"
   ]
  },
  {
   "cell_type": "code",
   "execution_count": 21,
   "id": "109b9839",
   "metadata": {},
   "outputs": [],
   "source": [
    "model2 = sm.OLS.from_formula(\"Y ~ X + 0\", data=df)\n",
    "result2 = model2.fit()"
   ]
  },
  {
   "cell_type": "markdown",
   "id": "2685951b",
   "metadata": {},
   "source": [
    "### 8-2. 상수항을 뻈는데 결정계수 값이 크게 달라졌다."
   ]
  },
  {
   "cell_type": "code",
   "execution_count": 22,
   "id": "a4837fa2",
   "metadata": {},
   "outputs": [
    {
     "data": {
      "text/plain": [
       "0.1876872470594393"
      ]
     },
     "execution_count": 22,
     "metadata": {},
     "output_type": "execute_result"
    }
   ],
   "source": [
    "result2.rsquared"
   ]
  },
  {
   "cell_type": "code",
   "execution_count": 24,
   "id": "6640583d",
   "metadata": {},
   "outputs": [
    {
     "data": {
      "text/plain": [
       "0.6473091780922585"
      ]
     },
     "execution_count": 24,
     "metadata": {},
     "output_type": "execute_result"
    }
   ],
   "source": [
    "result.rsquared"
   ]
  },
  {
   "cell_type": "markdown",
   "id": "37ecd7bd",
   "metadata": {},
   "source": [
    "## 9. F검정을 이용한 모형의 비교\n",
    "- F검정을 사용하면 포함관계(nesting)에 있는 두 모형의 성능을 비교할 수 있다.\n",
    "    - 원래 데이터에서 특정한 독립변수가 빠져있는 데이터\n",
    "    - 전체 모형 : $y = w_0x_0 + w_1x_1 + w_2x_2$ (모든 독립변수가 있는 모형)\n",
    "    - 축소 모형 : $y = w_0x_0 + w_1x_1$ (일부 독립변수가 제외 된 모형)\n",
    "    - 귀무 가설 : $H_0 : w_2 = w_3 = 0$\n",
    "- 보스턴 집값 데이터에서 AGE, INDUS 변수를 뺀 축소모형과 원래모형이 같은지 비교한다.\n",
    "    - 유의확률 Pr(>F) 값을 확인한다."
   ]
  },
  {
   "cell_type": "markdown",
   "id": "f8f8ad3b",
   "metadata": {},
   "source": [
    "### 9-1. 보스턴 집값 데이터 임포트하고 데이터 프레임으로 변환"
   ]
  },
  {
   "cell_type": "code",
   "execution_count": 25,
   "id": "59449447",
   "metadata": {},
   "outputs": [],
   "source": [
    "from sklearn.datasets import load_boston"
   ]
  },
  {
   "cell_type": "code",
   "execution_count": 27,
   "id": "0d084021",
   "metadata": {},
   "outputs": [],
   "source": [
    "boston = load_boston()\n",
    "dfX0_boston = pd.DataFrame(boston.data, columns=boston.feature_names)\n",
    "dfX_boston = sm.add_constant(dfX0_boston)\n",
    "dfy_boston = pd.DataFrame(boston.target, columns=[\"MEDV\"])\n",
    "df_boston = pd.concat([dfX_boston, dfy_boston], axis=1)"
   ]
  },
  {
   "cell_type": "code",
   "execution_count": 28,
   "id": "113cf61b",
   "metadata": {},
   "outputs": [
    {
     "data": {
      "text/html": [
       "<div>\n",
       "<style scoped>\n",
       "    .dataframe tbody tr th:only-of-type {\n",
       "        vertical-align: middle;\n",
       "    }\n",
       "\n",
       "    .dataframe tbody tr th {\n",
       "        vertical-align: top;\n",
       "    }\n",
       "\n",
       "    .dataframe thead th {\n",
       "        text-align: right;\n",
       "    }\n",
       "</style>\n",
       "<table border=\"1\" class=\"dataframe\">\n",
       "  <thead>\n",
       "    <tr style=\"text-align: right;\">\n",
       "      <th></th>\n",
       "      <th>const</th>\n",
       "      <th>CRIM</th>\n",
       "      <th>ZN</th>\n",
       "      <th>INDUS</th>\n",
       "      <th>CHAS</th>\n",
       "      <th>NOX</th>\n",
       "      <th>RM</th>\n",
       "      <th>AGE</th>\n",
       "      <th>DIS</th>\n",
       "      <th>RAD</th>\n",
       "      <th>TAX</th>\n",
       "      <th>PTRATIO</th>\n",
       "      <th>B</th>\n",
       "      <th>LSTAT</th>\n",
       "      <th>MEDV</th>\n",
       "    </tr>\n",
       "  </thead>\n",
       "  <tbody>\n",
       "    <tr>\n",
       "      <th>0</th>\n",
       "      <td>1.0</td>\n",
       "      <td>0.00632</td>\n",
       "      <td>18.0</td>\n",
       "      <td>2.31</td>\n",
       "      <td>0.0</td>\n",
       "      <td>0.538</td>\n",
       "      <td>6.575</td>\n",
       "      <td>65.2</td>\n",
       "      <td>4.0900</td>\n",
       "      <td>1.0</td>\n",
       "      <td>296.0</td>\n",
       "      <td>15.3</td>\n",
       "      <td>396.90</td>\n",
       "      <td>4.98</td>\n",
       "      <td>24.0</td>\n",
       "    </tr>\n",
       "    <tr>\n",
       "      <th>1</th>\n",
       "      <td>1.0</td>\n",
       "      <td>0.02731</td>\n",
       "      <td>0.0</td>\n",
       "      <td>7.07</td>\n",
       "      <td>0.0</td>\n",
       "      <td>0.469</td>\n",
       "      <td>6.421</td>\n",
       "      <td>78.9</td>\n",
       "      <td>4.9671</td>\n",
       "      <td>2.0</td>\n",
       "      <td>242.0</td>\n",
       "      <td>17.8</td>\n",
       "      <td>396.90</td>\n",
       "      <td>9.14</td>\n",
       "      <td>21.6</td>\n",
       "    </tr>\n",
       "    <tr>\n",
       "      <th>2</th>\n",
       "      <td>1.0</td>\n",
       "      <td>0.02729</td>\n",
       "      <td>0.0</td>\n",
       "      <td>7.07</td>\n",
       "      <td>0.0</td>\n",
       "      <td>0.469</td>\n",
       "      <td>7.185</td>\n",
       "      <td>61.1</td>\n",
       "      <td>4.9671</td>\n",
       "      <td>2.0</td>\n",
       "      <td>242.0</td>\n",
       "      <td>17.8</td>\n",
       "      <td>392.83</td>\n",
       "      <td>4.03</td>\n",
       "      <td>34.7</td>\n",
       "    </tr>\n",
       "    <tr>\n",
       "      <th>3</th>\n",
       "      <td>1.0</td>\n",
       "      <td>0.03237</td>\n",
       "      <td>0.0</td>\n",
       "      <td>2.18</td>\n",
       "      <td>0.0</td>\n",
       "      <td>0.458</td>\n",
       "      <td>6.998</td>\n",
       "      <td>45.8</td>\n",
       "      <td>6.0622</td>\n",
       "      <td>3.0</td>\n",
       "      <td>222.0</td>\n",
       "      <td>18.7</td>\n",
       "      <td>394.63</td>\n",
       "      <td>2.94</td>\n",
       "      <td>33.4</td>\n",
       "    </tr>\n",
       "    <tr>\n",
       "      <th>4</th>\n",
       "      <td>1.0</td>\n",
       "      <td>0.06905</td>\n",
       "      <td>0.0</td>\n",
       "      <td>2.18</td>\n",
       "      <td>0.0</td>\n",
       "      <td>0.458</td>\n",
       "      <td>7.147</td>\n",
       "      <td>54.2</td>\n",
       "      <td>6.0622</td>\n",
       "      <td>3.0</td>\n",
       "      <td>222.0</td>\n",
       "      <td>18.7</td>\n",
       "      <td>396.90</td>\n",
       "      <td>5.33</td>\n",
       "      <td>36.2</td>\n",
       "    </tr>\n",
       "  </tbody>\n",
       "</table>\n",
       "</div>"
      ],
      "text/plain": [
       "   const     CRIM    ZN  INDUS  CHAS    NOX     RM   AGE     DIS  RAD    TAX  \\\n",
       "0    1.0  0.00632  18.0   2.31   0.0  0.538  6.575  65.2  4.0900  1.0  296.0   \n",
       "1    1.0  0.02731   0.0   7.07   0.0  0.469  6.421  78.9  4.9671  2.0  242.0   \n",
       "2    1.0  0.02729   0.0   7.07   0.0  0.469  7.185  61.1  4.9671  2.0  242.0   \n",
       "3    1.0  0.03237   0.0   2.18   0.0  0.458  6.998  45.8  6.0622  3.0  222.0   \n",
       "4    1.0  0.06905   0.0   2.18   0.0  0.458  7.147  54.2  6.0622  3.0  222.0   \n",
       "\n",
       "   PTRATIO       B  LSTAT  MEDV  \n",
       "0     15.3  396.90   4.98  24.0  \n",
       "1     17.8  396.90   9.14  21.6  \n",
       "2     17.8  392.83   4.03  34.7  \n",
       "3     18.7  394.63   2.94  33.4  \n",
       "4     18.7  396.90   5.33  36.2  "
      ]
     },
     "execution_count": 28,
     "metadata": {},
     "output_type": "execute_result"
    }
   ],
   "source": [
    "df_boston.head()"
   ]
  },
  {
   "cell_type": "markdown",
   "id": "340faff6",
   "metadata": {},
   "source": [
    "### 9-2. 특정한 독립변수만 제거하여 OLS 모형으로 계산\n",
    "- w2=w3=0 이다 라는 귀무가설에 대해서 유의확률이 유의수준보다 크므로 채택된다.\n",
    "    - 즉 두 AGE, INDUS 독립변수는 종속변수에 큰 영향을 주는 것이 아니므로 축소모형과 전체모형은 거의 유사하다고 볼 수 있다.\n",
    "    - 가중치가 0이므로 상관관계가 없다. 의미없는 변수이다."
   ]
  },
  {
   "cell_type": "code",
   "execution_count": 50,
   "id": "a759d013",
   "metadata": {},
   "outputs": [
    {
     "data": {
      "text/html": [
       "<div>\n",
       "<style scoped>\n",
       "    .dataframe tbody tr th:only-of-type {\n",
       "        vertical-align: middle;\n",
       "    }\n",
       "\n",
       "    .dataframe tbody tr th {\n",
       "        vertical-align: top;\n",
       "    }\n",
       "\n",
       "    .dataframe thead th {\n",
       "        text-align: right;\n",
       "    }\n",
       "</style>\n",
       "<table border=\"1\" class=\"dataframe\">\n",
       "  <thead>\n",
       "    <tr style=\"text-align: right;\">\n",
       "      <th></th>\n",
       "      <th>df_resid</th>\n",
       "      <th>ssr</th>\n",
       "      <th>df_diff</th>\n",
       "      <th>ss_diff</th>\n",
       "      <th>F</th>\n",
       "      <th>Pr(&gt;F)</th>\n",
       "    </tr>\n",
       "  </thead>\n",
       "  <tbody>\n",
       "    <tr>\n",
       "      <th>0</th>\n",
       "      <td>494.0</td>\n",
       "      <td>11081.363952</td>\n",
       "      <td>0.0</td>\n",
       "      <td>NaN</td>\n",
       "      <td>NaN</td>\n",
       "      <td>NaN</td>\n",
       "    </tr>\n",
       "    <tr>\n",
       "      <th>1</th>\n",
       "      <td>492.0</td>\n",
       "      <td>11078.784578</td>\n",
       "      <td>2.0</td>\n",
       "      <td>2.579374</td>\n",
       "      <td>0.057274</td>\n",
       "      <td>0.944342</td>\n",
       "    </tr>\n",
       "  </tbody>\n",
       "</table>\n",
       "</div>"
      ],
      "text/plain": [
       "   df_resid           ssr  df_diff   ss_diff         F    Pr(>F)\n",
       "0     494.0  11081.363952      0.0       NaN       NaN       NaN\n",
       "1     492.0  11078.784578      2.0  2.579374  0.057274  0.944342"
      ]
     },
     "execution_count": 50,
     "metadata": {},
     "output_type": "execute_result"
    }
   ],
   "source": [
    "full_col = list(boston.feature_names)\n",
    "reduce_col = list(set(full_col).difference([\"AGE\", \"INDUS\"]))\n",
    "model_full = sm.OLS.from_formula(\"MEDV~\" + \"+\".join(full_col), data=df_boston)\n",
    "model_reduced = sm.OLS.from_formula(\"MEDV~\" + \"+\".join(reduce_col), data=df_boston)\n",
    "\n",
    "sm.stats.anova_lm(model_reduced.fit(), model_full.fit())"
   ]
  },
  {
   "cell_type": "code",
   "execution_count": 33,
   "id": "6f7f3c7e",
   "metadata": {},
   "outputs": [
    {
     "data": {
      "text/plain": [
       "'MEDV~CRIM+ZN+INDUS+CHAS+NOX+RM+AGE+DIS+RAD+TAX+PTRATIO+B+LSTAT'"
      ]
     },
     "execution_count": 33,
     "metadata": {},
     "output_type": "execute_result"
    }
   ],
   "source": [
    "\"MEDV~\" + \"+\".join(col)"
   ]
  },
  {
   "cell_type": "code",
   "execution_count": 41,
   "id": "c69e4343",
   "metadata": {},
   "outputs": [
    {
     "data": {
      "text/plain": [
       "['CRIM',\n",
       " 'ZN',\n",
       " 'INDUS',\n",
       " 'CHAS',\n",
       " 'NOX',\n",
       " 'RM',\n",
       " 'AGE',\n",
       " 'DIS',\n",
       " 'RAD',\n",
       " 'TAX',\n",
       " 'PTRATIO',\n",
       " 'B',\n",
       " 'LSTAT']"
      ]
     },
     "execution_count": 41,
     "metadata": {},
     "output_type": "execute_result"
    }
   ],
   "source": [
    "full_col = list(boston.feature_names)\n",
    "full_col"
   ]
  },
  {
   "cell_type": "code",
   "execution_count": 40,
   "id": "46044997",
   "metadata": {},
   "outputs": [
    {
     "data": {
      "text/plain": [
       "{'B',\n",
       " 'CHAS',\n",
       " 'CRIM',\n",
       " 'DIS',\n",
       " 'LSTAT',\n",
       " 'NOX',\n",
       " 'PTRATIO',\n",
       " 'RAD',\n",
       " 'RM',\n",
       " 'TAX',\n",
       " 'ZN'}"
      ]
     },
     "execution_count": 40,
     "metadata": {},
     "output_type": "execute_result"
    }
   ],
   "source": [
    "reduce_col = set(full_col).difference([\"AGE\", \"INDUS\"])\n",
    "reduce_col"
   ]
  },
  {
   "cell_type": "markdown",
   "id": "5f27fbec",
   "metadata": {},
   "source": [
    "## 10. F검정을 사용한 변수 중요도 비교\n",
    "- F검정으로 각 독립변수의 중요도를 비교할 수 있다.\n",
    "- 전체모형과 각 변수를 하나씩 제거한 축소모형을 각각 비교하는 방식이다.\n",
    "- w1=0 이다 라는 귀무가설에 대해 유의확률이 0.001087은 0에 가까운 값이므로 기가된다고 볼 수 있다.\n",
    "- 즉 CRIM 이라는 독립변수는 종속변수와 상관관계가 크다는 것을 의미한다. "
   ]
  },
  {
   "cell_type": "code",
   "execution_count": 49,
   "id": "89a6a038",
   "metadata": {},
   "outputs": [
    {
     "data": {
      "text/html": [
       "<div>\n",
       "<style scoped>\n",
       "    .dataframe tbody tr th:only-of-type {\n",
       "        vertical-align: middle;\n",
       "    }\n",
       "\n",
       "    .dataframe tbody tr th {\n",
       "        vertical-align: top;\n",
       "    }\n",
       "\n",
       "    .dataframe thead th {\n",
       "        text-align: right;\n",
       "    }\n",
       "</style>\n",
       "<table border=\"1\" class=\"dataframe\">\n",
       "  <thead>\n",
       "    <tr style=\"text-align: right;\">\n",
       "      <th></th>\n",
       "      <th>df_resid</th>\n",
       "      <th>ssr</th>\n",
       "      <th>df_diff</th>\n",
       "      <th>ss_diff</th>\n",
       "      <th>F</th>\n",
       "      <th>Pr(&gt;F)</th>\n",
       "    </tr>\n",
       "  </thead>\n",
       "  <tbody>\n",
       "    <tr>\n",
       "      <th>0</th>\n",
       "      <td>493.0</td>\n",
       "      <td>11322.004277</td>\n",
       "      <td>0.0</td>\n",
       "      <td>NaN</td>\n",
       "      <td>NaN</td>\n",
       "      <td>NaN</td>\n",
       "    </tr>\n",
       "    <tr>\n",
       "      <th>1</th>\n",
       "      <td>492.0</td>\n",
       "      <td>11078.784578</td>\n",
       "      <td>1.0</td>\n",
       "      <td>243.219699</td>\n",
       "      <td>10.801193</td>\n",
       "      <td>0.001087</td>\n",
       "    </tr>\n",
       "  </tbody>\n",
       "</table>\n",
       "</div>"
      ],
      "text/plain": [
       "   df_resid           ssr  df_diff     ss_diff          F    Pr(>F)\n",
       "0     493.0  11322.004277      0.0         NaN        NaN       NaN\n",
       "1     492.0  11078.784578      1.0  243.219699  10.801193  0.001087"
      ]
     },
     "execution_count": 49,
     "metadata": {},
     "output_type": "execute_result"
    }
   ],
   "source": [
    "model_full = sm.OLS.from_formula(\"MEDV~\" + \"+\".join(full_col), data=df_boston)\n",
    "model_reduced = sm.OLS.from_formula(\"MEDV~\" + \"+\".join(list(set(full_col).difference([\"CRIM\"]))), data=df_boston)\n",
    "sm.stats.anova_lm(model_reduced.fit(), model_full.fit())"
   ]
  },
  {
   "cell_type": "code",
   "execution_count": 47,
   "id": "3238dcae",
   "metadata": {},
   "outputs": [
    {
     "data": {
      "text/plain": [
       "['CHAS',\n",
       " 'RAD',\n",
       " 'B',\n",
       " 'NOX',\n",
       " 'AGE',\n",
       " 'RM',\n",
       " 'DIS',\n",
       " 'INDUS',\n",
       " 'ZN',\n",
       " 'TAX',\n",
       " 'PTRATIO',\n",
       " 'LSTAT']"
      ]
     },
     "execution_count": 47,
     "metadata": {},
     "output_type": "execute_result"
    }
   ],
   "source": [
    "list(set(full_col).difference([\"CRIM\"]))"
   ]
  },
  {
   "cell_type": "markdown",
   "id": "a7304b96",
   "metadata": {},
   "source": [
    "## 11. anova_lm에서 모든 독립변수의 중요도 계산\n",
    "- 귀무가설은 H_0 : w_i = 0\n",
    "    - w_1이 0이다 -> 변수 x1은 종속변수에 아무런 영향이 없다.\n",
    "    - 유의확률이 0이면 귀무가설 기각\n",
    "    - 유의확률이 유의수준보다 크면 귀무가설 채택\n",
    "- anova_lm()의 인수 typ의 값으로 2를 설정하면 모든 독립변수에 대한 중요도를 계산 할 수 있다.\n",
    "- 단일계수 t 검정의 유의확률과 동일하다. \n",
    "    - t분포와 F분포의 동치 성질 때문이다.\n",
    "    - $t_n^2 = F_{(1, n)}$"
   ]
  },
  {
   "cell_type": "code",
   "execution_count": 51,
   "id": "dba4f4a5",
   "metadata": {},
   "outputs": [
    {
     "data": {
      "text/html": [
       "<div>\n",
       "<style scoped>\n",
       "    .dataframe tbody tr th:only-of-type {\n",
       "        vertical-align: middle;\n",
       "    }\n",
       "\n",
       "    .dataframe tbody tr th {\n",
       "        vertical-align: top;\n",
       "    }\n",
       "\n",
       "    .dataframe thead th {\n",
       "        text-align: right;\n",
       "    }\n",
       "</style>\n",
       "<table border=\"1\" class=\"dataframe\">\n",
       "  <thead>\n",
       "    <tr style=\"text-align: right;\">\n",
       "      <th></th>\n",
       "      <th>sum_sq</th>\n",
       "      <th>df</th>\n",
       "      <th>F</th>\n",
       "      <th>PR(&gt;F)</th>\n",
       "    </tr>\n",
       "  </thead>\n",
       "  <tbody>\n",
       "    <tr>\n",
       "      <th>CRIM</th>\n",
       "      <td>243.219699</td>\n",
       "      <td>1.0</td>\n",
       "      <td>10.801193</td>\n",
       "      <td>1.086810e-03</td>\n",
       "    </tr>\n",
       "    <tr>\n",
       "      <th>ZN</th>\n",
       "      <td>257.492979</td>\n",
       "      <td>1.0</td>\n",
       "      <td>11.435058</td>\n",
       "      <td>7.781097e-04</td>\n",
       "    </tr>\n",
       "    <tr>\n",
       "      <th>INDUS</th>\n",
       "      <td>2.516668</td>\n",
       "      <td>1.0</td>\n",
       "      <td>0.111763</td>\n",
       "      <td>7.382881e-01</td>\n",
       "    </tr>\n",
       "    <tr>\n",
       "      <th>CHAS</th>\n",
       "      <td>218.970357</td>\n",
       "      <td>1.0</td>\n",
       "      <td>9.724299</td>\n",
       "      <td>1.925030e-03</td>\n",
       "    </tr>\n",
       "    <tr>\n",
       "      <th>NOX</th>\n",
       "      <td>487.155674</td>\n",
       "      <td>1.0</td>\n",
       "      <td>21.634196</td>\n",
       "      <td>4.245644e-06</td>\n",
       "    </tr>\n",
       "    <tr>\n",
       "      <th>RM</th>\n",
       "      <td>1871.324082</td>\n",
       "      <td>1.0</td>\n",
       "      <td>83.104012</td>\n",
       "      <td>1.979441e-18</td>\n",
       "    </tr>\n",
       "    <tr>\n",
       "      <th>AGE</th>\n",
       "      <td>0.061834</td>\n",
       "      <td>1.0</td>\n",
       "      <td>0.002746</td>\n",
       "      <td>9.582293e-01</td>\n",
       "    </tr>\n",
       "    <tr>\n",
       "      <th>DIS</th>\n",
       "      <td>1232.412493</td>\n",
       "      <td>1.0</td>\n",
       "      <td>54.730457</td>\n",
       "      <td>6.013491e-13</td>\n",
       "    </tr>\n",
       "    <tr>\n",
       "      <th>RAD</th>\n",
       "      <td>479.153926</td>\n",
       "      <td>1.0</td>\n",
       "      <td>21.278844</td>\n",
       "      <td>5.070529e-06</td>\n",
       "    </tr>\n",
       "    <tr>\n",
       "      <th>TAX</th>\n",
       "      <td>242.257440</td>\n",
       "      <td>1.0</td>\n",
       "      <td>10.758460</td>\n",
       "      <td>1.111637e-03</td>\n",
       "    </tr>\n",
       "    <tr>\n",
       "      <th>PTRATIO</th>\n",
       "      <td>1194.233533</td>\n",
       "      <td>1.0</td>\n",
       "      <td>53.034960</td>\n",
       "      <td>1.308835e-12</td>\n",
       "    </tr>\n",
       "    <tr>\n",
       "      <th>B</th>\n",
       "      <td>270.634230</td>\n",
       "      <td>1.0</td>\n",
       "      <td>12.018651</td>\n",
       "      <td>5.728592e-04</td>\n",
       "    </tr>\n",
       "    <tr>\n",
       "      <th>LSTAT</th>\n",
       "      <td>2410.838689</td>\n",
       "      <td>1.0</td>\n",
       "      <td>107.063426</td>\n",
       "      <td>7.776912e-23</td>\n",
       "    </tr>\n",
       "    <tr>\n",
       "      <th>Residual</th>\n",
       "      <td>11078.784578</td>\n",
       "      <td>492.0</td>\n",
       "      <td>NaN</td>\n",
       "      <td>NaN</td>\n",
       "    </tr>\n",
       "  </tbody>\n",
       "</table>\n",
       "</div>"
      ],
      "text/plain": [
       "                sum_sq     df           F        PR(>F)\n",
       "CRIM        243.219699    1.0   10.801193  1.086810e-03\n",
       "ZN          257.492979    1.0   11.435058  7.781097e-04\n",
       "INDUS         2.516668    1.0    0.111763  7.382881e-01\n",
       "CHAS        218.970357    1.0    9.724299  1.925030e-03\n",
       "NOX         487.155674    1.0   21.634196  4.245644e-06\n",
       "RM         1871.324082    1.0   83.104012  1.979441e-18\n",
       "AGE           0.061834    1.0    0.002746  9.582293e-01\n",
       "DIS        1232.412493    1.0   54.730457  6.013491e-13\n",
       "RAD         479.153926    1.0   21.278844  5.070529e-06\n",
       "TAX         242.257440    1.0   10.758460  1.111637e-03\n",
       "PTRATIO    1194.233533    1.0   53.034960  1.308835e-12\n",
       "B           270.634230    1.0   12.018651  5.728592e-04\n",
       "LSTAT      2410.838689    1.0  107.063426  7.776912e-23\n",
       "Residual  11078.784578  492.0         NaN           NaN"
      ]
     },
     "execution_count": 51,
     "metadata": {},
     "output_type": "execute_result"
    }
   ],
   "source": [
    "model_boston = sm.OLS.from_formula(\"MEDV~\" + \"+\".join(full_col), data=df_boston)\n",
    "result_boston = model_boston.fit()\n",
    "\n",
    "sm.stats.anova_lm(result_boston, typ=2)"
   ]
  },
  {
   "cell_type": "markdown",
   "id": "f8bd4b4c",
   "metadata": {},
   "source": [
    "## 12. 조정결정계수\n",
    "- 선형회귀에서 독립변수가 새로 추가되면 계수의 값은 항상 증가한다.\n",
    "    - \"부분회귀\"에서 독립변수가 추가될 경우 w값이 커지는 것을 확인 할 수 있었다.\n",
    "- 종속 변수 y, 기존 독립변수 X, 새로 추가된 독립변수 z 일때 결정계수\n",
    "    - $R_{Xz}^2 = R_{X}^2 + (1 - R_{X}^2) r_{yz}^2$\n",
    "    - R_{X}^2 : 기존의 독립변수 X를 사용한 경우의 결정계수\n",
    "    - R_{Xz}^2 : 기존 독립변수 X와 새로운 독립변수 z를 모두 사용한 경우의 결정계수\n",
    "    - r_{yz}^2 : 추가된 독립변수 z와 종속 변수 y간의 상관 관계 계수\n",
    "- 이 항목들이 모두 양수이므로 : $R_{Xz}^2 \\geq R_{X}^2$ \n",
    "    - 즉 새로운 독립변수 z가 추가된 경우의 결정계수 값이 더 크거나 같다.\n",
    "- `조정결정계수` : 기존 독립변수 X에 새로운 독립변수 z가 더해졌을 때 결정계수가 더 커질때 이 값을 조정하는 값\n",
    "    - 독립변수가 추가 된다고 해서 분석의 성능이 크게 변하면 안된다.\n",
    "    - 독립변수 추가 효과를 상쇄시키기 위한 여러가지 기준들 중에 독립변수의 갯수 K에 따라서 결정 계수의 값을 조정하는 방식\n",
    "    - $R_{adj}^2 = 1 - \\dfrac{n - 1}{n - K}(1 - R^2) = \\dfrac{(n-1)R^2 + 1 - K}{n-K}$\n",
    "- **OLS summary에서 결정계수 아래에 조정결정계수값이 있다.**"
   ]
  },
  {
   "cell_type": "markdown",
   "id": "21fead1e",
   "metadata": {},
   "source": [
    "## 13. 정보량 규준\n",
    "- `정보량 규준 informatiion criterion` : 최대 우도에 독립변수의 갯수에 대한 손실(penalty)분을 반영하는 방법\n",
    "    - 조정결정계수와 함께 모형의 비교 기준으로 많이 사용된다.\n",
    "- 손실 가중치의 계산 법에 따라서 두 가지 방법으로 구분된다.\n",
    "- **값이 작을 수록 올바른 모형에 가깝다.**\n",
    "    - AIC Akike information criterion : 모형과 확률분포 사이의 쿨벡-라이블러 수준을 가장 크게하기 위한 시도에서 나온 방법\n",
    "        - $AIC = -2logL + 2K$\n",
    "    - BIC Bayesian information criterion : 데이터가 exponential family라는 가정하에서 주어진 데이터의 모형의 likelihood를 추정하기 위한 값에서 나온 방법\n",
    "        - $BIC = -2logL + Klogn$"
   ]
  },
  {
   "cell_type": "code",
   "execution_count": null,
   "id": "2ac3b6f0",
   "metadata": {},
   "outputs": [],
   "source": []
  }
 ],
 "metadata": {
  "kernelspec": {
   "display_name": "Python 3 (ipykernel)",
   "language": "python",
   "name": "python3"
  },
  "language_info": {
   "codemirror_mode": {
    "name": "ipython",
    "version": 3
   },
   "file_extension": ".py",
   "mimetype": "text/x-python",
   "name": "python",
   "nbconvert_exporter": "python",
   "pygments_lexer": "ipython3",
   "version": "3.7.11"
  }
 },
 "nbformat": 4,
 "nbformat_minor": 5
}
