{
 "cells": [
  {
   "cell_type": "markdown",
   "id": "02ebed92",
   "metadata": {},
   "source": [
    "# 범주형 데이터 처리\n",
    "\n",
    "## 범주형 데이터의 정의\n",
    "- `카테고리 데이터 category` : 종류를 표시하는 데이터\n",
    "    - 성별 : 남자, 여자\n",
    "    - 혈액형 : A, B, AB, O\n",
    "    - 이름 : 홍길동, 성춘향 ....\n",
    "    - 주소 : 서울, 부산, 대전 ....\n",
    "- 반드시 문자만 범주형 데이터에 해당하지 않는다. \n",
    "    - 1반, 2반, 1등급, 2등급 등의 표현도 해당된다.\n",
    "    - 여기에서 사용 된 1, 2 등의 숫자의 의미는 숫자로서의 의미가 없다. \n",
    "    - 2라는 값이 1이라는 값보다 2배 더 크다는 의미가 아니기때문.\n",
    "\n",
    "## 카테고리값\n",
    "- 컴퓨터가 다룰 수 있는 데이터 : 숫자, 카테고리값(=범주형 값)\n",
    "- `카테고리값 category` : 숫자가 아닌 주로 기호로 표시되고 비연속적인 데이터이다.\n",
    "- 숫자와 카테고리값의 차이 : 크기나 가치 혹은 순서를 비교할 수 있는가?\n",
    "    - 10cm vs 20cm : 크기 비교 가능 : 숫자 데이터\n",
    "    - \"개\" vs \"고양이\" : 크기 비교 불가 : 카테고리 데이터\n",
    "- `클래스 class` : 카테고리값이 가질 수 있는 경우의 수\n",
    "    - 동전 던지기 : 앞면, 뒷면 : **이진 클래스 binary class**\n",
    "    - 주사위 던지기 : 1~6 : 세 개이상의 경우의 수 : **다중 클래스 multi class**\n",
    "- 카게고리값이어도 숫자 처럼 비교가 가능한 경우도 있다. 성적, 등급, 평점 등과 같은 경우 기호로 표시 되지만 크기나 순서를 비교할 수 있다. 이러한 경우는 숫자로 바꾸어서 표시하기도 하지만 일반적인 카테고리 값으로 표시하기도 한다.\n",
    "\n",
    "## 범주형 데이터의 변형\n",
    "- 데이터 분석 모형은 숫자만 입력으로 받을 수 있으므로 범주형 데이터는 숫자로 변환해야 한다. \n",
    "    - 컴퓨터가 다룰 수 있는 데이터는 숫자와 카테고리값이다.\n",
    "    - 그 중에서도 데이터 분석 모형은 숫자 입력 데이터를 사용해야한다.\n",
    "- 범주형 데이터를 숫자로 변환하는 방법\n",
    "    - `더미변수화`\n",
    "    - `카테고리 임베딩`\n",
    "\n",
    "## 더미변수화\n",
    "- `더미변수 dummy variable` : 0 또는 1만 가지는 값. 어떤 특징이 존재하는가 존재하지 않는가를 표시하는 값\n",
    "    - 이진지시자 Boolean indicator\n",
    "    - 이진변수 binary variable\n",
    "    - 지시변수 indicator variable\n",
    "    - 설계변수 design variable\n",
    "    - 처치 treatment\n",
    "- 1~K 개의 값을 가질 수 있는 범주형값을 K개의 **더미변수 벡터**로 표시할 수 있다.\n",
    "    - 각각의 더미변수는 특정한 하나의 카테고리값인가 아닌가를 나타내는 **지시자(indicator)**가 된다.\n",
    "    - 성별 x : x=남자 -> d1 = 1, d2 = 0 / x=여자 -> d1 = 0, d2 = 1\n",
    "    - 더미변수 d1은 남자이면 1, 여자이면 0이 되는 값이다.\n",
    "    - 더미변수 d2는 남자이면 0, 여자이면 1이 되는 값이다.\n",
    "- 풀랭크(full-rank) 방식, 축소랭크 (reduce-rank) 방식    "
   ]
  },
  {
   "cell_type": "markdown",
   "id": "697c8879",
   "metadata": {},
   "source": [
    "### patsy 패키지를 사용한 더미변수화\n",
    "- dmatrix() 함수 : 데이터 프레임의 문자열의 범주값을 더미변수로 바꿔준다.\n",
    "- formula 문자열에 +0 항상 추가해야 한다. \n",
    "    - +0이 빠지면 더미변수화가 아닌 다른 방식의 변형인 축소랭크 reduce-rank 방식이 된다."
   ]
  },
  {
   "cell_type": "code",
   "execution_count": 1,
   "id": "7c8e5ffd",
   "metadata": {},
   "outputs": [
    {
     "data": {
      "text/html": [
       "<div>\n",
       "<style scoped>\n",
       "    .dataframe tbody tr th:only-of-type {\n",
       "        vertical-align: middle;\n",
       "    }\n",
       "\n",
       "    .dataframe tbody tr th {\n",
       "        vertical-align: top;\n",
       "    }\n",
       "\n",
       "    .dataframe thead th {\n",
       "        text-align: right;\n",
       "    }\n",
       "</style>\n",
       "<table border=\"1\" class=\"dataframe\">\n",
       "  <thead>\n",
       "    <tr style=\"text-align: right;\">\n",
       "      <th></th>\n",
       "      <th>x</th>\n",
       "    </tr>\n",
       "  </thead>\n",
       "  <tbody>\n",
       "    <tr>\n",
       "      <th>0</th>\n",
       "      <td>Male</td>\n",
       "    </tr>\n",
       "    <tr>\n",
       "      <th>1</th>\n",
       "      <td>Female</td>\n",
       "    </tr>\n",
       "  </tbody>\n",
       "</table>\n",
       "</div>"
      ],
      "text/plain": [
       "        x\n",
       "0    Male\n",
       "1  Female"
      ]
     },
     "execution_count": 1,
     "metadata": {},
     "output_type": "execute_result"
    }
   ],
   "source": [
    "df1 = pd.DataFrame([\"Male\", \"Female\"], columns=[\"x\"])\n",
    "df1"
   ]
  },
  {
   "cell_type": "code",
   "execution_count": 2,
   "id": "7fb11c91",
   "metadata": {},
   "outputs": [],
   "source": [
    "from patsy import dmatrix"
   ]
  },
  {
   "cell_type": "code",
   "execution_count": 3,
   "id": "d2c7f284",
   "metadata": {},
   "outputs": [
    {
     "data": {
      "text/plain": [
       "DesignMatrix with shape (2, 2)\n",
       "  x[Female]  x[Male]\n",
       "          0        1\n",
       "          1        0\n",
       "  Terms:\n",
       "    'x' (columns 0:2)"
      ]
     },
     "execution_count": 3,
     "metadata": {},
     "output_type": "execute_result"
    }
   ],
   "source": [
    "dmatrix(\"x + 0\", df1)"
   ]
  },
  {
   "cell_type": "code",
   "execution_count": 4,
   "id": "5c5ec75f",
   "metadata": {},
   "outputs": [
    {
     "data": {
      "text/html": [
       "<div>\n",
       "<style scoped>\n",
       "    .dataframe tbody tr th:only-of-type {\n",
       "        vertical-align: middle;\n",
       "    }\n",
       "\n",
       "    .dataframe tbody tr th {\n",
       "        vertical-align: top;\n",
       "    }\n",
       "\n",
       "    .dataframe thead th {\n",
       "        text-align: right;\n",
       "    }\n",
       "</style>\n",
       "<table border=\"1\" class=\"dataframe\">\n",
       "  <thead>\n",
       "    <tr style=\"text-align: right;\">\n",
       "      <th></th>\n",
       "      <th>x</th>\n",
       "    </tr>\n",
       "  </thead>\n",
       "  <tbody>\n",
       "    <tr>\n",
       "      <th>0</th>\n",
       "      <td>A</td>\n",
       "    </tr>\n",
       "    <tr>\n",
       "      <th>1</th>\n",
       "      <td>B</td>\n",
       "    </tr>\n",
       "    <tr>\n",
       "      <th>2</th>\n",
       "      <td>C</td>\n",
       "    </tr>\n",
       "    <tr>\n",
       "      <th>3</th>\n",
       "      <td>D</td>\n",
       "    </tr>\n",
       "  </tbody>\n",
       "</table>\n",
       "</div>"
      ],
      "text/plain": [
       "   x\n",
       "0  A\n",
       "1  B\n",
       "2  C\n",
       "3  D"
      ]
     },
     "execution_count": 4,
     "metadata": {},
     "output_type": "execute_result"
    }
   ],
   "source": [
    "df2 = pd.DataFrame([\"A\", \"B\", \"C\", \"D\"], columns=[\"x\"])\n",
    "df2"
   ]
  },
  {
   "cell_type": "code",
   "execution_count": 5,
   "id": "b8225c2c",
   "metadata": {},
   "outputs": [
    {
     "data": {
      "text/plain": [
       "DesignMatrix with shape (4, 4)\n",
       "  x[A]  x[B]  x[C]  x[D]\n",
       "     1     0     0     0\n",
       "     0     1     0     0\n",
       "     0     0     1     0\n",
       "     0     0     0     1\n",
       "  Terms:\n",
       "    'x' (columns 0:4)"
      ]
     },
     "execution_count": 5,
     "metadata": {},
     "output_type": "execute_result"
    }
   ],
   "source": [
    "dmatrix(\"x + 0\", df2)"
   ]
  },
  {
   "cell_type": "markdown",
   "id": "17ac954b",
   "metadata": {},
   "source": [
    "#### 데이터가 범주형 값이지만 숫자로 표시된 경우\n",
    "- C() 연산자를 사용하여 범주형값이라는 것을 명시해 준다."
   ]
  },
  {
   "cell_type": "code",
   "execution_count": 6,
   "id": "cf4cf28a",
   "metadata": {},
   "outputs": [
    {
     "data": {
      "text/html": [
       "<div>\n",
       "<style scoped>\n",
       "    .dataframe tbody tr th:only-of-type {\n",
       "        vertical-align: middle;\n",
       "    }\n",
       "\n",
       "    .dataframe tbody tr th {\n",
       "        vertical-align: top;\n",
       "    }\n",
       "\n",
       "    .dataframe thead th {\n",
       "        text-align: right;\n",
       "    }\n",
       "</style>\n",
       "<table border=\"1\" class=\"dataframe\">\n",
       "  <thead>\n",
       "    <tr style=\"text-align: right;\">\n",
       "      <th></th>\n",
       "      <th>x</th>\n",
       "    </tr>\n",
       "  </thead>\n",
       "  <tbody>\n",
       "    <tr>\n",
       "      <th>0</th>\n",
       "      <td>1</td>\n",
       "    </tr>\n",
       "    <tr>\n",
       "      <th>1</th>\n",
       "      <td>2</td>\n",
       "    </tr>\n",
       "    <tr>\n",
       "      <th>2</th>\n",
       "      <td>3</td>\n",
       "    </tr>\n",
       "    <tr>\n",
       "      <th>3</th>\n",
       "      <td>4</td>\n",
       "    </tr>\n",
       "  </tbody>\n",
       "</table>\n",
       "</div>"
      ],
      "text/plain": [
       "   x\n",
       "0  1\n",
       "1  2\n",
       "2  3\n",
       "3  4"
      ]
     },
     "execution_count": 6,
     "metadata": {},
     "output_type": "execute_result"
    }
   ],
   "source": [
    "df3 = pd.DataFrame([1, 2, 3, 4], columns=[\"x\"])\n",
    "df3"
   ]
  },
  {
   "cell_type": "code",
   "execution_count": 8,
   "id": "89592bbd",
   "metadata": {},
   "outputs": [
    {
     "data": {
      "text/plain": [
       "DesignMatrix with shape (4, 4)\n",
       "  C(x)[1]  C(x)[2]  C(x)[3]  C(x)[4]\n",
       "        1        0        0        0\n",
       "        0        1        0        0\n",
       "        0        0        1        0\n",
       "        0        0        0        1\n",
       "  Terms:\n",
       "    'C(x)' (columns 0:4)"
      ]
     },
     "execution_count": 8,
     "metadata": {},
     "output_type": "execute_result"
    }
   ],
   "source": [
    "dmatrix(\"C(x) + 0\", df3)"
   ]
  },
  {
   "cell_type": "markdown",
   "id": "20531bda",
   "metadata": {},
   "source": [
    "#### 더미변수의 순서 변경\n",
    "- C() 사용 : level 인수에 원하는 순서대로 카테고리값을 입력해준다.\n",
    "    - C(컬럼명, levels=[\"카테고리값\", \"카테고리값\", ...]) + 0\n",
    "- 카테고리값 그대로 순서를 바꿔서 입력해야한다."
   ]
  },
  {
   "cell_type": "code",
   "execution_count": 12,
   "id": "f3cea24c",
   "metadata": {},
   "outputs": [
    {
     "data": {
      "text/html": [
       "<div>\n",
       "<style scoped>\n",
       "    .dataframe tbody tr th:only-of-type {\n",
       "        vertical-align: middle;\n",
       "    }\n",
       "\n",
       "    .dataframe tbody tr th {\n",
       "        vertical-align: top;\n",
       "    }\n",
       "\n",
       "    .dataframe thead th {\n",
       "        text-align: right;\n",
       "    }\n",
       "</style>\n",
       "<table border=\"1\" class=\"dataframe\">\n",
       "  <thead>\n",
       "    <tr style=\"text-align: right;\">\n",
       "      <th></th>\n",
       "      <th>x</th>\n",
       "    </tr>\n",
       "  </thead>\n",
       "  <tbody>\n",
       "    <tr>\n",
       "      <th>0</th>\n",
       "      <td>A</td>\n",
       "    </tr>\n",
       "    <tr>\n",
       "      <th>1</th>\n",
       "      <td>B</td>\n",
       "    </tr>\n",
       "    <tr>\n",
       "      <th>2</th>\n",
       "      <td>C</td>\n",
       "    </tr>\n",
       "    <tr>\n",
       "      <th>3</th>\n",
       "      <td>D</td>\n",
       "    </tr>\n",
       "  </tbody>\n",
       "</table>\n",
       "</div>"
      ],
      "text/plain": [
       "   x\n",
       "0  A\n",
       "1  B\n",
       "2  C\n",
       "3  D"
      ]
     },
     "execution_count": 12,
     "metadata": {},
     "output_type": "execute_result"
    }
   ],
   "source": [
    "df2"
   ]
  },
  {
   "cell_type": "code",
   "execution_count": 23,
   "id": "a7485f42",
   "metadata": {},
   "outputs": [
    {
     "data": {
      "text/plain": [
       "Index(['x'], dtype='object')"
      ]
     },
     "execution_count": 23,
     "metadata": {},
     "output_type": "execute_result"
    }
   ],
   "source": [
    "df2.columns"
   ]
  },
  {
   "cell_type": "code",
   "execution_count": 25,
   "id": "e29a7840",
   "metadata": {
    "scrolled": true
   },
   "outputs": [
    {
     "data": {
      "text/plain": [
       "DesignMatrix with shape (4, 4)\n",
       "  Columns:\n",
       "    [\"C(x, levels=['A', 'B', 'D', 'C'])[A]\",\n",
       "     \"C(x, levels=['A', 'B', 'D', 'C'])[B]\",\n",
       "     \"C(x, levels=['A', 'B', 'D', 'C'])[D]\",\n",
       "     \"C(x, levels=['A', 'B', 'D', 'C'])[C]\"]\n",
       "  Terms:\n",
       "    \"C(x, levels=['A', 'B', 'D', 'C'])\" (columns 0:4)\n",
       "  (to view full data, use np.asarray(this_obj))"
      ]
     },
     "execution_count": 25,
     "metadata": {},
     "output_type": "execute_result"
    }
   ],
   "source": [
    "dm = dmatrix(\"C(x, levels=['A', 'B', 'D', 'C']) + 0\", df2)\n",
    "dm"
   ]
  },
  {
   "cell_type": "code",
   "execution_count": 26,
   "id": "5b11f5e9",
   "metadata": {},
   "outputs": [
    {
     "data": {
      "text/plain": [
       "array([[1., 0., 0., 0.],\n",
       "       [0., 1., 0., 0.],\n",
       "       [0., 0., 0., 1.],\n",
       "       [0., 0., 1., 0.]])"
      ]
     },
     "execution_count": 26,
     "metadata": {},
     "output_type": "execute_result"
    }
   ],
   "source": [
    "np.asarray(dm)"
   ]
  },
  {
   "cell_type": "markdown",
   "id": "90299664",
   "metadata": {},
   "source": [
    "### 축소랭크 방식\n",
    "- `축소랭크 방식 reduce rank` : 특정한 하나의 범주값을 기준값(reference, baseline)으로 하고 기준값에 대응하는 **더미변수의 가중치는 항상 1로 놓는다.**\n",
    "    - dmatrix()의 formula에 +0을 빼고 더미변수를 만드는 방식이다.\n",
    "    - 기준 더미변수 이름 Intercept\n",
    "    - 알파벳순서로 가장 앞의 값이 축소랭크의 기준 더미변수가 된다.\n",
    "    - 기준 범주값을 바꾸려면 Treatment() 함수 사용"
   ]
  },
  {
   "cell_type": "code",
   "execution_count": 27,
   "id": "71c507da",
   "metadata": {},
   "outputs": [
    {
     "data": {
      "text/plain": [
       "DesignMatrix with shape (2, 2)\n",
       "  Intercept  x[T.Male]\n",
       "          1          1\n",
       "          1          0\n",
       "  Terms:\n",
       "    'Intercept' (column 0)\n",
       "    'x' (column 1)"
      ]
     },
     "execution_count": 27,
     "metadata": {},
     "output_type": "execute_result"
    }
   ],
   "source": [
    "dmatrix(\"x\", df1)"
   ]
  },
  {
   "cell_type": "code",
   "execution_count": 28,
   "id": "0ac44a57",
   "metadata": {},
   "outputs": [
    {
     "data": {
      "text/plain": [
       "DesignMatrix with shape (2, 2)\n",
       "  Intercept  C(x, Treatment('Male'))[T.Female]\n",
       "          1                                  0\n",
       "          1                                  1\n",
       "  Terms:\n",
       "    'Intercept' (column 0)\n",
       "    \"C(x, Treatment('Male'))\" (column 1)"
      ]
     },
     "execution_count": 28,
     "metadata": {},
     "output_type": "execute_result"
    }
   ],
   "source": [
    "dmatrix(\"C(x, Treatment('Male'))\", df1)"
   ]
  },
  {
   "cell_type": "code",
   "execution_count": 29,
   "id": "0db8334f",
   "metadata": {},
   "outputs": [
    {
     "data": {
      "text/plain": [
       "DesignMatrix with shape (4, 4)\n",
       "  Intercept  x[T.B]  x[T.C]  x[T.D]\n",
       "          1       0       0       0\n",
       "          1       1       0       0\n",
       "          1       0       1       0\n",
       "          1       0       0       1\n",
       "  Terms:\n",
       "    'Intercept' (column 0)\n",
       "    'x' (columns 1:4)"
      ]
     },
     "execution_count": 29,
     "metadata": {},
     "output_type": "execute_result"
    }
   ],
   "source": [
    "dmatrix(\"x\", df2)"
   ]
  },
  {
   "cell_type": "code",
   "execution_count": 31,
   "id": "896abae2",
   "metadata": {},
   "outputs": [
    {
     "data": {
      "text/html": [
       "<div>\n",
       "<style scoped>\n",
       "    .dataframe tbody tr th:only-of-type {\n",
       "        vertical-align: middle;\n",
       "    }\n",
       "\n",
       "    .dataframe tbody tr th {\n",
       "        vertical-align: top;\n",
       "    }\n",
       "\n",
       "    .dataframe thead th {\n",
       "        text-align: right;\n",
       "    }\n",
       "</style>\n",
       "<table border=\"1\" class=\"dataframe\">\n",
       "  <thead>\n",
       "    <tr style=\"text-align: right;\">\n",
       "      <th></th>\n",
       "      <th>x</th>\n",
       "    </tr>\n",
       "  </thead>\n",
       "  <tbody>\n",
       "    <tr>\n",
       "      <th>0</th>\n",
       "      <td>A</td>\n",
       "    </tr>\n",
       "    <tr>\n",
       "      <th>1</th>\n",
       "      <td>B</td>\n",
       "    </tr>\n",
       "    <tr>\n",
       "      <th>2</th>\n",
       "      <td>C</td>\n",
       "    </tr>\n",
       "    <tr>\n",
       "      <th>3</th>\n",
       "      <td>D</td>\n",
       "    </tr>\n",
       "  </tbody>\n",
       "</table>\n",
       "</div>"
      ],
      "text/plain": [
       "   x\n",
       "0  A\n",
       "1  B\n",
       "2  C\n",
       "3  D"
      ]
     },
     "execution_count": 31,
     "metadata": {},
     "output_type": "execute_result"
    }
   ],
   "source": [
    "df2"
   ]
  },
  {
   "cell_type": "code",
   "execution_count": 32,
   "id": "6a4040eb",
   "metadata": {},
   "outputs": [
    {
     "data": {
      "text/plain": [
       "DesignMatrix with shape (4, 4)\n",
       "  Columns:\n",
       "    ['Intercept',\n",
       "     \"C(x, Treatment('D'))[T.A]\",\n",
       "     \"C(x, Treatment('D'))[T.B]\",\n",
       "     \"C(x, Treatment('D'))[T.C]\"]\n",
       "  Terms:\n",
       "    'Intercept' (column 0), \"C(x, Treatment('D'))\" (columns 1:4)\n",
       "  (to view full data, use np.asarray(this_obj))"
      ]
     },
     "execution_count": 32,
     "metadata": {},
     "output_type": "execute_result"
    }
   ],
   "source": [
    "dmatrix(\"C(x, Treatment('D'))\", df2)"
   ]
  },
  {
   "cell_type": "markdown",
   "id": "599ac7eb",
   "metadata": {},
   "source": [
    "### 두 개의 범주형 변수가 있는 경우\n",
    "- 두가지 방식을 사용하여 더미 변수화 할 수 있다.\n",
    "    - `통합 축소형 방식` : 각각의 변수를 축소형으로 기준값을 더미변수화 해준다. 더미변수는 변수의 갯수와 상관없이 하나로 통합\n",
    "    - `상호작용 방식` : 두 범주형 변수를 곱해서 각각의 변수의 조합을 나타내는 새로운 범주형 변수를 만드는 방식"
   ]
  },
  {
   "cell_type": "code",
   "execution_count": 33,
   "id": "1ce02d4d",
   "metadata": {},
   "outputs": [
    {
     "data": {
      "text/html": [
       "<div>\n",
       "<style scoped>\n",
       "    .dataframe tbody tr th:only-of-type {\n",
       "        vertical-align: middle;\n",
       "    }\n",
       "\n",
       "    .dataframe tbody tr th {\n",
       "        vertical-align: top;\n",
       "    }\n",
       "\n",
       "    .dataframe thead th {\n",
       "        text-align: right;\n",
       "    }\n",
       "</style>\n",
       "<table border=\"1\" class=\"dataframe\">\n",
       "  <thead>\n",
       "    <tr style=\"text-align: right;\">\n",
       "      <th></th>\n",
       "      <th>x1</th>\n",
       "      <th>x2</th>\n",
       "    </tr>\n",
       "  </thead>\n",
       "  <tbody>\n",
       "    <tr>\n",
       "      <th>0</th>\n",
       "      <td>A</td>\n",
       "      <td>X</td>\n",
       "    </tr>\n",
       "    <tr>\n",
       "      <th>1</th>\n",
       "      <td>B</td>\n",
       "      <td>X</td>\n",
       "    </tr>\n",
       "    <tr>\n",
       "      <th>2</th>\n",
       "      <td>A</td>\n",
       "      <td>Y</td>\n",
       "    </tr>\n",
       "    <tr>\n",
       "      <th>3</th>\n",
       "      <td>B</td>\n",
       "      <td>Y</td>\n",
       "    </tr>\n",
       "  </tbody>\n",
       "</table>\n",
       "</div>"
      ],
      "text/plain": [
       "  x1 x2\n",
       "0  A  X\n",
       "1  B  X\n",
       "2  A  Y\n",
       "3  B  Y"
      ]
     },
     "execution_count": 33,
     "metadata": {},
     "output_type": "execute_result"
    }
   ],
   "source": [
    "df4 = pd.DataFrame([[\"A\", \"X\"], [\"B\", \"X\"], [\"A\", \"Y\"], [\"B\", \"Y\"]], \n",
    "                  columns=[\"x1\", \"x2\"])\n",
    "df4"
   ]
  },
  {
   "cell_type": "markdown",
   "id": "b1c8f820",
   "metadata": {},
   "source": [
    "#### 통합 축소형 방식\n",
    "- 아래 반환결과에서 intercept가 d1에 해당한다.\n",
    "- d1 : x1=A, x2=X \n",
    "- d2 : x1=B\n",
    "- d3 : x2=Y\n"
   ]
  },
  {
   "cell_type": "code",
   "execution_count": 34,
   "id": "1a0e9822",
   "metadata": {},
   "outputs": [
    {
     "data": {
      "text/plain": [
       "DesignMatrix with shape (4, 3)\n",
       "  Intercept  x1[T.B]  x2[T.Y]\n",
       "          1        0        0\n",
       "          1        1        0\n",
       "          1        0        1\n",
       "          1        1        1\n",
       "  Terms:\n",
       "    'Intercept' (column 0)\n",
       "    'x1' (column 1)\n",
       "    'x2' (column 2)"
      ]
     },
     "execution_count": 34,
     "metadata": {},
     "output_type": "execute_result"
    }
   ],
   "source": [
    "dmatrix(\"x1 + x2\", df4)"
   ]
  },
  {
   "cell_type": "markdown",
   "id": "7f92887c",
   "metadata": {},
   "source": [
    "#### 상호작용 방식\n",
    "- 반환 결과에서 컬럼의 이름을 보면 각 변수들이 곱해졌다는 것을 알 수 있다.\n",
    "    - A, B, X, Y 라는 범주값의 조합\n",
    "    - AX, BX, AY, BY"
   ]
  },
  {
   "cell_type": "code",
   "execution_count": 35,
   "id": "0a2d570c",
   "metadata": {},
   "outputs": [
    {
     "data": {
      "text/plain": [
       "DesignMatrix with shape (4, 4)\n",
       "  x1[A]:x2[X]  x1[B]:x2[X]  x1[A]:x2[Y]  x1[B]:x2[Y]\n",
       "            1            0            0            0\n",
       "            0            1            0            0\n",
       "            0            0            1            0\n",
       "            0            0            0            1\n",
       "  Terms:\n",
       "    'x1:x2' (columns 0:4)"
      ]
     },
     "execution_count": 35,
     "metadata": {},
     "output_type": "execute_result"
    }
   ],
   "source": [
    "dmatrix(\"x1:x2 + 0\", df4)"
   ]
  },
  {
   "cell_type": "markdown",
   "id": "f133c769",
   "metadata": {},
   "source": [
    "### 카테고리 임베딩\n",
    "- `카테고리 임베딩 category embedding` : 범주값 대신 범주값의 특성을 나타내는 연속값 혹은 연속값 벡터를 사용하는 방법\n",
    "    - 운동선수의 이름 : 운동선수의 나이, 연봉, 신체능력치 등으로 대신 사용\n",
    "    - 지역명 : 해당 지역의 면적, 인구수 등으로 대신 사용\n",
    "- 임베딩 방법은 데이터 분석의 목적에 맞게 범주값의 특징을 선택해 주어야 하고, 현재 가지고 있는 데이터 외에 추가적인 데이터를 조사해야 하는 부담이 있다.    "
   ]
  }
 ],
 "metadata": {
  "kernelspec": {
   "display_name": "Python 3 (ipykernel)",
   "language": "python",
   "name": "python3"
  },
  "language_info": {
   "codemirror_mode": {
    "name": "ipython",
    "version": 3
   },
   "file_extension": ".py",
   "mimetype": "text/x-python",
   "name": "python",
   "nbconvert_exporter": "python",
   "pygments_lexer": "ipython3",
   "version": "3.7.11"
  }
 },
 "nbformat": 4,
 "nbformat_minor": 5
}
