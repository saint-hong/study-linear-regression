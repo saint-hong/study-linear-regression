{
 "cells": [
  {
   "cell_type": "markdown",
   "id": "20e1cf1b",
   "metadata": {},
   "source": [
    "# 레버리지 분석과 아웃라이어 분석\n",
    "- `레버리지 분석, 아웃라이어 분석` : 개별적인 데이터 하나하나가 회귀분석에 미치는 영향을 확인 할 수 있는 방법\n",
    "- `레버리지 leverage` : 실제 종속변수값 y가 예측치(predicted target) hat{y}에 미치는 영향\n",
    "    - self-influence, self-sensitivity\n",
    "\n",
    "## 1. 수학적 정의 \n",
    "- `영향도 행렬(influence matrix, hat matrix)의 대각성분 h_ii와 같다.`\n",
    "    - 종속변수 y와 예측치의 관계\n",
    "        - $\\hat{y} = X\\hat{w} = X(X^TX)^{-1}X^T = Hy$\n",
    "        - H : 영향도 행렬, hat 행렬\n",
    "    - 영향도 행렬의 i번째 행, j번째 열의 성분 h_ij와 실제 결과값 y_i, 예측값 hat{y}i의 관계\n",
    "        - $\\hat{y}_i = h_{i1}y_1 + h_{i2}y_2 + \\cdots + h_{iN}y_N$\n",
    "- **레버리지는 실제의 결과값 yi가 예측값 hat{y}i에 미치는 영향, 예측점을 자기 자신의 위치로 끌어당기는 정도를 의미한다.**\n",
    "\n",
    "\n",
    "## 2. 레버리지의 수학적 특성\n",
    "- 모든 레버리지 값이 1이고 나머지 성분들이 모두 0이면 예측값과 실제 결과값(종속값)은 일치하게 된다. \n",
    "    - $h_{ii} = 1, h_{ij} = 0 \\; (for \\; i \\neq j) \\rightarrow \\hat{y}_i = y_i$\n",
    "    - 영향도 행렬의 대각성분은 모두 1, 비대각성분이 모두 0인 경우와 같다. \n",
    "    - 그러나 레버리지의 특성에 따라서 현실적으로 이러한 경우는 발생하지 않는다.\n",
    "- 특성 \n",
    "    - 1) 1보다 같거나 작은 양수 혹은 0이다.\n",
    "        - $0 \\leq h_{ii} \\leq 1$ \n",
    "    - 2) 레버리지의 합은 모형에 사용된 독립변수(모수 parameter, 계수 coefficient)의 갯수 K와 같다. 상수항이 있는 경우 상수항도 모수에 포함된다. \n",
    "        - $tr(H) = \\sum_{i}^{N}h_{ii} = K$\n",
    "- 두가지 특성에 의해서 레버리지는 K라는 값(모수의 갯수)을 N개의 변수(데이터의 수, 행의 갯수)가 나누어 갖는 것과 같다. \n",
    "- 현실적으로 데이터의 갯수 N이 모수의 갯수 M보다 크기 때문에, 레버리지값이 모두 1인 경우는 발생하지 않는다. \n",
    "- **레버리지 평균값 K / N 보다 2~4배 크면 레버리지가 크다고 말한다.**\n",
    "    - 데이터의 무리에서 멀리 떨어져 있는 데이터 일 수록 레버리지값이 크다."
   ]
  },
  {
   "cell_type": "markdown",
   "id": "bea298e2",
   "metadata": {},
   "source": [
    "## 3. stats models로 레버리지 계산"
   ]
  },
  {
   "cell_type": "markdown",
   "id": "6bdde8fe",
   "metadata": {},
   "source": [
    "### 3-1. 100개의 선형회귀 데이터 생성"
   ]
  },
  {
   "cell_type": "code",
   "execution_count": 1,
   "id": "23cd850b",
   "metadata": {},
   "outputs": [],
   "source": [
    "from sklearn.datasets import make_regression"
   ]
  },
  {
   "cell_type": "code",
   "execution_count": 2,
   "id": "c3f7dc2a",
   "metadata": {},
   "outputs": [],
   "source": [
    "x0, y, coef = make_regression(n_samples=100, n_features=1, noise=20,\n",
    "                             coef=True, random_state=1)"
   ]
  },
  {
   "cell_type": "code",
   "execution_count": 3,
   "id": "0d28bc24",
   "metadata": {
    "scrolled": true
   },
   "outputs": [
    {
     "data": {
      "text/plain": [
       "array([[-0.61175641],\n",
       "       [-0.24937038],\n",
       "       [ 0.48851815],\n",
       "       [ 0.76201118],\n",
       "       [ 1.51981682],\n",
       "       [ 0.37756379],\n",
       "       [ 0.51292982],\n",
       "       [-0.67124613],\n",
       "       [-1.39649634],\n",
       "       [ 0.31563495],\n",
       "       [-0.63699565],\n",
       "       [-0.39675353],\n",
       "       [-1.10061918],\n",
       "       [ 0.90085595],\n",
       "       [-1.09989127],\n",
       "       [ 0.82797464],\n",
       "       [-0.07557171],\n",
       "       [-0.35224985],\n",
       "       [-0.67066229],\n",
       "       [-1.07296862],\n",
       "       [-0.30620401],\n",
       "       [ 2.18557541],\n",
       "       [ 0.86540763],\n",
       "       [ 0.19829972],\n",
       "       [-0.38405435],\n",
       "       [-0.68372786],\n",
       "       [ 0.05080775],\n",
       "       [ 0.58281521],\n",
       "       [ 1.25286816],\n",
       "       [-0.75439794],\n",
       "       [-0.34934272],\n",
       "       [-0.88762896],\n",
       "       [ 0.18656139],\n",
       "       [ 0.87616892],\n",
       "       [ 0.83898341],\n",
       "       [-0.50446586],\n",
       "       [-0.34385368],\n",
       "       [ 1.6924546 ],\n",
       "       [-2.3015387 ],\n",
       "       [ 0.93110208],\n",
       "       [ 2.10025514],\n",
       "       [ 1.46210794],\n",
       "       [-0.84520564],\n",
       "       [-0.87785842],\n",
       "       [-0.3224172 ],\n",
       "       [ 0.88514116],\n",
       "       [ 0.16003707],\n",
       "       [ 1.13162939],\n",
       "       [-0.37528495],\n",
       "       [ 0.50249434],\n",
       "       [-0.20889423],\n",
       "       [ 0.12015895],\n",
       "       [ 0.58662319],\n",
       "       [ 0.3190391 ],\n",
       "       [-0.69166075],\n",
       "       [ 0.69803203],\n",
       "       [ 1.19891788],\n",
       "       [-0.20075807],\n",
       "       [ 0.53035547],\n",
       "       [ 0.74204416],\n",
       "       [ 0.41005165],\n",
       "       [ 0.11900865],\n",
       "       [-0.7612069 ],\n",
       "       [ 0.42349435],\n",
       "       [ 0.30017032],\n",
       "       [-1.1425182 ],\n",
       "       [ 0.18515642],\n",
       "       [-0.93576943],\n",
       "       [-0.62000084],\n",
       "       [-1.11731035],\n",
       "       [-1.44411381],\n",
       "       [-0.22232814],\n",
       "       [ 1.62434536],\n",
       "       [ 0.61720311],\n",
       "       [-0.6871727 ],\n",
       "       [ 0.07734007],\n",
       "       [-0.0126646 ],\n",
       "       [-0.63873041],\n",
       "       [ 1.13376944],\n",
       "       [ 1.74481176],\n",
       "       [ 0.90159072],\n",
       "       [-2.06014071],\n",
       "       [ 0.2344157 ],\n",
       "       [-0.17242821],\n",
       "       [ 0.12182127],\n",
       "       [ 1.14472371],\n",
       "       [-0.12289023],\n",
       "       [-0.74715829],\n",
       "       [ 0.28558733],\n",
       "       [-2.02220122],\n",
       "       [ 0.23009474],\n",
       "       [-0.26788808],\n",
       "       [-0.52817175],\n",
       "       [ 1.12948391],\n",
       "       [ 0.19091548],\n",
       "       [-0.29809284],\n",
       "       [ 1.65980218],\n",
       "       [ 0.04359686],\n",
       "       [ 0.04221375],\n",
       "       [-0.19183555]])"
      ]
     },
     "execution_count": 3,
     "metadata": {},
     "output_type": "execute_result"
    }
   ],
   "source": [
    "x0"
   ]
  },
  {
   "cell_type": "code",
   "execution_count": 4,
   "id": "7cbc2948",
   "metadata": {
    "scrolled": true
   },
   "outputs": [
    {
     "data": {
      "text/plain": [
       "array([-5.55385928e+01, -1.06619847e+01,  2.27574081e+01,  1.01096129e+02,\n",
       "        1.44337558e+02,  3.32888330e+01,  3.30152710e+01, -2.58869694e+01,\n",
       "       -9.96391397e+01,  2.38030714e+01, -4.55886864e+01, -8.33875709e+00,\n",
       "       -9.53154191e+01,  3.64072963e+01, -8.72926036e+01,  6.76693724e+01,\n",
       "       -1.36866100e+01, -5.54414224e+01, -6.53402399e+01, -5.44497141e+01,\n",
       "       -2.88351332e+01,  1.78835048e+02,  6.50839520e+01,  2.66683131e+01,\n",
       "       -1.85459706e+01, -4.14990408e+01,  8.55827764e-01,  4.45616521e+01,\n",
       "        1.15984811e+02, -6.46197993e+01, -2.59312718e+01, -6.08820426e+01,\n",
       "        1.87195482e+01,  7.50696998e+01,  1.17203175e+02, -2.26982690e+01,\n",
       "       -5.63625811e+01,  1.80837188e+02, -1.92574950e+02,  6.85032358e+01,\n",
       "        1.65522025e+02,  1.05000391e+02, -7.04338757e+01, -5.87693362e+01,\n",
       "       -4.15757142e+01,  7.32472269e+01,  4.09664082e+01,  8.04619460e+01,\n",
       "       -2.87939943e+01,  3.42341054e+01, -4.17148764e+01,  1.43547375e+01,\n",
       "        7.93363240e+01,  2.71292073e+01, -3.94873551e+01,  6.68052070e+01,\n",
       "        9.55308437e+01,  3.56104075e+00,  1.08568943e-01,  5.64952893e+01,\n",
       "        5.15753413e+01, -2.09741113e+00, -2.66559439e+01,  3.97419819e+01,\n",
       "        3.61014055e+01, -7.56019440e+01,  1.97126065e+01, -7.16010331e+01,\n",
       "       -1.99035774e+01, -7.67084296e+01, -1.18338274e+02, -2.98246083e+01,\n",
       "        1.51082783e+02,  5.29226489e+01, -5.95516769e+01,  3.07214747e+01,\n",
       "       -2.93550664e+01, -4.47861678e+01,  1.00058362e+02,  1.50576548e+02,\n",
       "        1.22000422e+02, -1.81857166e+02,  3.47392430e+00, -2.29801423e+01,\n",
       "        4.51842772e+01,  9.86063300e+01, -9.27788339e+00, -5.24778810e+01,\n",
       "        3.85928318e+01, -1.99972423e+02, -9.52014653e+00, -3.47236288e+00,\n",
       "       -3.53122497e+01,  7.54057582e+01,  1.75701411e+01, -2.39600185e+01,\n",
       "        1.32085955e+02,  2.06075830e+01,  5.11112097e+01, -2.63060397e+01])"
      ]
     },
     "execution_count": 4,
     "metadata": {},
     "output_type": "execute_result"
    }
   ],
   "source": [
    "y"
   ]
  },
  {
   "cell_type": "code",
   "execution_count": 5,
   "id": "82f69285",
   "metadata": {},
   "outputs": [
    {
     "data": {
      "text/plain": [
       "array(80.71051956)"
      ]
     },
     "execution_count": 5,
     "metadata": {},
     "output_type": "execute_result"
    }
   ],
   "source": [
    "coef"
   ]
  },
  {
   "cell_type": "code",
   "execution_count": 6,
   "id": "abb02890",
   "metadata": {},
   "outputs": [
    {
     "data": {
      "text/plain": [
       "(100, 100)"
      ]
     },
     "execution_count": 6,
     "metadata": {},
     "output_type": "execute_result"
    }
   ],
   "source": [
    "len(x0), len(y)"
   ]
  },
  {
   "cell_type": "markdown",
   "id": "a7388a73",
   "metadata": {},
   "source": [
    "### 3-2. 레버리지가 높은 가상 데이터 추가"
   ]
  },
  {
   "cell_type": "code",
   "execution_count": 7,
   "id": "e733433c",
   "metadata": {
    "scrolled": true
   },
   "outputs": [
    {
     "data": {
      "text/plain": [
       "array([[-0.61175641],\n",
       "       [-0.24937038],\n",
       "       [ 0.48851815],\n",
       "       [ 0.76201118],\n",
       "       [ 1.51981682],\n",
       "       [ 0.37756379],\n",
       "       [ 0.51292982],\n",
       "       [-0.67124613],\n",
       "       [-1.39649634],\n",
       "       [ 0.31563495],\n",
       "       [-0.63699565],\n",
       "       [-0.39675353],\n",
       "       [-1.10061918],\n",
       "       [ 0.90085595],\n",
       "       [-1.09989127],\n",
       "       [ 0.82797464],\n",
       "       [-0.07557171],\n",
       "       [-0.35224985],\n",
       "       [-0.67066229],\n",
       "       [-1.07296862],\n",
       "       [-0.30620401],\n",
       "       [ 2.18557541],\n",
       "       [ 0.86540763],\n",
       "       [ 0.19829972],\n",
       "       [-0.38405435],\n",
       "       [-0.68372786],\n",
       "       [ 0.05080775],\n",
       "       [ 0.58281521],\n",
       "       [ 1.25286816],\n",
       "       [-0.75439794],\n",
       "       [-0.34934272],\n",
       "       [-0.88762896],\n",
       "       [ 0.18656139],\n",
       "       [ 0.87616892],\n",
       "       [ 0.83898341],\n",
       "       [-0.50446586],\n",
       "       [-0.34385368],\n",
       "       [ 1.6924546 ],\n",
       "       [-2.3015387 ],\n",
       "       [ 0.93110208],\n",
       "       [ 2.10025514],\n",
       "       [ 1.46210794],\n",
       "       [-0.84520564],\n",
       "       [-0.87785842],\n",
       "       [-0.3224172 ],\n",
       "       [ 0.88514116],\n",
       "       [ 0.16003707],\n",
       "       [ 1.13162939],\n",
       "       [-0.37528495],\n",
       "       [ 0.50249434],\n",
       "       [-0.20889423],\n",
       "       [ 0.12015895],\n",
       "       [ 0.58662319],\n",
       "       [ 0.3190391 ],\n",
       "       [-0.69166075],\n",
       "       [ 0.69803203],\n",
       "       [ 1.19891788],\n",
       "       [-0.20075807],\n",
       "       [ 0.53035547],\n",
       "       [ 0.74204416],\n",
       "       [ 0.41005165],\n",
       "       [ 0.11900865],\n",
       "       [-0.7612069 ],\n",
       "       [ 0.42349435],\n",
       "       [ 0.30017032],\n",
       "       [-1.1425182 ],\n",
       "       [ 0.18515642],\n",
       "       [-0.93576943],\n",
       "       [-0.62000084],\n",
       "       [-1.11731035],\n",
       "       [-1.44411381],\n",
       "       [-0.22232814],\n",
       "       [ 1.62434536],\n",
       "       [ 0.61720311],\n",
       "       [-0.6871727 ],\n",
       "       [ 0.07734007],\n",
       "       [-0.0126646 ],\n",
       "       [-0.63873041],\n",
       "       [ 1.13376944],\n",
       "       [ 1.74481176],\n",
       "       [ 0.90159072],\n",
       "       [-2.06014071],\n",
       "       [ 0.2344157 ],\n",
       "       [-0.17242821],\n",
       "       [ 0.12182127],\n",
       "       [ 1.14472371],\n",
       "       [-0.12289023],\n",
       "       [-0.74715829],\n",
       "       [ 0.28558733],\n",
       "       [-2.02220122],\n",
       "       [ 0.23009474],\n",
       "       [-0.26788808],\n",
       "       [-0.52817175],\n",
       "       [ 1.12948391],\n",
       "       [ 0.19091548],\n",
       "       [-0.29809284],\n",
       "       [ 1.65980218],\n",
       "       [ 0.04359686],\n",
       "       [ 0.04221375],\n",
       "       [-0.19183555],\n",
       "       [ 4.        ],\n",
       "       [ 3.        ]])"
      ]
     },
     "execution_count": 7,
     "metadata": {},
     "output_type": "execute_result"
    }
   ],
   "source": [
    "data_100 = (4, 300)\n",
    "data_101 = (3, 150)\n",
    "\n",
    "X0 = np.vstack([x0, np.array([data_100[:1], data_101[:1]])])\n",
    "X0"
   ]
  },
  {
   "cell_type": "code",
   "execution_count": 8,
   "id": "9bd91501",
   "metadata": {},
   "outputs": [
    {
     "data": {
      "text/plain": [
       "(array([[  4, 300]]), array([[  3, 150]]))"
      ]
     },
     "execution_count": 8,
     "metadata": {},
     "output_type": "execute_result"
    }
   ],
   "source": [
    "np.array([data_100]), np.array([data_101])"
   ]
  },
  {
   "cell_type": "code",
   "execution_count": 9,
   "id": "0e202341",
   "metadata": {},
   "outputs": [
    {
     "data": {
      "text/plain": [
       "(array([[4]]), array([[3]]))"
      ]
     },
     "execution_count": 9,
     "metadata": {},
     "output_type": "execute_result"
    }
   ],
   "source": [
    "np.array([data_100[:1]]), np.array([data_101[:1]])"
   ]
  },
  {
   "cell_type": "markdown",
   "id": "84d2075c",
   "metadata": {},
   "source": [
    "### 3-3. 상수항 추가"
   ]
  },
  {
   "cell_type": "code",
   "execution_count": 10,
   "id": "274f816e",
   "metadata": {
    "scrolled": true
   },
   "outputs": [
    {
     "data": {
      "text/plain": [
       "array([[ 1.        , -0.61175641],\n",
       "       [ 1.        , -0.24937038],\n",
       "       [ 1.        ,  0.48851815],\n",
       "       [ 1.        ,  0.76201118],\n",
       "       [ 1.        ,  1.51981682],\n",
       "       [ 1.        ,  0.37756379],\n",
       "       [ 1.        ,  0.51292982],\n",
       "       [ 1.        , -0.67124613],\n",
       "       [ 1.        , -1.39649634],\n",
       "       [ 1.        ,  0.31563495],\n",
       "       [ 1.        , -0.63699565],\n",
       "       [ 1.        , -0.39675353],\n",
       "       [ 1.        , -1.10061918],\n",
       "       [ 1.        ,  0.90085595],\n",
       "       [ 1.        , -1.09989127],\n",
       "       [ 1.        ,  0.82797464],\n",
       "       [ 1.        , -0.07557171],\n",
       "       [ 1.        , -0.35224985],\n",
       "       [ 1.        , -0.67066229],\n",
       "       [ 1.        , -1.07296862],\n",
       "       [ 1.        , -0.30620401],\n",
       "       [ 1.        ,  2.18557541],\n",
       "       [ 1.        ,  0.86540763],\n",
       "       [ 1.        ,  0.19829972],\n",
       "       [ 1.        , -0.38405435],\n",
       "       [ 1.        , -0.68372786],\n",
       "       [ 1.        ,  0.05080775],\n",
       "       [ 1.        ,  0.58281521],\n",
       "       [ 1.        ,  1.25286816],\n",
       "       [ 1.        , -0.75439794],\n",
       "       [ 1.        , -0.34934272],\n",
       "       [ 1.        , -0.88762896],\n",
       "       [ 1.        ,  0.18656139],\n",
       "       [ 1.        ,  0.87616892],\n",
       "       [ 1.        ,  0.83898341],\n",
       "       [ 1.        , -0.50446586],\n",
       "       [ 1.        , -0.34385368],\n",
       "       [ 1.        ,  1.6924546 ],\n",
       "       [ 1.        , -2.3015387 ],\n",
       "       [ 1.        ,  0.93110208],\n",
       "       [ 1.        ,  2.10025514],\n",
       "       [ 1.        ,  1.46210794],\n",
       "       [ 1.        , -0.84520564],\n",
       "       [ 1.        , -0.87785842],\n",
       "       [ 1.        , -0.3224172 ],\n",
       "       [ 1.        ,  0.88514116],\n",
       "       [ 1.        ,  0.16003707],\n",
       "       [ 1.        ,  1.13162939],\n",
       "       [ 1.        , -0.37528495],\n",
       "       [ 1.        ,  0.50249434],\n",
       "       [ 1.        , -0.20889423],\n",
       "       [ 1.        ,  0.12015895],\n",
       "       [ 1.        ,  0.58662319],\n",
       "       [ 1.        ,  0.3190391 ],\n",
       "       [ 1.        , -0.69166075],\n",
       "       [ 1.        ,  0.69803203],\n",
       "       [ 1.        ,  1.19891788],\n",
       "       [ 1.        , -0.20075807],\n",
       "       [ 1.        ,  0.53035547],\n",
       "       [ 1.        ,  0.74204416],\n",
       "       [ 1.        ,  0.41005165],\n",
       "       [ 1.        ,  0.11900865],\n",
       "       [ 1.        , -0.7612069 ],\n",
       "       [ 1.        ,  0.42349435],\n",
       "       [ 1.        ,  0.30017032],\n",
       "       [ 1.        , -1.1425182 ],\n",
       "       [ 1.        ,  0.18515642],\n",
       "       [ 1.        , -0.93576943],\n",
       "       [ 1.        , -0.62000084],\n",
       "       [ 1.        , -1.11731035],\n",
       "       [ 1.        , -1.44411381],\n",
       "       [ 1.        , -0.22232814],\n",
       "       [ 1.        ,  1.62434536],\n",
       "       [ 1.        ,  0.61720311],\n",
       "       [ 1.        , -0.6871727 ],\n",
       "       [ 1.        ,  0.07734007],\n",
       "       [ 1.        , -0.0126646 ],\n",
       "       [ 1.        , -0.63873041],\n",
       "       [ 1.        ,  1.13376944],\n",
       "       [ 1.        ,  1.74481176],\n",
       "       [ 1.        ,  0.90159072],\n",
       "       [ 1.        , -2.06014071],\n",
       "       [ 1.        ,  0.2344157 ],\n",
       "       [ 1.        , -0.17242821],\n",
       "       [ 1.        ,  0.12182127],\n",
       "       [ 1.        ,  1.14472371],\n",
       "       [ 1.        , -0.12289023],\n",
       "       [ 1.        , -0.74715829],\n",
       "       [ 1.        ,  0.28558733],\n",
       "       [ 1.        , -2.02220122],\n",
       "       [ 1.        ,  0.23009474],\n",
       "       [ 1.        , -0.26788808],\n",
       "       [ 1.        , -0.52817175],\n",
       "       [ 1.        ,  1.12948391],\n",
       "       [ 1.        ,  0.19091548],\n",
       "       [ 1.        , -0.29809284],\n",
       "       [ 1.        ,  1.65980218],\n",
       "       [ 1.        ,  0.04359686],\n",
       "       [ 1.        ,  0.04221375],\n",
       "       [ 1.        , -0.19183555],\n",
       "       [ 1.        ,  4.        ],\n",
       "       [ 1.        ,  3.        ]])"
      ]
     },
     "execution_count": 10,
     "metadata": {},
     "output_type": "execute_result"
    }
   ],
   "source": [
    "X = sm.add_constant(X0)\n",
    "X"
   ]
  },
  {
   "cell_type": "markdown",
   "id": "913eb7bd",
   "metadata": {},
   "source": [
    "### 3-4. 종속변수에 레버리지 큰 데이터 추가"
   ]
  },
  {
   "cell_type": "code",
   "execution_count": 11,
   "id": "d897b125",
   "metadata": {
    "scrolled": true
   },
   "outputs": [
    {
     "data": {
      "text/plain": [
       "array([-5.55385928e+01, -1.06619847e+01,  2.27574081e+01,  1.01096129e+02,\n",
       "        1.44337558e+02,  3.32888330e+01,  3.30152710e+01, -2.58869694e+01,\n",
       "       -9.96391397e+01,  2.38030714e+01, -4.55886864e+01, -8.33875709e+00,\n",
       "       -9.53154191e+01,  3.64072963e+01, -8.72926036e+01,  6.76693724e+01,\n",
       "       -1.36866100e+01, -5.54414224e+01, -6.53402399e+01, -5.44497141e+01,\n",
       "       -2.88351332e+01,  1.78835048e+02,  6.50839520e+01,  2.66683131e+01,\n",
       "       -1.85459706e+01, -4.14990408e+01,  8.55827764e-01,  4.45616521e+01,\n",
       "        1.15984811e+02, -6.46197993e+01, -2.59312718e+01, -6.08820426e+01,\n",
       "        1.87195482e+01,  7.50696998e+01,  1.17203175e+02, -2.26982690e+01,\n",
       "       -5.63625811e+01,  1.80837188e+02, -1.92574950e+02,  6.85032358e+01,\n",
       "        1.65522025e+02,  1.05000391e+02, -7.04338757e+01, -5.87693362e+01,\n",
       "       -4.15757142e+01,  7.32472269e+01,  4.09664082e+01,  8.04619460e+01,\n",
       "       -2.87939943e+01,  3.42341054e+01, -4.17148764e+01,  1.43547375e+01,\n",
       "        7.93363240e+01,  2.71292073e+01, -3.94873551e+01,  6.68052070e+01,\n",
       "        9.55308437e+01,  3.56104075e+00,  1.08568943e-01,  5.64952893e+01,\n",
       "        5.15753413e+01, -2.09741113e+00, -2.66559439e+01,  3.97419819e+01,\n",
       "        3.61014055e+01, -7.56019440e+01,  1.97126065e+01, -7.16010331e+01,\n",
       "       -1.99035774e+01, -7.67084296e+01, -1.18338274e+02, -2.98246083e+01,\n",
       "        1.51082783e+02,  5.29226489e+01, -5.95516769e+01,  3.07214747e+01,\n",
       "       -2.93550664e+01, -4.47861678e+01,  1.00058362e+02,  1.50576548e+02,\n",
       "        1.22000422e+02, -1.81857166e+02,  3.47392430e+00, -2.29801423e+01,\n",
       "        4.51842772e+01,  9.86063300e+01, -9.27788339e+00, -5.24778810e+01,\n",
       "        3.85928318e+01, -1.99972423e+02, -9.52014653e+00, -3.47236288e+00,\n",
       "       -3.53122497e+01,  7.54057582e+01,  1.75701411e+01, -2.39600185e+01,\n",
       "        1.32085955e+02,  2.06075830e+01,  5.11112097e+01, -2.63060397e+01,\n",
       "        3.00000000e+02,  1.50000000e+02])"
      ]
     },
     "execution_count": 11,
     "metadata": {},
     "output_type": "execute_result"
    }
   ],
   "source": [
    "y = np.hstack([y, [data_100[1], data_101[1]]])\n",
    "y"
   ]
  },
  {
   "cell_type": "code",
   "execution_count": 12,
   "id": "f83869a0",
   "metadata": {},
   "outputs": [
    {
     "data": {
      "text/plain": [
       "array([300., 150.])"
      ]
     },
     "execution_count": 12,
     "metadata": {},
     "output_type": "execute_result"
    }
   ],
   "source": [
    "y[-2:]"
   ]
  },
  {
   "cell_type": "code",
   "execution_count": 13,
   "id": "0132e679",
   "metadata": {},
   "outputs": [
    {
     "data": {
      "text/plain": [
       "((300,), (150,))"
      ]
     },
     "execution_count": 13,
     "metadata": {},
     "output_type": "execute_result"
    }
   ],
   "source": [
    "data_100[1:], data_101[1:]"
   ]
  },
  {
   "cell_type": "markdown",
   "id": "81047914",
   "metadata": {},
   "source": [
    "### 3-5. 스캐터 플롯으로 데이터 분포 확인\n",
    "- x축 : 독립변수 X0의 값\n",
    "- y축 : 종속변수 y의 값\n",
    "- 레버리지가 큰 데이터가 추가 됨"
   ]
  },
  {
   "cell_type": "code",
   "execution_count": 14,
   "id": "8fdd1237",
   "metadata": {},
   "outputs": [
    {
     "data": {
      "image/png": "[encoded data removed]",
      "text/plain": [
       "<Figure size 576x432 with 1 Axes>"
      ]
     },
     "metadata": {
      "image/png": {
       "height": 393,
       "width": 509
      },
      "needs_background": "light"
     },
     "output_type": "display_data"
    }
   ],
   "source": [
    "%matplotlib inline\n",
    "\n",
    "plt.figure(figsize=(8, 6))\n",
    "plt.scatter(X0, y)\n",
    "plt.xlabel(\"x\")\n",
    "plt.ylabel(\"y\")\n",
    "plt.title(\"가상의 회귀분석용 데이터\")\n",
    "plt.show() ; "
   ]
  },
  {
   "cell_type": "markdown",
   "id": "6f5690fe",
   "metadata": {},
   "source": [
    "### 3-6. 선형회귀 분석 OLS 실행\n",
    "- 레버리지가 큰 데이터가 없는 최초의 데이터의 계수값과 레버리지가 큰 데이터를 추가한 데이터의 계수값이 다르다. \n",
    "    - x0 : 최초의 데이터\n",
    "    - X : 상수항 추가, 레버리지가 큰 데이터 추가\n",
    "- 모든 데이터에는 레버리지값이 존재한다. 여기에서 추가한 것은 인위적으로 레버리지가 큰 데이터를 추가한 것    "
   ]
  },
  {
   "cell_type": "code",
   "execution_count": 15,
   "id": "d9fbe3d6",
   "metadata": {},
   "outputs": [
    {
     "name": "stdout",
     "output_type": "stream",
     "text": [
      "                            OLS Regression Results                            \n",
      "==============================================================================\n",
      "Dep. Variable:                      0   R-squared:                       0.936\n",
      "Model:                            OLS   Adj. R-squared:                  0.935\n",
      "Method:                 Least Squares   F-statistic:                     1464.\n",
      "Date:                Thu, 14 Jul 2022   Prob (F-statistic):           1.61e-61\n",
      "Time:                        18:39:47   Log-Likelihood:                -452.71\n",
      "No. Observations:                 102   AIC:                             909.4\n",
      "Df Residuals:                     100   BIC:                             914.7\n",
      "Df Model:                           1                                         \n",
      "Covariance Type:            nonrobust                                         \n",
      "==============================================================================\n",
      "                 coef    std err          t      P>|t|      [0.025      0.975]\n",
      "------------------------------------------------------------------------------\n",
      "0              3.2565      2.065      1.577      0.118      -0.840       7.353\n",
      "1             78.3379      2.048     38.260      0.000      74.276      82.400\n",
      "==============================================================================\n",
      "Omnibus:                       16.191   Durbin-Watson:                   1.885\n",
      "Prob(Omnibus):                  0.000   Jarque-Bera (JB):               36.807\n",
      "Skew:                          -0.534   Prob(JB):                     1.02e-08\n",
      "Kurtosis:                       5.742   Cond. No.                         1.14\n",
      "==============================================================================\n",
      "\n",
      "Notes:\n",
      "[1] Standard Errors assume that the covariance matrix of the errors is correctly specified.\n"
     ]
    }
   ],
   "source": [
    "model = sm.OLS(pd.DataFrame(y), pd.DataFrame(X))\n",
    "result = model.fit()\n",
    "\n",
    "print(result.summary())"
   ]
  },
  {
   "cell_type": "code",
   "execution_count": 16,
   "id": "ef5ab875",
   "metadata": {},
   "outputs": [
    {
     "data": {
      "text/plain": [
       "array(80.71051956)"
      ]
     },
     "execution_count": 16,
     "metadata": {},
     "output_type": "execute_result"
    }
   ],
   "source": [
    "coef"
   ]
  },
  {
   "cell_type": "code",
   "execution_count": 17,
   "id": "bd4f72d2",
   "metadata": {},
   "outputs": [
    {
     "data": {
      "text/plain": [
       "0     3.256462\n",
       "1    78.337878\n",
       "dtype: float64"
      ]
     },
     "execution_count": 17,
     "metadata": {},
     "output_type": "execute_result"
    }
   ],
   "source": [
    "result.params"
   ]
  },
  {
   "cell_type": "markdown",
   "id": "4950bab5",
   "metadata": {},
   "source": [
    "### 3-7. 영향도 정보 객체\n",
    "- hat_matrix, cooks_distance, k_vars 값들이 내장 되어 있음"
   ]
  },
  {
   "cell_type": "code",
   "execution_count": 18,
   "id": "9e3e9ee0",
   "metadata": {},
   "outputs": [
    {
     "data": {
      "text/plain": [
       "<statsmodels.stats.outliers_influence.OLSInfluence at 0x2be1f4a8108>"
      ]
     },
     "execution_count": 18,
     "metadata": {},
     "output_type": "execute_result"
    }
   ],
   "source": [
    "influence = result.get_influence()\n",
    "influence"
   ]
  },
  {
   "cell_type": "markdown",
   "id": "1cd266dd",
   "metadata": {},
   "source": [
    "#### 영향도 행렬, hat 행렬\n",
    "- 독립변수가 한 개이므로 열벡터의 형태이다."
   ]
  },
  {
   "cell_type": "code",
   "execution_count": 19,
   "id": "614bbed3",
   "metadata": {
    "scrolled": true
   },
   "outputs": [
    {
     "data": {
      "text/plain": [
       "array([0.01516695, 0.01119963, 0.01107744, 0.01374277, 0.02878656,\n",
       "       0.01041415, 0.01125576, 0.01606417, 0.03257963, 0.01014885,\n",
       "       0.01553914, 0.01250262, 0.02459694, 0.01565692, 0.02457942,\n",
       "       0.01460505, 0.01021012, 0.0120643 , 0.01605503, 0.0239386 ,\n",
       "       0.01165165, 0.05129059, 0.0151323 , 0.00985232, 0.01237359,\n",
       "       0.01626123, 0.00986235, 0.01183083, 0.02220309, 0.0174345 ,\n",
       "       0.01203702, 0.01991263, 0.0098375 , 0.01528896, 0.01475726,\n",
       "       0.01372415, 0.01198596, 0.03378783, 0.06764843, 0.01612402,\n",
       "       0.04792128, 0.02724502, 0.0190858 , 0.01971908, 0.01179221,\n",
       "       0.01542131, 0.00981397, 0.0196743 , 0.01228633, 0.01117811,\n",
       "       0.0109163 , 0.00980453, 0.01186491, 0.01016148, 0.01638805,\n",
       "       0.01298791, 0.02104222, 0.01086322, 0.01139019, 0.01349858,\n",
       "       0.01058338, 0.00980472, 0.01755271, 0.01065946, 0.01009433,\n",
       "       0.02562309, 0.00983591, 0.02089362, 0.01528715, 0.0250016 ,\n",
       "       0.03402463, 0.01100677, 0.03174496, 0.01214893, 0.01631615,\n",
       "       0.00982909, 0.00999788, 0.01556518, 0.01971644, 0.03542004,\n",
       "       0.01566805, 0.05672477, 0.00991485, 0.01068853, 0.0098043 ,\n",
       "       0.01993354, 0.01042087, 0.01730981, 0.01004721, 0.0551118 ,\n",
       "       0.00990602, 0.01133995, 0.01402352, 0.01963214, 0.00984268,\n",
       "       0.01158327, 0.03279711, 0.00987377, 0.00987608, 0.01080651,\n",
       "       0.15672095, 0.09063317])"
      ]
     },
     "execution_count": 19,
     "metadata": {},
     "output_type": "execute_result"
    }
   ],
   "source": [
    "hat = influence.hat_matrix_diag\n",
    "hat"
   ]
  },
  {
   "cell_type": "code",
   "execution_count": 20,
   "id": "bbd3d37a",
   "metadata": {},
   "outputs": [
    {
     "data": {
      "text/plain": [
       "(102,)"
      ]
     },
     "execution_count": 20,
     "metadata": {},
     "output_type": "execute_result"
    }
   ],
   "source": [
    "hat.shape"
   ]
  },
  {
   "cell_type": "code",
   "execution_count": 21,
   "id": "c2a75e7c",
   "metadata": {},
   "outputs": [
    {
     "data": {
      "text/plain": [
       "(102, 102, 102)"
      ]
     },
     "execution_count": 21,
     "metadata": {},
     "output_type": "execute_result"
    }
   ],
   "source": [
    "len(hat), len(X), len(y)"
   ]
  },
  {
   "cell_type": "markdown",
   "id": "9deab4de",
   "metadata": {},
   "source": [
    "### 3-8. 레버리지 값 확인\n",
    "- 각 데이터에 해당하는 레버리지 값이 영향도 행렬에 있다.\n",
    "- 레버리지 값이 큰 데이터가 보인다."
   ]
  },
  {
   "cell_type": "code",
   "execution_count": 22,
   "id": "9bf0a8cc",
   "metadata": {},
   "outputs": [
    {
     "data": {
      "image/png": "[encoded data removed]",
      "text/plain": [
       "<Figure size 720x144 with 1 Axes>"
      ]
     },
     "metadata": {
      "image/png": {
       "height": 159,
       "width": 602
      },
      "needs_background": "light"
     },
     "output_type": "display_data"
    }
   ],
   "source": [
    "plt.figure(figsize=(10, 2))\n",
    "plt.stem(hat)\n",
    "plt.axhline(0.02, c=\"g\", ls=\"--\")\n",
    "plt.title(\"각 데이터의 레버리지 값\")\n",
    "plt.show() ;"
   ]
  },
  {
   "cell_type": "markdown",
   "id": "2bf785cd",
   "metadata": {},
   "source": [
    "### 3-9. 레버리지의 합은 모수의 갯수\n",
    "- 현재 데이터는 독립변수 1개와 상수항이 있으므로 모수의 갯수는 2\n",
    "- 레버리지의 합이 2와 같다.\n",
    "    - 데이터의 갯수 N이 독립변수의 갯수 K보다 크므로, 레버리지의 값은 1보다 작아지게 된다. "
   ]
  },
  {
   "cell_type": "code",
   "execution_count": 24,
   "id": "777e3f3f",
   "metadata": {},
   "outputs": [
    {
     "data": {
      "text/plain": [
       "2.0000000000000004"
      ]
     },
     "execution_count": 24,
     "metadata": {},
     "output_type": "execute_result"
    }
   ],
   "source": [
    "hat.sum()"
   ]
  },
  {
   "cell_type": "code",
   "execution_count": 25,
   "id": "3314b956",
   "metadata": {},
   "outputs": [
    {
     "data": {
      "text/plain": [
       "0.019607843137254905"
      ]
     },
     "execution_count": 25,
     "metadata": {},
     "output_type": "execute_result"
    }
   ],
   "source": [
    "hat.mean()"
   ]
  },
  {
   "cell_type": "markdown",
   "id": "49e8bb43",
   "metadata": {},
   "source": [
    "### 3-10. 회귀분석 결과와 레버리지 포인트\n",
    "- 레버리지가 큰 데이터 표시\n",
    "- **데이터가 무리지어 있지 않고 단독으로 존재할 수록 레버리지가 커진다는 것을 알 수 있다.**"
   ]
  },
  {
   "cell_type": "code",
   "execution_count": 29,
   "id": "251589a9",
   "metadata": {},
   "outputs": [
    {
     "data": {
      "image/png": "[encoded data removed]",
      "text/plain": [
       "<Figure size 576x432 with 1 Axes>"
      ]
     },
     "metadata": {
      "image/png": {
       "height": 376,
       "width": 492
      },
      "needs_background": "light"
     },
     "output_type": "display_data"
    }
   ],
   "source": [
    "plt.figure(figsize=(8, 6))\n",
    "ax = plt.subplot()\n",
    "plt.scatter(X0, y)\n",
    "sm.graphics.abline_plot(model_results=result, ax=ax)\n",
    "\n",
    "# 레버리지가 큰 데이터만 빨간색 원으로 그리기\n",
    "idx = hat > 0.05\n",
    "plt.scatter(X0[idx], y[idx], s=300, c=\"y\", alpha=0.6)\n",
    "plt.title(\"회귀분석 결과와 레버리지 포인트\")\n",
    "\n",
    "plt.show() ; "
   ]
  },
  {
   "cell_type": "markdown",
   "id": "2dc351e7",
   "metadata": {},
   "source": [
    "#### 레버리지가 큰 데이터의 인덱스"
   ]
  },
  {
   "cell_type": "code",
   "execution_count": 30,
   "id": "da560c5c",
   "metadata": {
    "scrolled": true
   },
   "outputs": [],
   "source": [
    "t_list = []\n",
    "\n",
    "for n in range(len(idx)) :\n",
    "    if idx[n] == True :\n",
    "        t_list.append(n)"
   ]
  },
  {
   "cell_type": "code",
   "execution_count": 31,
   "id": "ba3b8653",
   "metadata": {},
   "outputs": [
    {
     "data": {
      "text/plain": [
       "[21, 38, 81, 89, 100, 101]"
      ]
     },
     "execution_count": 31,
     "metadata": {},
     "output_type": "execute_result"
    }
   ],
   "source": [
    "t_list"
   ]
  },
  {
   "cell_type": "code",
   "execution_count": 32,
   "id": "23730a1e",
   "metadata": {},
   "outputs": [
    {
     "data": {
      "text/plain": [
       "True"
      ]
     },
     "execution_count": 32,
     "metadata": {},
     "output_type": "execute_result"
    }
   ],
   "source": [
    "idx[21]"
   ]
  },
  {
   "cell_type": "code",
   "execution_count": 35,
   "id": "eeb03865",
   "metadata": {},
   "outputs": [
    {
     "data": {
      "text/plain": [
       "array([ 21,  38,  81,  89, 100, 101], dtype=int64)"
      ]
     },
     "execution_count": 35,
     "metadata": {},
     "output_type": "execute_result"
    }
   ],
   "source": [
    "np.where(idx)[0]"
   ]
  },
  {
   "cell_type": "markdown",
   "id": "0c4d202d",
   "metadata": {},
   "source": [
    "### 3-11. 추가한 데이터의 레버리지값\n",
    "- 평균 레버리지값보다 4배 이상이다."
   ]
  },
  {
   "cell_type": "code",
   "execution_count": 46,
   "id": "5acac63b",
   "metadata": {},
   "outputs": [
    {
     "name": "stdout",
     "output_type": "stream",
     "text": [
      "레버리지 평균 : 0.01961\n",
      "레버리지 평균와 이상 레버리지의 비율 : 7.99\n",
      "레버리지 평균과 이상 레버리지의 비율 : 4.62\n"
     ]
    }
   ],
   "source": [
    "ht = hat.mean()\n",
    "h_100 = hat[100]\n",
    "h_101 = hat[101]\n",
    "\n",
    "print(\"레버리지 평균 : {:.5f}\".format(ht))\n",
    "print(\"레버리지 평균와 이상 레버리지의 비율 : {:.2f}\".format(h_100 / ht))\n",
    "print(\"레버리지 평균과 이상 레버리지의 비율 : {:.2f}\".format(h_101 / ht))"
   ]
  },
  {
   "cell_type": "code",
   "execution_count": 44,
   "id": "652705db",
   "metadata": {},
   "outputs": [
    {
     "data": {
      "text/plain": [
       "0.15490196078431376"
      ]
     },
     "execution_count": 44,
     "metadata": {},
     "output_type": "execute_result"
    }
   ],
   "source": [
    "ht * 7.9"
   ]
  },
  {
   "cell_type": "code",
   "execution_count": 30,
   "id": "a4ffe11b",
   "metadata": {},
   "outputs": [
    {
     "data": {
      "text/plain": [
       "0.15672094551475238"
      ]
     },
     "execution_count": 30,
     "metadata": {},
     "output_type": "execute_result"
    }
   ],
   "source": [
    "hat[100]"
   ]
  },
  {
   "cell_type": "code",
   "execution_count": 31,
   "id": "76ce7d5b",
   "metadata": {},
   "outputs": [
    {
     "data": {
      "text/plain": [
       "0.0906331710551901"
      ]
     },
     "execution_count": 31,
     "metadata": {},
     "output_type": "execute_result"
    }
   ],
   "source": [
    "hat[101]"
   ]
  },
  {
   "cell_type": "markdown",
   "id": "17a32994",
   "metadata": {},
   "source": [
    "## 4. 레버리지의 영향\n",
    "\n",
    "### 4-1. 레버리지가 큰 데이터가 있는 경우와 없는 경우의 모형 비교"
   ]
  },
  {
   "cell_type": "markdown",
   "id": "e5ca48c0",
   "metadata": {},
   "source": [
    "#### 원래 데이터의 OLS 분석\n",
    "- 큰 레버리지 데이터를 추가하지 않은 데이터"
   ]
  },
  {
   "cell_type": "code",
   "execution_count": 47,
   "id": "a6e72924",
   "metadata": {},
   "outputs": [
    {
     "name": "stdout",
     "output_type": "stream",
     "text": [
      "                            OLS Regression Results                            \n",
      "==============================================================================\n",
      "Dep. Variable:                      y   R-squared:                       0.947\n",
      "Model:                            OLS   Adj. R-squared:                  0.947\n",
      "Method:                 Least Squares   F-statistic:                     1782.\n",
      "Date:                Thu, 14 Jul 2022   Prob (F-statistic):           4.10e-65\n",
      "Time:                        18:48:32   Log-Likelihood:                -437.49\n",
      "No. Observations:                 101   AIC:                             879.0\n",
      "Df Residuals:                      99   BIC:                             884.2\n",
      "Df Model:                           1                                         \n",
      "Covariance Type:            nonrobust                                         \n",
      "==============================================================================\n",
      "                 coef    std err          t      P>|t|      [0.025      0.975]\n",
      "------------------------------------------------------------------------------\n",
      "const          3.8584      1.860      2.075      0.041       0.168       7.548\n",
      "x1            81.0698      1.920     42.217      0.000      77.259      84.880\n",
      "==============================================================================\n",
      "Omnibus:                        1.272   Durbin-Watson:                   2.143\n",
      "Prob(Omnibus):                  0.529   Jarque-Bera (JB):                0.777\n",
      "Skew:                           0.162   Prob(JB):                        0.678\n",
      "Kurtosis:                       3.283   Cond. No.                         1.11\n",
      "==============================================================================\n",
      "\n",
      "Notes:\n",
      "[1] Standard Errors assume that the covariance matrix of the errors is correctly specified.\n"
     ]
    }
   ],
   "source": [
    "model2 = sm.OLS(y[:-1], X[:-1])\n",
    "result2 = model2.fit()\n",
    "\n",
    "print(result2.summary())"
   ]
  },
  {
   "cell_type": "code",
   "execution_count": 48,
   "id": "c4c78ae9",
   "metadata": {},
   "outputs": [
    {
     "data": {
      "text/plain": [
       "array(80.71051956)"
      ]
     },
     "execution_count": 48,
     "metadata": {},
     "output_type": "execute_result"
    }
   ],
   "source": [
    "coef"
   ]
  },
  {
   "cell_type": "markdown",
   "id": "90eeafc3",
   "metadata": {},
   "source": [
    "#### 단일계수 t 검정 테스트"
   ]
  },
  {
   "cell_type": "code",
   "execution_count": 49,
   "id": "357026d7",
   "metadata": {},
   "outputs": [
    {
     "data": {
      "text/plain": [
       "<class 'statsmodels.stats.contrast.ContrastResults'>\n",
       "                             Test for Constraints                             \n",
       "==============================================================================\n",
       "                 coef    std err          t      P>|t|      [0.025      0.975]\n",
       "------------------------------------------------------------------------------\n",
       "c0            81.0698      1.920     -1.526      0.130      77.259      84.880\n",
       "=============================================================================="
      ]
     },
     "execution_count": 49,
     "metadata": {},
     "output_type": "execute_result"
    }
   ],
   "source": [
    "result2.t_test(\"x1 = 84\")"
   ]
  },
  {
   "cell_type": "markdown",
   "id": "a82a8686",
   "metadata": {},
   "source": [
    "### 4-2. 레버리지 큰 데이터 추가 전후 모형 비교\n",
    "- 선형회귀모형의 모양이 바뀐다.\n",
    "    - 이상치 레버리지를 포함하지 않는 데이터의 선형회귀모형이 기울기가 커진다.\n",
    "    - 가중치값이 커졌으므로\n",
    "- **즉 레버리지가 큰 데이터는 모형에 큰 영향을 끼친다.**"
   ]
  },
  {
   "cell_type": "code",
   "execution_count": 50,
   "id": "ad7e1095",
   "metadata": {},
   "outputs": [
    {
     "data": {
      "image/png": "[encoded data removed]",
      "text/plain": [
       "<Figure size 576x432 with 1 Axes>"
      ]
     },
     "metadata": {
      "image/png": {
       "height": 376,
       "width": 492
      },
      "needs_background": "light"
     },
     "output_type": "display_data"
    }
   ],
   "source": [
    "%matplotlib inline\n",
    "\n",
    "plt.figure(figsize=(8, 6))\n",
    "ax = plt.subplot()\n",
    "# 레버리지 큰 데이터 추가한 데이터\n",
    "plt.scatter(X0, y)\n",
    "\n",
    "# 선형회귀 모델을 직선으로 나타내기\n",
    "sm.graphics.abline_plot(model_results=result,\n",
    "                       c=\"r\", linestyle=\"--\", ax=ax, label=\"레버리지가 큰 데이터를 포함하는 경우\")\n",
    "\n",
    "sm.graphics.abline_plot(model_results=result2,\n",
    "                       c=\"g\", alpha=0.7, ax=ax, label=\"레버리지가 큰 데이터를 포함하지 않는 경우\")\n",
    "\n",
    "plt.plot(X0[-1], y[-1], marker=\"x\", c=\"m\", ms=20, mew=5)\n",
    "plt.legend(loc=\"upper left\")\n",
    "#plt.legend([u\"레버리지가 큰 데이터를 포함하는 경우\", u\"레버리지가 큰 데이터를 포함하지 않는 경우\"], loc=\"upper left\")\n",
    "\n",
    "plt.title(\"레버리지가 높은 데이터가 회귀분석에 미치는 영향\")\n",
    "plt.show() ; "
   ]
  },
  {
   "cell_type": "code",
   "execution_count": 51,
   "id": "62cde7e7",
   "metadata": {},
   "outputs": [
    {
     "data": {
      "text/plain": [
       "0     3.256462\n",
       "1    78.337878\n",
       "dtype: float64"
      ]
     },
     "execution_count": 51,
     "metadata": {},
     "output_type": "execute_result"
    }
   ],
   "source": [
    "result.params"
   ]
  },
  {
   "cell_type": "code",
   "execution_count": 52,
   "id": "c23a6c44",
   "metadata": {},
   "outputs": [
    {
     "data": {
      "text/plain": [
       "array([ 3.85836361, 81.06976073])"
      ]
     },
     "execution_count": 52,
     "metadata": {},
     "output_type": "execute_result"
    }
   ],
   "source": [
    "result2.params"
   ]
  },
  {
   "cell_type": "markdown",
   "id": "0ce96b09",
   "metadata": {},
   "source": [
    "### 4-3. 레버리지가 작은 데이터가 있는 경우와 없는 경우의 모형 비교\n",
    "- 레버리지가 작은 데이터는 있건 없건 모형에 큰 영향을 미치지 않는다."
   ]
  },
  {
   "cell_type": "code",
   "execution_count": 53,
   "id": "58247e70",
   "metadata": {},
   "outputs": [
    {
     "data": {
      "image/png": "[encoded data removed]",
      "text/plain": [
       "<Figure size 576x432 with 1 Axes>"
      ]
     },
     "metadata": {
      "image/png": {
       "height": 376,
       "width": 492
      },
      "needs_background": "light"
     },
     "output_type": "display_data"
    }
   ],
   "source": [
    "# 레버리지가 작은 데이터를 제외하고 OLS 분석\n",
    "model3 = sm.OLS(y[1:], X[1:])\n",
    "result3 = model3.fit()\n",
    "\n",
    "plt.figure(figsize=(8, 6))\n",
    "ax = plt.subplot()\n",
    "plt.scatter(X0, y)\n",
    "\n",
    "sm.graphics.abline_plot(model_results=result,\n",
    "                       c=\"r\", linestyle=\"--\", ax=ax, label=\"레버리지가 작은 데이터를 포함하는 경우\")\n",
    "sm.graphics.abline_plot(model_results=result3,\n",
    "                       c=\"g\", linestyle=\"-\", alpha=0.7, ax=ax, label=\"레버리지가 작은 데이터를 포함하지 않는 경우\")\n",
    "\n",
    "plt.plot(X0[0], y[0], marker=\"x\", c=\"r\", ms=20, mew=5)\n",
    "plt.legend(loc=\"upper left\")\n",
    "#plt.legend([u\"레버리지가 작은 데이터를 포함하는 경우\", u\"레버리지가 작은 데이터를 포함하지 않는 경우\"], loc=\"upper left\")\n",
    "\n",
    "plt.title(\"레버리지가 작은 데이터가 회귀분석에 미치는 영향\")\n",
    "plt.show() ; "
   ]
  },
  {
   "cell_type": "markdown",
   "id": "22e1bf6f",
   "metadata": {},
   "source": [
    "### 4-4. 레버리지가 크지만 오차가 작은 데이터가 있는 경우와 없는 경우의 모델\n",
    "- 레버리지가 크지만 오차가 작은 데이터는 선형회귀분석에 큰 영향을 끼치지 않는다."
   ]
  },
  {
   "cell_type": "code",
   "execution_count": 40,
   "id": "9f79359b",
   "metadata": {},
   "outputs": [
    {
     "data": {
      "text/plain": [
       "array([  0,   1,   2,   3,   4,   5,   6,   7,   8,   9,  10,  11,  12,\n",
       "        13,  14,  15,  16,  17,  18,  19,  20,  21,  22,  23,  24,  25,\n",
       "        26,  27,  28,  29,  30,  31,  32,  33,  34,  35,  36,  37,  38,\n",
       "        39,  40,  41,  42,  43,  44,  45,  46,  47,  48,  49,  50,  51,\n",
       "        52,  53,  54,  55,  56,  57,  58,  59,  60,  61,  62,  63,  64,\n",
       "        65,  66,  67,  68,  69,  70,  71,  72,  73,  74,  75,  76,  77,\n",
       "        78,  79,  80,  81,  82,  83,  84,  85,  86,  87,  88,  89,  90,\n",
       "        91,  92,  93,  94,  95,  96,  97,  98,  99, 101])"
      ]
     },
     "execution_count": 40,
     "metadata": {},
     "output_type": "execute_result"
    }
   ],
   "source": [
    "np.array(list(range(100)) + [101])"
   ]
  },
  {
   "cell_type": "code",
   "execution_count": 41,
   "id": "8e24132e",
   "metadata": {
    "scrolled": false
   },
   "outputs": [
    {
     "data": {
      "text/plain": [
       "array([  0,   1,   2,   3,   4,   5,   6,   7,   8,   9,  10,  11,  12,\n",
       "        13,  14,  15,  16,  17,  18,  19,  20,  21,  22,  23,  24,  25,\n",
       "        26,  27,  28,  29,  30,  31,  32,  33,  34,  35,  36,  37,  38,\n",
       "        39,  40,  41,  42,  43,  44,  45,  46,  47,  48,  49,  50,  51,\n",
       "        52,  53,  54,  55,  56,  57,  58,  59,  60,  61,  62,  63,  64,\n",
       "        65,  66,  67,  68,  69,  70,  71,  72,  73,  74,  75,  76,  77,\n",
       "        78,  79,  80,  81,  82,  83,  84,  85,  86,  87,  88,  89,  90,\n",
       "        91,  92,  93,  94,  95,  96,  97,  98,  99, 101])"
      ]
     },
     "execution_count": 41,
     "metadata": {},
     "output_type": "execute_result"
    }
   ],
   "source": [
    "idx = np.array(list(range(100)) + [101])\n",
    "idx"
   ]
  },
  {
   "cell_type": "code",
   "execution_count": 42,
   "id": "19078216",
   "metadata": {
    "scrolled": true
   },
   "outputs": [
    {
     "name": "stdout",
     "output_type": "stream",
     "text": [
      "                            OLS Regression Results                            \n",
      "==============================================================================\n",
      "Dep. Variable:                      y   R-squared:                       0.928\n",
      "Model:                            OLS   Adj. R-squared:                  0.927\n",
      "Method:                 Least Squares   F-statistic:                     1267.\n",
      "Date:                Wed, 13 Jul 2022   Prob (F-statistic):           3.09e-58\n",
      "Time:                        15:49:50   Log-Likelihood:                -448.39\n",
      "No. Observations:                 101   AIC:                             900.8\n",
      "Df Residuals:                      99   BIC:                             906.0\n",
      "Df Model:                           1                                         \n",
      "Covariance Type:            nonrobust                                         \n",
      "==============================================================================\n",
      "                 coef    std err          t      P>|t|      [0.025      0.975]\n",
      "------------------------------------------------------------------------------\n",
      "const          3.3539      2.070      1.620      0.108      -0.754       7.462\n",
      "x1            79.0852      2.221     35.602      0.000      74.677      83.493\n",
      "==============================================================================\n",
      "Omnibus:                       18.814   Durbin-Watson:                   1.894\n",
      "Prob(Omnibus):                  0.000   Jarque-Bera (JB):               45.818\n",
      "Skew:                          -0.621   Prob(JB):                     1.12e-10\n",
      "Kurtosis:                       6.057   Cond. No.                         1.13\n",
      "==============================================================================\n",
      "\n",
      "Notes:\n",
      "[1] Standard Errors assume that the covariance matrix of the errors is correctly specified.\n"
     ]
    }
   ],
   "source": [
    "model4 = sm.OLS(y[idx], X[idx, :])\n",
    "result4 = model4.fit()\n",
    "\n",
    "print(result4.summary())"
   ]
  },
  {
   "cell_type": "code",
   "execution_count": 44,
   "id": "7b462612",
   "metadata": {},
   "outputs": [
    {
     "data": {
      "image/png": "[encoded data removed]",
      "text/plain": [
       "<Figure size 576x432 with 1 Axes>"
      ]
     },
     "metadata": {
      "image/png": {
       "height": 361,
       "width": 492
      },
      "needs_background": "light"
     },
     "output_type": "display_data"
    }
   ],
   "source": [
    "plt.figure(figsize=(8, 6))\n",
    "ax = plt.subplot()\n",
    "plt.scatter(X0, y)\n",
    "sm.graphics.abline_plot(model_results=result,\n",
    "                       c=\"r\", linestyle=\"--\", ax=ax, label=\"레버리지가 크지만 오차가 작은 데이터 포함\")\n",
    "sm.graphics.abline_plot(model_results=result4,\n",
    "                       c=\"g\", linestyle=\"-\", ax=ax, label=\"레버리지가 크지만 오차가 작은 데이터 미포함\")\n",
    "plt.plot(X0[-2], y[-2], marker=\"x\", c=\"m\", ms=20, mew=5)\n",
    "plt.legend(loc=\"upper left\")\n",
    "plt.show() ; "
   ]
  },
  {
   "cell_type": "code",
   "execution_count": 45,
   "id": "c868c54d",
   "metadata": {},
   "outputs": [
    {
     "data": {
      "text/plain": [
       "0     3.256462\n",
       "1    78.337878\n",
       "dtype: float64"
      ]
     },
     "execution_count": 45,
     "metadata": {},
     "output_type": "execute_result"
    }
   ],
   "source": [
    "result.params"
   ]
  },
  {
   "cell_type": "code",
   "execution_count": 46,
   "id": "8123ff6d",
   "metadata": {},
   "outputs": [
    {
     "data": {
      "text/plain": [
       "array([ 3.35387682, 79.08516062])"
      ]
     },
     "execution_count": 46,
     "metadata": {},
     "output_type": "execute_result"
    }
   ],
   "source": [
    "result4.params"
   ]
  },
  {
   "cell_type": "markdown",
   "id": "3c4330a3",
   "metadata": {},
   "source": [
    "## 5. 아웃라이어\n",
    "- `아웃라이어 outlier` : 잔차의 크기가 큰 데이터\n",
    "- 잔차에서 독립변수 x의 영향을 제거한 후 표준화 된 잔차를 통해 아웃라이어를 찾는다.\n",
    "\n",
    "## 6. 표준화 잔차\n",
    "- 잔차의 공분산행렬을 구하고, 공분산 행렬의 대각성분이 잔차의 분산이라는 것을 이용하여 오차의 표준편차 추정값을 구한다.\n",
    "- 1) `잔차` : 잡음(오차)과 잔차행렬로 나타낸 식\n",
    "    - $e = (I-H) \\epsilon = M\\epsilon$\n",
    "- 2) `잔차의 공분산 행렬` : 잔차행렬의 성질이용 (M은 대칭행렬, 멱등행렬)\n",
    "    - 잔차행렬 -> 영향도행렬로 변환됨\n",
    "\n",
    "$\\begin{aligned} \n",
    "    \\text{Cov}[e] \n",
    "    &= \\text{E}[\\epsilon\\epsilon^T] \\\\\n",
    "    &= \\text{E}[(M\\epsilon)(M\\epsilon)^T] \\\\\n",
    "    &= \\text{E}[M\\epsilon\\epsilon^TM] \\\\\n",
    "    &= M\\text{E}[\\epsilon\\epsilon^T]M^T \\\\\n",
    "    &= M\\sigma^2IM^T \\\\\n",
    "    &= \\sigma^2MM^T \\\\\n",
    "    &= \\sigma^2MM \\\\\n",
    "    &= \\sigma^2M \\\\\n",
    "    &= \\sigma^2(I-H) \\\\\n",
    "\\end{aligned}$\n",
    "\n",
    "- 3) `개별적인 잔차의 표준편차 : 영향도 행렬의 대각성분`\n",
    "    - $\\text{Var}[e_i] = \\sigma^2(1 - h_{ii})$\n",
    "    - **오차(잡음)의 표준편차는 모든 표본에 대해서 같지만, 개별적인 잔차의 표준편차는 레버리지에 따라서 달라진다는 것을 의미한다.**\n",
    "\n",
    "- 4) `오차의 분산 추정 : 잔차의 분산으로 추정한다.`\n",
    "    - $\\text{Var}[e_i] \\approx s^2(1 - h_{ii})$\n",
    "\n",
    "- 5) `오차의 표준편차의 추정값`\n",
    "    - $s^2 = \\dfrac{e^Te}{N-K} = \\dfrac{RSS}{N-K}$\n",
    "\n",
    "- 6) `표준화 잔차 standardized residual, normalized residual, studentized residual`\n",
    "    - 잔차를 레버리지(hii)와 잔차의 표준 편차(s)로 나누어 동일한 표준편차를 가지도록 스케일링한 것\n",
    "    - $r_i = \\dfrac{e_i}{s\\sqrt{1-h_{ii}}}$"
   ]
  },
  {
   "cell_type": "markdown",
   "id": "e25ba6ba",
   "metadata": {},
   "source": [
    "### 5-1. stats models로 개별 데이터의 잔차 계산"
   ]
  },
  {
   "cell_type": "code",
   "execution_count": 47,
   "id": "5f2d600c",
   "metadata": {},
   "outputs": [
    {
     "data": {
      "image/png": "[encoded data removed]",
      "text/plain": [
       "<Figure size 720x144 with 1 Axes>"
      ]
     },
     "metadata": {
      "image/png": {
       "height": 159,
       "width": 598
      },
      "needs_background": "light"
     },
     "output_type": "display_data"
    }
   ],
   "source": [
    "plt.figure(figsize=(10, 2))\n",
    "plt.stem(result.resid)\n",
    "plt.title(\"각 데이터의 잔차\")\n",
    "plt.show() ; "
   ]
  },
  {
   "cell_type": "code",
   "execution_count": 51,
   "id": "527aaf14",
   "metadata": {},
   "outputs": [
    {
     "data": {
      "text/plain": [
       "0     -10.871355\n",
       "1       5.616699\n",
       "2     -18.768529\n",
       "3      38.145327\n",
       "4      22.021870\n",
       "         ...    \n",
       "97     13.935836\n",
       "98     44.547812\n",
       "99    -14.534512\n",
       "100   -16.607976\n",
       "101   -88.270097\n",
       "Length: 102, dtype: float64"
      ]
     },
     "execution_count": 51,
     "metadata": {},
     "output_type": "execute_result"
    }
   ],
   "source": [
    "result.resid"
   ]
  },
  {
   "cell_type": "markdown",
   "id": "89948c5e",
   "metadata": {},
   "source": [
    "### 5-2. 표준화 잔차 계산\n",
    "- 동일한 표준편차를 갖도록 계산한 것\n",
    "- 보통 표준화 잔차가 2~4보다 크면 아웃라이어로 본다.\n",
    "- result.resid_pearson 속성에 들어 있다."
   ]
  },
  {
   "cell_type": "code",
   "execution_count": 48,
   "id": "802b53e6",
   "metadata": {},
   "outputs": [
    {
     "data": {
      "image/png": "[encoded data removed]",
      "text/plain": [
       "<Figure size 720x144 with 1 Axes>"
      ]
     },
     "metadata": {
      "image/png": {
       "height": 159,
       "width": 592
      },
      "needs_background": "light"
     },
     "output_type": "display_data"
    }
   ],
   "source": [
    "plt.figure(figsize=(10, 2))\n",
    "plt.stem(result.resid_pearson)\n",
    "plt.axhline(3, c=\"g\", ls=\"--\")\n",
    "plt.axhline(-3, c=\"g\", ls=\"--\")\n",
    "plt.title(\"각 데이터의 표준화 잔차\")\n",
    "plt.show() ; "
   ]
  },
  {
   "cell_type": "code",
   "execution_count": 60,
   "id": "baf1910c",
   "metadata": {},
   "outputs": [
    {
     "data": {
      "text/plain": [
       "array([2.33143144, 2.17550594, 2.32624487, 2.15376846])"
      ]
     },
     "execution_count": 60,
     "metadata": {},
     "output_type": "execute_result"
    }
   ],
   "source": [
    "result.resid_pearson[result.resid_pearson > 2]"
   ]
  },
  {
   "cell_type": "code",
   "execution_count": 61,
   "id": "c02a2e56",
   "metadata": {},
   "outputs": [
    {
     "data": {
      "text/plain": [
       "array([-2.16087567, -2.16663468, -4.26762488])"
      ]
     },
     "execution_count": 61,
     "metadata": {},
     "output_type": "execute_result"
    }
   ],
   "source": [
    "result.resid_pearson[result.resid_pearson < -2]"
   ]
  },
  {
   "cell_type": "code",
   "execution_count": 59,
   "id": "d2ee61d1",
   "metadata": {},
   "outputs": [
    {
     "data": {
      "text/plain": [
       "array([-4.26762488])"
      ]
     },
     "execution_count": 59,
     "metadata": {},
     "output_type": "execute_result"
    }
   ],
   "source": [
    "result.resid_pearson[result.resid_pearson < -4]"
   ]
  },
  {
   "cell_type": "code",
   "execution_count": 62,
   "id": "0a55cb37",
   "metadata": {},
   "outputs": [
    {
     "data": {
      "text/plain": [
       "(array([101], dtype=int64),)"
      ]
     },
     "execution_count": 62,
     "metadata": {},
     "output_type": "execute_result"
    }
   ],
   "source": [
    "np.where(result.resid_pearson < -4)"
   ]
  },
  {
   "cell_type": "markdown",
   "id": "53e2c513",
   "metadata": {},
   "source": [
    "## 6. Cook's Distance와 Fox outlier Recommendation\n",
    "- `쿡스 디스턴스 cooks distance` : **레버리지와 잔차의 크기를 동시에 보기 위한 기준**\n",
    "    - 레버리지 : hat 행렬에서 대각성분, 종속값 y가 예측값을 끌어당기는 정도\n",
    "    - 아웃라이어 : 잔차의 크기가 큰 데이터, 표준화 된 잔차의 크기가 2~4보다 큰 데이터\n",
    "    - $D_i = \\dfrac{r_i^2}{RSS} \\left[ \\dfrac{h_{ii}}{(1-h_{ii})^2} \\right]$\n",
    "- `폭스 아웃라이어 레코맨데이션 fox's outlier recommendation` : 아웃라이어 판단기준, 쿡스 디스턴스가 특정한 크기보다 큰 경우에 아웃라이어라고 판단한다.\n",
    "    - $D_i > \\dfrac{4}{N-K-1}$\n",
    "    - N : 데이터의 갯수 : 행의 갯수 \n",
    "    - K : 독립변수의 갯수 : 열의 갯수 : 레버리지의 총합"
   ]
  },
  {
   "cell_type": "markdown",
   "id": "689e4e03",
   "metadata": {},
   "source": [
    "### 6-1. 데이터의 레버리지와 아웃라이어\n",
    "- x축 : 표준화 잔차의 제곱\n",
    "- y축 : 레버리지 값    "
   ]
  },
  {
   "cell_type": "code",
   "execution_count": 87,
   "id": "741e68bd",
   "metadata": {},
   "outputs": [
    {
     "data": {
      "image/png": "[encoded data removed]",
      "text/plain": [
       "<Figure size 432x360 with 1 Axes>"
      ]
     },
     "metadata": {
      "image/png": {
       "height": 338,
       "width": 395
      },
      "needs_background": "light"
     },
     "output_type": "display_data"
    }
   ],
   "source": [
    "plt.figure(figsize=(6, 5))\n",
    "ax = plt.subplot()\n",
    "sm.graphics.plot_leverage_resid2(result, ax=ax)\n",
    "plt.show() "
   ]
  },
  {
   "cell_type": "markdown",
   "id": "69c6df7b",
   "metadata": {},
   "source": [
    "### 6-2. 쿡스 디스턴스를 버블로 나타내기"
   ]
  },
  {
   "cell_type": "code",
   "execution_count": 85,
   "id": "c42dbd11",
   "metadata": {},
   "outputs": [
    {
     "data": {
      "image/png": "[encoded data removed]",
      "text/plain": [
       "<Figure size 576x432 with 1 Axes>"
      ]
     },
     "metadata": {
      "image/png": {
       "height": 399,
       "width": 500
      },
      "needs_background": "light"
     },
     "output_type": "display_data"
    }
   ],
   "source": [
    "plt.figure(figsize=(8, 6))\n",
    "ax = plt.subplot()\n",
    "sm.graphics.influence_plot(result, plot_alpha=0.3, ax=ax)\n",
    "plt.show() ; "
   ]
  },
  {
   "cell_type": "markdown",
   "id": "baab3ff8",
   "metadata": {},
   "source": [
    "### 6-3. Fox Recommendation"
   ]
  },
  {
   "cell_type": "code",
   "execution_count": 69,
   "id": "37b39710",
   "metadata": {},
   "outputs": [],
   "source": [
    "from statsmodels.graphics import utils"
   ]
  },
  {
   "cell_type": "code",
   "execution_count": 71,
   "id": "cb101d3b",
   "metadata": {},
   "outputs": [
    {
     "data": {
      "text/plain": [
       "<statsmodels.stats.outliers_influence.OLSInfluence at 0x1b8a52ed688>"
      ]
     },
     "execution_count": 71,
     "metadata": {},
     "output_type": "execute_result"
    }
   ],
   "source": [
    "influence"
   ]
  },
  {
   "cell_type": "markdown",
   "id": "cce2724b",
   "metadata": {},
   "source": [
    "#### 쿡스디스턴스와 pvalue"
   ]
  },
  {
   "cell_type": "code",
   "execution_count": 72,
   "id": "1212d2d7",
   "metadata": {
    "scrolled": true
   },
   "outputs": [],
   "source": [
    "cooks_d2, pvals = influence.cooks_distance"
   ]
  },
  {
   "cell_type": "code",
   "execution_count": 73,
   "id": "0043ca85",
   "metadata": {
    "scrolled": true
   },
   "outputs": [
    {
     "data": {
      "text/plain": [
       "array([2.16000988e-03, 4.22341642e-04, 4.66327219e-03, 2.40265790e-02,\n",
       "       1.72975310e-02, 2.57110878e-06, 1.46187360e-03, 1.06555613e-02,\n",
       "       1.72049320e-03, 2.11472589e-04, 2.08861459e-05, 5.68947774e-03,\n",
       "       4.60980279e-03, 2.64449872e-02, 5.80796481e-04, 3.54186637e-06,\n",
       "       1.47997811e-03, 1.39757537e-02, 4.99794666e-03, 2.03869419e-02,\n",
       "       9.15599351e-04, 1.26912358e-03, 6.49133537e-04, 7.28832195e-04,\n",
       "       1.01732718e-03, 1.52298165e-03, 4.78691283e-04, 2.68107719e-04,\n",
       "       5.77064963e-03, 1.62639223e-03, 4.77921666e-05, 7.05558610e-04,\n",
       "       8.43815871e-06, 1.85884423e-04, 4.13175489e-02, 3.03377224e-03,\n",
       "       1.53280335e-02, 8.56457535e-02, 2.19465551e-02, 1.15236022e-03,\n",
       "       3.16693207e-04, 5.50861521e-03, 1.29663630e-03, 1.09070156e-03,\n",
       "       5.40759364e-03, 7.87182978e-06, 7.41302593e-03, 3.13347731e-03,\n",
       "       1.03475017e-04, 9.39786637e-04, 1.06725791e-02, 3.31927406e-05,\n",
       "       1.28885064e-02, 1.52074992e-05, 2.59061535e-03, 1.22490866e-03,\n",
       "       6.95500906e-05, 3.33512129e-03, 2.72088931e-02, 3.87849468e-04,\n",
       "       3.31446307e-03, 2.51749685e-03, 1.87718588e-02, 1.39437897e-04,\n",
       "       1.04807063e-03, 3.57360199e-03, 4.46478653e-05, 6.13002936e-05,\n",
       "       1.18963934e-02, 1.75810174e-03, 3.05439623e-03, 3.22710958e-03,\n",
       "       1.67586907e-02, 2.51914581e-05, 1.58794238e-03, 5.36900611e-03,\n",
       "       1.19195154e-02, 7.46471563e-05, 1.52886524e-03, 5.03247907e-03,\n",
       "       4.37534972e-02, 4.19451039e-02, 3.89247658e-03, 2.06800737e-03,\n",
       "       1.22565054e-02, 7.81026038e-04, 1.05129294e-04, 1.63828366e-04,\n",
       "       2.01379031e-03, 1.44885562e-01, 1.12050095e-02, 2.75604556e-03,\n",
       "       1.32852023e-04, 6.36777496e-03, 4.83958949e-06, 2.06946179e-04,\n",
       "       5.85998516e-05, 2.28603647e-03, 2.33654090e-02, 2.72670995e-03,\n",
       "       7.10449290e-02, 9.98048026e-01])"
      ]
     },
     "execution_count": 73,
     "metadata": {},
     "output_type": "execute_result"
    }
   ],
   "source": [
    "cooks_d2"
   ]
  },
  {
   "cell_type": "code",
   "execution_count": 74,
   "id": "ea6ad956",
   "metadata": {
    "scrolled": true
   },
   "outputs": [
    {
     "data": {
      "text/plain": [
       "array([0.99784237, 0.99957775, 0.9953478 , 0.9762654 , 0.98285415,\n",
       "       0.99999743, 0.99853922, 0.98940213, 0.99828102, 0.99978855,\n",
       "       0.99997911, 0.994327  , 0.99540102, 0.97390843, 0.99941938,\n",
       "       0.99999646, 0.99852114, 0.98612338, 0.99501477, 0.97982354,\n",
       "       0.99908483, 0.9987317 , 0.99935108, 0.99927144, 0.9989832 ,\n",
       "       0.9984782 , 0.99952143, 0.99973193, 0.9942463 , 0.99837496,\n",
       "       0.99995221, 0.9992947 , 0.99999156, 0.99981413, 0.95954076,\n",
       "       0.99697092, 0.98479116, 0.9179866 , 0.97829723, 0.99884832,\n",
       "       0.99968336, 0.99450683, 0.99870422, 0.9989099 , 0.99460729,\n",
       "       0.99999213, 0.99261493, 0.99687152, 0.99989653, 0.99906066,\n",
       "       0.9893853 , 0.99996681, 0.98719583, 0.99998479, 0.9974128 ,\n",
       "       0.99877586, 0.99993045, 0.99667054, 0.97316514, 0.99961223,\n",
       "       0.99669113, 0.99748573, 0.98140669, 0.99986057, 0.99895249,\n",
       "       0.9964329 , 0.99995535, 0.9999387 , 0.98817549, 0.99824347,\n",
       "       0.99695036, 0.9967782 , 0.98338372, 0.99997481, 0.99841334,\n",
       "       0.99464567, 0.98815264, 0.99992536, 0.99847233, 0.99498041,\n",
       "       0.95720819, 0.95893928, 0.99611524, 0.99793417, 0.98781978,\n",
       "       0.99921928, 0.99989488, 0.99983619, 0.99798828, 0.86530256,\n",
       "       0.98885877, 0.99724782, 0.99986716, 0.99365286, 0.99999516,\n",
       "       0.99979308, 0.9999414 , 0.99771663, 0.97691078, 0.99727708,\n",
       "       0.93146701, 0.37223957])"
      ]
     },
     "execution_count": 74,
     "metadata": {},
     "output_type": "execute_result"
    }
   ],
   "source": [
    "pvals"
   ]
  },
  {
   "cell_type": "markdown",
   "id": "bb8f58a5",
   "metadata": {},
   "source": [
    "#### 독립변수의 갯수?"
   ]
  },
  {
   "cell_type": "code",
   "execution_count": 75,
   "id": "6766cce0",
   "metadata": {},
   "outputs": [
    {
     "data": {
      "text/plain": [
       "2"
      ]
     },
     "execution_count": 75,
     "metadata": {},
     "output_type": "execute_result"
    }
   ],
   "source": [
    "K = influence.k_vars\n",
    "K"
   ]
  },
  {
   "cell_type": "code",
   "execution_count": 76,
   "id": "c89ea7b5",
   "metadata": {},
   "outputs": [
    {
     "data": {
      "text/plain": [
       "int"
      ]
     },
     "execution_count": 76,
     "metadata": {},
     "output_type": "execute_result"
    }
   ],
   "source": [
    "type(K)"
   ]
  },
  {
   "cell_type": "markdown",
   "id": "64763db9",
   "metadata": {},
   "source": [
    "#### 폭스 추천값 계산"
   ]
  },
  {
   "cell_type": "code",
   "execution_count": 78,
   "id": "c7ef23fd",
   "metadata": {},
   "outputs": [
    {
     "data": {
      "text/plain": [
       "0.04040404040404041"
      ]
     },
     "execution_count": 78,
     "metadata": {},
     "output_type": "execute_result"
    }
   ],
   "source": [
    "fox_cr = 4 / (len(y) - K - 1)\n",
    "fox_cr"
   ]
  },
  {
   "cell_type": "markdown",
   "id": "ab406f3d",
   "metadata": {},
   "source": [
    "#### 쿡스디스턴스 값이 폭스 추천값보다 크면 아웃라이어로 본다."
   ]
  },
  {
   "cell_type": "code",
   "execution_count": 80,
   "id": "9c8ed121",
   "metadata": {},
   "outputs": [
    {
     "data": {
      "text/plain": [
       "array([ 34,  37,  80,  81,  89, 100, 101], dtype=int64)"
      ]
     },
     "execution_count": 80,
     "metadata": {},
     "output_type": "execute_result"
    }
   ],
   "source": [
    "np.where(cooks_d2 > fox_cr)[0]"
   ]
  },
  {
   "cell_type": "code",
   "execution_count": 81,
   "id": "35bf4490",
   "metadata": {},
   "outputs": [
    {
     "data": {
      "text/plain": [
       "array([ 34,  37,  80,  81,  89, 100, 101], dtype=int64)"
      ]
     },
     "execution_count": 81,
     "metadata": {},
     "output_type": "execute_result"
    }
   ],
   "source": [
    "idx = np.where(cooks_d2 > fox_cr)[0]\n",
    "idx"
   ]
  },
  {
   "cell_type": "code",
   "execution_count": 83,
   "id": "1424c952",
   "metadata": {},
   "outputs": [
    {
     "data": {
      "image/png": "[encoded data removed]",
      "text/plain": [
       "<Figure size 576x432 with 1 Axes>"
      ]
     },
     "metadata": {
      "image/png": {
       "height": 376,
       "width": 492
      },
      "needs_background": "light"
     },
     "output_type": "display_data"
    }
   ],
   "source": [
    "plt.figure(figsize=(8, 6))\n",
    "ax = plt.subplot()\n",
    "plt.scatter(X0, y)\n",
    "plt.scatter(X0[idx], y[idx], s=300, c=\"r\", alpha=0.5)\n",
    "utils.annotate_axes(range(len(idx)), idx,\n",
    "                   list(zip(X0[idx], y[idx])), [(-20, 15)] * len(idx), size=\"small\",\n",
    "                   ax=ax)\n",
    "plt.title(\"Fox Recommendation으로 선택한 아웃라이어\")\n",
    "plt.show() ; "
   ]
  },
  {
   "cell_type": "markdown",
   "id": "5a60a83a",
   "metadata": {},
   "source": [
    "## 7. 보스턴 집값 예측 문제\n",
    "- 보스턴 집값 데이터에서 아웃라이어를 적용해 보기"
   ]
  },
  {
   "cell_type": "code",
   "execution_count": 1,
   "id": "294f7c4e",
   "metadata": {},
   "outputs": [],
   "source": [
    "from sklearn.datasets import load_boston"
   ]
  },
  {
   "cell_type": "code",
   "execution_count": 3,
   "id": "2bc4a253",
   "metadata": {
    "scrolled": true
   },
   "outputs": [
    {
     "name": "stdout",
     "output_type": "stream",
     "text": [
      "{'data': array([[6.3200e-03, 1.8000e+01, 2.3100e+00, ..., 1.5300e+01, 3.9690e+02,\n",
      "        4.9800e+00],\n",
      "       [2.7310e-02, 0.0000e+00, 7.0700e+00, ..., 1.7800e+01, 3.9690e+02,\n",
      "        9.1400e+00],\n",
      "       [2.7290e-02, 0.0000e+00, 7.0700e+00, ..., 1.7800e+01, 3.9283e+02,\n",
      "        4.0300e+00],\n",
      "       ...,\n",
      "       [6.0760e-02, 0.0000e+00, 1.1930e+01, ..., 2.1000e+01, 3.9690e+02,\n",
      "        5.6400e+00],\n",
      "       [1.0959e-01, 0.0000e+00, 1.1930e+01, ..., 2.1000e+01, 3.9345e+02,\n",
      "        6.4800e+00],\n",
      "       [4.7410e-02, 0.0000e+00, 1.1930e+01, ..., 2.1000e+01, 3.9690e+02,\n",
      "        7.8800e+00]]), 'target': array([24. , 21.6, 34.7, 33.4, 36.2, 28.7, 22.9, 27.1, 16.5, 18.9, 15. ,\n",
      "       18.9, 21.7, 20.4, 18.2, 19.9, 23.1, 17.5, 20.2, 18.2, 13.6, 19.6,\n",
      "       15.2, 14.5, 15.6, 13.9, 16.6, 14.8, 18.4, 21. , 12.7, 14.5, 13.2,\n",
      "       13.1, 13.5, 18.9, 20. , 21. , 24.7, 30.8, 34.9, 26.6, 25.3, 24.7,\n",
      "       21.2, 19.3, 20. , 16.6, 14.4, 19.4, 19.7, 20.5, 25. , 23.4, 18.9,\n",
      "       35.4, 24.7, 31.6, 23.3, 19.6, 18.7, 16. , 22.2, 25. , 33. , 23.5,\n",
      "       19.4, 22. , 17.4, 20.9, 24.2, 21.7, 22.8, 23.4, 24.1, 21.4, 20. ,\n",
      "       20.8, 21.2, 20.3, 28. , 23.9, 24.8, 22.9, 23.9, 26.6, 22.5, 22.2,\n",
      "       23.6, 28.7, 22.6, 22. , 22.9, 25. , 20.6, 28.4, 21.4, 38.7, 43.8,\n",
      "       33.2, 27.5, 26.5, 18.6, 19.3, 20.1, 19.5, 19.5, 20.4, 19.8, 19.4,\n",
      "       21.7, 22.8, 18.8, 18.7, 18.5, 18.3, 21.2, 19.2, 20.4, 19.3, 22. ,\n",
      "       20.3, 20.5, 17.3, 18.8, 21.4, 15.7, 16.2, 18. , 14.3, 19.2, 19.6,\n",
      "       23. , 18.4, 15.6, 18.1, 17.4, 17.1, 13.3, 17.8, 14. , 14.4, 13.4,\n",
      "       15.6, 11.8, 13.8, 15.6, 14.6, 17.8, 15.4, 21.5, 19.6, 15.3, 19.4,\n",
      "       17. , 15.6, 13.1, 41.3, 24.3, 23.3, 27. , 50. , 50. , 50. , 22.7,\n",
      "       25. , 50. , 23.8, 23.8, 22.3, 17.4, 19.1, 23.1, 23.6, 22.6, 29.4,\n",
      "       23.2, 24.6, 29.9, 37.2, 39.8, 36.2, 37.9, 32.5, 26.4, 29.6, 50. ,\n",
      "       32. , 29.8, 34.9, 37. , 30.5, 36.4, 31.1, 29.1, 50. , 33.3, 30.3,\n",
      "       34.6, 34.9, 32.9, 24.1, 42.3, 48.5, 50. , 22.6, 24.4, 22.5, 24.4,\n",
      "       20. , 21.7, 19.3, 22.4, 28.1, 23.7, 25. , 23.3, 28.7, 21.5, 23. ,\n",
      "       26.7, 21.7, 27.5, 30.1, 44.8, 50. , 37.6, 31.6, 46.7, 31.5, 24.3,\n",
      "       31.7, 41.7, 48.3, 29. , 24. , 25.1, 31.5, 23.7, 23.3, 22. , 20.1,\n",
      "       22.2, 23.7, 17.6, 18.5, 24.3, 20.5, 24.5, 26.2, 24.4, 24.8, 29.6,\n",
      "       42.8, 21.9, 20.9, 44. , 50. , 36. , 30.1, 33.8, 43.1, 48.8, 31. ,\n",
      "       36.5, 22.8, 30.7, 50. , 43.5, 20.7, 21.1, 25.2, 24.4, 35.2, 32.4,\n",
      "       32. , 33.2, 33.1, 29.1, 35.1, 45.4, 35.4, 46. , 50. , 32.2, 22. ,\n",
      "       20.1, 23.2, 22.3, 24.8, 28.5, 37.3, 27.9, 23.9, 21.7, 28.6, 27.1,\n",
      "       20.3, 22.5, 29. , 24.8, 22. , 26.4, 33.1, 36.1, 28.4, 33.4, 28.2,\n",
      "       22.8, 20.3, 16.1, 22.1, 19.4, 21.6, 23.8, 16.2, 17.8, 19.8, 23.1,\n",
      "       21. , 23.8, 23.1, 20.4, 18.5, 25. , 24.6, 23. , 22.2, 19.3, 22.6,\n",
      "       19.8, 17.1, 19.4, 22.2, 20.7, 21.1, 19.5, 18.5, 20.6, 19. , 18.7,\n",
      "       32.7, 16.5, 23.9, 31.2, 17.5, 17.2, 23.1, 24.5, 26.6, 22.9, 24.1,\n",
      "       18.6, 30.1, 18.2, 20.6, 17.8, 21.7, 22.7, 22.6, 25. , 19.9, 20.8,\n",
      "       16.8, 21.9, 27.5, 21.9, 23.1, 50. , 50. , 50. , 50. , 50. , 13.8,\n",
      "       13.8, 15. , 13.9, 13.3, 13.1, 10.2, 10.4, 10.9, 11.3, 12.3,  8.8,\n",
      "        7.2, 10.5,  7.4, 10.2, 11.5, 15.1, 23.2,  9.7, 13.8, 12.7, 13.1,\n",
      "       12.5,  8.5,  5. ,  6.3,  5.6,  7.2, 12.1,  8.3,  8.5,  5. , 11.9,\n",
      "       27.9, 17.2, 27.5, 15. , 17.2, 17.9, 16.3,  7. ,  7.2,  7.5, 10.4,\n",
      "        8.8,  8.4, 16.7, 14.2, 20.8, 13.4, 11.7,  8.3, 10.2, 10.9, 11. ,\n",
      "        9.5, 14.5, 14.1, 16.1, 14.3, 11.7, 13.4,  9.6,  8.7,  8.4, 12.8,\n",
      "       10.5, 17.1, 18.4, 15.4, 10.8, 11.8, 14.9, 12.6, 14.1, 13. , 13.4,\n",
      "       15.2, 16.1, 17.8, 14.9, 14.1, 12.7, 13.5, 14.9, 20. , 16.4, 17.7,\n",
      "       19.5, 20.2, 21.4, 19.9, 19. , 19.1, 19.1, 20.1, 19.9, 19.6, 23.2,\n",
      "       29.8, 13.8, 13.3, 16.7, 12. , 14.6, 21.4, 23. , 23.7, 25. , 21.8,\n",
      "       20.6, 21.2, 19.1, 20.6, 15.2,  7. ,  8.1, 13.6, 20.1, 21.8, 24.5,\n",
      "       23.1, 19.7, 18.3, 21.2, 17.5, 16.8, 22.4, 20.6, 23.9, 22. , 11.9]), 'feature_names': array(['CRIM', 'ZN', 'INDUS', 'CHAS', 'NOX', 'RM', 'AGE', 'DIS', 'RAD',\n",
      "       'TAX', 'PTRATIO', 'B', 'LSTAT'], dtype='<U7'), 'DESCR': \".. _boston_dataset:\\n\\nBoston house prices dataset\\n---------------------------\\n\\n**Data Set Characteristics:**  \\n\\n    :Number of Instances: 506 \\n\\n    :Number of Attributes: 13 numeric/categorical predictive. Median Value (attribute 14) is usually the target.\\n\\n    :Attribute Information (in order):\\n        - CRIM     per capita crime rate by town\\n        - ZN       proportion of residential land zoned for lots over 25,000 sq.ft.\\n        - INDUS    proportion of non-retail business acres per town\\n        - CHAS     Charles River dummy variable (= 1 if tract bounds river; 0 otherwise)\\n        - NOX      nitric oxides concentration (parts per 10 million)\\n        - RM       average number of rooms per dwelling\\n        - AGE      proportion of owner-occupied units built prior to 1940\\n        - DIS      weighted distances to five Boston employment centres\\n        - RAD      index of accessibility to radial highways\\n        - TAX      full-value property-tax rate per $10,000\\n        - PTRATIO  pupil-teacher ratio by town\\n        - B        1000(Bk - 0.63)^2 where Bk is the proportion of black people by town\\n        - LSTAT    % lower status of the population\\n        - MEDV     Median value of owner-occupied homes in $1000's\\n\\n    :Missing Attribute Values: None\\n\\n    :Creator: Harrison, D. and Rubinfeld, D.L.\\n\\nThis is a copy of UCI ML housing dataset.\\nhttps://archive.ics.uci.edu/ml/machine-learning-databases/housing/\\n\\n\\nThis dataset was taken from the StatLib library which is maintained at Carnegie Mellon University.\\n\\nThe Boston house-price data of Harrison, D. and Rubinfeld, D.L. 'Hedonic\\nprices and the demand for clean air', J. Environ. Economics & Management,\\nvol.5, 81-102, 1978.   Used in Belsley, Kuh & Welsch, 'Regression diagnostics\\n...', Wiley, 1980.   N.B. Various transformations are used in the table on\\npages 244-261 of the latter.\\n\\nThe Boston house-price data has been used in many machine learning papers that address regression\\nproblems.   \\n     \\n.. topic:: References\\n\\n   - Belsley, Kuh & Welsch, 'Regression diagnostics: Identifying Influential Data and Sources of Collinearity', Wiley, 1980. 244-261.\\n   - Quinlan,R. (1993). Combining Instance-Based and Model-Based Learning. In Proceedings on the Tenth International Conference of Machine Learning, 236-243, University of Massachusetts, Amherst. Morgan Kaufmann.\\n\", 'filename': 'boston_house_prices.csv', 'data_module': 'sklearn.datasets.data'}\n"
     ]
    }
   ],
   "source": [
    "boston = load_boston()\n",
    "print(boston)"
   ]
  },
  {
   "cell_type": "code",
   "execution_count": 4,
   "id": "f6894056",
   "metadata": {},
   "outputs": [],
   "source": [
    "dfX0 = pd.DataFrame(boston.data, columns=boston.feature_names)\n",
    "dfX = sm.add_constant(dfX0)\n",
    "dfy = pd.DataFrame(boston.target, columns=[\"MEDV\"])"
   ]
  },
  {
   "cell_type": "code",
   "execution_count": 6,
   "id": "b0a3cc18",
   "metadata": {},
   "outputs": [
    {
     "data": {
      "text/html": [
       "<div>\n",
       "<style scoped>\n",
       "    .dataframe tbody tr th:only-of-type {\n",
       "        vertical-align: middle;\n",
       "    }\n",
       "\n",
       "    .dataframe tbody tr th {\n",
       "        vertical-align: top;\n",
       "    }\n",
       "\n",
       "    .dataframe thead th {\n",
       "        text-align: right;\n",
       "    }\n",
       "</style>\n",
       "<table border=\"1\" class=\"dataframe\">\n",
       "  <thead>\n",
       "    <tr style=\"text-align: right;\">\n",
       "      <th></th>\n",
       "      <th>const</th>\n",
       "      <th>CRIM</th>\n",
       "      <th>ZN</th>\n",
       "      <th>INDUS</th>\n",
       "      <th>CHAS</th>\n",
       "      <th>NOX</th>\n",
       "      <th>RM</th>\n",
       "      <th>AGE</th>\n",
       "      <th>DIS</th>\n",
       "      <th>RAD</th>\n",
       "      <th>TAX</th>\n",
       "      <th>PTRATIO</th>\n",
       "      <th>B</th>\n",
       "      <th>LSTAT</th>\n",
       "    </tr>\n",
       "  </thead>\n",
       "  <tbody>\n",
       "    <tr>\n",
       "      <th>0</th>\n",
       "      <td>1.0</td>\n",
       "      <td>0.00632</td>\n",
       "      <td>18.0</td>\n",
       "      <td>2.31</td>\n",
       "      <td>0.0</td>\n",
       "      <td>0.538</td>\n",
       "      <td>6.575</td>\n",
       "      <td>65.2</td>\n",
       "      <td>4.0900</td>\n",
       "      <td>1.0</td>\n",
       "      <td>296.0</td>\n",
       "      <td>15.3</td>\n",
       "      <td>396.90</td>\n",
       "      <td>4.98</td>\n",
       "    </tr>\n",
       "    <tr>\n",
       "      <th>1</th>\n",
       "      <td>1.0</td>\n",
       "      <td>0.02731</td>\n",
       "      <td>0.0</td>\n",
       "      <td>7.07</td>\n",
       "      <td>0.0</td>\n",
       "      <td>0.469</td>\n",
       "      <td>6.421</td>\n",
       "      <td>78.9</td>\n",
       "      <td>4.9671</td>\n",
       "      <td>2.0</td>\n",
       "      <td>242.0</td>\n",
       "      <td>17.8</td>\n",
       "      <td>396.90</td>\n",
       "      <td>9.14</td>\n",
       "    </tr>\n",
       "    <tr>\n",
       "      <th>2</th>\n",
       "      <td>1.0</td>\n",
       "      <td>0.02729</td>\n",
       "      <td>0.0</td>\n",
       "      <td>7.07</td>\n",
       "      <td>0.0</td>\n",
       "      <td>0.469</td>\n",
       "      <td>7.185</td>\n",
       "      <td>61.1</td>\n",
       "      <td>4.9671</td>\n",
       "      <td>2.0</td>\n",
       "      <td>242.0</td>\n",
       "      <td>17.8</td>\n",
       "      <td>392.83</td>\n",
       "      <td>4.03</td>\n",
       "    </tr>\n",
       "    <tr>\n",
       "      <th>3</th>\n",
       "      <td>1.0</td>\n",
       "      <td>0.03237</td>\n",
       "      <td>0.0</td>\n",
       "      <td>2.18</td>\n",
       "      <td>0.0</td>\n",
       "      <td>0.458</td>\n",
       "      <td>6.998</td>\n",
       "      <td>45.8</td>\n",
       "      <td>6.0622</td>\n",
       "      <td>3.0</td>\n",
       "      <td>222.0</td>\n",
       "      <td>18.7</td>\n",
       "      <td>394.63</td>\n",
       "      <td>2.94</td>\n",
       "    </tr>\n",
       "    <tr>\n",
       "      <th>4</th>\n",
       "      <td>1.0</td>\n",
       "      <td>0.06905</td>\n",
       "      <td>0.0</td>\n",
       "      <td>2.18</td>\n",
       "      <td>0.0</td>\n",
       "      <td>0.458</td>\n",
       "      <td>7.147</td>\n",
       "      <td>54.2</td>\n",
       "      <td>6.0622</td>\n",
       "      <td>3.0</td>\n",
       "      <td>222.0</td>\n",
       "      <td>18.7</td>\n",
       "      <td>396.90</td>\n",
       "      <td>5.33</td>\n",
       "    </tr>\n",
       "  </tbody>\n",
       "</table>\n",
       "</div>"
      ],
      "text/plain": [
       "   const     CRIM    ZN  INDUS  CHAS    NOX     RM   AGE     DIS  RAD    TAX  \\\n",
       "0    1.0  0.00632  18.0   2.31   0.0  0.538  6.575  65.2  4.0900  1.0  296.0   \n",
       "1    1.0  0.02731   0.0   7.07   0.0  0.469  6.421  78.9  4.9671  2.0  242.0   \n",
       "2    1.0  0.02729   0.0   7.07   0.0  0.469  7.185  61.1  4.9671  2.0  242.0   \n",
       "3    1.0  0.03237   0.0   2.18   0.0  0.458  6.998  45.8  6.0622  3.0  222.0   \n",
       "4    1.0  0.06905   0.0   2.18   0.0  0.458  7.147  54.2  6.0622  3.0  222.0   \n",
       "\n",
       "   PTRATIO       B  LSTAT  \n",
       "0     15.3  396.90   4.98  \n",
       "1     17.8  396.90   9.14  \n",
       "2     17.8  392.83   4.03  \n",
       "3     18.7  394.63   2.94  \n",
       "4     18.7  396.90   5.33  "
      ]
     },
     "execution_count": 6,
     "metadata": {},
     "output_type": "execute_result"
    }
   ],
   "source": [
    "dfX.head()"
   ]
  },
  {
   "cell_type": "code",
   "execution_count": 7,
   "id": "a16eed4f",
   "metadata": {},
   "outputs": [
    {
     "data": {
      "text/html": [
       "<div>\n",
       "<style scoped>\n",
       "    .dataframe tbody tr th:only-of-type {\n",
       "        vertical-align: middle;\n",
       "    }\n",
       "\n",
       "    .dataframe tbody tr th {\n",
       "        vertical-align: top;\n",
       "    }\n",
       "\n",
       "    .dataframe thead th {\n",
       "        text-align: right;\n",
       "    }\n",
       "</style>\n",
       "<table border=\"1\" class=\"dataframe\">\n",
       "  <thead>\n",
       "    <tr style=\"text-align: right;\">\n",
       "      <th></th>\n",
       "      <th>MEDV</th>\n",
       "    </tr>\n",
       "  </thead>\n",
       "  <tbody>\n",
       "    <tr>\n",
       "      <th>0</th>\n",
       "      <td>24.0</td>\n",
       "    </tr>\n",
       "    <tr>\n",
       "      <th>1</th>\n",
       "      <td>21.6</td>\n",
       "    </tr>\n",
       "    <tr>\n",
       "      <th>2</th>\n",
       "      <td>34.7</td>\n",
       "    </tr>\n",
       "    <tr>\n",
       "      <th>3</th>\n",
       "      <td>33.4</td>\n",
       "    </tr>\n",
       "    <tr>\n",
       "      <th>4</th>\n",
       "      <td>36.2</td>\n",
       "    </tr>\n",
       "  </tbody>\n",
       "</table>\n",
       "</div>"
      ],
      "text/plain": [
       "   MEDV\n",
       "0  24.0\n",
       "1  21.6\n",
       "2  34.7\n",
       "3  33.4\n",
       "4  36.2"
      ]
     },
     "execution_count": 7,
     "metadata": {},
     "output_type": "execute_result"
    }
   ],
   "source": [
    "dfy.head()"
   ]
  },
  {
   "cell_type": "markdown",
   "id": "42aed9cf",
   "metadata": {},
   "source": [
    "### 7-1. OLS 분석"
   ]
  },
  {
   "cell_type": "code",
   "execution_count": 8,
   "id": "b40149e5",
   "metadata": {},
   "outputs": [],
   "source": [
    "model_boston = sm.OLS(dfy, dfX)\n",
    "result_boston = model_boston.fit()\n",
    "pred = result_boston.predict(dfX)"
   ]
  },
  {
   "cell_type": "code",
   "execution_count": 10,
   "id": "fad4ec87",
   "metadata": {},
   "outputs": [
    {
     "name": "stdout",
     "output_type": "stream",
     "text": [
      "                            OLS Regression Results                            \n",
      "==============================================================================\n",
      "Dep. Variable:                   MEDV   R-squared:                       0.741\n",
      "Model:                            OLS   Adj. R-squared:                  0.734\n",
      "Method:                 Least Squares   F-statistic:                     108.1\n",
      "Date:                Thu, 14 Jul 2022   Prob (F-statistic):          6.72e-135\n",
      "Time:                        14:48:38   Log-Likelihood:                -1498.8\n",
      "No. Observations:                 506   AIC:                             3026.\n",
      "Df Residuals:                     492   BIC:                             3085.\n",
      "Df Model:                          13                                         \n",
      "Covariance Type:            nonrobust                                         \n",
      "==============================================================================\n",
      "                 coef    std err          t      P>|t|      [0.025      0.975]\n",
      "------------------------------------------------------------------------------\n",
      "const         36.4595      5.103      7.144      0.000      26.432      46.487\n",
      "CRIM          -0.1080      0.033     -3.287      0.001      -0.173      -0.043\n",
      "ZN             0.0464      0.014      3.382      0.001       0.019       0.073\n",
      "INDUS          0.0206      0.061      0.334      0.738      -0.100       0.141\n",
      "CHAS           2.6867      0.862      3.118      0.002       0.994       4.380\n",
      "NOX          -17.7666      3.820     -4.651      0.000     -25.272     -10.262\n",
      "RM             3.8099      0.418      9.116      0.000       2.989       4.631\n",
      "AGE            0.0007      0.013      0.052      0.958      -0.025       0.027\n",
      "DIS           -1.4756      0.199     -7.398      0.000      -1.867      -1.084\n",
      "RAD            0.3060      0.066      4.613      0.000       0.176       0.436\n",
      "TAX           -0.0123      0.004     -3.280      0.001      -0.020      -0.005\n",
      "PTRATIO       -0.9527      0.131     -7.283      0.000      -1.210      -0.696\n",
      "B              0.0093      0.003      3.467      0.001       0.004       0.015\n",
      "LSTAT         -0.5248      0.051    -10.347      0.000      -0.624      -0.425\n",
      "==============================================================================\n",
      "Omnibus:                      178.041   Durbin-Watson:                   1.078\n",
      "Prob(Omnibus):                  0.000   Jarque-Bera (JB):              783.126\n",
      "Skew:                           1.521   Prob(JB):                    8.84e-171\n",
      "Kurtosis:                       8.281   Cond. No.                     1.51e+04\n",
      "==============================================================================\n",
      "\n",
      "Notes:\n",
      "[1] Standard Errors assume that the covariance matrix of the errors is correctly specified.\n",
      "[2] The condition number is large, 1.51e+04. This might indicate that there are\n",
      "strong multicollinearity or other numerical problems.\n"
     ]
    }
   ],
   "source": [
    "print(result_boston.summary())"
   ]
  },
  {
   "cell_type": "code",
   "execution_count": 9,
   "id": "111f29cd",
   "metadata": {},
   "outputs": [
    {
     "data": {
      "text/plain": [
       "0      30.003843\n",
       "1      25.025562\n",
       "2      30.567597\n",
       "3      28.607036\n",
       "4      27.943524\n",
       "         ...    \n",
       "501    23.533341\n",
       "502    22.375719\n",
       "503    27.627426\n",
       "504    26.127967\n",
       "505    22.344212\n",
       "Length: 506, dtype: float64"
      ]
     },
     "execution_count": 9,
     "metadata": {},
     "output_type": "execute_result"
    }
   ],
   "source": [
    "pred"
   ]
  },
  {
   "cell_type": "markdown",
   "id": "3b05119e",
   "metadata": {},
   "source": [
    "### 7-2. 종속값과 예측값"
   ]
  },
  {
   "cell_type": "code",
   "execution_count": 12,
   "id": "57261404",
   "metadata": {},
   "outputs": [
    {
     "data": {
      "text/plain": [
       "[(24.0, 30.00384337701683, -6.003843377016828),\n",
       " (21.6, 25.02556237905306, -3.4255623790530585),\n",
       " (34.7, 30.567596718601564, 4.132403281398439),\n",
       " (33.4, 28.6070364887281, 4.7929635112719),\n",
       " (36.2, 27.94352423287299, 8.256475767127014),\n",
       " (28.7, 25.25628446154104, 3.44371553845896),\n",
       " (22.9, 23.001808268485394, -0.10180826848539581),\n",
       " (27.1, 19.535988428756028, 7.564011571243974),\n",
       " (16.5, 11.523636853130437, 4.976363146869563),\n",
       " (18.9, 18.92026210707599, -0.020262107075993185),\n",
       " (15.0, 18.999496511132513, -3.999496511132513),\n",
       " (18.9, 21.586795681399302, -2.6867956813993032),\n",
       " (21.7, 20.906521527835345, 0.7934784721646544),\n",
       " (20.4, 19.552902810580903, 0.8470971894190953),\n",
       " (18.2, 19.283482050090164, -1.083482050090165),\n",
       " (19.9, 19.297483208227888, 0.6025167917721106),\n",
       " (23.1, 20.527509791162295, 2.5724902088377064),\n",
       " (17.5, 16.911401346797764, 0.5885986532022365),\n",
       " (20.2, 16.178011056571858, 4.021988943428141),\n",
       " (18.2, 18.406136033332437, -0.20613603333243802),\n",
       " (13.6, 12.523857527095162, 1.0761424729048379),\n",
       " (19.6, 17.671036694915017, 1.9289633050849844),\n",
       " (15.2, 15.832881291786652, -0.6328812917866529),\n",
       " (14.5, 13.806285346354722, 0.6937146536452783),\n",
       " (15.6, 15.67833831546295, -0.07833831546295045),\n",
       " (13.9, 13.386685608607284, 0.5133143913927167),\n",
       " (16.6, 15.463976546439783, 1.1360234535602185),\n",
       " (14.8, 14.708474280635757, 0.09152571936424359),\n",
       " (18.4, 19.547372850961555, -1.1473728509615562),\n",
       " (21.0, 20.87642820226127, 0.12357179773873028),\n",
       " (12.7, 11.455117589956036, 1.2448824100439637),\n",
       " (14.5, 18.059232945802627, -3.559232945802627),\n",
       " (13.2, 8.811057362214624, 4.388942637785375),\n",
       " (13.1, 14.282758141229365, -1.1827581412293657),\n",
       " (13.5, 13.706758912850844, -0.20675891285084447),\n",
       " (18.9, 23.8146352648328, -4.9146352648328),\n",
       " (20.0, 22.341937075689064, -2.3419370756890636),\n",
       " (21.0, 23.108911424544345, -2.1089114245443454),\n",
       " (24.7, 22.9150261161652, 1.7849738838347982),\n",
       " (30.8, 31.35762568816507, -0.5576256881650679),\n",
       " (34.9, 34.21510225370056, 0.6848977462994412),\n",
       " (26.6, 28.020564138691693, -1.4205641386916916),\n",
       " (25.3, 25.20386628047907, 0.09613371952093175),\n",
       " (24.7, 24.609792725451996, 0.09020727454800337),\n",
       " (21.2, 22.941491756555216, -1.7414917565552166),\n",
       " (19.3, 22.096698174979075, -2.796698174979074),\n",
       " (20.0, 20.423200323014683, -0.423200323014683),\n",
       " (16.6, 18.036550883547335, -1.4365508835473335),\n",
       " (14.4, 9.106553772182469, 5.293446227817531),\n",
       " (19.4, 17.206077514125074, 2.193922485874925),\n",
       " (19.7, 21.281525353211403, -1.5815253532114042),\n",
       " (20.5, 23.972222848689515, -3.4722228486895155),\n",
       " (25.0, 27.65585080205745, -2.6558508020574507),\n",
       " (23.4, 24.049018091157848, -0.6490180911578491),\n",
       " (18.9, 15.361847701003676, 3.538152298996323),\n",
       " (35.4, 31.152649466035335, 4.2473505339646636),\n",
       " (24.7, 24.856869781555776, -0.1568697815557769),\n",
       " (31.6, 33.109198061646964, -1.5091980616469627),\n",
       " (23.3, 21.775379871488866, 1.5246201285111347),\n",
       " (19.6, 21.084935550631073, -1.4849355506310715),\n",
       " (18.7, 17.872580396884988, 0.8274196031150112),\n",
       " (16.0, 18.51110208022086, -2.5111020802208586),\n",
       " (22.2, 23.987428564909408, -1.7874285649094084),\n",
       " (25.0, 22.55408868888344, 2.4459113111165607),\n",
       " (33.0, 23.373086442266253, 9.626913557733747),\n",
       " (23.5, 30.361483581462824, -6.861483581462824),\n",
       " (19.4, 25.530565115204475, -6.130565115204476),\n",
       " (22.0, 21.113385641796896, 0.8866143582031043),\n",
       " (17.4, 17.421537856548362, -0.021537856548363266),\n",
       " (20.9, 20.784836326695967, 0.11516367330403199),\n",
       " (24.2, 25.201488594435766, -1.0014885944357665),\n",
       " (21.7, 21.742657704530604, -0.04265770453060469),\n",
       " (22.8, 24.557449572150276, -1.757449572150275),\n",
       " (23.4, 24.042957120125813, -0.6429571201258142),\n",
       " (24.1, 25.504997163713796, -1.4049971637137944),\n",
       " (21.4, 23.966930200264297, -2.5669302002642986),\n",
       " (20.0, 22.94545403132902, -2.945454031329021),\n",
       " (20.8, 23.35699818434833, -2.5569981843483305),\n",
       " (21.2, 21.261982662306295, -0.061982662306295566),\n",
       " (20.3, 22.42817373180159, -2.1281737318015885),\n",
       " (28.0, 28.405769682084188, -0.4057696820841876),\n",
       " (23.9, 26.994860862319754, -3.0948608623197558),\n",
       " (24.8, 26.03576296838906, -1.2357629683890607),\n",
       " (22.9, 25.058734819221456, -2.1587348192214577),\n",
       " (23.9, 24.78456673793286, -0.884566737932861),\n",
       " (26.6, 27.790491951237282, -1.1904919512372807),\n",
       " (22.5, 22.168534231467095, 0.33146576853290455),\n",
       " (22.2, 25.892764153167736, -3.6927641531677367),\n",
       " (23.6, 30.674618271761826, -7.074618271761825),\n",
       " (28.7, 30.831106227424442, -2.131106227424443),\n",
       " (22.6, 27.119019396048728, -4.519019396048726),\n",
       " (22.0, 27.412667341118684, -5.412667341118684),\n",
       " (22.9, 28.941227624397122, -6.0412276243971235),\n",
       " (25.0, 29.081055462579425, -4.081055462579425),\n",
       " (20.6, 27.03977364876311, -6.439773648763108),\n",
       " (28.4, 28.624599485046055, -0.2245994850460562),\n",
       " (21.4, 24.72744977643679, -3.32744977643679),\n",
       " (38.7, 35.78159518085922, 2.9184048191407825),\n",
       " (43.8, 35.11454587262249, 8.685454127377504),\n",
       " (33.2, 32.251028013234134, 0.9489719867658692),\n",
       " (27.5, 24.580220188923754, 2.9197798110762463),\n",
       " (26.5, 25.59413474573373, 0.9058652542662706),\n",
       " (18.6, 19.79013683546425, -1.1901368354642479),\n",
       " (19.3, 20.31167128756198, -1.0116712875619776),\n",
       " (20.1, 21.434825911454006, -1.3348259114540042),\n",
       " (19.5, 18.539940081603973, 0.960059918396027),\n",
       " (19.5, 17.1875599178159, 2.3124400821841),\n",
       " (20.4, 20.750490259356173, -0.3504902593561745),\n",
       " (19.8, 22.648291145971477, -2.8482911459714764),\n",
       " (19.4, 19.772036695318683, -0.372036695318684),\n",
       " (21.7, 20.649658642696863, 1.050341357303136),\n",
       " (22.8, 26.525867437930646, -3.7258674379306456),\n",
       " (18.8, 20.77323637686022, -1.9732363768602177),\n",
       " (18.7, 20.715483149702163, -2.0154831497021632),\n",
       " (18.5, 25.172088812641125, -6.672088812641125),\n",
       " (18.3, 20.430255909460655, -2.1302559094606544),\n",
       " (21.2, 23.377246256949597, -2.177246256949598),\n",
       " (19.2, 23.690432606220543, -4.490432606220544),\n",
       " (20.4, 20.335783642583174, 0.06421635741682508),\n",
       " (19.3, 20.791808732015802, -1.4918087320158016),\n",
       " (22.0, 21.916320710534634, 0.08367928946536551),\n",
       " (20.3, 22.47107776744824, -2.1710777674482387),\n",
       " (20.5, 20.55738555847696, -0.05738555847695892),\n",
       " (17.3, 16.366619774230024, 0.9333802257699766),\n",
       " (18.8, 20.560998191935486, -1.7609981919354851),\n",
       " (21.4, 22.48178446171225, -1.0817844617122532),\n",
       " (15.7, 14.617066327798831, 1.0829336722011682),\n",
       " (16.2, 15.178766839627931, 1.0212331603720681),\n",
       " (18.0, 18.938685923806492, -0.9386859238064922),\n",
       " (14.3, 14.05573285103456, 0.24426714896544155),\n",
       " (19.2, 20.035273989263093, -0.8352739892630936),\n",
       " (19.6, 19.410134020930098, 0.18986597906990355),\n",
       " (23.0, 20.061915661890946, 2.9380843381090536),\n",
       " (18.4, 15.75807673127413, 2.6419232687258685),\n",
       " (15.6, 13.25645238160522, 2.34354761839478),\n",
       " (18.1, 17.26277734988355, 0.8372226501164519),\n",
       " (17.4, 15.878418834192614, 1.521581165807385),\n",
       " (17.1, 19.361639540292547, -2.2616395402925455),\n",
       " (13.3, 13.814838966995195, -0.5148389669951943),\n",
       " (17.8, 16.44881474771611, 1.3511852522838907),\n",
       " (14.0, 13.571419318672783, 0.42858068132721705),\n",
       " (14.4, 3.988855082995901, 10.4111449170041),\n",
       " (13.4, 14.594954779921828, -1.1949547799218276),\n",
       " (15.6, 12.148814803032, 3.451185196968),\n",
       " (11.8, 8.728223623423087, 3.0717763765769135),\n",
       " (13.8, 12.035853427474187, 1.7641465725258136),\n",
       " (15.6, 15.820820579631231, -0.2208205796312317),\n",
       " (14.6, 8.514990203433072, 6.085009796566927),\n",
       " (17.8, 9.718441392743921, 8.08155860725608),\n",
       " (15.4, 14.804513737403543, 0.5954862625964576),\n",
       " (21.5, 20.83858152868274, 0.6614184713172584),\n",
       " (19.6, 18.301011693579703, 1.2989883064202985),\n",
       " (15.3, 20.12282557850202, -4.8228255785020195),\n",
       " (19.4, 17.28601893612273, 2.1139810638772687),\n",
       " (17.0, 22.366002280716188, -5.366002280716188),\n",
       " (15.6, 20.10375922735976, -4.50375922735976),\n",
       " (13.1, 13.621258906723753, -0.5212589067237534),\n",
       " (41.3, 33.259826968901535, 8.040173031098462),\n",
       " (24.3, 29.030172679845077, -4.730172679845076),\n",
       " (23.3, 25.567527693653005, -2.2675276936530047),\n",
       " (27.0, 32.70827665835377, -5.708276658353768),\n",
       " (50.0, 36.774670145741254, 13.225329854258746),\n",
       " (50.0, 40.55765844458037, 9.442341555419631),\n",
       " (50.0, 41.84728167704112, 8.152718322958883),\n",
       " (22.7, 24.78867379099759, -2.088673790997589),\n",
       " (25.0, 25.378892377693344, -0.3788923776933437),\n",
       " (50.0, 37.20347454599937, 12.79652545400063),\n",
       " (23.8, 23.087487473372285, 0.7125125266277159),\n",
       " (23.8, 26.402739552736435, -2.602739552736434),\n",
       " (22.3, 26.653821137264362, -4.353821137264362),\n",
       " (17.4, 22.555146604887, -5.155146604887001),\n",
       " (19.1, 24.290828117748866, -5.190828117748865),\n",
       " (23.1, 22.976572190213133, 0.12342780978686818),\n",
       " (23.6, 29.071943076900798, -5.471943076900796),\n",
       " (22.6, 26.521943395912412, -3.921943395912411),\n",
       " (29.4, 30.72209055548368, -1.3220905554836797),\n",
       " (23.2, 25.616693069401414, -2.416693069401415),\n",
       " (24.6, 29.137409794284107, -4.537409794284105),\n",
       " (29.9, 31.435719677086528, -1.5357196770865293),\n",
       " (37.2, 32.922315680024774, 4.277684319975229),\n",
       " (39.8, 34.72440464377331, 5.075595356226685),\n",
       " (36.2, 27.765521106596264, 8.434478893403739),\n",
       " (37.9, 33.88787321324117, 4.012126786758827),\n",
       " (32.5, 30.992380360148402, 1.5076196398515975),\n",
       " (26.4, 22.718200080926607, 3.6817999190733914),\n",
       " (29.6, 24.76647809895722, 4.833521901042783),\n",
       " (50.0, 35.88497226207714, 14.115027737922858),\n",
       " (32.0, 33.42476722031579, -1.4247672203157933),\n",
       " (29.8, 32.411991465602284, -2.6119914656022836),\n",
       " (34.9, 34.51509949342147, 0.38490050657853203),\n",
       " (37.0, 30.761094851746375, 6.238905148253625),\n",
       " (30.5, 30.289341406751035, 0.21065859324896508),\n",
       " (36.4, 32.91918714320641, 3.480812856793591),\n",
       " (31.1, 32.11260771401944, -1.0126077140194383),\n",
       " (29.1, 31.558710043172415, -2.458710043172413),\n",
       " (50.0, 40.84555721422642, 9.154442785773583),\n",
       " (33.3, 36.127700792108676, -2.827700792108679),\n",
       " (30.3, 32.66920809977379, -2.3692080997737897),\n",
       " (34.6, 34.704691164369365, -0.10469116436936332),\n",
       " (34.9, 30.09345161811776, 4.806548381882237),\n",
       " (32.9, 30.643939064854578, 2.2560609351454204),\n",
       " (24.1, 29.287195013655843, -5.187195013655842),\n",
       " (42.3, 37.0714839202037, 5.2285160797963),\n",
       " (48.5, 42.03193123838415, 6.4680687616158465),\n",
       " (50.0, 43.189498436970354, 6.810501563029646),\n",
       " (22.6, 22.69034796377754, -0.09034796377753906),\n",
       " (24.4, 23.682847115427776, 0.7171528845722221),\n",
       " (22.5, 17.85447213658069, 4.645527863419311),\n",
       " (24.4, 23.494289920196447, 0.9057100798035513),\n",
       " (20.0, 17.005877178801594, 2.994122821198406),\n",
       " (21.7, 22.392510963566053, -0.692510963566054),\n",
       " (19.3, 17.06042753803559, 2.2395724619644106),\n",
       " (22.4, 22.73892921489437, -0.338929214894371),\n",
       " (28.1, 25.219425539207787, 2.8805744607922144),\n",
       " (23.7, 11.11916737154203, 12.58083262845797),\n",
       " (25.0, 24.510491479279516, 0.48950852072048434),\n",
       " (23.3, 26.60334774762071, -3.303347747620709),\n",
       " (28.7, 28.3551871270882, 0.34481287291179896),\n",
       " (21.5, 24.915254636052623, -3.415254636052623),\n",
       " (23.0, 29.686527678123735, -6.686527678123735),\n",
       " (26.7, 33.18419745633617, -6.484197456336172),\n",
       " (21.7, 23.774566559646363, -2.074566559646364),\n",
       " (27.5, 32.14051957851406, -4.640519578514059),\n",
       " (30.1, 29.745819895723155, 0.3541801042768462),\n",
       " (44.8, 38.37102452699312, 6.428975473006879),\n",
       " (50.0, 39.81461867027562, 10.185381329724379),\n",
       " (37.6, 37.586057549658584, 0.013942450341417612),\n",
       " (31.6, 32.3995325026374, -0.7995325026373976),\n",
       " (46.7, 35.45665241982788, 11.24334758017212),\n",
       " (31.5, 31.23411511697367, 0.26588488302633095),\n",
       " (24.3, 24.48449226906581, -0.18449226906581018),\n",
       " (31.7, 33.28837291601907, -1.5883729160190718),\n",
       " (41.7, 38.04810480359419, 3.6518951964058104),\n",
       " (48.3, 37.16328631468485, 11.136713685315144),\n",
       " (29.0, 31.71383522527794, -2.71383522527794),\n",
       " (24.0, 25.267055713315237, -1.2670557133152371),\n",
       " (25.1, 30.100107449038212, -5.000107449038211),\n",
       " (31.5, 32.71987155807546, -1.2198715580754609),\n",
       " (23.7, 28.42717056597645, -4.727170565976451),\n",
       " (23.3, 28.429406780589158, -5.129406780589157),\n",
       " (22.0, 27.29375938404449, -5.293759384044488),\n",
       " (20.1, 23.742624782954973, -3.6426247829549716),\n",
       " (22.2, 24.120078909164633, -1.9200789091646335),\n",
       " (23.7, 27.402084137610913, -3.702084137610914),\n",
       " (17.6, 16.328575600536112, 1.2714243994638892),\n",
       " (18.5, 13.398912612968985, 5.101087387031015),\n",
       " (24.3, 20.0163877523773, 4.283612247622699),\n",
       " (20.5, 19.86184427823064, 0.6381557217693583),\n",
       " (24.5, 21.288313098470926, 3.211686901529074),\n",
       " (26.2, 24.07989149576386, 2.120108504236139),\n",
       " (24.4, 24.206335470024158, 0.19366452997584105),\n",
       " (24.8, 25.042158212926907, -0.2421582129269062),\n",
       " (29.6, 24.919640070332257, 4.680359929667745),\n",
       " (42.8, 29.94563374480101, 12.854366255198986),\n",
       " (21.9, 23.97228316497766, -2.0722831649776623),\n",
       " (20.9, 21.695808865539902, -0.7958088655399038),\n",
       " (44.0, 37.51109239023247, 6.48890760976753),\n",
       " (50.0, 43.302390426943184, 6.697609573056816),\n",
       " (36.0, 36.483614205522095, -0.48361420552209466),\n",
       " (30.1, 34.98988593589631, -4.889885935896309),\n",
       " (33.8, 34.812115080615584, -1.0121150806155867),\n",
       " (43.1, 37.1663133083514, 5.933686691648603),\n",
       " (48.8, 40.98928500887788, 7.8107149911221185),\n",
       " (31.0, 34.44634089285324, -3.446340892853243),\n",
       " (36.5, 35.833975468616906, 0.6660245313830941),\n",
       " (22.8, 28.245742999329273, -5.445742999329273),\n",
       " (30.7, 31.226735925933227, -0.5267359259332274),\n",
       " (50.0, 40.83955749624978, 9.160442503750218),\n",
       " (43.5, 39.317923930798365, 4.182076069201635),\n",
       " (20.7, 25.708179052263713, -5.0081790522637135),\n",
       " (21.1, 22.302955329512884, -1.202955329512882),\n",
       " (25.2, 27.2034097188608, -2.0034097188608015),\n",
       " (24.4, 28.511694720069393, -4.111694720069394),\n",
       " (35.2, 35.476765982320295, -0.2767659823202919),\n",
       " (32.4, 36.10639164332242, -3.7063916433224193),\n",
       " (32.0, 33.796682735210425, -1.7966827352104247),\n",
       " (33.2, 35.610858579403896, -2.410858579403893),\n",
       " (33.1, 34.83993381942442, -1.7399338194244152),\n",
       " (29.1, 30.351926557923797, -1.2519265579237953),\n",
       " (35.1, 35.30980700948146, -0.2098070094814588),\n",
       " (45.4, 38.79756965988675, 6.602430340113251),\n",
       " (35.4, 34.33123185958638, 1.0687681404136171),\n",
       " (46.0, 40.33963074774805, 5.660369252251947),\n",
       " (50.0, 44.67308338731336, 5.326916612686638),\n",
       " (32.2, 31.596890855032058, 0.6031091449679451),\n",
       " (22.0, 27.35659229798852, -5.35659229798852),\n",
       " (20.1, 20.101741541006643, -0.0017415410066412562),\n",
       " (23.2, 27.04206673569008, -3.842066735690082),\n",
       " (22.3, 27.21364580449239, -4.91364580449239),\n",
       " (24.8, 26.913958393599273, -2.1139583935992725),\n",
       " (28.5, 33.43563310558563, -4.93563310558563),\n",
       " (37.3, 34.403496330177475, 2.896503669822522),\n",
       " (27.9, 31.833398201434797, -3.933398201434798),\n",
       " (23.9, 25.817832368947865, -1.9178323689478667),\n",
       " (21.7, 24.42982348324774, -2.729823483247742),\n",
       " (28.6, 28.457643368376775, 0.1423566316232261),\n",
       " (27.1, 27.362669985236646, -0.262669985236645),\n",
       " (20.3, 19.539287580800277, 0.7607124191997237),\n",
       " (22.5, 29.113098440926457, -6.613098440926457),\n",
       " (29.0, 31.910546107827873, -2.910546107827873),\n",
       " (24.8, 30.771594485123707, -5.971594485123706),\n",
       " (22.0, 28.9427587127512, -6.9427587127512),\n",
       " (26.4, 28.88191022400252, -2.4819102240025224),\n",
       " (33.1, 32.79887231866053, 0.301127681339473),\n",
       " (36.1, 33.20905455941153, 2.8909454405884745),\n",
       " (28.4, 30.768317923137232, -2.3683179231372335),\n",
       " (33.4, 35.56226856966822, -2.162268569668221),\n",
       " (28.2, 32.70905123703117, -4.509051237031169),\n",
       " (22.8, 28.642442366263708, -5.8424423662637075),\n",
       " (20.3, 23.589658271081486, -3.2896582710814855),\n",
       " (16.1, 18.54266896773456, -2.4426689677345585),\n",
       " (22.1, 26.87889842891962, -4.778898428919618),\n",
       " (19.4, 23.2813397881903, -3.881339788190303),\n",
       " (21.6, 25.545802460524403, -3.9458024605244013),\n",
       " (23.8, 25.481200570924116, -1.6812005709241156),\n",
       " (16.2, 20.53909901149102, -4.339099011491022),\n",
       " (17.8, 17.615725728267154, 0.18427427173284627),\n",
       " (19.8, 18.37581686407715, 1.4241831359228492),\n",
       " (23.1, 24.290702769396876, -1.190702769396875),\n",
       " (21.0, 21.32529039165022, -0.32529039165022056),\n",
       " (23.8, 24.886822440651514, -1.0868224406515132),\n",
       " (23.1, 24.869372815387905, -1.7693728153879036),\n",
       " (20.4, 22.86952447434808, -2.4695244743480806),\n",
       " (18.5, 19.451237906152787, -0.9512379061527874),\n",
       " (25.0, 25.11783401137729, -0.11783401137729044),\n",
       " (24.6, 24.66786913225657, -0.06786913225656832),\n",
       " (23.0, 23.680761770727216, -0.6807617707272158),\n",
       " (22.2, 19.340896163267864, 2.8591038367321353),\n",
       " (19.3, 21.174181054134543, -1.8741810541345423),\n",
       " (22.6, 24.252490734931392, -1.6524907349313906),\n",
       " (19.8, 21.59260893861477, -1.7926089386147694),\n",
       " (17.1, 19.98446605389004, -2.884466053890037),\n",
       " (19.4, 23.338879997805606, -3.938879997805607),\n",
       " (22.2, 22.14060692495801, 0.05939307504198865),\n",
       " (20.7, 21.555099290215956, -0.8550992902159571),\n",
       " (21.1, 20.618729067976716, 0.4812709320232855),\n",
       " (19.5, 20.16097176323005, -0.6609717632300516),\n",
       " (18.5, 19.284903872926552, -0.7849038729265523),\n",
       " (20.6, 22.16672320427115, -1.566723204271149),\n",
       " (19.0, 21.24965774422967, -2.249657744229669),\n",
       " (18.7, 21.42939305425711, -2.729393054257109),\n",
       " (32.7, 30.32788796024498, 2.3721120397550237),\n",
       " (16.5, 22.047349750857677, -5.547349750857677),\n",
       " (23.9, 27.706479124565135, -3.8064791245651364),\n",
       " (31.2, 28.54794116815979, 2.6520588318402076),\n",
       " (17.5, 16.545011214380267, 0.954988785619733),\n",
       " (17.2, 14.783596409864623, 2.416403590135376),\n",
       " (23.1, 25.273800816857275, -2.1738008168572733),\n",
       " (24.5, 27.54205117393414, -3.0420511739341407),\n",
       " (26.6, 22.148375624477605, 4.451624375522396),\n",
       " (22.9, 20.459440947461353, 2.440559052538646),\n",
       " (24.1, 20.546054227453634, 3.553945772546367),\n",
       " (18.6, 16.88063826564825, 1.7193617343517502),\n",
       " (30.1, 25.402535058015356, 4.697464941984645),\n",
       " (18.2, 14.324866319042858, 3.8751336809571413),\n",
       " (20.6, 16.594884617384444, 4.005115382615557),\n",
       " (17.8, 19.637046913301518, -1.837046913301517),\n",
       " (21.7, 22.71806607478442, -1.0180660747844215),\n",
       " (22.7, 22.202188867535636, 0.4978111324643635),\n",
       " (22.6, 19.205480573953178, 3.3945194260468234),\n",
       " (25.0, 22.66616105133815, 2.3338389486618496),\n",
       " (19.9, 18.931926181669475, 0.9680738183305237),\n",
       " (20.8, 18.228468043026695, 2.571531956973306),\n",
       " (16.8, 20.231508113855114, -3.431508113855113),\n",
       " (21.9, 37.49447389969516, -15.59447389969516),\n",
       " (27.5, 14.281907341200032, 13.218092658799968),\n",
       " (21.9, 15.54286248279456, 6.357137517205439),\n",
       " (23.1, 10.831623241057127, 12.268376758942875),\n",
       " (50.0, 23.80072902209159, 26.19927097790841),\n",
       " (50.0, 32.6440736012498, 17.3559263987502),\n",
       " (50.0, 34.606840424466746, 15.393159575533254),\n",
       " (50.0, 24.94331332514429, 25.05668667485571),\n",
       " (50.0, 25.999809100736037, 24.000190899263963),\n",
       " (13.8, 6.126324996430981, 7.67367500356902),\n",
       " (13.8, 0.7777980595705785, 13.022201940429422),\n",
       " (15.0, 25.30713064171827, -10.30713064171827),\n",
       " (13.9, 17.740610645315872, -3.8406106453158717),\n",
       " (13.3, 20.2327441401876, -6.932744140187598),\n",
       " (13.1, 15.833313007596452, -2.7333130075964522),\n",
       " (10.2, 16.83512587165293, -6.6351258716529316),\n",
       " (10.4, 14.369948254881887, -3.9699482548818867),\n",
       " (10.9, 18.476828330782077, -7.576828330782076),\n",
       " (11.3, 13.427682804691258, -2.1276828046912577),\n",
       " (12.3, 13.061775117828308, -0.7617751178283072),\n",
       " (8.8, 3.2791811609613255, 5.520818839038675),\n",
       " (7.2, 8.060221708242238, -0.8602217082422383),\n",
       " (10.5, 6.12842196430476, 4.37157803569524),\n",
       " (7.4, 5.61864809983755, 1.7813519001624503),\n",
       " (10.2, 6.451985698126876, 3.7480143018731233),\n",
       " (11.5, 14.207647351941446, -2.7076473519414463),\n",
       " (15.1, 17.21225183141941, -2.112251831419412),\n",
       " (23.2, 17.298872651552067, 5.9011273484479325),\n",
       " (9.7, 9.891166432275572, -0.19116643227557262),\n",
       " (13.8, 20.221241934994275, -6.421241934994274),\n",
       " (12.7, 17.941811753226062, -5.241811753226063),\n",
       " (13.1, 20.304457827468244, -7.204457827468245),\n",
       " (12.5, 19.295590754746286, -6.795590754746286),\n",
       " (8.5, 16.336327793195444, -7.836327793195444),\n",
       " (5.0, 6.551623190683419, -1.5516231906834186),\n",
       " (6.3, 10.890167780948708, -4.5901677809487085),\n",
       " (5.6, 11.881458707413003, -6.2814587074130035),\n",
       " (7.2, 17.811745067915272, -10.611745067915273),\n",
       " (12.1, 18.261265871695638, -6.1612658716956386),\n",
       " (8.3, 12.979487807352655, -4.679487807352654),\n",
       " (8.5, 7.378163607194626, 1.121836392805374),\n",
       " (5.0, 8.211158613884736, -3.211158613884736),\n",
       " (11.9, 8.066261929870032, 3.833738070129968),\n",
       " (27.9, 19.982947859821323, 7.917052140178676),\n",
       " (17.2, 13.707563692106817, 3.4924363078931826),\n",
       " (27.5, 19.852684544772153, 7.647315455227847),\n",
       " (15.0, 15.223082976880962, -0.22308297688096168),\n",
       " (17.2, 16.960719809961553, 0.23928019003844625),\n",
       " (17.9, 1.718518067817719, 16.18148193218228),\n",
       " (16.3, 11.805783871530389, 4.494216128469612),\n",
       " (7.0, -4.281310709184833, 11.281310709184833),\n",
       " (7.2, 9.583767368632184, -2.383767368632184),\n",
       " (7.5, 13.366608109637403, -5.8666081096374025),\n",
       " (10.4, 6.895623625859795, 3.5043763741402056),\n",
       " (8.8, 6.147798520321302, 2.6522014796786983),\n",
       " (8.4, 14.606617942384252, -6.206617942384252),\n",
       " (16.7, 19.60002670198742, -2.9000267019874215),\n",
       " (14.2, 18.12427475887778, -3.9242747588777824),\n",
       " (20.8, 18.521771321516315, 2.2782286784836856),\n",
       " (13.4, 13.175286104567233, 0.22471389543276743),\n",
       " (11.7, 14.626176241815568, -2.9261762418155683),\n",
       " (8.3, 9.9237497596626, -1.6237497596625996),\n",
       " (10.2, 16.345906466575478, -6.145906466575479),\n",
       " (10.9, 14.075194255231064, -3.175194255231064),\n",
       " (11.0, 14.257562426063906, -3.257562426063906),\n",
       " (9.5, 13.042347874621845, -3.5423478746218446),\n",
       " (14.5, 18.159556933720566, -3.659556933720566),\n",
       " (14.1, 18.695543541176225, -4.595543541176225),\n",
       " (16.1, 21.52728300211152, -5.427283002111519),\n",
       " (14.3, 17.031418608646725, -2.731418608646724),\n",
       " (11.7, 15.960904353333301, -4.260904353333302),\n",
       " (13.4, 13.361416107105395, 0.0385838928946054),\n",
       " (9.6, 14.52079383906167, -4.92079383906167),\n",
       " (8.7, 8.819760054260293, -0.11976005426029346),\n",
       " (8.4, 4.86751102276618, 3.53248897723382),\n",
       " (12.8, 13.065913129521466, -0.26591312952146495),\n",
       " (10.5, 12.70609699318162, -2.2060969931816192),\n",
       " (17.1, 17.295580592087326, -0.1955805920873246),\n",
       " (18.4, 18.74048500151098, -0.3404850015109808),\n",
       " (15.4, 18.05901029453043, -2.6590102945304306),\n",
       " (10.8, 11.51474683390555, -0.7147468339055489),\n",
       " (11.8, 11.974003586658966, -0.17400358665896576),\n",
       " (14.9, 17.683446184710093, -2.783446184710092),\n",
       " (12.6, 18.12695239026613, -5.52695239026613),\n",
       " (14.1, 17.518346503948834, -3.4183465039488343),\n",
       " (13.0, 17.22742507301634, -4.227425073016342),\n",
       " (13.4, 16.52271631336923, -3.1227163133692297),\n",
       " (15.2, 19.412910950902003, -4.212910950902003),\n",
       " (16.1, 18.582152361805882, -2.4821523618058805),\n",
       " (17.8, 22.489447908157167, -4.689447908157167),\n",
       " (14.9, 15.280001330376093, -0.38000133037609274),\n",
       " (14.1, 15.820893351719779, -1.7208933517197789),\n",
       " (12.7, 12.687255813163706, 0.012744186836293636),\n",
       " (13.5, 12.876337901958191, 0.6236620980418088),\n",
       " (14.9, 17.186685308587602, -2.286685308587602),\n",
       " (20.0, 18.512476092921744, 1.4875239070782555),\n",
       " (16.4, 19.048605332483255, -2.648605332483257),\n",
       " (17.7, 20.172089273293462, -2.472089273293463),\n",
       " (19.5, 19.77407319690262, -0.27407319690262),\n",
       " (20.2, 22.429407678836846, -2.2294076788368464),\n",
       " (21.4, 20.31911854322297, 1.0808814567770284),\n",
       " (19.9, 17.886162532167596, 2.0138374678324027),\n",
       " (19.0, 14.37478522836795, 4.62521477163205),\n",
       " (19.1, 16.947768507196585, 2.1522314928034163),\n",
       " (19.1, 16.984057621510495, 2.115942378489507),\n",
       " (20.1, 18.58838396769531, 1.5116160323046905),\n",
       " (19.9, 20.167194410631566, -0.2671944106315678),\n",
       " (19.6, 22.977180317148683, -3.3771803171486816),\n",
       " (23.2, 22.455807263536315, 0.7441927364636847),\n",
       " (29.8, 25.578246265482623, 4.221753734517378),\n",
       " (13.8, 16.391476316355558, -2.591476316355557),\n",
       " (13.3, 16.111462804301738, -2.811462804301737),\n",
       " (16.7, 20.534815995890522, -3.834815995890523),\n",
       " (12.0, 11.542727381565077, 0.4572726184349225),\n",
       " (14.6, 19.204963044918074, -4.604963044918074),\n",
       " (21.4, 21.862763906305627, -0.4627639063056286),\n",
       " (23.0, 23.468788663071436, -0.46878866307143596),\n",
       " (23.7, 27.098873154886096, -3.398873154886097),\n",
       " (25.0, 28.569943016697124, -3.569943016697124),\n",
       " (21.8, 21.083987830898607, 0.7160121691013934),\n",
       " (20.6, 19.45516195563691, 1.144838044363091),\n",
       " (21.2, 22.22225914079089, -1.02225914079089),\n",
       " (19.1, 19.655919607580984, -0.5559196075809822),\n",
       " (20.6, 21.325361043998697, -0.7253610439986957),\n",
       " (15.2, 11.855837166491234, 3.344162833508765),\n",
       " (7.0, 8.223866867927939, -1.2238668679279385),\n",
       " (8.1, 3.663996720486022, 4.436003279513978),\n",
       " (13.6, 13.759085382070598, -0.1590853820705984),\n",
       " (20.1, 15.931185451337457, 4.168814548662544),\n",
       " (21.8, 20.62662054435212, 1.1733794556478792),\n",
       " (24.5, 20.61249413984803, 3.8875058601519683),\n",
       " (23.1, 16.885419639489733, 6.2145803605102685),\n",
       " (19.7, 14.013207870941887, 5.686792129058112),\n",
       " (18.3, 19.108541438764963, -0.8085414387649621),\n",
       " (21.2, 21.298051744435284, -0.09805174443528486),\n",
       " (17.5, 18.454988408698938, -0.954988408698938),\n",
       " (16.8, 20.46870846960598, -3.6687084696059777),\n",
       " (22.4, 23.533340546667038, -1.1333405466670392),\n",
       " (20.6, 22.375718920288207, -1.775718920288206),\n",
       " (23.9, 27.627426095035787, -3.7274260950357885),\n",
       " (22.0, 26.127966806595662, -4.127966806595662),\n",
       " (11.9, 22.344212292903535, -10.444212292903535)]"
      ]
     },
     "execution_count": 12,
     "metadata": {},
     "output_type": "execute_result"
    }
   ],
   "source": [
    "list(zip(boston.target, pred, boston.target-pred))"
   ]
  },
  {
   "cell_type": "markdown",
   "id": "0825632e",
   "metadata": {},
   "source": [
    "### 7-3. 쿡스디스턴스 값 계산\n",
    "- 쿡스디스턴스값은 레버리지와 잔차의 크기를 동시에 보여준다."
   ]
  },
  {
   "cell_type": "code",
   "execution_count": 13,
   "id": "d975f12f",
   "metadata": {},
   "outputs": [],
   "source": [
    "influence_boston = result_boston.get_influence()\n",
    "cooks_d2, pvals = influence_boston.cooks_distance"
   ]
  },
  {
   "cell_type": "code",
   "execution_count": 14,
   "id": "0d6dfb3c",
   "metadata": {},
   "outputs": [
    {
     "data": {
      "text/plain": [
       "array([2.00241182e-03, 4.22857395e-04, 6.55853503e-04, 1.18058057e-03,\n",
       "       3.59851425e-03, 5.74194665e-04, 4.72546845e-07, 5.82635409e-03,\n",
       "       4.62994000e-03, 4.01383186e-08, 1.92640255e-03, 5.67459552e-04,\n",
       "       3.62408248e-05, 3.22586961e-05, 5.58811130e-05, 1.65626094e-05,\n",
       "       4.91207261e-04, 1.32490825e-05, 1.27398506e-03, 1.69581259e-06,\n",
       "       6.97222384e-05, 1.60947828e-04, 2.07796361e-05, 2.90688609e-05,\n",
       "       3.11014124e-07, 1.38389141e-05, 6.48388494e-05, 4.41362303e-07,\n",
       "       7.33485688e-05, 7.62795999e-07, 9.89547175e-05, 7.46407072e-04,\n",
       "       2.28054439e-03, 7.20316848e-05, 3.22115187e-06, 7.68854322e-04,\n",
       "       1.71832946e-04, 1.67793317e-04, 1.60591201e-04, 3.26965825e-05,\n",
       "       5.21299660e-05, 1.81626540e-04, 7.02029486e-07, 6.26114010e-07,\n",
       "       1.07290360e-04, 3.36163087e-04, 8.50425200e-06, 1.50051230e-04,\n",
       "       4.98762064e-03, 2.55758721e-04, 1.04455561e-04, 6.00527884e-04,\n",
       "       2.93524386e-04, 1.88430383e-05, 2.23822707e-03, 2.20578470e-03,\n",
       "       2.54285019e-06, 3.15884649e-04, 1.38780690e-04, 9.84287912e-05,\n",
       "       4.49623883e-05, 6.46978912e-04, 2.19762277e-04, 4.08120284e-04,\n",
       "       1.21412307e-02, 4.01393537e-03, 3.66795831e-03, 3.58446685e-05,\n",
       "       1.97743774e-08, 5.01424376e-07, 8.53489730e-05, 1.17001111e-07,\n",
       "       2.49876331e-04, 3.50379795e-05, 2.12581539e-04, 3.04468850e-04,\n",
       "       4.21073919e-04, 3.05130687e-04, 1.78979116e-07, 2.44533140e-04,\n",
       "       3.78596404e-06, 3.06027991e-04, 3.54855853e-05, 9.73201415e-05,\n",
       "       1.96444983e-05, 3.60131308e-05, 3.69409169e-06, 4.43493521e-04,\n",
       "       2.67503148e-03, 1.85198129e-04, 8.07311663e-04, 1.24367812e-03,\n",
       "       2.51936405e-03, 1.53771949e-03, 3.23124520e-03, 2.30755146e-06,\n",
       "       5.33240760e-04, 7.65336539e-04, 6.75789730e-03, 5.08733199e-05,\n",
       "       4.33931746e-04, 4.24658203e-05, 2.36190590e-04, 4.97122423e-05,\n",
       "       9.79710952e-05, 6.23399995e-05, 3.52861084e-04, 7.02529498e-06,\n",
       "       4.96312675e-04, 7.52926458e-06, 6.12411206e-05, 5.26190765e-04,\n",
       "       1.89592539e-04, 1.97355100e-04, 1.89386792e-03, 1.99908449e-04,\n",
       "       1.60831634e-04, 8.30387224e-04, 1.73070345e-07, 9.15095655e-05,\n",
       "       1.53632236e-06, 1.01786783e-03, 7.17568912e-07, 2.16175100e-04,\n",
       "       6.79556082e-04, 2.53834494e-04, 3.01063779e-04, 7.53257173e-05,\n",
       "       7.46664102e-05, 4.21433271e-06, 6.09260979e-05, 3.07864029e-06,\n",
       "       7.68729887e-04, 5.09445187e-04, 4.48425583e-04, 5.74119732e-05,\n",
       "       1.65459654e-04, 4.34701784e-04, 2.11613607e-05, 1.46487619e-04,\n",
       "       1.95679723e-05, 1.67500091e-02, 3.62397233e-04, 1.97266846e-03,\n",
       "       1.76478319e-03, 6.20249602e-04, 8.57237936e-06, 7.05478112e-03,\n",
       "       1.15893317e-02, 5.17157749e-05, 6.47449102e-05, 2.82621545e-04,\n",
       "       6.58171781e-03, 6.78183107e-04, 6.35424544e-03, 6.55761537e-03,\n",
       "       6.50847625e-05, 6.97654175e-03, 2.68671624e-03, 9.28963945e-04,\n",
       "       5.97731584e-03, 2.16807775e-02, 1.82777334e-02, 1.54712668e-02,\n",
       "       3.84782592e-04, 1.54498458e-05, 2.24814269e-02, 4.96937084e-05,\n",
       "       5.89927328e-04, 1.54870356e-03, 2.30121237e-03, 2.45612956e-03,\n",
       "       1.18347527e-06, 1.52165667e-03, 8.84187907e-04, 1.06919140e-04,\n",
       "       2.62238193e-04, 9.33042289e-04, 9.47106589e-05, 9.49733155e-04,\n",
       "       2.00240205e-03, 4.26956077e-03, 1.18771534e-03, 1.86326079e-04,\n",
       "       1.13364730e-03, 1.13499748e-03, 1.45219969e-02, 1.70985075e-04,\n",
       "       5.15523751e-04, 1.00986553e-05, 2.33854757e-03, 2.40762265e-06,\n",
       "       7.24253199e-04, 5.74373327e-05, 2.95534356e-04, 8.30142807e-03,\n",
       "       8.39035301e-04, 6.33898572e-04, 1.20686692e-06, 3.00599816e-03,\n",
       "       6.77703127e-04, 2.97870331e-03, 2.99635401e-03, 7.01371885e-03,\n",
       "       7.98764475e-03, 5.00034506e-07, 1.14630156e-05, 6.92205105e-04,\n",
       "       1.00530903e-04, 1.63558998e-03, 6.64594716e-05, 8.78663962e-04,\n",
       "       1.54858253e-05, 3.50222982e-04, 4.29245708e-02, 7.01028621e-06,\n",
       "       1.43728795e-03, 5.66609332e-06, 1.59399487e-03, 5.66377757e-03,\n",
       "       5.36285047e-03, 7.45188199e-04, 2.55037741e-03, 4.44300435e-06,\n",
       "       3.34760350e-03, 1.24348238e-02, 1.44659752e-08, 2.43831840e-05,\n",
       "       1.36775951e-02, 5.01359343e-06, 1.08168654e-06, 1.04966631e-04,\n",
       "       1.12609990e-03, 9.52827771e-03, 8.45300999e-04, 4.63704250e-05,\n",
       "       2.94776470e-03, 5.90666877e-05, 7.48423050e-04, 5.93040550e-04,\n",
       "       9.99015454e-04, 5.86332656e-04, 1.42996400e-04, 6.77404484e-04,\n",
       "       1.59603378e-04, 2.27175895e-03, 9.05938282e-04, 4.04566252e-05,\n",
       "       4.96939305e-04, 2.57807495e-04, 1.87410412e-06, 3.30938871e-06,\n",
       "       2.30681180e-03, 3.34921790e-02, 4.15659207e-04, 5.93553818e-05,\n",
       "       4.73764191e-03, 7.20491802e-03, 2.57229775e-05, 2.76619535e-03,\n",
       "       9.79241646e-05, 3.57412485e-03, 8.37929246e-03, 1.24547719e-03,\n",
       "       4.49001348e-05, 4.39247667e-03, 2.93193645e-05, 1.00773395e-02,\n",
       "       1.42204715e-03, 3.42648468e-03, 5.22482583e-05, 2.41177002e-04,\n",
       "       4.87962654e-04, 1.12269429e-05, 1.99780524e-03, 1.38677941e-04,\n",
       "       7.37202229e-04, 4.10426330e-04, 7.62576465e-05, 2.63452914e-06,\n",
       "       2.90471837e-03, 5.39285833e-05, 4.39333471e-03, 6.44235377e-03,\n",
       "       3.52566448e-05, 1.39305657e-03, 3.03878929e-10, 6.63561451e-04,\n",
       "       1.19359380e-03, 1.99675754e-04, 3.55193398e-03, 1.22223190e-03,\n",
       "       2.30387291e-03, 4.03337165e-04, 6.60668777e-04, 2.12819340e-06,\n",
       "       6.74182226e-06, 6.66192898e-05, 3.18015641e-03, 6.04975334e-04,\n",
       "       2.80269378e-03, 1.41167886e-03, 2.73561809e-04, 3.91606510e-06,\n",
       "       5.61340446e-04, 4.10877390e-04, 4.02243150e-04, 1.62724370e-03,\n",
       "       1.22855493e-03, 2.39703174e-04, 5.29007151e-04, 8.88684366e-04,\n",
       "       4.17245077e-04, 4.07760246e-04, 6.98664433e-05, 4.69355438e-04,\n",
       "       8.74715134e-07, 3.83374257e-05, 2.05335826e-05, 1.78721907e-06,\n",
       "       2.73674066e-05, 7.34746027e-05, 1.59639834e-04, 2.85044509e-05,\n",
       "       4.39061537e-07, 3.17151521e-07, 2.08913529e-05, 2.58774606e-04,\n",
       "       4.33748991e-04, 3.61852472e-04, 3.68117018e-04, 3.32992667e-04,\n",
       "       5.67305709e-04, 2.73851893e-07, 5.48769572e-05, 1.58853292e-05,\n",
       "       2.30427440e-05, 3.27519556e-05, 1.40976712e-04, 2.53863550e-04,\n",
       "       3.49044439e-04, 2.87017041e-04, 5.39009534e-03, 6.47096833e-04,\n",
       "       3.36304383e-04, 9.13320241e-05, 6.03665925e-04, 4.34638699e-04,\n",
       "       6.98579628e-04, 2.06416369e-03, 5.92732844e-04, 1.98337870e-03,\n",
       "       4.24540030e-04, 6.19012489e-03, 2.99789207e-03, 3.21475600e-03,\n",
       "       4.99619993e-04, 1.70530518e-04, 4.32683309e-05, 9.08422994e-04,\n",
       "       5.24516174e-04, 6.09678683e-05, 7.73081010e-04, 1.84932715e-03,\n",
       "       6.94296631e-02, 6.71842520e-02, 3.76103482e-03, 4.54118116e-02,\n",
       "       1.65673690e-01, 5.52625543e-02, 4.41963909e-02, 4.25553112e-02,\n",
       "       9.40965112e-02, 7.27964227e-03, 2.82275381e-02, 8.65600177e-03,\n",
       "       9.24848625e-04, 3.14888255e-03, 5.83475653e-04, 2.20978733e-03,\n",
       "       3.17547670e-02, 3.13108211e-03, 2.22162214e-04, 3.12866126e-05,\n",
       "       2.66799517e-03, 6.02045670e-05, 1.82753094e-03, 3.30298255e-04,\n",
       "       1.05398104e-03, 3.59403007e-04, 2.02381318e-04, 1.54833717e-03,\n",
       "       2.17100535e-06, 1.67658279e-03, 1.12582912e-03, 2.19936306e-03,\n",
       "       2.29001779e-03, 2.61607975e-03, 4.24326966e-04, 2.02478700e-03,\n",
       "       3.32572195e-03, 5.09614458e-03, 1.60578797e-03, 1.59382430e-03,\n",
       "       2.24793357e-04, 7.19044546e-03, 1.84430889e-03, 4.11806145e-03,\n",
       "       9.00935603e-04, 4.17325060e-03, 2.56957742e-05, 7.18409237e-06,\n",
       "       5.00411665e-02, 2.20906701e-03, 3.47696424e-02, 7.50082853e-04,\n",
       "       4.87699285e-03, 9.89720776e-04, 6.46666749e-03, 4.89966447e-03,\n",
       "       3.01910917e-04, 5.67064669e-04, 2.47805918e-04, 7.20638978e-06,\n",
       "       1.35324758e-03, 2.88107795e-04, 5.24846813e-03, 2.15610711e-03,\n",
       "       8.42906527e-04, 1.19799573e-03, 1.27904202e-03, 2.28330037e-03,\n",
       "       2.91960568e-03, 5.96424811e-04, 1.33257003e-03, 1.25652786e-07,\n",
       "       2.57986948e-03, 1.71945078e-06, 1.87778237e-03, 3.70460911e-06,\n",
       "       3.13733089e-04, 1.98472610e-06, 6.16085830e-06, 3.68450395e-04,\n",
       "       1.92090310e-05, 3.28547420e-06, 3.28411063e-04, 1.48694813e-03,\n",
       "       5.13176215e-04, 6.69604133e-04, 1.33496690e-03, 9.00514078e-04,\n",
       "       2.92186679e-04, 1.91787806e-03, 1.84046213e-05, 3.19185915e-04,\n",
       "       2.09893468e-08, 5.06688919e-05, 2.02687384e-04, 1.10918174e-04,\n",
       "       3.51979216e-04, 3.29295592e-04, 3.95327251e-06, 3.22198359e-04,\n",
       "       5.81333046e-05, 2.79773240e-04, 2.72795072e-03, 2.74059153e-04,\n",
       "       2.13328500e-04, 1.39583653e-04, 4.05311644e-06, 9.62590409e-04,\n",
       "       3.19587845e-05, 1.10052313e-03, 4.08059998e-04, 5.36445736e-04,\n",
       "       8.38051813e-04, 1.11291613e-05, 8.93732574e-04, 9.77364076e-06,\n",
       "       1.59138220e-05, 9.56959660e-04, 1.16944133e-03, 5.04369244e-05,\n",
       "       1.05114896e-04, 7.46725308e-05, 1.67502771e-05, 3.49338864e-05,\n",
       "       3.07148099e-03, 4.21058464e-04, 6.07963997e-03, 7.19641016e-06,\n",
       "       4.99111335e-03, 6.74304606e-05, 9.85767098e-04, 4.01457128e-03,\n",
       "       1.49902994e-03, 1.80489150e-05, 3.23523562e-07, 3.34690957e-05,\n",
       "       3.71573345e-04, 8.26207668e-05, 1.99598429e-04, 1.19586517e-03,\n",
       "       1.31207501e-03, 7.39647882e-03])"
      ]
     },
     "execution_count": 14,
     "metadata": {},
     "output_type": "execute_result"
    }
   ],
   "source": [
    "cooks_d2"
   ]
  },
  {
   "cell_type": "code",
   "execution_count": 15,
   "id": "9386a504",
   "metadata": {
    "scrolled": true
   },
   "outputs": [
    {
     "data": {
      "text/plain": [
       "array([1.        , 1.        , 1.        , 1.        , 1.        ,\n",
       "       1.        , 1.        , 1.        , 1.        , 1.        ,\n",
       "       1.        , 1.        , 1.        , 1.        , 1.        ,\n",
       "       1.        , 1.        , 1.        , 1.        , 1.        ,\n",
       "       1.        , 1.        , 1.        , 1.        , 1.        ,\n",
       "       1.        , 1.        , 1.        , 1.        , 1.        ,\n",
       "       1.        , 1.        , 1.        , 1.        , 1.        ,\n",
       "       1.        , 1.        , 1.        , 1.        , 1.        ,\n",
       "       1.        , 1.        , 1.        , 1.        , 1.        ,\n",
       "       1.        , 1.        , 1.        , 1.        , 1.        ,\n",
       "       1.        , 1.        , 1.        , 1.        , 1.        ,\n",
       "       1.        , 1.        , 1.        , 1.        , 1.        ,\n",
       "       1.        , 1.        , 1.        , 1.        , 1.        ,\n",
       "       1.        , 1.        , 1.        , 1.        , 1.        ,\n",
       "       1.        , 1.        , 1.        , 1.        , 1.        ,\n",
       "       1.        , 1.        , 1.        , 1.        , 1.        ,\n",
       "       1.        , 1.        , 1.        , 1.        , 1.        ,\n",
       "       1.        , 1.        , 1.        , 1.        , 1.        ,\n",
       "       1.        , 1.        , 1.        , 1.        , 1.        ,\n",
       "       1.        , 1.        , 1.        , 1.        , 1.        ,\n",
       "       1.        , 1.        , 1.        , 1.        , 1.        ,\n",
       "       1.        , 1.        , 1.        , 1.        , 1.        ,\n",
       "       1.        , 1.        , 1.        , 1.        , 1.        ,\n",
       "       1.        , 1.        , 1.        , 1.        , 1.        ,\n",
       "       1.        , 1.        , 1.        , 1.        , 1.        ,\n",
       "       1.        , 1.        , 1.        , 1.        , 1.        ,\n",
       "       1.        , 1.        , 1.        , 1.        , 1.        ,\n",
       "       1.        , 1.        , 1.        , 1.        , 1.        ,\n",
       "       1.        , 1.        , 1.        , 1.        , 1.        ,\n",
       "       1.        , 1.        , 1.        , 1.        , 1.        ,\n",
       "       1.        , 1.        , 1.        , 1.        , 1.        ,\n",
       "       1.        , 1.        , 1.        , 1.        , 1.        ,\n",
       "       1.        , 1.        , 1.        , 1.        , 1.        ,\n",
       "       1.        , 1.        , 1.        , 1.        , 1.        ,\n",
       "       1.        , 1.        , 1.        , 1.        , 1.        ,\n",
       "       1.        , 1.        , 1.        , 1.        , 1.        ,\n",
       "       1.        , 1.        , 1.        , 1.        , 1.        ,\n",
       "       1.        , 1.        , 1.        , 1.        , 1.        ,\n",
       "       1.        , 1.        , 1.        , 1.        , 1.        ,\n",
       "       1.        , 1.        , 1.        , 1.        , 1.        ,\n",
       "       1.        , 1.        , 1.        , 1.        , 1.        ,\n",
       "       1.        , 1.        , 1.        , 1.        , 1.        ,\n",
       "       1.        , 1.        , 1.        , 1.        , 0.99999996,\n",
       "       1.        , 1.        , 1.        , 1.        , 1.        ,\n",
       "       1.        , 1.        , 1.        , 1.        , 1.        ,\n",
       "       1.        , 1.        , 1.        , 1.        , 1.        ,\n",
       "       1.        , 1.        , 1.        , 1.        , 1.        ,\n",
       "       1.        , 1.        , 1.        , 1.        , 1.        ,\n",
       "       1.        , 1.        , 1.        , 1.        , 1.        ,\n",
       "       1.        , 1.        , 1.        , 1.        , 1.        ,\n",
       "       1.        , 1.        , 1.        , 0.99999999, 1.        ,\n",
       "       1.        , 1.        , 1.        , 1.        , 1.        ,\n",
       "       1.        , 1.        , 1.        , 1.        , 1.        ,\n",
       "       1.        , 1.        , 1.        , 1.        , 1.        ,\n",
       "       1.        , 1.        , 1.        , 1.        , 1.        ,\n",
       "       1.        , 1.        , 1.        , 1.        , 1.        ,\n",
       "       1.        , 1.        , 1.        , 1.        , 1.        ,\n",
       "       1.        , 1.        , 1.        , 1.        , 1.        ,\n",
       "       1.        , 1.        , 1.        , 1.        , 1.        ,\n",
       "       1.        , 1.        , 1.        , 1.        , 1.        ,\n",
       "       1.        , 1.        , 1.        , 1.        , 1.        ,\n",
       "       1.        , 1.        , 1.        , 1.        , 1.        ,\n",
       "       1.        , 1.        , 1.        , 1.        , 1.        ,\n",
       "       1.        , 1.        , 1.        , 1.        , 1.        ,\n",
       "       1.        , 1.        , 1.        , 1.        , 1.        ,\n",
       "       1.        , 1.        , 1.        , 1.        , 1.        ,\n",
       "       1.        , 1.        , 1.        , 1.        , 1.        ,\n",
       "       1.        , 1.        , 1.        , 1.        , 1.        ,\n",
       "       1.        , 1.        , 1.        , 1.        , 1.        ,\n",
       "       1.        , 1.        , 1.        , 1.        , 1.        ,\n",
       "       1.        , 1.        , 1.        , 1.        , 1.        ,\n",
       "       1.        , 1.        , 1.        , 1.        , 1.        ,\n",
       "       1.        , 1.        , 1.        , 1.        , 0.99999911,\n",
       "       0.99999928, 1.        , 0.99999995, 0.99978301, 0.9999998 ,\n",
       "       0.99999996, 0.99999997, 0.99999356, 1.        , 1.        ,\n",
       "       1.        , 1.        , 1.        , 1.        , 1.        ,\n",
       "       1.        , 1.        , 1.        , 1.        , 1.        ,\n",
       "       1.        , 1.        , 1.        , 1.        , 1.        ,\n",
       "       1.        , 1.        , 1.        , 1.        , 1.        ,\n",
       "       1.        , 1.        , 1.        , 1.        , 1.        ,\n",
       "       1.        , 1.        , 1.        , 1.        , 1.        ,\n",
       "       1.        , 1.        , 1.        , 1.        , 1.        ,\n",
       "       1.        , 1.        , 0.9999999 , 1.        , 0.99999999,\n",
       "       1.        , 1.        , 1.        , 1.        , 1.        ,\n",
       "       1.        , 1.        , 1.        , 1.        , 1.        ,\n",
       "       1.        , 1.        , 1.        , 1.        , 1.        ,\n",
       "       1.        , 1.        , 1.        , 1.        , 1.        ,\n",
       "       1.        , 1.        , 1.        , 1.        , 1.        ,\n",
       "       1.        , 1.        , 1.        , 1.        , 1.        ,\n",
       "       1.        , 1.        , 1.        , 1.        , 1.        ,\n",
       "       1.        , 1.        , 1.        , 1.        , 1.        ,\n",
       "       1.        , 1.        , 1.        , 1.        , 1.        ,\n",
       "       1.        , 1.        , 1.        , 1.        , 1.        ,\n",
       "       1.        , 1.        , 1.        , 1.        , 1.        ,\n",
       "       1.        , 1.        , 1.        , 1.        , 1.        ,\n",
       "       1.        , 1.        , 1.        , 1.        , 1.        ,\n",
       "       1.        , 1.        , 1.        , 1.        , 1.        ,\n",
       "       1.        , 1.        , 1.        , 1.        , 1.        ,\n",
       "       1.        , 1.        , 1.        , 1.        , 1.        ,\n",
       "       1.        , 1.        , 1.        , 1.        , 1.        ,\n",
       "       1.        , 1.        , 1.        , 1.        , 1.        ,\n",
       "       1.        ])"
      ]
     },
     "execution_count": 15,
     "metadata": {},
     "output_type": "execute_result"
    }
   ],
   "source": [
    "pvals"
   ]
  },
  {
   "cell_type": "markdown",
   "id": "0b2eeab1",
   "metadata": {},
   "source": [
    "### 7-4. 모수의 갯수 확인\n",
    "- 상수항과 독립변수의 갯수"
   ]
  },
  {
   "cell_type": "code",
   "execution_count": 18,
   "id": "8e20dd7e",
   "metadata": {},
   "outputs": [
    {
     "data": {
      "text/plain": [
       "14"
      ]
     },
     "execution_count": 18,
     "metadata": {},
     "output_type": "execute_result"
    }
   ],
   "source": [
    "influence_boston.k_vars"
   ]
  },
  {
   "cell_type": "markdown",
   "id": "3b16912a",
   "metadata": {},
   "source": [
    "### 7-5. 폭스 레코멘데이션 계산\n",
    "- 쿡스 디스턴스값이 폭스 레코멘데이션 값보다 큰 것을 아웃라이어로 본다.\n",
    "- 이 아웃라이어에 해당하는 인덱스를 저장한다."
   ]
  },
  {
   "cell_type": "code",
   "execution_count": 20,
   "id": "206131e4",
   "metadata": {},
   "outputs": [],
   "source": [
    "K = influence_boston.k_vars\n",
    "fox_cr = 4 / (len(dfy) - K - 1)\n",
    "idx = np.where(cooks_d2 > fox_cr)[0]"
   ]
  },
  {
   "cell_type": "markdown",
   "id": "4fbd0f89",
   "metadata": {},
   "source": [
    "#### 폭스 레코멘데이션 값 확인"
   ]
  },
  {
   "cell_type": "code",
   "execution_count": 24,
   "id": "ce30fc02",
   "metadata": {},
   "outputs": [
    {
     "data": {
      "text/plain": [
       "0.008146639511201629"
      ]
     },
     "execution_count": 24,
     "metadata": {},
     "output_type": "execute_result"
    }
   ],
   "source": [
    "fox_cr"
   ]
  },
  {
   "cell_type": "code",
   "execution_count": 63,
   "id": "ecfc0c74",
   "metadata": {},
   "outputs": [
    {
     "data": {
      "text/plain": [
       "array([ 64, 141, 148, 161, 162, 163, 166, 186, 195, 214, 225, 228, 233,\n",
       "       253, 262, 267, 364, 365, 367, 368, 369, 370, 371, 372, 374, 375,\n",
       "       380, 412, 414], dtype=int64)"
      ]
     },
     "execution_count": 63,
     "metadata": {},
     "output_type": "execute_result"
    }
   ],
   "source": [
    "idx"
   ]
  },
  {
   "cell_type": "code",
   "execution_count": 23,
   "id": "7a53d0e2",
   "metadata": {
    "scrolled": true
   },
   "outputs": [
    {
     "data": {
      "text/plain": [
       "array([0.01214123, 0.01675001, 0.01158933, 0.02168078, 0.01827773,\n",
       "       0.01547127, 0.02248143, 0.014522  , 0.00830143, 0.04292457,\n",
       "       0.01243482, 0.0136776 , 0.00952828, 0.03349218, 0.00837929,\n",
       "       0.01007734, 0.06942966, 0.06718425, 0.04541181, 0.16567369,\n",
       "       0.05526255, 0.04419639, 0.04255531, 0.09409651, 0.02822754,\n",
       "       0.008656  , 0.03175477, 0.05004117, 0.03476964])"
      ]
     },
     "execution_count": 23,
     "metadata": {},
     "output_type": "execute_result"
    }
   ],
   "source": [
    "cooks_d2[cooks_d2 > fox_cr]"
   ]
  },
  {
   "cell_type": "code",
   "execution_count": 74,
   "id": "fc2914ce",
   "metadata": {},
   "outputs": [
    {
     "data": {
      "text/plain": [
       "array([ 64, 141, 148, 161, 162, 163, 166, 186, 195, 214, 225, 228, 233,\n",
       "       253, 262, 267, 364, 365, 367, 368, 369, 370, 371, 372, 374, 375,\n",
       "       380, 412, 414, 161, 162, 163, 166, 186, 195, 204, 225, 257, 267,\n",
       "       283, 368, 369, 370, 371, 372], dtype=int64)"
      ]
     },
     "execution_count": 74,
     "metadata": {},
     "output_type": "execute_result"
    }
   ],
   "source": [
    "idx2 = np.hstack([idx, np.where(boston.target == 50)[0]])\n",
    "idx2"
   ]
  },
  {
   "cell_type": "code",
   "execution_count": 58,
   "id": "2a3e7a9d",
   "metadata": {
    "scrolled": true
   },
   "outputs": [
    {
     "name": "stdout",
     "output_type": "stream",
     "text": [
      "204\n",
      "257\n",
      "283\n"
     ]
    }
   ],
   "source": [
    "t = []\n",
    "\n",
    "for n in idx2 : \n",
    "    temp = n\n",
    "    if temp not in idx :\n",
    "        print(temp)\n",
    "        t.append(temp)"
   ]
  },
  {
   "cell_type": "code",
   "execution_count": 57,
   "id": "8ad41e4a",
   "metadata": {},
   "outputs": [
    {
     "data": {
      "text/plain": [
       "[204, 257, 283]"
      ]
     },
     "execution_count": 57,
     "metadata": {},
     "output_type": "execute_result"
    }
   ],
   "source": [
    "t"
   ]
  },
  {
   "cell_type": "markdown",
   "id": "ccae95c2",
   "metadata": {},
   "source": [
    "### 7-5. 아웃라이어 확인\n",
    "- 쿡스디스턴스 값이 큰 것을 아웃라이어라고 본다.\n",
    "- 좀더 구체적으로는 폭스 레코멘데이션 값보다 큰 값을 아웃라이어라고 본다."
   ]
  },
  {
   "cell_type": "code",
   "execution_count": 75,
   "id": "9c438fad",
   "metadata": {
    "scrolled": false
   },
   "outputs": [
    {
     "data": {
      "image/png": "[encoded data removed]",
      "text/plain": [
       "<Figure size 576x432 with 1 Axes>"
      ]
     },
     "metadata": {
      "image/png": {
       "height": 376,
       "width": 482
      },
      "needs_background": "light"
     },
     "output_type": "display_data"
    }
   ],
   "source": [
    "from statsmodels.graphics import utils\n",
    "%matplotlib inline\n",
    "\n",
    "plt.figure(figsize=(8, 6))\n",
    "ax = plt.subplot()\n",
    "plt.scatter(dfy, pred)\n",
    "plt.scatter(dfy.MEDV[idx2], pred[idx2], s=300, c=\"r\", alpha=0.5)\n",
    "utils.annotate_axes(range(len(idx2)), idx2,\n",
    "                    list(zip(dfy.MEDV[idx2], pred[idx2])),\n",
    "                    [(-20, 15)] * len(idx2), size=\"small\", ax=ax)\n",
    "plt.title(\"Fox Recommendation으로 선택한 아웃라이어\")\n",
    "plt.show() ; "
   ]
  },
  {
   "cell_type": "code",
   "execution_count": 71,
   "id": "d1bdd240",
   "metadata": {
    "scrolled": true
   },
   "outputs": [
    {
     "data": {
      "text/plain": [
       "[(33.0, 23.373086442266253),\n",
       " (14.4, 3.988855082995901),\n",
       " (17.8, 9.718441392743921),\n",
       " (50.0, 36.774670145741254),\n",
       " (50.0, 40.55765844458037),\n",
       " (50.0, 41.84728167704112),\n",
       " (50.0, 37.20347454599937),\n",
       " (50.0, 35.88497226207714),\n",
       " (50.0, 40.84555721422642),\n",
       " (23.7, 11.11916737154203),\n",
       " (50.0, 39.81461867027562),\n",
       " (46.7, 35.45665241982788),\n",
       " (48.3, 37.16328631468485),\n",
       " (42.8, 29.94563374480101),\n",
       " (48.8, 40.98928500887788),\n",
       " (50.0, 40.83955749624978),\n",
       " (21.9, 37.49447389969516),\n",
       " (27.5, 14.281907341200032),\n",
       " (23.1, 10.831623241057127),\n",
       " (50.0, 23.80072902209159),\n",
       " (50.0, 32.6440736012498),\n",
       " (50.0, 34.606840424466746),\n",
       " (50.0, 24.94331332514429),\n",
       " (50.0, 25.999809100736037),\n",
       " (13.8, 0.7777980595705785),\n",
       " (15.0, 25.30713064171827),\n",
       " (10.4, 14.369948254881887),\n",
       " (17.9, 1.718518067817719),\n",
       " (7.0, -4.281310709184833)]"
      ]
     },
     "execution_count": 71,
     "metadata": {},
     "output_type": "execute_result"
    }
   ],
   "source": [
    "list(zip(dfy.MEDV[idx], pred[idx]))"
   ]
  },
  {
   "cell_type": "markdown",
   "id": "39f662fa",
   "metadata": {},
   "source": []
  },
  {
   "cell_type": "markdown",
   "id": "7890b8f6",
   "metadata": {},
   "source": [
    "### 7-6. 폭스 아웃라이어를 제거한 데이터로 OLS 분석\n",
    "- 쿡스 디스턴스 값에서 폭스 레코멘데이션 값의 기준을 적용한 데이터를 제거한다.\n",
    "    - idx3에 아웃라이어를 제거하고 남은 인덱스 값이 들어있다.\n",
    "    \n",
    "### 7-7. 집합에서 집합을 뺸 후 리스트로 만들면 편하다.\n",
    "- 어떤 인덱스에서 특정한 인덱스만 빼고 싶을 때 좋은 방법\n",
    "    - set()으로 만든 후 집합의 연산 명령어를 사용하여 특정한 값만 제거, 추가\n",
    "    - 그 결과를 list()로 만든다.\n",
    "- 보통 리스트로 먼저 만들고 여기에서 빼고자하는 것을 반복문으로 고른다음에 제거하려고 하는데, set()으로 만들고 제거하거나 추가하는게 더 간편하다.\n",
    "- **특히 데이터프레임에서 특정한 조건의 인덱스를 원래 인덱스에서 제거하고 싶을때 사용하면 좋을 것 같다.**    "
   ]
  },
  {
   "cell_type": "code",
   "execution_count": 81,
   "id": "5af7e9ab",
   "metadata": {},
   "outputs": [
    {
     "data": {
      "text/plain": [
       "[0,\n",
       " 1,\n",
       " 2,\n",
       " 3,\n",
       " 4,\n",
       " 5,\n",
       " 6,\n",
       " 7,\n",
       " 8,\n",
       " 9,\n",
       " 10,\n",
       " 11,\n",
       " 12,\n",
       " 13,\n",
       " 14,\n",
       " 15,\n",
       " 16,\n",
       " 17,\n",
       " 18,\n",
       " 19,\n",
       " 20,\n",
       " 21,\n",
       " 22,\n",
       " 23,\n",
       " 24,\n",
       " 25,\n",
       " 26,\n",
       " 27,\n",
       " 28,\n",
       " 29,\n",
       " 30,\n",
       " 31,\n",
       " 32,\n",
       " 33,\n",
       " 34,\n",
       " 35,\n",
       " 36,\n",
       " 37,\n",
       " 38,\n",
       " 39,\n",
       " 40,\n",
       " 41,\n",
       " 42,\n",
       " 43,\n",
       " 44,\n",
       " 45,\n",
       " 46,\n",
       " 47,\n",
       " 48,\n",
       " 49,\n",
       " 50,\n",
       " 51,\n",
       " 52,\n",
       " 53,\n",
       " 54,\n",
       " 55,\n",
       " 56,\n",
       " 57,\n",
       " 58,\n",
       " 59,\n",
       " 60,\n",
       " 61,\n",
       " 62,\n",
       " 63,\n",
       " 65,\n",
       " 66,\n",
       " 67,\n",
       " 68,\n",
       " 69,\n",
       " 70,\n",
       " 71,\n",
       " 72,\n",
       " 73,\n",
       " 74,\n",
       " 75,\n",
       " 76,\n",
       " 77,\n",
       " 78,\n",
       " 79,\n",
       " 80,\n",
       " 81,\n",
       " 82,\n",
       " 83,\n",
       " 84,\n",
       " 85,\n",
       " 86,\n",
       " 87,\n",
       " 88,\n",
       " 89,\n",
       " 90,\n",
       " 91,\n",
       " 92,\n",
       " 93,\n",
       " 94,\n",
       " 95,\n",
       " 96,\n",
       " 97,\n",
       " 98,\n",
       " 99,\n",
       " 100,\n",
       " 101,\n",
       " 102,\n",
       " 103,\n",
       " 104,\n",
       " 105,\n",
       " 106,\n",
       " 107,\n",
       " 108,\n",
       " 109,\n",
       " 110,\n",
       " 111,\n",
       " 112,\n",
       " 113,\n",
       " 114,\n",
       " 115,\n",
       " 116,\n",
       " 117,\n",
       " 118,\n",
       " 119,\n",
       " 120,\n",
       " 121,\n",
       " 122,\n",
       " 123,\n",
       " 124,\n",
       " 125,\n",
       " 126,\n",
       " 127,\n",
       " 128,\n",
       " 129,\n",
       " 130,\n",
       " 131,\n",
       " 132,\n",
       " 133,\n",
       " 134,\n",
       " 135,\n",
       " 136,\n",
       " 137,\n",
       " 138,\n",
       " 139,\n",
       " 140,\n",
       " 142,\n",
       " 143,\n",
       " 144,\n",
       " 145,\n",
       " 146,\n",
       " 147,\n",
       " 149,\n",
       " 150,\n",
       " 151,\n",
       " 152,\n",
       " 153,\n",
       " 154,\n",
       " 155,\n",
       " 156,\n",
       " 157,\n",
       " 158,\n",
       " 159,\n",
       " 160,\n",
       " 164,\n",
       " 165,\n",
       " 167,\n",
       " 168,\n",
       " 169,\n",
       " 170,\n",
       " 171,\n",
       " 172,\n",
       " 173,\n",
       " 174,\n",
       " 175,\n",
       " 176,\n",
       " 177,\n",
       " 178,\n",
       " 179,\n",
       " 180,\n",
       " 181,\n",
       " 182,\n",
       " 183,\n",
       " 184,\n",
       " 185,\n",
       " 187,\n",
       " 188,\n",
       " 189,\n",
       " 190,\n",
       " 191,\n",
       " 192,\n",
       " 193,\n",
       " 194,\n",
       " 196,\n",
       " 197,\n",
       " 198,\n",
       " 199,\n",
       " 200,\n",
       " 201,\n",
       " 202,\n",
       " 203,\n",
       " 205,\n",
       " 206,\n",
       " 207,\n",
       " 208,\n",
       " 209,\n",
       " 210,\n",
       " 211,\n",
       " 212,\n",
       " 213,\n",
       " 215,\n",
       " 216,\n",
       " 217,\n",
       " 218,\n",
       " 219,\n",
       " 220,\n",
       " 221,\n",
       " 222,\n",
       " 223,\n",
       " 224,\n",
       " 226,\n",
       " 227,\n",
       " 229,\n",
       " 230,\n",
       " 231,\n",
       " 232,\n",
       " 234,\n",
       " 235,\n",
       " 236,\n",
       " 237,\n",
       " 238,\n",
       " 239,\n",
       " 240,\n",
       " 241,\n",
       " 242,\n",
       " 243,\n",
       " 244,\n",
       " 245,\n",
       " 246,\n",
       " 247,\n",
       " 248,\n",
       " 249,\n",
       " 250,\n",
       " 251,\n",
       " 252,\n",
       " 254,\n",
       " 255,\n",
       " 256,\n",
       " 258,\n",
       " 259,\n",
       " 260,\n",
       " 261,\n",
       " 263,\n",
       " 264,\n",
       " 265,\n",
       " 266,\n",
       " 268,\n",
       " 269,\n",
       " 270,\n",
       " 271,\n",
       " 272,\n",
       " 273,\n",
       " 274,\n",
       " 275,\n",
       " 276,\n",
       " 277,\n",
       " 278,\n",
       " 279,\n",
       " 280,\n",
       " 281,\n",
       " 282,\n",
       " 284,\n",
       " 285,\n",
       " 286,\n",
       " 287,\n",
       " 288,\n",
       " 289,\n",
       " 290,\n",
       " 291,\n",
       " 292,\n",
       " 293,\n",
       " 294,\n",
       " 295,\n",
       " 296,\n",
       " 297,\n",
       " 298,\n",
       " 299,\n",
       " 300,\n",
       " 301,\n",
       " 302,\n",
       " 303,\n",
       " 304,\n",
       " 305,\n",
       " 306,\n",
       " 307,\n",
       " 308,\n",
       " 309,\n",
       " 310,\n",
       " 311,\n",
       " 312,\n",
       " 313,\n",
       " 314,\n",
       " 315,\n",
       " 316,\n",
       " 317,\n",
       " 318,\n",
       " 319,\n",
       " 320,\n",
       " 321,\n",
       " 322,\n",
       " 323,\n",
       " 324,\n",
       " 325,\n",
       " 326,\n",
       " 327,\n",
       " 328,\n",
       " 329,\n",
       " 330,\n",
       " 331,\n",
       " 332,\n",
       " 333,\n",
       " 334,\n",
       " 335,\n",
       " 336,\n",
       " 337,\n",
       " 338,\n",
       " 339,\n",
       " 340,\n",
       " 341,\n",
       " 342,\n",
       " 343,\n",
       " 344,\n",
       " 345,\n",
       " 346,\n",
       " 347,\n",
       " 348,\n",
       " 349,\n",
       " 350,\n",
       " 351,\n",
       " 352,\n",
       " 353,\n",
       " 354,\n",
       " 355,\n",
       " 356,\n",
       " 357,\n",
       " 358,\n",
       " 359,\n",
       " 360,\n",
       " 361,\n",
       " 362,\n",
       " 363,\n",
       " 366,\n",
       " 373,\n",
       " 376,\n",
       " 377,\n",
       " 378,\n",
       " 379,\n",
       " 381,\n",
       " 382,\n",
       " 383,\n",
       " 384,\n",
       " 385,\n",
       " 386,\n",
       " 387,\n",
       " 388,\n",
       " 389,\n",
       " 390,\n",
       " 391,\n",
       " 392,\n",
       " 393,\n",
       " 394,\n",
       " 395,\n",
       " 396,\n",
       " 397,\n",
       " 398,\n",
       " 399,\n",
       " 400,\n",
       " 401,\n",
       " 402,\n",
       " 403,\n",
       " 404,\n",
       " 405,\n",
       " 406,\n",
       " 407,\n",
       " 408,\n",
       " 409,\n",
       " 410,\n",
       " 411,\n",
       " 413,\n",
       " 415,\n",
       " 416,\n",
       " 417,\n",
       " 418,\n",
       " 419,\n",
       " 420,\n",
       " 421,\n",
       " 422,\n",
       " 423,\n",
       " 424,\n",
       " 425,\n",
       " 426,\n",
       " 427,\n",
       " 428,\n",
       " 429,\n",
       " 430,\n",
       " 431,\n",
       " 432,\n",
       " 433,\n",
       " 434,\n",
       " 435,\n",
       " 436,\n",
       " 437,\n",
       " 438,\n",
       " 439,\n",
       " 440,\n",
       " 441,\n",
       " 442,\n",
       " 443,\n",
       " 444,\n",
       " 445,\n",
       " 446,\n",
       " 447,\n",
       " 448,\n",
       " 449,\n",
       " 450,\n",
       " 451,\n",
       " 452,\n",
       " 453,\n",
       " 454,\n",
       " 455,\n",
       " 456,\n",
       " 457,\n",
       " 458,\n",
       " 459,\n",
       " 460,\n",
       " 461,\n",
       " 462,\n",
       " 463,\n",
       " 464,\n",
       " 465,\n",
       " 466,\n",
       " 467,\n",
       " 468,\n",
       " 469,\n",
       " 470,\n",
       " 471,\n",
       " 472,\n",
       " 473,\n",
       " 474,\n",
       " 475,\n",
       " 476,\n",
       " 477,\n",
       " 478,\n",
       " 479,\n",
       " 480,\n",
       " 481,\n",
       " 482,\n",
       " 483,\n",
       " 484,\n",
       " 485,\n",
       " 486,\n",
       " 487,\n",
       " 488,\n",
       " 489,\n",
       " 490,\n",
       " 491,\n",
       " 492,\n",
       " 493,\n",
       " 494,\n",
       " 495,\n",
       " 496,\n",
       " 497,\n",
       " 498,\n",
       " 499,\n",
       " 500,\n",
       " 501,\n",
       " 502,\n",
       " 503,\n",
       " 504,\n",
       " 505]"
      ]
     },
     "execution_count": 81,
     "metadata": {},
     "output_type": "execute_result"
    }
   ],
   "source": [
    "idx3 = list(set(range(len(dfX))).difference(idx2))\n",
    "idx3"
   ]
  },
  {
   "cell_type": "code",
   "execution_count": 85,
   "id": "02ce4023",
   "metadata": {},
   "outputs": [
    {
     "data": {
      "text/plain": [
       "[0,\n",
       " 1,\n",
       " 2,\n",
       " 3,\n",
       " 4,\n",
       " 5,\n",
       " 6,\n",
       " 7,\n",
       " 8,\n",
       " 9,\n",
       " 10,\n",
       " 11,\n",
       " 12,\n",
       " 13,\n",
       " 14,\n",
       " 15,\n",
       " 16,\n",
       " 17,\n",
       " 18,\n",
       " 19,\n",
       " 20,\n",
       " 21,\n",
       " 22,\n",
       " 23,\n",
       " 24,\n",
       " 25,\n",
       " 26,\n",
       " 27,\n",
       " 28,\n",
       " 29,\n",
       " 30,\n",
       " 31,\n",
       " 32,\n",
       " 33,\n",
       " 34,\n",
       " 35,\n",
       " 36,\n",
       " 37,\n",
       " 38,\n",
       " 39,\n",
       " 40,\n",
       " 41,\n",
       " 42,\n",
       " 43,\n",
       " 44,\n",
       " 45,\n",
       " 46,\n",
       " 47,\n",
       " 48,\n",
       " 49,\n",
       " 50,\n",
       " 51,\n",
       " 52,\n",
       " 53,\n",
       " 54,\n",
       " 55,\n",
       " 56,\n",
       " 57,\n",
       " 58,\n",
       " 59,\n",
       " 60,\n",
       " 61,\n",
       " 62,\n",
       " 63,\n",
       " 65,\n",
       " 66,\n",
       " 67,\n",
       " 68,\n",
       " 69,\n",
       " 70,\n",
       " 71,\n",
       " 72,\n",
       " 73,\n",
       " 74,\n",
       " 75,\n",
       " 76,\n",
       " 77,\n",
       " 78,\n",
       " 79,\n",
       " 80,\n",
       " 81,\n",
       " 82,\n",
       " 83,\n",
       " 84,\n",
       " 85,\n",
       " 86,\n",
       " 87,\n",
       " 88,\n",
       " 89,\n",
       " 90,\n",
       " 91,\n",
       " 92,\n",
       " 93,\n",
       " 94,\n",
       " 95,\n",
       " 96,\n",
       " 97,\n",
       " 98,\n",
       " 99,\n",
       " 100,\n",
       " 101,\n",
       " 102,\n",
       " 103,\n",
       " 104,\n",
       " 105,\n",
       " 106,\n",
       " 107,\n",
       " 108,\n",
       " 109,\n",
       " 110,\n",
       " 111,\n",
       " 112,\n",
       " 113,\n",
       " 114,\n",
       " 115,\n",
       " 116,\n",
       " 117,\n",
       " 118,\n",
       " 119,\n",
       " 120,\n",
       " 121,\n",
       " 122,\n",
       " 123,\n",
       " 124,\n",
       " 125,\n",
       " 126,\n",
       " 127,\n",
       " 128,\n",
       " 129,\n",
       " 130,\n",
       " 131,\n",
       " 132,\n",
       " 133,\n",
       " 134,\n",
       " 135,\n",
       " 136,\n",
       " 137,\n",
       " 138,\n",
       " 139,\n",
       " 140,\n",
       " 142,\n",
       " 143,\n",
       " 144,\n",
       " 145,\n",
       " 146,\n",
       " 147,\n",
       " 149,\n",
       " 150,\n",
       " 151,\n",
       " 152,\n",
       " 153,\n",
       " 154,\n",
       " 155,\n",
       " 156,\n",
       " 157,\n",
       " 158,\n",
       " 159,\n",
       " 160,\n",
       " 164,\n",
       " 165,\n",
       " 167,\n",
       " 168,\n",
       " 169,\n",
       " 170,\n",
       " 171,\n",
       " 172,\n",
       " 173,\n",
       " 174,\n",
       " 175,\n",
       " 176,\n",
       " 177,\n",
       " 178,\n",
       " 179,\n",
       " 180,\n",
       " 181,\n",
       " 182,\n",
       " 183,\n",
       " 184,\n",
       " 185,\n",
       " 187,\n",
       " 188,\n",
       " 189,\n",
       " 190,\n",
       " 191,\n",
       " 192,\n",
       " 193,\n",
       " 194,\n",
       " 196,\n",
       " 197,\n",
       " 198,\n",
       " 199,\n",
       " 200,\n",
       " 201,\n",
       " 202,\n",
       " 203,\n",
       " 205,\n",
       " 206,\n",
       " 207,\n",
       " 208,\n",
       " 209,\n",
       " 210,\n",
       " 211,\n",
       " 212,\n",
       " 213,\n",
       " 215,\n",
       " 216,\n",
       " 217,\n",
       " 218,\n",
       " 219,\n",
       " 220,\n",
       " 221,\n",
       " 222,\n",
       " 223,\n",
       " 224,\n",
       " 226,\n",
       " 227,\n",
       " 229,\n",
       " 230,\n",
       " 231,\n",
       " 232,\n",
       " 234,\n",
       " 235,\n",
       " 236,\n",
       " 237,\n",
       " 238,\n",
       " 239,\n",
       " 240,\n",
       " 241,\n",
       " 242,\n",
       " 243,\n",
       " 244,\n",
       " 245,\n",
       " 246,\n",
       " 247,\n",
       " 248,\n",
       " 249,\n",
       " 250,\n",
       " 251,\n",
       " 252,\n",
       " 254,\n",
       " 255,\n",
       " 256,\n",
       " 258,\n",
       " 259,\n",
       " 260,\n",
       " 261,\n",
       " 263,\n",
       " 264,\n",
       " 265,\n",
       " 266,\n",
       " 268,\n",
       " 269,\n",
       " 270,\n",
       " 271,\n",
       " 272,\n",
       " 273,\n",
       " 274,\n",
       " 275,\n",
       " 276,\n",
       " 277,\n",
       " 278,\n",
       " 279,\n",
       " 280,\n",
       " 281,\n",
       " 282,\n",
       " 284,\n",
       " 285,\n",
       " 286,\n",
       " 287,\n",
       " 288,\n",
       " 289,\n",
       " 290,\n",
       " 291,\n",
       " 292,\n",
       " 293,\n",
       " 294,\n",
       " 295,\n",
       " 296,\n",
       " 297,\n",
       " 298,\n",
       " 299,\n",
       " 300,\n",
       " 301,\n",
       " 302,\n",
       " 303,\n",
       " 304,\n",
       " 305,\n",
       " 306,\n",
       " 307,\n",
       " 308,\n",
       " 309,\n",
       " 310,\n",
       " 311,\n",
       " 312,\n",
       " 313,\n",
       " 314,\n",
       " 315,\n",
       " 316,\n",
       " 317,\n",
       " 318,\n",
       " 319,\n",
       " 320,\n",
       " 321,\n",
       " 322,\n",
       " 323,\n",
       " 324,\n",
       " 325,\n",
       " 326,\n",
       " 327,\n",
       " 328,\n",
       " 329,\n",
       " 330,\n",
       " 331,\n",
       " 332,\n",
       " 333,\n",
       " 334,\n",
       " 335,\n",
       " 336,\n",
       " 337,\n",
       " 338,\n",
       " 339,\n",
       " 340,\n",
       " 341,\n",
       " 342,\n",
       " 343,\n",
       " 344,\n",
       " 345,\n",
       " 346,\n",
       " 347,\n",
       " 348,\n",
       " 349,\n",
       " 350,\n",
       " 351,\n",
       " 352,\n",
       " 353,\n",
       " 354,\n",
       " 355,\n",
       " 356,\n",
       " 357,\n",
       " 358,\n",
       " 359,\n",
       " 360,\n",
       " 361,\n",
       " 362,\n",
       " 363,\n",
       " 366,\n",
       " 373,\n",
       " 376,\n",
       " 377,\n",
       " 378,\n",
       " 379,\n",
       " 381,\n",
       " 382,\n",
       " 383,\n",
       " 384,\n",
       " 385,\n",
       " 386,\n",
       " 387,\n",
       " 388,\n",
       " 389,\n",
       " 390,\n",
       " 391,\n",
       " 392,\n",
       " 393,\n",
       " 394,\n",
       " 395,\n",
       " 396,\n",
       " 397,\n",
       " 398,\n",
       " 399,\n",
       " 400,\n",
       " 401,\n",
       " 402,\n",
       " 403,\n",
       " 404,\n",
       " 405,\n",
       " 406,\n",
       " 407,\n",
       " 408,\n",
       " 409,\n",
       " 410,\n",
       " 411,\n",
       " 413,\n",
       " 415,\n",
       " 416,\n",
       " 417,\n",
       " 418,\n",
       " 419,\n",
       " 420,\n",
       " 421,\n",
       " 422,\n",
       " 423,\n",
       " 424,\n",
       " 425,\n",
       " 426,\n",
       " 427,\n",
       " 428,\n",
       " 429,\n",
       " 430,\n",
       " 431,\n",
       " 432,\n",
       " 433,\n",
       " 434,\n",
       " 435,\n",
       " 436,\n",
       " 437,\n",
       " 438,\n",
       " 439,\n",
       " 440,\n",
       " 441,\n",
       " 442,\n",
       " 443,\n",
       " 444,\n",
       " 445,\n",
       " 446,\n",
       " 447,\n",
       " 448,\n",
       " 449,\n",
       " 450,\n",
       " 451,\n",
       " 452,\n",
       " 453,\n",
       " 454,\n",
       " 455,\n",
       " 456,\n",
       " 457,\n",
       " 458,\n",
       " 459,\n",
       " 460,\n",
       " 461,\n",
       " 462,\n",
       " 463,\n",
       " 464,\n",
       " 465,\n",
       " 466,\n",
       " 467,\n",
       " 468,\n",
       " 469,\n",
       " 470,\n",
       " 471,\n",
       " 472,\n",
       " 473,\n",
       " 474,\n",
       " 475,\n",
       " 476,\n",
       " 477,\n",
       " 478,\n",
       " 479,\n",
       " 480,\n",
       " 481,\n",
       " 482,\n",
       " 483,\n",
       " 484,\n",
       " 485,\n",
       " 486,\n",
       " 487,\n",
       " 488,\n",
       " 489,\n",
       " 490,\n",
       " 491,\n",
       " 492,\n",
       " 493,\n",
       " 494,\n",
       " 495,\n",
       " 496,\n",
       " 497,\n",
       " 498,\n",
       " 499,\n",
       " 500,\n",
       " 501,\n",
       " 502,\n",
       " 503,\n",
       " 504,\n",
       " 505]"
      ]
     },
     "execution_count": 85,
     "metadata": {},
     "output_type": "execute_result"
    }
   ],
   "source": [
    "list(set(range(len(dfX))).difference(idx2))"
   ]
  },
  {
   "cell_type": "code",
   "execution_count": 83,
   "id": "dab2d473",
   "metadata": {},
   "outputs": [
    {
     "data": {
      "text/plain": [
       "474"
      ]
     },
     "execution_count": 83,
     "metadata": {},
     "output_type": "execute_result"
    }
   ],
   "source": [
    "len(idx3)"
   ]
  },
  {
   "cell_type": "markdown",
   "id": "618c4fcd",
   "metadata": {},
   "source": [
    "#### 아웃라이어를 제거하면 모형에 큰 영향을 준다.\n",
    "- 결과값이 바뀐다."
   ]
  },
  {
   "cell_type": "code",
   "execution_count": 88,
   "id": "0682dd31",
   "metadata": {},
   "outputs": [
    {
     "name": "stdout",
     "output_type": "stream",
     "text": [
      "                            OLS Regression Results                            \n",
      "==============================================================================\n",
      "Dep. Variable:                   MEDV   R-squared:                       0.825\n",
      "Model:                            OLS   Adj. R-squared:                  0.821\n",
      "Method:                 Least Squares   F-statistic:                     167.4\n",
      "Date:                Thu, 14 Jul 2022   Prob (F-statistic):          5.38e-165\n",
      "Time:                        15:42:28   Log-Likelihood:                -1217.1\n",
      "No. Observations:                 474   AIC:                             2462.\n",
      "Df Residuals:                     460   BIC:                             2520.\n",
      "Df Model:                          13                                         \n",
      "Covariance Type:            nonrobust                                         \n",
      "==============================================================================\n",
      "                 coef    std err          t      P>|t|      [0.025      0.975]\n",
      "------------------------------------------------------------------------------\n",
      "const         22.0998      3.986      5.544      0.000      14.267      29.933\n",
      "CRIM          -0.0927      0.027     -3.383      0.001      -0.147      -0.039\n",
      "ZN             0.0336      0.010      3.418      0.001       0.014       0.053\n",
      "INDUS         -0.0167      0.043     -0.391      0.696      -0.101       0.067\n",
      "CHAS           1.1640      0.644      1.808      0.071      -0.101       2.429\n",
      "NOX          -10.8556      2.682     -4.048      0.000     -16.126      -5.585\n",
      "RM             4.6150      0.368     12.544      0.000       3.892       5.338\n",
      "AGE           -0.0204      0.010     -2.116      0.035      -0.039      -0.001\n",
      "DIS           -1.0977      0.143     -7.698      0.000      -1.378      -0.817\n",
      "RAD            0.2009      0.046      4.328      0.000       0.110       0.292\n",
      "TAX           -0.0118      0.003     -4.598      0.000      -0.017      -0.007\n",
      "PTRATIO       -0.7529      0.091     -8.303      0.000      -0.931      -0.575\n",
      "B              0.0105      0.002      5.532      0.000       0.007       0.014\n",
      "LSTAT         -0.3668      0.041     -8.985      0.000      -0.447      -0.287\n",
      "==============================================================================\n",
      "Omnibus:                       27.064   Durbin-Watson:                   1.154\n",
      "Prob(Omnibus):                  0.000   Jarque-Bera (JB):               33.589\n",
      "Skew:                           0.507   Prob(JB):                     5.08e-08\n",
      "Kurtosis:                       3.819   Cond. No.                     1.64e+04\n",
      "==============================================================================\n",
      "\n",
      "Notes:\n",
      "[1] Standard Errors assume that the covariance matrix of the errors is correctly specified.\n",
      "[2] The condition number is large, 1.64e+04. This might indicate that there are\n",
      "strong multicollinearity or other numerical problems.\n"
     ]
    }
   ],
   "source": [
    "dfX = dfX.iloc[idx3, :].reset_index(drop=True)\n",
    "dfy = dfy.iloc[idx3, :].reset_index(drop=True)\n",
    "model_boston2 = sm.OLS(dfy, dfX)\n",
    "result_boston2 = model_boston2.fit()\n",
    "\n",
    "print(result_boston2.summary())"
   ]
  },
  {
   "cell_type": "code",
   "execution_count": 89,
   "id": "35139ab1",
   "metadata": {},
   "outputs": [
    {
     "data": {
      "text/plain": [
       "const      36.459488\n",
       "CRIM       -0.108011\n",
       "ZN          0.046420\n",
       "INDUS       0.020559\n",
       "CHAS        2.686734\n",
       "NOX       -17.766611\n",
       "RM          3.809865\n",
       "AGE         0.000692\n",
       "DIS        -1.475567\n",
       "RAD         0.306049\n",
       "TAX        -0.012335\n",
       "PTRATIO    -0.952747\n",
       "B           0.009312\n",
       "LSTAT      -0.524758\n",
       "dtype: float64"
      ]
     },
     "execution_count": 89,
     "metadata": {},
     "output_type": "execute_result"
    }
   ],
   "source": [
    "result_boston.params"
   ]
  },
  {
   "cell_type": "code",
   "execution_count": 90,
   "id": "c6411da9",
   "metadata": {},
   "outputs": [
    {
     "data": {
      "text/plain": [
       "const      22.099832\n",
       "CRIM       -0.092738\n",
       "ZN          0.033565\n",
       "INDUS      -0.016693\n",
       "CHAS        1.164002\n",
       "NOX       -10.855619\n",
       "RM          4.615026\n",
       "AGE        -0.020380\n",
       "DIS        -1.097709\n",
       "RAD         0.200884\n",
       "TAX        -0.011779\n",
       "PTRATIO    -0.752910\n",
       "B           0.010493\n",
       "LSTAT      -0.366785\n",
       "dtype: float64"
      ]
     },
     "execution_count": 90,
     "metadata": {},
     "output_type": "execute_result"
    }
   ],
   "source": [
    "result_boston2.params"
   ]
  }
 ],
 "metadata": {
  "kernelspec": {
   "display_name": "Python 3 (ipykernel)",
   "language": "python",
   "name": "python3"
  },
  "language_info": {
   "codemirror_mode": {
    "name": "ipython",
    "version": 3
   },
   "file_extension": ".py",
   "mimetype": "text/x-python",
   "name": "python",
   "nbconvert_exporter": "python",
   "pygments_lexer": "ipython3",
   "version": "3.7.11"
  }
 },
 "nbformat": 4,
 "nbformat_minor": 5
}
